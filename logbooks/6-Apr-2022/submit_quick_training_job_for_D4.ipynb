{
 "cells": [
  {
   "cell_type": "markdown",
   "metadata": {},
   "source": [
    "# Fast Training on full dataset\n",
    "6th Apr\n",
    "\n",
    "Model trains fine on tiny dataset - inspect initial training on full dataset with large batch size to see if it just blows up very early on. Turned off validation split to increase the logging speed."
   ]
  },
  {
   "cell_type": "code",
   "execution_count": 1,
   "metadata": {},
   "outputs": [
    {
     "name": "stderr",
     "output_type": "stream",
     "text": [
      "/rds-d2/user/wjm41/hpc-work/conda/envs/dgl_cpu/lib/python3.9/site-packages/tqdm/auto.py:22: TqdmWarning: IProgress not found. Please update jupyter and ipywidgets. See https://ipywidgets.readthedocs.io/en/stable/user_install.html\n",
      "  from .autonotebook import tqdm as notebook_tqdm\n",
      "INFO:rdkit:Enabling RDKit 2021.09.4 jupyter extensions\n"
     ]
    },
    {
     "name": "stdout",
     "output_type": "stream",
     "text": [
      "Submitted quick_trainging jobs for /rds-d2/user/wjm41/hpc-work/models/dock2hit/D4/quick_train_ultra on /rds-d2/user/wjm41/hpc-work/datasets/Ugis/datasets/D4_docked_valid.pkl\n",
      "Submitted batch job 58478554\n"
     ]
    }
   ],
   "source": [
    "import os\n",
    "from dock2hit.utils import write_slurm_script\n",
    "\n",
    "current_dir = os.getcwd()\n",
    "data_dir = '/rds-d2/user/wjm41/hpc-work/datasets/Ugis/datasets'\n",
    "log_dir = '/rds-d2/user/wjm41/hpc-work/datasets/Ugis/runs/ultra-large/D4-debug'\n",
    "\n",
    "dataset='D4'\n",
    "model_name = 'quick_train_ultra'\n",
    "model_dir = f'/rds-d2/user/wjm41/hpc-work/models/dock2hit/{dataset}'\n",
    "\n",
    "model_path = f'{model_dir}/{model_name}'\n",
    "# data_path = f'{data_dir}/{dataset}_test.csv'\n",
    "data_path = f'{data_dir}/{dataset}_docked_valid.pkl'\n",
    "\n",
    "script = f'python -c \"from dock2hit.train_and_validate_multithread import main; main()\"'\n",
    "\n",
    "log_step = 10\n",
    "args = [\n",
    "    f'-path_to_train_data {data_path}',\n",
    "    '-batch_size 32768',\n",
    "    '-minibatch_size 4096',\n",
    "    '-n_epochs 10000',\n",
    "    f'-save_dir {model_path}',\n",
    "    f'-log_dir {log_dir}',\n",
    "    f'-steps_per_log {log_step}'\n",
    "    ]\n",
    "\n",
    "file_name = 'subm_quick_train_ultra'\n",
    "run_time = '0:15:00'\n",
    "output_name = f'{current_dir}/subm_quick_train_ultra.out'\n",
    "\n",
    "write_slurm_script(job_name=f'{dataset}_quick_train_ultra',\n",
    "                   run_time=f'{run_time}',\n",
    "                   output_name=output_name,\n",
    "                   package_dir='/rds-d2/user/wjm41/hpc-work/datasets/Ugis/',\n",
    "                   script=script,\n",
    "                   args=args,\n",
    "                   file_name=file_name,\n",
    "                   email=True\n",
    "                    )\n",
    "\n",
    "print(f\"Submitted quick_trainging jobs for {model_path} on {data_path}\")\n",
    "\n",
    "!sbatch {file_name}"
   ]
  },
  {
   "cell_type": "code",
   "execution_count": null,
   "metadata": {},
   "outputs": [],
   "source": [
    "!squeue -u wjm41\n"
   ]
  },
  {
   "cell_type": "code",
   "execution_count": null,
   "metadata": {},
   "outputs": [],
   "source": [
    "!scancel 58464108\n"
   ]
  },
  {
   "cell_type": "markdown",
   "metadata": {},
   "source": [
    "Seems to be working fine on tiny dataset:\n",
    "\n",
    "![](tiny_training.png)\n",
    "\n",
    "Perhaps exploding/vanishing gradients? Switch to LeakyRELU?"
   ]
  }
 ],
 "metadata": {
  "interpreter": {
   "hash": "a6e87d9fa0a1f095b3ef96d553f4761a958bca4f905d671de5dacda23677a266"
  },
  "kernelspec": {
   "display_name": "fresco",
   "language": "python",
   "name": "python3"
  },
  "language_info": {
   "codemirror_mode": {
    "name": "ipython",
    "version": 3
   },
   "file_extension": ".py",
   "mimetype": "text/x-python",
   "name": "python",
   "nbconvert_exporter": "python",
   "pygments_lexer": "ipython3",
   "version": "3.9.7"
  },
  "orig_nbformat": 4
 },
 "nbformat": 4,
 "nbformat_minor": 2
}
