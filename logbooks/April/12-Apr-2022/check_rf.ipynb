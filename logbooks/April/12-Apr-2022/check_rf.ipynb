{
 "cells": [
  {
   "cell_type": "markdown",
   "metadata": {},
   "source": [
    "# Random forest fitting\n",
    "\n",
    "12th Apr\n",
    "\n",
    "This notebook is for checking whether or not a random forest can learn the y values in the dataset."
   ]
  },
  {
   "cell_type": "code",
   "execution_count": 2,
   "metadata": {},
   "outputs": [],
   "source": [
    "import pandas as pd\n",
    "\n",
    "path_to_train_data = '/rds-d2/user/wjm41/hpc-work/datasets/Ugis/datasets/ultra_large/D4_bigger_test.csv'\n",
    "\n",
    "df = pd.read_csv(path_to_train_data)"
   ]
  },
  {
   "cell_type": "code",
   "execution_count": 6,
   "metadata": {},
   "outputs": [],
   "source": [
    "import useful_rdkit_utils\n",
    "\n",
    "useful_rdkit_utils.add_molecule_and_errors(\n",
    "    df, smiles_col='smiles', mol_col_name='mol', error_col_name='Error')\n",
    "\n",
    "\n",
    "fps = [useful_rdkit_utils.mol2numpy_fp(mol) for mol in df['mol']]"
   ]
  },
  {
   "cell_type": "code",
   "execution_count": 12,
   "metadata": {},
   "outputs": [
    {
     "data": {
      "text/plain": [
       "0.9122321396752764"
      ]
     },
     "execution_count": 12,
     "metadata": {},
     "output_type": "execute_result"
    }
   ],
   "source": [
    "from sklearn.ensemble import RandomForestRegressor\n",
    "\n",
    "\n",
    "rf = RandomForestRegressor()\n",
    "rf.fit(X=fps, y=df['dockscore'].values)\n",
    "rf.score(fps, df['dockscore'].values)\n"
   ]
  },
  {
   "cell_type": "markdown",
   "metadata": {},
   "source": [
    "Dataset is fit-able!"
   ]
  }
 ],
 "metadata": {
  "interpreter": {
   "hash": "a6e87d9fa0a1f095b3ef96d553f4761a958bca4f905d671de5dacda23677a266"
  },
  "kernelspec": {
   "display_name": "Python 3.9.7 64-bit ('dgl_cpu')",
   "language": "python",
   "name": "python3"
  },
  "language_info": {
   "codemirror_mode": {
    "name": "ipython",
    "version": 3
   },
   "file_extension": ".py",
   "mimetype": "text/x-python",
   "name": "python",
   "nbconvert_exporter": "python",
   "pygments_lexer": "ipython3",
   "version": "3.9.7"
  },
  "orig_nbformat": 4
 },
 "nbformat": 4,
 "nbformat_minor": 2
}
