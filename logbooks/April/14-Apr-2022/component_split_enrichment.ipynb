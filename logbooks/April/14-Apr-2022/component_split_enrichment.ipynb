{
 "cells": [
  {
   "cell_type": "markdown",
   "metadata": {},
   "source": [
    "# Component split enrichment\n",
    "14th Apr\n",
    "\n",
    "Comparing mpnn and morgan fingerprints on data splitting by ugi component."
   ]
  },
  {
   "cell_type": "markdown",
   "metadata": {},
   "source": [
    "### Data processing"
   ]
  },
  {
   "cell_type": "markdown",
   "metadata": {},
   "source": [
    "Let's load the moonshot data first"
   ]
  },
  {
   "cell_type": "code",
   "execution_count": 1,
   "metadata": {},
   "outputs": [
    {
     "name": "stderr",
     "output_type": "stream",
     "text": [
      "INFO:rdkit:Enabling RDKit 2021.09.4 jupyter extensions\n",
      "INFO:root:No GPU found, using CPU\n",
      "INFO:root:No GPU found, using CPU\n",
      "INFO:root:No GPU found, using CPU\n",
      "INFO:root:No GPU found, using CPU\n",
      "INFO:root:No GPU found, using CPU\n",
      "INFO:root:No GPU found, using CPU\n",
      "INFO:root:No GPU found, using CPU\n",
      "INFO:root:No GPU found, using CPU\n",
      "INFO:root:No GPU found, using CPU\n",
      "/tmp/ipykernel_2010248/30041110.py:47: SettingWithCopyWarning:\n",
      "\n",
      "\n",
      "A value is trying to be set on a copy of a slice from a DataFrame.\n",
      "Try using .loc[row_indexer,col_indexer] = value instead\n",
      "\n",
      "See the caveats in the documentation: https://pandas.pydata.org/pandas-docs/stable/user_guide/indexing.html#returning-a-view-versus-a-copy\n",
      "\n",
      "/tmp/ipykernel_2010248/30041110.py:47: SettingWithCopyWarning:\n",
      "\n",
      "\n",
      "A value is trying to be set on a copy of a slice from a DataFrame.\n",
      "Try using .loc[row_indexer,col_indexer] = value instead\n",
      "\n",
      "See the caveats in the documentation: https://pandas.pydata.org/pandas-docs/stable/user_guide/indexing.html#returning-a-view-versus-a-copy\n",
      "\n",
      "/tmp/ipykernel_2010248/30041110.py:47: SettingWithCopyWarning:\n",
      "\n",
      "\n",
      "A value is trying to be set on a copy of a slice from a DataFrame.\n",
      "Try using .loc[row_indexer,col_indexer] = value instead\n",
      "\n",
      "See the caveats in the documentation: https://pandas.pydata.org/pandas-docs/stable/user_guide/indexing.html#returning-a-view-versus-a-copy\n",
      "\n",
      "/tmp/ipykernel_2010248/30041110.py:47: SettingWithCopyWarning:\n",
      "\n",
      "\n",
      "A value is trying to be set on a copy of a slice from a DataFrame.\n",
      "Try using .loc[row_indexer,col_indexer] = value instead\n",
      "\n",
      "See the caveats in the documentation: https://pandas.pydata.org/pandas-docs/stable/user_guide/indexing.html#returning-a-view-versus-a-copy\n",
      "\n",
      "/tmp/ipykernel_2010248/30041110.py:47: SettingWithCopyWarning:\n",
      "\n",
      "\n",
      "A value is trying to be set on a copy of a slice from a DataFrame.\n",
      "Try using .loc[row_indexer,col_indexer] = value instead\n",
      "\n",
      "See the caveats in the documentation: https://pandas.pydata.org/pandas-docs/stable/user_guide/indexing.html#returning-a-view-versus-a-copy\n",
      "\n",
      "/tmp/ipykernel_2010248/30041110.py:47: SettingWithCopyWarning:\n",
      "\n",
      "\n",
      "A value is trying to be set on a copy of a slice from a DataFrame.\n",
      "Try using .loc[row_indexer,col_indexer] = value instead\n",
      "\n",
      "See the caveats in the documentation: https://pandas.pydata.org/pandas-docs/stable/user_guide/indexing.html#returning-a-view-versus-a-copy\n",
      "\n",
      "/tmp/ipykernel_2010248/30041110.py:47: SettingWithCopyWarning:\n",
      "\n",
      "\n",
      "A value is trying to be set on a copy of a slice from a DataFrame.\n",
      "Try using .loc[row_indexer,col_indexer] = value instead\n",
      "\n",
      "See the caveats in the documentation: https://pandas.pydata.org/pandas-docs/stable/user_guide/indexing.html#returning-a-view-versus-a-copy\n",
      "\n",
      "/tmp/ipykernel_2010248/30041110.py:47: SettingWithCopyWarning:\n",
      "\n",
      "\n",
      "A value is trying to be set on a copy of a slice from a DataFrame.\n",
      "Try using .loc[row_indexer,col_indexer] = value instead\n",
      "\n",
      "See the caveats in the documentation: https://pandas.pydata.org/pandas-docs/stable/user_guide/indexing.html#returning-a-view-versus-a-copy\n",
      "\n",
      "/tmp/ipykernel_2010248/30041110.py:47: SettingWithCopyWarning:\n",
      "\n",
      "\n",
      "A value is trying to be set on a copy of a slice from a DataFrame.\n",
      "Try using .loc[row_indexer,col_indexer] = value instead\n",
      "\n",
      "See the caveats in the documentation: https://pandas.pydata.org/pandas-docs/stable/user_guide/indexing.html#returning-a-view-versus-a-copy\n",
      "\n",
      "INFO:root:No GPU found, using CPU\n",
      "INFO:root:No GPU found, using CPU\n",
      "INFO:root:No GPU found, using CPU\n",
      "INFO:root:No GPU found, using CPU\n",
      "/tmp/ipykernel_2010248/30041110.py:47: SettingWithCopyWarning:\n",
      "\n",
      "\n",
      "A value is trying to be set on a copy of a slice from a DataFrame.\n",
      "Try using .loc[row_indexer,col_indexer] = value instead\n",
      "\n",
      "See the caveats in the documentation: https://pandas.pydata.org/pandas-docs/stable/user_guide/indexing.html#returning-a-view-versus-a-copy\n",
      "\n",
      "/tmp/ipykernel_2010248/30041110.py:47: SettingWithCopyWarning:\n",
      "\n",
      "\n",
      "A value is trying to be set on a copy of a slice from a DataFrame.\n",
      "Try using .loc[row_indexer,col_indexer] = value instead\n",
      "\n",
      "See the caveats in the documentation: https://pandas.pydata.org/pandas-docs/stable/user_guide/indexing.html#returning-a-view-versus-a-copy\n",
      "\n",
      "/tmp/ipykernel_2010248/30041110.py:47: SettingWithCopyWarning:\n",
      "\n",
      "\n",
      "A value is trying to be set on a copy of a slice from a DataFrame.\n",
      "Try using .loc[row_indexer,col_indexer] = value instead\n",
      "\n",
      "See the caveats in the documentation: https://pandas.pydata.org/pandas-docs/stable/user_guide/indexing.html#returning-a-view-versus-a-copy\n",
      "\n",
      "/tmp/ipykernel_2010248/30041110.py:47: SettingWithCopyWarning:\n",
      "\n",
      "\n",
      "A value is trying to be set on a copy of a slice from a DataFrame.\n",
      "Try using .loc[row_indexer,col_indexer] = value instead\n",
      "\n",
      "See the caveats in the documentation: https://pandas.pydata.org/pandas-docs/stable/user_guide/indexing.html#returning-a-view-versus-a-copy\n",
      "\n",
      "/tmp/ipykernel_2010248/30041110.py:47: SettingWithCopyWarning:\n",
      "\n",
      "\n",
      "A value is trying to be set on a copy of a slice from a DataFrame.\n",
      "Try using .loc[row_indexer,col_indexer] = value instead\n",
      "\n",
      "See the caveats in the documentation: https://pandas.pydata.org/pandas-docs/stable/user_guide/indexing.html#returning-a-view-versus-a-copy\n",
      "\n",
      "/tmp/ipykernel_2010248/30041110.py:47: SettingWithCopyWarning:\n",
      "\n",
      "\n",
      "A value is trying to be set on a copy of a slice from a DataFrame.\n",
      "Try using .loc[row_indexer,col_indexer] = value instead\n",
      "\n",
      "See the caveats in the documentation: https://pandas.pydata.org/pandas-docs/stable/user_guide/indexing.html#returning-a-view-versus-a-copy\n",
      "\n",
      "/tmp/ipykernel_2010248/30041110.py:47: SettingWithCopyWarning:\n",
      "\n",
      "\n",
      "A value is trying to be set on a copy of a slice from a DataFrame.\n",
      "Try using .loc[row_indexer,col_indexer] = value instead\n",
      "\n",
      "See the caveats in the documentation: https://pandas.pydata.org/pandas-docs/stable/user_guide/indexing.html#returning-a-view-versus-a-copy\n",
      "\n",
      "/tmp/ipykernel_2010248/30041110.py:47: SettingWithCopyWarning:\n",
      "\n",
      "\n",
      "A value is trying to be set on a copy of a slice from a DataFrame.\n",
      "Try using .loc[row_indexer,col_indexer] = value instead\n",
      "\n",
      "See the caveats in the documentation: https://pandas.pydata.org/pandas-docs/stable/user_guide/indexing.html#returning-a-view-versus-a-copy\n",
      "\n",
      "INFO:root:No GPU found, using CPU\n",
      "INFO:root:No GPU found, using CPU\n",
      "INFO:root:No GPU found, using CPU\n",
      "INFO:root:No GPU found, using CPU\n",
      "/tmp/ipykernel_2010248/30041110.py:47: SettingWithCopyWarning:\n",
      "\n",
      "\n",
      "A value is trying to be set on a copy of a slice from a DataFrame.\n",
      "Try using .loc[row_indexer,col_indexer] = value instead\n",
      "\n",
      "See the caveats in the documentation: https://pandas.pydata.org/pandas-docs/stable/user_guide/indexing.html#returning-a-view-versus-a-copy\n",
      "\n",
      "/tmp/ipykernel_2010248/30041110.py:47: SettingWithCopyWarning:\n",
      "\n",
      "\n",
      "A value is trying to be set on a copy of a slice from a DataFrame.\n",
      "Try using .loc[row_indexer,col_indexer] = value instead\n",
      "\n",
      "See the caveats in the documentation: https://pandas.pydata.org/pandas-docs/stable/user_guide/indexing.html#returning-a-view-versus-a-copy\n",
      "\n",
      "/tmp/ipykernel_2010248/30041110.py:47: SettingWithCopyWarning:\n",
      "\n",
      "\n",
      "A value is trying to be set on a copy of a slice from a DataFrame.\n",
      "Try using .loc[row_indexer,col_indexer] = value instead\n",
      "\n",
      "See the caveats in the documentation: https://pandas.pydata.org/pandas-docs/stable/user_guide/indexing.html#returning-a-view-versus-a-copy\n",
      "\n",
      "/tmp/ipykernel_2010248/30041110.py:47: SettingWithCopyWarning:\n",
      "\n",
      "\n",
      "A value is trying to be set on a copy of a slice from a DataFrame.\n",
      "Try using .loc[row_indexer,col_indexer] = value instead\n",
      "\n",
      "See the caveats in the documentation: https://pandas.pydata.org/pandas-docs/stable/user_guide/indexing.html#returning-a-view-versus-a-copy\n",
      "\n",
      "/tmp/ipykernel_2010248/30041110.py:47: SettingWithCopyWarning:\n",
      "\n",
      "\n",
      "A value is trying to be set on a copy of a slice from a DataFrame.\n",
      "Try using .loc[row_indexer,col_indexer] = value instead\n",
      "\n",
      "See the caveats in the documentation: https://pandas.pydata.org/pandas-docs/stable/user_guide/indexing.html#returning-a-view-versus-a-copy\n",
      "\n",
      "/tmp/ipykernel_2010248/30041110.py:47: SettingWithCopyWarning:\n",
      "\n",
      "\n",
      "A value is trying to be set on a copy of a slice from a DataFrame.\n",
      "Try using .loc[row_indexer,col_indexer] = value instead\n",
      "\n",
      "See the caveats in the documentation: https://pandas.pydata.org/pandas-docs/stable/user_guide/indexing.html#returning-a-view-versus-a-copy\n",
      "\n",
      "/tmp/ipykernel_2010248/30041110.py:47: SettingWithCopyWarning:\n",
      "\n",
      "\n",
      "A value is trying to be set on a copy of a slice from a DataFrame.\n",
      "Try using .loc[row_indexer,col_indexer] = value instead\n",
      "\n",
      "See the caveats in the documentation: https://pandas.pydata.org/pandas-docs/stable/user_guide/indexing.html#returning-a-view-versus-a-copy\n",
      "\n",
      "/tmp/ipykernel_2010248/30041110.py:47: SettingWithCopyWarning:\n",
      "\n",
      "\n",
      "A value is trying to be set on a copy of a slice from a DataFrame.\n",
      "Try using .loc[row_indexer,col_indexer] = value instead\n",
      "\n",
      "See the caveats in the documentation: https://pandas.pydata.org/pandas-docs/stable/user_guide/indexing.html#returning-a-view-versus-a-copy\n",
      "\n",
      "/tmp/ipykernel_2010248/30041110.py:47: SettingWithCopyWarning:\n",
      "\n",
      "\n",
      "A value is trying to be set on a copy of a slice from a DataFrame.\n",
      "Try using .loc[row_indexer,col_indexer] = value instead\n",
      "\n",
      "See the caveats in the documentation: https://pandas.pydata.org/pandas-docs/stable/user_guide/indexing.html#returning-a-view-versus-a-copy\n",
      "\n",
      "/tmp/ipykernel_2010248/30041110.py:47: SettingWithCopyWarning:\n",
      "\n",
      "\n",
      "A value is trying to be set on a copy of a slice from a DataFrame.\n",
      "Try using .loc[row_indexer,col_indexer] = value instead\n",
      "\n",
      "See the caveats in the documentation: https://pandas.pydata.org/pandas-docs/stable/user_guide/indexing.html#returning-a-view-versus-a-copy\n",
      "\n",
      "/tmp/ipykernel_2010248/30041110.py:47: SettingWithCopyWarning:\n",
      "\n",
      "\n",
      "A value is trying to be set on a copy of a slice from a DataFrame.\n",
      "Try using .loc[row_indexer,col_indexer] = value instead\n",
      "\n",
      "See the caveats in the documentation: https://pandas.pydata.org/pandas-docs/stable/user_guide/indexing.html#returning-a-view-versus-a-copy\n",
      "\n",
      "/tmp/ipykernel_2010248/30041110.py:47: SettingWithCopyWarning:\n",
      "\n",
      "\n",
      "A value is trying to be set on a copy of a slice from a DataFrame.\n",
      "Try using .loc[row_indexer,col_indexer] = value instead\n",
      "\n",
      "See the caveats in the documentation: https://pandas.pydata.org/pandas-docs/stable/user_guide/indexing.html#returning-a-view-versus-a-copy\n",
      "\n",
      "/tmp/ipykernel_2010248/30041110.py:47: SettingWithCopyWarning:\n",
      "\n",
      "\n",
      "A value is trying to be set on a copy of a slice from a DataFrame.\n",
      "Try using .loc[row_indexer,col_indexer] = value instead\n",
      "\n",
      "See the caveats in the documentation: https://pandas.pydata.org/pandas-docs/stable/user_guide/indexing.html#returning-a-view-versus-a-copy\n",
      "\n",
      "/tmp/ipykernel_2010248/30041110.py:47: SettingWithCopyWarning:\n",
      "\n",
      "\n",
      "A value is trying to be set on a copy of a slice from a DataFrame.\n",
      "Try using .loc[row_indexer,col_indexer] = value instead\n",
      "\n",
      "See the caveats in the documentation: https://pandas.pydata.org/pandas-docs/stable/user_guide/indexing.html#returning-a-view-versus-a-copy\n",
      "\n",
      "/tmp/ipykernel_2010248/30041110.py:47: SettingWithCopyWarning:\n",
      "\n",
      "\n",
      "A value is trying to be set on a copy of a slice from a DataFrame.\n",
      "Try using .loc[row_indexer,col_indexer] = value instead\n",
      "\n",
      "See the caveats in the documentation: https://pandas.pydata.org/pandas-docs/stable/user_guide/indexing.html#returning-a-view-versus-a-copy\n",
      "\n",
      "/tmp/ipykernel_2010248/30041110.py:47: SettingWithCopyWarning:\n",
      "\n",
      "\n",
      "A value is trying to be set on a copy of a slice from a DataFrame.\n",
      "Try using .loc[row_indexer,col_indexer] = value instead\n",
      "\n",
      "See the caveats in the documentation: https://pandas.pydata.org/pandas-docs/stable/user_guide/indexing.html#returning-a-view-versus-a-copy\n",
      "\n"
     ]
    }
   ],
   "source": [
    "import pandas as pd\n",
    "import numpy as np\n",
    "\n",
    "from dock2hit.fine_tuning.process_data import read_and_process_ugi_data\n",
    "\n",
    "df_ugi_data = read_and_process_ugi_data().query('data_source != \"new\"')\n"
   ]
  },
  {
   "cell_type": "markdown",
   "metadata": {},
   "source": [
    "Visualise pIC50 distribution"
   ]
  },
  {
   "cell_type": "code",
   "execution_count": 2,
   "metadata": {},
   "outputs": [
    {
     "data": {
      "image/png": "[encoded data removed]",
      "text/plain": [
       "<Figure size 636.625x500 with 1 Axes>"
      ]
     },
     "metadata": {},
     "output_type": "display_data"
    }
   ],
   "source": [
    "import seaborn as sns\n",
    "import matplotlib.pyplot as plt\n",
    "sns.set(rc={\"figure.dpi\": 100})\n",
    "\n",
    "sns.displot(data=df_ugi_data, x=\"pIC50\",\n",
    "            hue=\"data_source\", multiple=\"dodge\", bins=10)\n",
    "plt.yscale('log')\n",
    "plt.gca().get_yaxis().set_tick_params(which='minor')\n",
    "plt.show()\n"
   ]
  },
  {
   "cell_type": "markdown",
   "metadata": {},
   "source": [
    "### Component-Split Evaluation"
   ]
  },
  {
   "cell_type": "code",
   "execution_count": 9,
   "metadata": {},
   "outputs": [
    {
     "name": "stdout",
     "output_type": "stream",
     "text": [
      "Fitting RF models\n",
      "Fitting 5 folds for each of 1 candidates, totalling 5 fits\n",
      "{'n_estimators': 604, 'min_samples_split': 6, 'min_samples_leaf': 1, 'max_features': 'sqrt', 'max_depth': 2, 'bootstrap': False}\n",
      "    index                                             SMILES     IC50  \\\n",
      "0       0  CC(C)(C)c1ccc(N(C(=O)c2cnon2)C(C(=O)NCCc2cccc(...    8.410   \n",
      "1       1  CC(C)(C)c1ccc(N(C(=O)c2cnsn2)C(C(=O)NCCc2cccc(...   13.200   \n",
      "2       2  CC(C)(C)c1ccc(N(C(=O)c2cscn2)C(C(=O)NCCc2cccc(...    0.891   \n",
      "3       3  CC(C)(C)c1ccc(N(C(=O)c2nn[nH]n2)C(C(=O)NCCc2cc...  100.000   \n",
      "4       4  CC(C)(C)c1ccc(N(C(=O)c2ccno2)C(C(=O)NCCc2cccc(...    1.110   \n",
      "..    ...                                                ...      ...   \n",
      "92     92  CC(C)(C)c1ccc(N(C(=O)c2ccco2)C(C(=O)NCCc2cccc(...    2.530   \n",
      "93     93  C=CC(=O)N(c1ccc(C(C)(C)C)cc1)C(C(=O)NCCc1cccc(...    7.480   \n",
      "94     94  C=CC(=O)N(c1ccc(C(C)(C)C)cc1)C(C(=O)NCCc1cccc(...   11.600   \n",
      "95     95  C=CC(=O)N(c1ccc(C(C)(C)C)cc1)C(C(=O)NCCc1cccc(...   11.500   \n",
      "96     96  C=CC(=O)N(c1ccc(C(C)(C)C)cc1)C(C(=O)NCCc1cccc(...    2.960   \n",
      "\n",
      "       pIC50                                               mol Error  \\\n",
      "0   5.075204  <rdkit.Chem.rdchem.Mol object at 0x15024b7d03a0>         \n",
      "1   4.879426  <rdkit.Chem.rdchem.Mol object at 0x15024b7e3ac0>         \n",
      "2   6.050122  <rdkit.Chem.rdchem.Mol object at 0x15024b7e37c0>         \n",
      "3   4.000000  <rdkit.Chem.rdchem.Mol object at 0x15024b7e30a0>         \n",
      "4   5.954677  <rdkit.Chem.rdchem.Mol object at 0x15024b7e3760>         \n",
      "..       ...                                               ...   ...   \n",
      "92  5.596879  <rdkit.Chem.rdchem.Mol object at 0x15024b769820>         \n",
      "93  5.126098  <rdkit.Chem.rdchem.Mol object at 0x15024b769880>         \n",
      "94  4.935542  <rdkit.Chem.rdchem.Mol object at 0x15024b7698e0>         \n",
      "95  4.939302  <rdkit.Chem.rdchem.Mol object at 0x15024b769940>         \n",
      "96  5.528708  <rdkit.Chem.rdchem.Mol object at 0x15024b7699a0>         \n",
      "\n",
      "                                            morgan_fp  \\\n",
      "0   [0, 1, 0, 0, 0, 0, 0, 0, 0, 0, 0, 0, 0, 0, 0, ...   \n",
      "1   [0, 1, 0, 0, 0, 0, 0, 0, 0, 0, 0, 0, 0, 0, 0, ...   \n",
      "2   [0, 1, 0, 0, 0, 0, 0, 0, 0, 0, 0, 0, 0, 0, 0, ...   \n",
      "3   [0, 1, 0, 0, 0, 0, 0, 0, 0, 0, 0, 0, 0, 0, 0, ...   \n",
      "4   [0, 1, 0, 0, 0, 0, 0, 0, 0, 0, 0, 0, 0, 0, 0, ...   \n",
      "..                                                ...   \n",
      "92  [0, 1, 0, 0, 0, 0, 0, 0, 0, 0, 0, 0, 0, 0, 0, ...   \n",
      "93  [0, 1, 0, 0, 0, 0, 0, 0, 0, 0, 0, 0, 0, 0, 0, ...   \n",
      "94  [0, 1, 0, 0, 0, 0, 0, 0, 0, 0, 0, 0, 0, 0, 0, ...   \n",
      "95  [0, 1, 0, 0, 0, 0, 0, 0, 0, 0, 0, 0, 0, 0, 0, ...   \n",
      "96  [0, 1, 0, 0, 0, 0, 0, 0, 0, 0, 0, 0, 0, 0, 0, ...   \n",
      "\n",
      "                                              mpnn_fp data_source  \\\n",
      "0   [-0.0014247152, -0.31652313, -0.1661689, -0.04...        acid   \n",
      "1   [-0.0017182563, -0.30438277, -0.16451831, -0.0...        acid   \n",
      "2   [-0.0016252543, -0.2983513, -0.19037536, -0.05...        acid   \n",
      "3   [-0.0008952505, -0.31996423, -0.12891614, -0.0...        acid   \n",
      "4   [-0.0018759773, -0.28970954, -0.16789606, -0.0...        acid   \n",
      "..                                                ...         ...   \n",
      "92  [-0.0032994107, -0.24590826, -0.20213982, -0.0...        acid   \n",
      "93  [-0.02033248, -0.14742883, -0.11798596, -0.100...        acid   \n",
      "94  [-0.025960691, -0.12773298, -0.15093721, -0.09...        acid   \n",
      "95  [-0.021968298, -0.14743991, -0.115724124, -0.1...        acid   \n",
      "96  [-0.020490434, -0.14255454, -0.12800628, -0.09...        acid   \n",
      "\n",
      "   Molecule Name Structure  CDD Number  \\\n",
      "0            NaN       NaN         NaN   \n",
      "1            NaN       NaN         NaN   \n",
      "2            NaN       NaN         NaN   \n",
      "3            NaN       NaN         NaN   \n",
      "4            NaN       NaN         NaN   \n",
      "..           ...       ...         ...   \n",
      "92           NaN       NaN         NaN   \n",
      "93           NaN       NaN         NaN   \n",
      "94           NaN       NaN         NaN   \n",
      "95           NaN       NaN         NaN   \n",
      "96           NaN       NaN         NaN   \n",
      "\n",
      "    ProteaseAssay_Fluorescence_Dose-Response_Weizmann: Avg IC50 (uM) Standard Deviation (±)  \\\n",
      "0                                                 NaN                                         \n",
      "1                                                 NaN                                         \n",
      "2                                                 NaN                                         \n",
      "3                                                 NaN                                         \n",
      "4                                                 NaN                                         \n",
      "..                                                ...                                         \n",
      "92                                                NaN                                         \n",
      "93                                                NaN                                         \n",
      "94                                                NaN                                         \n",
      "95                                                NaN                                         \n",
      "96                                                NaN                                         \n",
      "\n",
      "    ProteaseAssay_Fluorescence_Dose-Response_Weizmann: Avg IC50 (uM) Count  \\\n",
      "0                                                 NaN                        \n",
      "1                                                 NaN                        \n",
      "2                                                 NaN                        \n",
      "3                                                 NaN                        \n",
      "4                                                 NaN                        \n",
      "..                                                ...                        \n",
      "92                                                NaN                        \n",
      "93                                                NaN                        \n",
      "94                                                NaN                        \n",
      "95                                                NaN                        \n",
      "96                                                NaN                        \n",
      "\n",
      "   ProteaseAssay_Fluorescence_Dose-Response_Weizmann: Dose-response Plot  \\\n",
      "0                                                 NaN                      \n",
      "1                                                 NaN                      \n",
      "2                                                 NaN                      \n",
      "3                                                 NaN                      \n",
      "4                                                 NaN                      \n",
      "..                                                ...                      \n",
      "92                                                NaN                      \n",
      "93                                                NaN                      \n",
      "94                                                NaN                      \n",
      "95                                                NaN                      \n",
      "96                                                NaN                      \n",
      "\n",
      "     score_0  \n",
      "0   4.791737  \n",
      "1   4.982899  \n",
      "2   5.215476  \n",
      "3   4.521855  \n",
      "4   5.123850  \n",
      "..       ...  \n",
      "92  5.319703  \n",
      "93  4.961184  \n",
      "94  4.691036  \n",
      "95  4.926762  \n",
      "96  4.795897  \n",
      "\n",
      "[97 rows x 16 columns]\n",
      "Fitting 5 folds for each of 1 candidates, totalling 5 fits\n",
      "{'n_estimators': 1118, 'min_samples_split': 10, 'min_samples_leaf': 1, 'max_features': 'auto', 'max_depth': 8, 'bootstrap': False}\n",
      "    index                                             SMILES     IC50  \\\n",
      "0       0  CC(C)(C)c1ccc(N(C(=O)c2cnon2)C(C(=O)NCCc2cccc(...    8.410   \n",
      "1       1  CC(C)(C)c1ccc(N(C(=O)c2cnsn2)C(C(=O)NCCc2cccc(...   13.200   \n",
      "2       2  CC(C)(C)c1ccc(N(C(=O)c2cscn2)C(C(=O)NCCc2cccc(...    0.891   \n",
      "3       3  CC(C)(C)c1ccc(N(C(=O)c2nn[nH]n2)C(C(=O)NCCc2cc...  100.000   \n",
      "4       4  CC(C)(C)c1ccc(N(C(=O)c2ccno2)C(C(=O)NCCc2cccc(...    1.110   \n",
      "..    ...                                                ...      ...   \n",
      "92     92  CC(C)(C)c1ccc(N(C(=O)c2ccco2)C(C(=O)NCCc2cccc(...    2.530   \n",
      "93     93  C=CC(=O)N(c1ccc(C(C)(C)C)cc1)C(C(=O)NCCc1cccc(...    7.480   \n",
      "94     94  C=CC(=O)N(c1ccc(C(C)(C)C)cc1)C(C(=O)NCCc1cccc(...   11.600   \n",
      "95     95  C=CC(=O)N(c1ccc(C(C)(C)C)cc1)C(C(=O)NCCc1cccc(...   11.500   \n",
      "96     96  C=CC(=O)N(c1ccc(C(C)(C)C)cc1)C(C(=O)NCCc1cccc(...    2.960   \n",
      "\n",
      "       pIC50                                               mol Error  \\\n",
      "0   5.075204  <rdkit.Chem.rdchem.Mol object at 0x150249ec5640>         \n",
      "1   4.879426  <rdkit.Chem.rdchem.Mol object at 0x150249ec5160>         \n",
      "2   6.050122  <rdkit.Chem.rdchem.Mol object at 0x150249cd27c0>         \n",
      "3   4.000000  <rdkit.Chem.rdchem.Mol object at 0x15026e0c92e0>         \n",
      "4   5.954677  <rdkit.Chem.rdchem.Mol object at 0x15024b4c9460>         \n",
      "..       ...                                               ...   ...   \n",
      "92  5.596879  <rdkit.Chem.rdchem.Mol object at 0x150249bd1940>         \n",
      "93  5.126098  <rdkit.Chem.rdchem.Mol object at 0x150249bd19a0>         \n",
      "94  4.935542  <rdkit.Chem.rdchem.Mol object at 0x150249bd1a00>         \n",
      "95  4.939302  <rdkit.Chem.rdchem.Mol object at 0x150249bd1a60>         \n",
      "96  5.528708  <rdkit.Chem.rdchem.Mol object at 0x150249bd1ac0>         \n",
      "\n",
      "                                            morgan_fp  \\\n",
      "0   [0, 1, 0, 0, 0, 0, 0, 0, 0, 0, 0, 0, 0, 0, 0, ...   \n",
      "1   [0, 1, 0, 0, 0, 0, 0, 0, 0, 0, 0, 0, 0, 0, 0, ...   \n",
      "2   [0, 1, 0, 0, 0, 0, 0, 0, 0, 0, 0, 0, 0, 0, 0, ...   \n",
      "3   [0, 1, 0, 0, 0, 0, 0, 0, 0, 0, 0, 0, 0, 0, 0, ...   \n",
      "4   [0, 1, 0, 0, 0, 0, 0, 0, 0, 0, 0, 0, 0, 0, 0, ...   \n",
      "..                                                ...   \n",
      "92  [0, 1, 0, 0, 0, 0, 0, 0, 0, 0, 0, 0, 0, 0, 0, ...   \n",
      "93  [0, 1, 0, 0, 0, 0, 0, 0, 0, 0, 0, 0, 0, 0, 0, ...   \n",
      "94  [0, 1, 0, 0, 0, 0, 0, 0, 0, 0, 0, 0, 0, 0, 0, ...   \n",
      "95  [0, 1, 0, 0, 0, 0, 0, 0, 0, 0, 0, 0, 0, 0, 0, ...   \n",
      "96  [0, 1, 0, 0, 0, 0, 0, 0, 0, 0, 0, 0, 0, 0, 0, ...   \n",
      "\n",
      "                                              mpnn_fp data_source  \\\n",
      "0   [-0.0014247152, -0.31652313, -0.1661689, -0.04...        acid   \n",
      "1   [-0.0017182563, -0.30438277, -0.16451831, -0.0...        acid   \n",
      "2   [-0.0016252543, -0.2983513, -0.19037536, -0.05...        acid   \n",
      "3   [-0.0008952505, -0.31996423, -0.12891614, -0.0...        acid   \n",
      "4   [-0.0018759773, -0.28970954, -0.16789606, -0.0...        acid   \n",
      "..                                                ...         ...   \n",
      "92  [-0.0032994107, -0.24590826, -0.20213982, -0.0...        acid   \n",
      "93  [-0.02033248, -0.14742883, -0.11798596, -0.100...        acid   \n",
      "94  [-0.025960691, -0.12773298, -0.15093721, -0.09...        acid   \n",
      "95  [-0.021968298, -0.14743991, -0.115724124, -0.1...        acid   \n",
      "96  [-0.020490434, -0.14255454, -0.12800628, -0.09...        acid   \n",
      "\n",
      "   Molecule Name Structure  CDD Number  \\\n",
      "0            NaN       NaN         NaN   \n",
      "1            NaN       NaN         NaN   \n",
      "2            NaN       NaN         NaN   \n",
      "3            NaN       NaN         NaN   \n",
      "4            NaN       NaN         NaN   \n",
      "..           ...       ...         ...   \n",
      "92           NaN       NaN         NaN   \n",
      "93           NaN       NaN         NaN   \n",
      "94           NaN       NaN         NaN   \n",
      "95           NaN       NaN         NaN   \n",
      "96           NaN       NaN         NaN   \n",
      "\n",
      "    ProteaseAssay_Fluorescence_Dose-Response_Weizmann: Avg IC50 (uM) Standard Deviation (±)  \\\n",
      "0                                                 NaN                                         \n",
      "1                                                 NaN                                         \n",
      "2                                                 NaN                                         \n",
      "3                                                 NaN                                         \n",
      "4                                                 NaN                                         \n",
      "..                                                ...                                         \n",
      "92                                                NaN                                         \n",
      "93                                                NaN                                         \n",
      "94                                                NaN                                         \n",
      "95                                                NaN                                         \n",
      "96                                                NaN                                         \n",
      "\n",
      "    ProteaseAssay_Fluorescence_Dose-Response_Weizmann: Avg IC50 (uM) Count  \\\n",
      "0                                                 NaN                        \n",
      "1                                                 NaN                        \n",
      "2                                                 NaN                        \n",
      "3                                                 NaN                        \n",
      "4                                                 NaN                        \n",
      "..                                                ...                        \n",
      "92                                                NaN                        \n",
      "93                                                NaN                        \n",
      "94                                                NaN                        \n",
      "95                                                NaN                        \n",
      "96                                                NaN                        \n",
      "\n",
      "   ProteaseAssay_Fluorescence_Dose-Response_Weizmann: Dose-response Plot  \\\n",
      "0                                                 NaN                      \n",
      "1                                                 NaN                      \n",
      "2                                                 NaN                      \n",
      "3                                                 NaN                      \n",
      "4                                                 NaN                      \n",
      "..                                                ...                      \n",
      "92                                                NaN                      \n",
      "93                                                NaN                      \n",
      "94                                                NaN                      \n",
      "95                                                NaN                      \n",
      "96                                                NaN                      \n",
      "\n",
      "     score_0  \n",
      "0   6.210943  \n",
      "1   6.210943  \n",
      "2   6.073770  \n",
      "3   6.210943  \n",
      "4   6.210943  \n",
      "..       ...  \n",
      "92  6.210943  \n",
      "93  6.210943  \n",
      "94  6.210943  \n",
      "95  6.210943  \n",
      "96  6.210943  \n",
      "\n",
      "[97 rows x 16 columns]\n",
      "Fitting 5 folds for each of 1 candidates, totalling 5 fits\n",
      "{'n_estimators': 1926, 'min_samples_split': 8, 'min_samples_leaf': 4, 'max_features': 'auto', 'max_depth': 2, 'bootstrap': True}\n",
      "    index                                             SMILES     IC50  \\\n",
      "0       0  CC(C)(C)c1ccc(N(C(=O)c2ccco2)C(C(=O)NCCc2cccc(...    2.280   \n",
      "1       1  CC(C)(C)c1ccc(N(C(=O)c2ccco2)C(C(=O)NCCc2cccc(...  100.000   \n",
      "2       2  Cc1ccncc1C(C(=O)NCCc1cccc(F)c1)N(C(=O)c1ccco1)...    0.112   \n",
      "3       3  CC(C)(C)c1ccc(N(C(=O)c2ccco2)C(C(=O)NCCc2cccc(...   37.500   \n",
      "4       4  CC(C)(C)c1ccc(N(C(=O)c2ccco2)C(C(=O)NCCc2cccc(...    0.403   \n",
      "5       5  Cn1nc(C(C(=O)NCCc2cccc(F)c2)N(C(=O)c2ccco2)c2c...  100.000   \n",
      "6       6  CC(C)(C)c1ccc(N(C(=O)c2ccco2)C(C(=O)NCCc2cccc(...  100.000   \n",
      "7       7  COc1cncc(C(C(=O)NCCc2cccc(F)c2)N(C(=O)c2ccco2)...  100.000   \n",
      "8       8  CC(C)(C)c1ccc(N(C(=O)c2ccco2)C(C(=O)NCCc2cccc(...    5.330   \n",
      "9       9  CC(C)(C)c1ccc(N(C(=O)c2ccc(Cl)o2)C(C(=O)NCCc2c...    0.315   \n",
      "10     10  CC(C)(C)c1ccc(N(C(=O)c2ccco2)C(C(=O)NCCc2cccc(...    0.200   \n",
      "11     11  CC(C)(C)c1ccc(N(C(=O)c2cocn2)C(C(=O)NCCc2cccc(...    1.160   \n",
      "12     12  CN1CCN(c2ncc(C(C(=O)NCCc3cccc(F)c3)N(C(=O)c3co...  100.000   \n",
      "13     13  CC(C)(C)c1ccc(N(C(=O)c2cocn2)C(C(=O)NCCc2cccc(...  100.000   \n",
      "14     14  CC(C)(C)c1ccc(N(C(=O)c2cocn2)C(C(=O)NCCc2cccc(...    1.210   \n",
      "15     15  Cn1cc(C(C(=O)NCCc2cccc(F)c2)N(C(=O)c2cocn2)c2c...  100.000   \n",
      "16     16  COc1ncncc1C(C(=O)NCCc1cccc(F)c1)N(C(=O)c1cocn1...    8.430   \n",
      "17     17  CC(C)(C)c1ccc(N(C(=O)c2cocn2)C(C(=O)NCCc2cccc(...    2.920   \n",
      "18     18  COc1ncnc(OC)c1C(C(=O)NCCc1cccc(F)c1)N(C(=O)c1c...  100.000   \n",
      "19     19  COc1nccnc1C(C(=O)NCCc1cccc(F)c1)N(C(=O)c1cocn1...   94.900   \n",
      "20     20  CN(C)c1ncc(C(C(=O)NCCc2cccc(F)c2)N(C(=O)c2cocn...  100.000   \n",
      "21     21  CN(CCO)c1ccc(C(C(=O)NCCc2cccc(F)c2)N(C(=O)c2co...  100.000   \n",
      "22     22  CC(C)(C)c1ccc(N(C(=O)c2cocn2)C(C(=O)NCCc2cccc(...  100.000   \n",
      "23     23  Cn1cccc(C(C(=O)NCCc2cccc(F)c2)N(C(=O)c2cocn2)c...  100.000   \n",
      "24     24  CN(C)c1cnc(C(C(=O)NCCc2cccc(F)c2)N(C(=O)c2cocn...  100.000   \n",
      "25     25  CC(C)(C)c1ccc(N(C(=O)c2cocn2)C(C(=O)NCCc2cccc(...  100.000   \n",
      "26     26  CC(C)(C)c1ccc(N(C(=O)c2cocn2)C(C(=O)NCCc2cccc(...  100.000   \n",
      "27     27  CC(C)(C)c1ccc(N(C(=O)c2cocn2)C(C(=O)NCCc2cccc(...  100.000   \n",
      "28     28  Cn1c(N2CCOCC2)c(C(C(=O)NCCc2cccc(F)c2)N(C(=O)c...  100.000   \n",
      "29     29  CC(C)(C)c1ccc(N(C(=O)c2cocn2)C(C(=O)NCCc2cccc(...    2.050   \n",
      "30     30  COc1nc2ncc(C(C(=O)NCCc3cccc(F)c3)N(C(=O)c3cocn...   33.400   \n",
      "31     31  Cn1cc(C(C(=O)NCCc2cccc(F)c2)N(C(=O)c2cocn2)c2c...  100.000   \n",
      "32     32  Cc1cc(=O)c(C(C(=O)NCCc2cccc(F)c2)N(C(=O)c2cocn...  100.000   \n",
      "33     33  Cc1ccncc1C(C(=O)NCCc1cccc(F)c1)N(C(=O)c1cocn1)...    0.653   \n",
      "34     34  CC(C)(C)c1ccc(N(C(=O)c2cocn2)C(C(=O)NCCc2cccc(...    0.557   \n",
      "\n",
      "       pIC50                                               mol Error  \\\n",
      "0   5.642065  <rdkit.Chem.rdchem.Mol object at 0x15024b756fa0>         \n",
      "1   4.000000  <rdkit.Chem.rdchem.Mol object at 0x15024b7569a0>         \n",
      "2   6.950782  <rdkit.Chem.rdchem.Mol object at 0x15024b756f40>         \n",
      "3   4.425969  <rdkit.Chem.rdchem.Mol object at 0x15024b756220>         \n",
      "4   6.394695  <rdkit.Chem.rdchem.Mol object at 0x15024b756b80>         \n",
      "5   4.000000  <rdkit.Chem.rdchem.Mol object at 0x15024b756760>         \n",
      "6   4.000000  <rdkit.Chem.rdchem.Mol object at 0x15024b756d00>         \n",
      "7   4.000000  <rdkit.Chem.rdchem.Mol object at 0x15024b756e20>         \n",
      "8   5.273273  <rdkit.Chem.rdchem.Mol object at 0x15024b756100>         \n",
      "9   6.501689  <rdkit.Chem.rdchem.Mol object at 0x15024b7560a0>         \n",
      "10  6.698970  <rdkit.Chem.rdchem.Mol object at 0x15024b756a00>         \n",
      "11  5.935542  <rdkit.Chem.rdchem.Mol object at 0x15024b756160>         \n",
      "12  4.000000  <rdkit.Chem.rdchem.Mol object at 0x15024b756340>         \n",
      "13  4.000000  <rdkit.Chem.rdchem.Mol object at 0x15024b756e80>         \n",
      "14  5.917215  <rdkit.Chem.rdchem.Mol object at 0x15024b756400>         \n",
      "15  4.000000  <rdkit.Chem.rdchem.Mol object at 0x15024b756460>         \n",
      "16  5.074172  <rdkit.Chem.rdchem.Mol object at 0x15024b756520>         \n",
      "17  5.534617  <rdkit.Chem.rdchem.Mol object at 0x15024b756580>         \n",
      "18  4.000000  <rdkit.Chem.rdchem.Mol object at 0x15024b756640>         \n",
      "19  4.022734  <rdkit.Chem.rdchem.Mol object at 0x15024b7566a0>         \n",
      "20  4.000000  <rdkit.Chem.rdchem.Mol object at 0x15024b756820>         \n",
      "21  4.000000  <rdkit.Chem.rdchem.Mol object at 0x15024b7568e0>         \n",
      "22  4.000000  <rdkit.Chem.rdchem.Mol object at 0x15024b756a60>         \n",
      "23  4.000000  <rdkit.Chem.rdchem.Mol object at 0x15024b756ac0>         \n",
      "24  4.000000  <rdkit.Chem.rdchem.Mol object at 0x15024b756be0>         \n",
      "25  4.000000  <rdkit.Chem.rdchem.Mol object at 0x15024b756c40>         \n",
      "26  4.000000  <rdkit.Chem.rdchem.Mol object at 0x15024b756ca0>         \n",
      "27  4.000000  <rdkit.Chem.rdchem.Mol object at 0x15024b79b040>         \n",
      "28  4.000000  <rdkit.Chem.rdchem.Mol object at 0x15024b79b0a0>         \n",
      "29  5.688246  <rdkit.Chem.rdchem.Mol object at 0x15024b79b100>         \n",
      "30  4.476254  <rdkit.Chem.rdchem.Mol object at 0x15024b79b160>         \n",
      "31  4.000000  <rdkit.Chem.rdchem.Mol object at 0x15024b79b1c0>         \n",
      "32  4.000000  <rdkit.Chem.rdchem.Mol object at 0x15024b79b220>         \n",
      "33  6.185087  <rdkit.Chem.rdchem.Mol object at 0x15024b79b280>         \n",
      "34  6.254145  <rdkit.Chem.rdchem.Mol object at 0x15024b79b2e0>         \n",
      "\n",
      "                                            morgan_fp  \\\n",
      "0   [0, 1, 0, 0, 0, 0, 0, 0, 0, 0, 0, 0, 0, 0, 0, ...   \n",
      "1   [0, 1, 0, 0, 0, 0, 0, 0, 0, 0, 0, 0, 0, 0, 0, ...   \n",
      "2   [0, 1, 0, 0, 0, 0, 0, 0, 0, 0, 0, 0, 0, 0, 0, ...   \n",
      "3   [0, 1, 0, 1, 0, 0, 0, 0, 0, 0, 0, 0, 0, 0, 0, ...   \n",
      "4   [0, 1, 0, 0, 0, 0, 0, 0, 0, 0, 0, 0, 0, 0, 0, ...   \n",
      "5   [0, 1, 0, 0, 0, 0, 0, 0, 0, 0, 0, 0, 0, 0, 0, ...   \n",
      "6   [0, 1, 0, 0, 0, 0, 0, 0, 0, 0, 0, 0, 0, 0, 0, ...   \n",
      "7   [0, 1, 0, 0, 0, 0, 0, 0, 0, 0, 0, 0, 0, 0, 0, ...   \n",
      "8   [0, 1, 0, 0, 0, 0, 0, 0, 0, 0, 0, 0, 0, 0, 0, ...   \n",
      "9   [0, 1, 0, 0, 0, 0, 0, 0, 0, 0, 0, 0, 0, 0, 0, ...   \n",
      "10  [0, 1, 0, 0, 0, 0, 0, 0, 0, 0, 0, 0, 0, 0, 0, ...   \n",
      "11  [0, 1, 0, 0, 0, 0, 0, 0, 0, 0, 0, 1, 0, 0, 0, ...   \n",
      "12  [0, 1, 0, 0, 0, 0, 0, 0, 0, 0, 0, 1, 0, 0, 1, ...   \n",
      "13  [0, 1, 0, 1, 0, 0, 0, 0, 0, 0, 0, 1, 0, 0, 0, ...   \n",
      "14  [0, 1, 0, 0, 0, 0, 0, 0, 0, 0, 0, 1, 0, 0, 0, ...   \n",
      "15  [0, 1, 0, 0, 0, 0, 0, 0, 0, 0, 0, 1, 0, 0, 0, ...   \n",
      "16  [0, 1, 1, 0, 0, 0, 0, 0, 0, 0, 0, 1, 0, 0, 0, ...   \n",
      "17  [0, 1, 0, 0, 0, 0, 0, 0, 0, 0, 0, 1, 0, 0, 0, ...   \n",
      "18  [0, 1, 0, 0, 0, 0, 0, 0, 0, 0, 0, 1, 0, 0, 0, ...   \n",
      "19  [0, 1, 0, 0, 0, 0, 0, 0, 0, 0, 0, 1, 0, 0, 0, ...   \n",
      "20  [0, 1, 0, 0, 0, 0, 0, 0, 0, 0, 0, 1, 0, 0, 0, ...   \n",
      "21  [0, 1, 0, 0, 0, 0, 0, 1, 0, 0, 0, 1, 0, 0, 0, ...   \n",
      "22  [0, 1, 0, 0, 0, 0, 0, 0, 0, 0, 0, 1, 0, 0, 0, ...   \n",
      "23  [0, 1, 0, 0, 0, 0, 0, 0, 0, 0, 0, 1, 0, 0, 0, ...   \n",
      "24  [0, 1, 0, 0, 0, 0, 0, 0, 0, 0, 0, 1, 0, 0, 0, ...   \n",
      "25  [0, 1, 0, 0, 0, 0, 0, 0, 0, 0, 0, 1, 0, 0, 0, ...   \n",
      "26  [0, 1, 0, 0, 1, 0, 0, 0, 0, 0, 0, 1, 0, 0, 0, ...   \n",
      "27  [0, 1, 0, 0, 0, 0, 0, 0, 0, 0, 0, 1, 0, 0, 0, ...   \n",
      "28  [0, 1, 0, 0, 0, 0, 0, 0, 0, 0, 0, 1, 0, 0, 0, ...   \n",
      "29  [0, 1, 0, 0, 0, 0, 0, 0, 0, 0, 0, 1, 0, 0, 0, ...   \n",
      "30  [0, 1, 0, 0, 0, 0, 0, 0, 0, 0, 0, 1, 0, 0, 0, ...   \n",
      "31  [0, 1, 0, 0, 0, 0, 0, 0, 0, 0, 0, 1, 0, 0, 0, ...   \n",
      "32  [0, 1, 0, 0, 0, 0, 0, 0, 0, 0, 0, 1, 0, 0, 0, ...   \n",
      "33  [0, 1, 0, 0, 0, 0, 0, 0, 0, 0, 0, 1, 0, 0, 0, ...   \n",
      "34  [0, 1, 0, 0, 0, 0, 0, 0, 0, 0, 0, 1, 0, 0, 0, ...   \n",
      "\n",
      "                                              mpnn_fp data_source  \\\n",
      "0   [-0.0019022551, -0.29248607, -0.16704905, -0.0...    aldehyde   \n",
      "1   [-0.002631284, -0.26282954, -0.16316776, -0.04...    aldehyde   \n",
      "2   [-0.005728179, -0.18520927, -0.21009845, -0.05...    aldehyde   \n",
      "3   [-0.0041350024, -0.23575878, -0.16888307, -0.0...    aldehyde   \n",
      "4   [-0.0012638444, -0.3239019, -0.22870776, -0.04...    aldehyde   \n",
      "5   [-0.0017037266, -0.33195856, -0.14747138, -0.0...    aldehyde   \n",
      "6   [-0.0015286978, -0.29378805, -0.21118763, -0.0...    aldehyde   \n",
      "7   [-0.0029926922, -0.2953813, -0.23673072, -0.05...    aldehyde   \n",
      "8   [-0.0018707709, -0.27345347, -0.1920824, -0.04...    aldehyde   \n",
      "9   [-0.00312457, -0.29505074, -0.17475626, -0.056...    aldehyde   \n",
      "10  [-0.0032994107, -0.24590826, -0.20213982, -0.0...    aldehyde   \n",
      "11  [-0.0007258496, -0.34641656, -0.12049917, -0.0...    aldehyde   \n",
      "12  [-0.0006558648, -0.29562464, -0.067987375, -0....    aldehyde   \n",
      "13  [-0.0009081488, -0.22824056, -0.13039266, -0.0...    aldehyde   \n",
      "14  [-0.0009685376, -0.31556657, -0.1848676, -0.04...    aldehyde   \n",
      "15  [-0.000718223, -0.36135355, -0.12206727, -0.05...    aldehyde   \n",
      "16  [-0.0008246326, -0.3438603, -0.1708084, -0.045...    aldehyde   \n",
      "17  [-0.0010990829, -0.32012162, -0.15222242, -0.0...    aldehyde   \n",
      "18  [-0.0004007293, -0.39123353, -0.14919287, -0.0...    aldehyde   \n",
      "19  [-0.0006236925, -0.34350407, -0.1576805, -0.03...    aldehyde   \n",
      "20  [-0.001826142, -0.25673497, -0.11440033, -0.04...    aldehyde   \n",
      "21  [-0.0018673859, -0.31103316, -0.07899085, -0.0...    aldehyde   \n",
      "22  [-0.00093714456, -0.27350256, -0.085138135, -0...    aldehyde   \n",
      "23  [-0.001087943, -0.33089092, -0.14854026, -0.04...    aldehyde   \n",
      "24  [-0.0024236601, -0.24402079, -0.12968068, -0.0...    aldehyde   \n",
      "25  [-0.00056070805, -0.38445944, -0.10773075, -0....    aldehyde   \n",
      "26  [-0.0010480804, -0.44066808, -0.096023016, -0....    aldehyde   \n",
      "27  [-0.00094129215, -0.33305398, -0.17591637, -0....    aldehyde   \n",
      "28  [-0.0009866237, -0.34311533, -0.10444737, -0.0...    aldehyde   \n",
      "29  [-0.0012426943, -0.3170273, -0.19379209, -0.04...    aldehyde   \n",
      "30  [-0.0013218323, -0.218531, -0.12751973, -0.023...    aldehyde   \n",
      "31  [-0.000718422, -0.3307626, -0.16921927, -0.042...    aldehyde   \n",
      "32  [-0.00037906438, -0.36119387, -0.08243615, -0....    aldehyde   \n",
      "33  [-0.0019755368, -0.2508162, -0.23529607, -0.04...    aldehyde   \n",
      "34  [-0.0010288275, -0.32370952, -0.18691038, -0.0...    aldehyde   \n",
      "\n",
      "   Molecule Name Structure  CDD Number  \\\n",
      "0            NaN       NaN         NaN   \n",
      "1            NaN       NaN         NaN   \n",
      "2            NaN       NaN         NaN   \n",
      "3            NaN       NaN         NaN   \n",
      "4            NaN       NaN         NaN   \n",
      "5            NaN       NaN         NaN   \n",
      "6            NaN       NaN         NaN   \n",
      "7            NaN       NaN         NaN   \n",
      "8            NaN       NaN         NaN   \n",
      "9            NaN       NaN         NaN   \n",
      "10           NaN       NaN         NaN   \n",
      "11           NaN       NaN         NaN   \n",
      "12           NaN       NaN         NaN   \n",
      "13           NaN       NaN         NaN   \n",
      "14           NaN       NaN         NaN   \n",
      "15           NaN       NaN         NaN   \n",
      "16           NaN       NaN         NaN   \n",
      "17           NaN       NaN         NaN   \n",
      "18           NaN       NaN         NaN   \n",
      "19           NaN       NaN         NaN   \n",
      "20           NaN       NaN         NaN   \n",
      "21           NaN       NaN         NaN   \n",
      "22           NaN       NaN         NaN   \n",
      "23           NaN       NaN         NaN   \n",
      "24           NaN       NaN         NaN   \n",
      "25           NaN       NaN         NaN   \n",
      "26           NaN       NaN         NaN   \n",
      "27           NaN       NaN         NaN   \n",
      "28           NaN       NaN         NaN   \n",
      "29           NaN       NaN         NaN   \n",
      "30           NaN       NaN         NaN   \n",
      "31           NaN       NaN         NaN   \n",
      "32           NaN       NaN         NaN   \n",
      "33           NaN       NaN         NaN   \n",
      "34           NaN       NaN         NaN   \n",
      "\n",
      "    ProteaseAssay_Fluorescence_Dose-Response_Weizmann: Avg IC50 (uM) Standard Deviation (±)  \\\n",
      "0                                                 NaN                                         \n",
      "1                                                 NaN                                         \n",
      "2                                                 NaN                                         \n",
      "3                                                 NaN                                         \n",
      "4                                                 NaN                                         \n",
      "5                                                 NaN                                         \n",
      "6                                                 NaN                                         \n",
      "7                                                 NaN                                         \n",
      "8                                                 NaN                                         \n",
      "9                                                 NaN                                         \n",
      "10                                                NaN                                         \n",
      "11                                                NaN                                         \n",
      "12                                                NaN                                         \n",
      "13                                                NaN                                         \n",
      "14                                                NaN                                         \n",
      "15                                                NaN                                         \n",
      "16                                                NaN                                         \n",
      "17                                                NaN                                         \n",
      "18                                                NaN                                         \n",
      "19                                                NaN                                         \n",
      "20                                                NaN                                         \n",
      "21                                                NaN                                         \n",
      "22                                                NaN                                         \n",
      "23                                                NaN                                         \n",
      "24                                                NaN                                         \n",
      "25                                                NaN                                         \n",
      "26                                                NaN                                         \n",
      "27                                                NaN                                         \n",
      "28                                                NaN                                         \n",
      "29                                                NaN                                         \n",
      "30                                                NaN                                         \n",
      "31                                                NaN                                         \n",
      "32                                                NaN                                         \n",
      "33                                                NaN                                         \n",
      "34                                                NaN                                         \n",
      "\n",
      "    ProteaseAssay_Fluorescence_Dose-Response_Weizmann: Avg IC50 (uM) Count  \\\n",
      "0                                                 NaN                        \n",
      "1                                                 NaN                        \n",
      "2                                                 NaN                        \n",
      "3                                                 NaN                        \n",
      "4                                                 NaN                        \n",
      "5                                                 NaN                        \n",
      "6                                                 NaN                        \n",
      "7                                                 NaN                        \n",
      "8                                                 NaN                        \n",
      "9                                                 NaN                        \n",
      "10                                                NaN                        \n",
      "11                                                NaN                        \n",
      "12                                                NaN                        \n",
      "13                                                NaN                        \n",
      "14                                                NaN                        \n",
      "15                                                NaN                        \n",
      "16                                                NaN                        \n",
      "17                                                NaN                        \n",
      "18                                                NaN                        \n",
      "19                                                NaN                        \n",
      "20                                                NaN                        \n",
      "21                                                NaN                        \n",
      "22                                                NaN                        \n",
      "23                                                NaN                        \n",
      "24                                                NaN                        \n",
      "25                                                NaN                        \n",
      "26                                                NaN                        \n",
      "27                                                NaN                        \n",
      "28                                                NaN                        \n",
      "29                                                NaN                        \n",
      "30                                                NaN                        \n",
      "31                                                NaN                        \n",
      "32                                                NaN                        \n",
      "33                                                NaN                        \n",
      "34                                                NaN                        \n",
      "\n",
      "   ProteaseAssay_Fluorescence_Dose-Response_Weizmann: Dose-response Plot  \\\n",
      "0                                                 NaN                      \n",
      "1                                                 NaN                      \n",
      "2                                                 NaN                      \n",
      "3                                                 NaN                      \n",
      "4                                                 NaN                      \n",
      "5                                                 NaN                      \n",
      "6                                                 NaN                      \n",
      "7                                                 NaN                      \n",
      "8                                                 NaN                      \n",
      "9                                                 NaN                      \n",
      "10                                                NaN                      \n",
      "11                                                NaN                      \n",
      "12                                                NaN                      \n",
      "13                                                NaN                      \n",
      "14                                                NaN                      \n",
      "15                                                NaN                      \n",
      "16                                                NaN                      \n",
      "17                                                NaN                      \n",
      "18                                                NaN                      \n",
      "19                                                NaN                      \n",
      "20                                                NaN                      \n",
      "21                                                NaN                      \n",
      "22                                                NaN                      \n",
      "23                                                NaN                      \n",
      "24                                                NaN                      \n",
      "25                                                NaN                      \n",
      "26                                                NaN                      \n",
      "27                                                NaN                      \n",
      "28                                                NaN                      \n",
      "29                                                NaN                      \n",
      "30                                                NaN                      \n",
      "31                                                NaN                      \n",
      "32                                                NaN                      \n",
      "33                                                NaN                      \n",
      "34                                                NaN                      \n",
      "\n",
      "     score_0  \n",
      "0   4.453616  \n",
      "1   4.490931  \n",
      "2   5.583015  \n",
      "3   4.469700  \n",
      "4   5.448265  \n",
      "5   4.200931  \n",
      "6   5.039159  \n",
      "7   4.885543  \n",
      "8   4.631968  \n",
      "9   5.293836  \n",
      "10  5.596458  \n",
      "11  4.266449  \n",
      "12  4.437216  \n",
      "13  4.514770  \n",
      "14  5.432968  \n",
      "15  4.707762  \n",
      "16  4.620462  \n",
      "17  5.069339  \n",
      "18  4.447013  \n",
      "19  4.730151  \n",
      "20  4.389987  \n",
      "21  4.183589  \n",
      "22  4.478323  \n",
      "23  4.591825  \n",
      "24  4.442126  \n",
      "25  4.543138  \n",
      "26  4.509757  \n",
      "27  5.032452  \n",
      "28  4.380943  \n",
      "29  5.506778  \n",
      "30  4.492988  \n",
      "31  4.738016  \n",
      "32  4.310661  \n",
      "33  5.624663  \n",
      "34  5.569744  \n",
      "Fitting 5 folds for each of 1 candidates, totalling 5 fits\n",
      "{'n_estimators': 273, 'min_samples_split': 8, 'min_samples_leaf': 1, 'max_features': 'sqrt', 'max_depth': 6, 'bootstrap': True}\n",
      "     index                                             SMILES     IC50  \\\n",
      "97       0  CC(C)(C)c1ccc(N(C(=O)c2ccco2)C(C(=O)NCCc2cccc(...    2.280   \n",
      "98       1  CC(C)(C)c1ccc(N(C(=O)c2ccco2)C(C(=O)NCCc2cccc(...  100.000   \n",
      "99       2  Cc1ccncc1C(C(=O)NCCc1cccc(F)c1)N(C(=O)c1ccco1)...    0.112   \n",
      "100      3  CC(C)(C)c1ccc(N(C(=O)c2ccco2)C(C(=O)NCCc2cccc(...   37.500   \n",
      "101      4  CC(C)(C)c1ccc(N(C(=O)c2ccco2)C(C(=O)NCCc2cccc(...    0.403   \n",
      "102      5  Cn1nc(C(C(=O)NCCc2cccc(F)c2)N(C(=O)c2ccco2)c2c...  100.000   \n",
      "103      6  CC(C)(C)c1ccc(N(C(=O)c2ccco2)C(C(=O)NCCc2cccc(...  100.000   \n",
      "104      7  COc1cncc(C(C(=O)NCCc2cccc(F)c2)N(C(=O)c2ccco2)...  100.000   \n",
      "105      8  CC(C)(C)c1ccc(N(C(=O)c2ccco2)C(C(=O)NCCc2cccc(...    5.330   \n",
      "106      9  CC(C)(C)c1ccc(N(C(=O)c2ccc(Cl)o2)C(C(=O)NCCc2c...    0.315   \n",
      "107     10  CC(C)(C)c1ccc(N(C(=O)c2ccco2)C(C(=O)NCCc2cccc(...    0.200   \n",
      "108     11  CC(C)(C)c1ccc(N(C(=O)c2cocn2)C(C(=O)NCCc2cccc(...    1.160   \n",
      "109     12  CN1CCN(c2ncc(C(C(=O)NCCc3cccc(F)c3)N(C(=O)c3co...  100.000   \n",
      "110     13  CC(C)(C)c1ccc(N(C(=O)c2cocn2)C(C(=O)NCCc2cccc(...  100.000   \n",
      "111     14  CC(C)(C)c1ccc(N(C(=O)c2cocn2)C(C(=O)NCCc2cccc(...    1.210   \n",
      "112     15  Cn1cc(C(C(=O)NCCc2cccc(F)c2)N(C(=O)c2cocn2)c2c...  100.000   \n",
      "113     16  COc1ncncc1C(C(=O)NCCc1cccc(F)c1)N(C(=O)c1cocn1...    8.430   \n",
      "114     17  CC(C)(C)c1ccc(N(C(=O)c2cocn2)C(C(=O)NCCc2cccc(...    2.920   \n",
      "115     18  COc1ncnc(OC)c1C(C(=O)NCCc1cccc(F)c1)N(C(=O)c1c...  100.000   \n",
      "116     19  COc1nccnc1C(C(=O)NCCc1cccc(F)c1)N(C(=O)c1cocn1...   94.900   \n",
      "117     20  CN(C)c1ncc(C(C(=O)NCCc2cccc(F)c2)N(C(=O)c2cocn...  100.000   \n",
      "118     21  CN(CCO)c1ccc(C(C(=O)NCCc2cccc(F)c2)N(C(=O)c2co...  100.000   \n",
      "119     22  CC(C)(C)c1ccc(N(C(=O)c2cocn2)C(C(=O)NCCc2cccc(...  100.000   \n",
      "120     23  Cn1cccc(C(C(=O)NCCc2cccc(F)c2)N(C(=O)c2cocn2)c...  100.000   \n",
      "121     24  CN(C)c1cnc(C(C(=O)NCCc2cccc(F)c2)N(C(=O)c2cocn...  100.000   \n",
      "122     25  CC(C)(C)c1ccc(N(C(=O)c2cocn2)C(C(=O)NCCc2cccc(...  100.000   \n",
      "123     26  CC(C)(C)c1ccc(N(C(=O)c2cocn2)C(C(=O)NCCc2cccc(...  100.000   \n",
      "124     27  CC(C)(C)c1ccc(N(C(=O)c2cocn2)C(C(=O)NCCc2cccc(...  100.000   \n",
      "125     28  Cn1c(N2CCOCC2)c(C(C(=O)NCCc2cccc(F)c2)N(C(=O)c...  100.000   \n",
      "126     29  CC(C)(C)c1ccc(N(C(=O)c2cocn2)C(C(=O)NCCc2cccc(...    2.050   \n",
      "127     30  COc1nc2ncc(C(C(=O)NCCc3cccc(F)c3)N(C(=O)c3cocn...   33.400   \n",
      "128     31  Cn1cc(C(C(=O)NCCc2cccc(F)c2)N(C(=O)c2cocn2)c2c...  100.000   \n",
      "129     32  Cc1cc(=O)c(C(C(=O)NCCc2cccc(F)c2)N(C(=O)c2cocn...  100.000   \n",
      "130     33  Cc1ccncc1C(C(=O)NCCc1cccc(F)c1)N(C(=O)c1cocn1)...    0.653   \n",
      "131     34  CC(C)(C)c1ccc(N(C(=O)c2cocn2)C(C(=O)NCCc2cccc(...    0.557   \n",
      "\n",
      "        pIC50                                               mol Error  \\\n",
      "97   5.642065  <rdkit.Chem.rdchem.Mol object at 0x150249d35a60>         \n",
      "98   4.000000  <rdkit.Chem.rdchem.Mol object at 0x150249c39340>         \n",
      "99   6.950782  <rdkit.Chem.rdchem.Mol object at 0x150249d1eee0>         \n",
      "100  4.425969  <rdkit.Chem.rdchem.Mol object at 0x150249d1ea60>         \n",
      "101  6.394695  <rdkit.Chem.rdchem.Mol object at 0x150249d1ee80>         \n",
      "102  4.000000  <rdkit.Chem.rdchem.Mol object at 0x150249d1e8e0>         \n",
      "103  4.000000  <rdkit.Chem.rdchem.Mol object at 0x150249d1e820>         \n",
      "104  4.000000  <rdkit.Chem.rdchem.Mol object at 0x150249d1e580>         \n",
      "105  5.273273  <rdkit.Chem.rdchem.Mol object at 0x150249d1ec40>         \n",
      "106  6.501689  <rdkit.Chem.rdchem.Mol object at 0x150249d1e220>         \n",
      "107  6.698970  <rdkit.Chem.rdchem.Mol object at 0x150249d1ee20>         \n",
      "108  5.935542  <rdkit.Chem.rdchem.Mol object at 0x150249d1ea00>         \n",
      "109  4.000000  <rdkit.Chem.rdchem.Mol object at 0x150249d1eb80>         \n",
      "110  4.000000  <rdkit.Chem.rdchem.Mol object at 0x150249d1e700>         \n",
      "111  5.917215  <rdkit.Chem.rdchem.Mol object at 0x150249d1e4c0>         \n",
      "112  4.000000  <rdkit.Chem.rdchem.Mol object at 0x150249d1e5e0>         \n",
      "113  5.074172  <rdkit.Chem.rdchem.Mol object at 0x150249d1e100>         \n",
      "114  5.534617  <rdkit.Chem.rdchem.Mol object at 0x150249d1e9a0>         \n",
      "115  4.000000  <rdkit.Chem.rdchem.Mol object at 0x150249d1e940>         \n",
      "116  4.022734  <rdkit.Chem.rdchem.Mol object at 0x150249d1e040>         \n",
      "117  4.000000  <rdkit.Chem.rdchem.Mol object at 0x150249d1e2e0>         \n",
      "118  4.000000  <rdkit.Chem.rdchem.Mol object at 0x150249d1eac0>         \n",
      "119  4.000000  <rdkit.Chem.rdchem.Mol object at 0x150249d42460>         \n",
      "120  4.000000  <rdkit.Chem.rdchem.Mol object at 0x150249d42dc0>         \n",
      "121  4.000000  <rdkit.Chem.rdchem.Mol object at 0x150249d42fa0>         \n",
      "122  4.000000  <rdkit.Chem.rdchem.Mol object at 0x150249d42ee0>         \n",
      "123  4.000000  <rdkit.Chem.rdchem.Mol object at 0x150249d42ac0>         \n",
      "124  4.000000  <rdkit.Chem.rdchem.Mol object at 0x150249d42f40>         \n",
      "125  4.000000  <rdkit.Chem.rdchem.Mol object at 0x150249d42d60>         \n",
      "126  5.688246  <rdkit.Chem.rdchem.Mol object at 0x150249d427c0>         \n",
      "127  4.476254  <rdkit.Chem.rdchem.Mol object at 0x150249d42be0>         \n",
      "128  4.000000  <rdkit.Chem.rdchem.Mol object at 0x150249d42700>         \n",
      "129  4.000000  <rdkit.Chem.rdchem.Mol object at 0x150249ccd340>         \n",
      "130  6.185087  <rdkit.Chem.rdchem.Mol object at 0x150249ccd820>         \n",
      "131  6.254145  <rdkit.Chem.rdchem.Mol object at 0x150249ccd9a0>         \n",
      "\n",
      "                                             morgan_fp  \\\n",
      "97   [0, 1, 0, 0, 0, 0, 0, 0, 0, 0, 0, 0, 0, 0, 0, ...   \n",
      "98   [0, 1, 0, 0, 0, 0, 0, 0, 0, 0, 0, 0, 0, 0, 0, ...   \n",
      "99   [0, 1, 0, 0, 0, 0, 0, 0, 0, 0, 0, 0, 0, 0, 0, ...   \n",
      "100  [0, 1, 0, 1, 0, 0, 0, 0, 0, 0, 0, 0, 0, 0, 0, ...   \n",
      "101  [0, 1, 0, 0, 0, 0, 0, 0, 0, 0, 0, 0, 0, 0, 0, ...   \n",
      "102  [0, 1, 0, 0, 0, 0, 0, 0, 0, 0, 0, 0, 0, 0, 0, ...   \n",
      "103  [0, 1, 0, 0, 0, 0, 0, 0, 0, 0, 0, 0, 0, 0, 0, ...   \n",
      "104  [0, 1, 0, 0, 0, 0, 0, 0, 0, 0, 0, 0, 0, 0, 0, ...   \n",
      "105  [0, 1, 0, 0, 0, 0, 0, 0, 0, 0, 0, 0, 0, 0, 0, ...   \n",
      "106  [0, 1, 0, 0, 0, 0, 0, 0, 0, 0, 0, 0, 0, 0, 0, ...   \n",
      "107  [0, 1, 0, 0, 0, 0, 0, 0, 0, 0, 0, 0, 0, 0, 0, ...   \n",
      "108  [0, 1, 0, 0, 0, 0, 0, 0, 0, 0, 0, 1, 0, 0, 0, ...   \n",
      "109  [0, 1, 0, 0, 0, 0, 0, 0, 0, 0, 0, 1, 0, 0, 1, ...   \n",
      "110  [0, 1, 0, 1, 0, 0, 0, 0, 0, 0, 0, 1, 0, 0, 0, ...   \n",
      "111  [0, 1, 0, 0, 0, 0, 0, 0, 0, 0, 0, 1, 0, 0, 0, ...   \n",
      "112  [0, 1, 0, 0, 0, 0, 0, 0, 0, 0, 0, 1, 0, 0, 0, ...   \n",
      "113  [0, 1, 1, 0, 0, 0, 0, 0, 0, 0, 0, 1, 0, 0, 0, ...   \n",
      "114  [0, 1, 0, 0, 0, 0, 0, 0, 0, 0, 0, 1, 0, 0, 0, ...   \n",
      "115  [0, 1, 0, 0, 0, 0, 0, 0, 0, 0, 0, 1, 0, 0, 0, ...   \n",
      "116  [0, 1, 0, 0, 0, 0, 0, 0, 0, 0, 0, 1, 0, 0, 0, ...   \n",
      "117  [0, 1, 0, 0, 0, 0, 0, 0, 0, 0, 0, 1, 0, 0, 0, ...   \n",
      "118  [0, 1, 0, 0, 0, 0, 0, 1, 0, 0, 0, 1, 0, 0, 0, ...   \n",
      "119  [0, 1, 0, 0, 0, 0, 0, 0, 0, 0, 0, 1, 0, 0, 0, ...   \n",
      "120  [0, 1, 0, 0, 0, 0, 0, 0, 0, 0, 0, 1, 0, 0, 0, ...   \n",
      "121  [0, 1, 0, 0, 0, 0, 0, 0, 0, 0, 0, 1, 0, 0, 0, ...   \n",
      "122  [0, 1, 0, 0, 0, 0, 0, 0, 0, 0, 0, 1, 0, 0, 0, ...   \n",
      "123  [0, 1, 0, 0, 1, 0, 0, 0, 0, 0, 0, 1, 0, 0, 0, ...   \n",
      "124  [0, 1, 0, 0, 0, 0, 0, 0, 0, 0, 0, 1, 0, 0, 0, ...   \n",
      "125  [0, 1, 0, 0, 0, 0, 0, 0, 0, 0, 0, 1, 0, 0, 0, ...   \n",
      "126  [0, 1, 0, 0, 0, 0, 0, 0, 0, 0, 0, 1, 0, 0, 0, ...   \n",
      "127  [0, 1, 0, 0, 0, 0, 0, 0, 0, 0, 0, 1, 0, 0, 0, ...   \n",
      "128  [0, 1, 0, 0, 0, 0, 0, 0, 0, 0, 0, 1, 0, 0, 0, ...   \n",
      "129  [0, 1, 0, 0, 0, 0, 0, 0, 0, 0, 0, 1, 0, 0, 0, ...   \n",
      "130  [0, 1, 0, 0, 0, 0, 0, 0, 0, 0, 0, 1, 0, 0, 0, ...   \n",
      "131  [0, 1, 0, 0, 0, 0, 0, 0, 0, 0, 0, 1, 0, 0, 0, ...   \n",
      "\n",
      "                                               mpnn_fp data_source  \\\n",
      "97   [-0.0019022551, -0.29248607, -0.16704905, -0.0...    aldehyde   \n",
      "98   [-0.002631284, -0.26282954, -0.16316776, -0.04...    aldehyde   \n",
      "99   [-0.005728179, -0.18520927, -0.21009845, -0.05...    aldehyde   \n",
      "100  [-0.0041350024, -0.23575878, -0.16888307, -0.0...    aldehyde   \n",
      "101  [-0.0012638444, -0.3239019, -0.22870776, -0.04...    aldehyde   \n",
      "102  [-0.0017037266, -0.33195856, -0.14747138, -0.0...    aldehyde   \n",
      "103  [-0.0015286978, -0.29378805, -0.21118763, -0.0...    aldehyde   \n",
      "104  [-0.0029926922, -0.2953813, -0.23673072, -0.05...    aldehyde   \n",
      "105  [-0.0018707709, -0.27345347, -0.1920824, -0.04...    aldehyde   \n",
      "106  [-0.00312457, -0.29505074, -0.17475626, -0.056...    aldehyde   \n",
      "107  [-0.0032994107, -0.24590826, -0.20213982, -0.0...    aldehyde   \n",
      "108  [-0.0007258496, -0.34641656, -0.12049917, -0.0...    aldehyde   \n",
      "109  [-0.0006558648, -0.29562464, -0.067987375, -0....    aldehyde   \n",
      "110  [-0.0009081488, -0.22824056, -0.13039266, -0.0...    aldehyde   \n",
      "111  [-0.0009685376, -0.31556657, -0.1848676, -0.04...    aldehyde   \n",
      "112  [-0.000718223, -0.36135355, -0.12206727, -0.05...    aldehyde   \n",
      "113  [-0.0008246326, -0.3438603, -0.1708084, -0.045...    aldehyde   \n",
      "114  [-0.0010990829, -0.32012162, -0.15222242, -0.0...    aldehyde   \n",
      "115  [-0.0004007293, -0.39123353, -0.14919287, -0.0...    aldehyde   \n",
      "116  [-0.0006236925, -0.34350407, -0.1576805, -0.03...    aldehyde   \n",
      "117  [-0.001826142, -0.25673497, -0.11440033, -0.04...    aldehyde   \n",
      "118  [-0.0018673859, -0.31103316, -0.07899085, -0.0...    aldehyde   \n",
      "119  [-0.00093714456, -0.27350256, -0.085138135, -0...    aldehyde   \n",
      "120  [-0.001087943, -0.33089092, -0.14854026, -0.04...    aldehyde   \n",
      "121  [-0.0024236601, -0.24402079, -0.12968068, -0.0...    aldehyde   \n",
      "122  [-0.00056070805, -0.38445944, -0.10773075, -0....    aldehyde   \n",
      "123  [-0.0010480804, -0.44066808, -0.096023016, -0....    aldehyde   \n",
      "124  [-0.00094129215, -0.33305398, -0.17591637, -0....    aldehyde   \n",
      "125  [-0.0009866237, -0.34311533, -0.10444737, -0.0...    aldehyde   \n",
      "126  [-0.0012426943, -0.3170273, -0.19379209, -0.04...    aldehyde   \n",
      "127  [-0.0013218323, -0.218531, -0.12751973, -0.023...    aldehyde   \n",
      "128  [-0.000718422, -0.3307626, -0.16921927, -0.042...    aldehyde   \n",
      "129  [-0.00037906438, -0.36119387, -0.08243615, -0....    aldehyde   \n",
      "130  [-0.0019755368, -0.2508162, -0.23529607, -0.04...    aldehyde   \n",
      "131  [-0.0010288275, -0.32370952, -0.18691038, -0.0...    aldehyde   \n",
      "\n",
      "    Molecule Name Structure  CDD Number  \\\n",
      "97            NaN       NaN         NaN   \n",
      "98            NaN       NaN         NaN   \n",
      "99            NaN       NaN         NaN   \n",
      "100           NaN       NaN         NaN   \n",
      "101           NaN       NaN         NaN   \n",
      "102           NaN       NaN         NaN   \n",
      "103           NaN       NaN         NaN   \n",
      "104           NaN       NaN         NaN   \n",
      "105           NaN       NaN         NaN   \n",
      "106           NaN       NaN         NaN   \n",
      "107           NaN       NaN         NaN   \n",
      "108           NaN       NaN         NaN   \n",
      "109           NaN       NaN         NaN   \n",
      "110           NaN       NaN         NaN   \n",
      "111           NaN       NaN         NaN   \n",
      "112           NaN       NaN         NaN   \n",
      "113           NaN       NaN         NaN   \n",
      "114           NaN       NaN         NaN   \n",
      "115           NaN       NaN         NaN   \n",
      "116           NaN       NaN         NaN   \n",
      "117           NaN       NaN         NaN   \n",
      "118           NaN       NaN         NaN   \n",
      "119           NaN       NaN         NaN   \n",
      "120           NaN       NaN         NaN   \n",
      "121           NaN       NaN         NaN   \n",
      "122           NaN       NaN         NaN   \n",
      "123           NaN       NaN         NaN   \n",
      "124           NaN       NaN         NaN   \n",
      "125           NaN       NaN         NaN   \n",
      "126           NaN       NaN         NaN   \n",
      "127           NaN       NaN         NaN   \n",
      "128           NaN       NaN         NaN   \n",
      "129           NaN       NaN         NaN   \n",
      "130           NaN       NaN         NaN   \n",
      "131           NaN       NaN         NaN   \n",
      "\n",
      "     ProteaseAssay_Fluorescence_Dose-Response_Weizmann: Avg IC50 (uM) Standard Deviation (±)  \\\n",
      "97                                                 NaN                                         \n",
      "98                                                 NaN                                         \n",
      "99                                                 NaN                                         \n",
      "100                                                NaN                                         \n",
      "101                                                NaN                                         \n",
      "102                                                NaN                                         \n",
      "103                                                NaN                                         \n",
      "104                                                NaN                                         \n",
      "105                                                NaN                                         \n",
      "106                                                NaN                                         \n",
      "107                                                NaN                                         \n",
      "108                                                NaN                                         \n",
      "109                                                NaN                                         \n",
      "110                                                NaN                                         \n",
      "111                                                NaN                                         \n",
      "112                                                NaN                                         \n",
      "113                                                NaN                                         \n",
      "114                                                NaN                                         \n",
      "115                                                NaN                                         \n",
      "116                                                NaN                                         \n",
      "117                                                NaN                                         \n",
      "118                                                NaN                                         \n",
      "119                                                NaN                                         \n",
      "120                                                NaN                                         \n",
      "121                                                NaN                                         \n",
      "122                                                NaN                                         \n",
      "123                                                NaN                                         \n",
      "124                                                NaN                                         \n",
      "125                                                NaN                                         \n",
      "126                                                NaN                                         \n",
      "127                                                NaN                                         \n",
      "128                                                NaN                                         \n",
      "129                                                NaN                                         \n",
      "130                                                NaN                                         \n",
      "131                                                NaN                                         \n",
      "\n",
      "     ProteaseAssay_Fluorescence_Dose-Response_Weizmann: Avg IC50 (uM) Count  \\\n",
      "97                                                 NaN                        \n",
      "98                                                 NaN                        \n",
      "99                                                 NaN                        \n",
      "100                                                NaN                        \n",
      "101                                                NaN                        \n",
      "102                                                NaN                        \n",
      "103                                                NaN                        \n",
      "104                                                NaN                        \n",
      "105                                                NaN                        \n",
      "106                                                NaN                        \n",
      "107                                                NaN                        \n",
      "108                                                NaN                        \n",
      "109                                                NaN                        \n",
      "110                                                NaN                        \n",
      "111                                                NaN                        \n",
      "112                                                NaN                        \n",
      "113                                                NaN                        \n",
      "114                                                NaN                        \n",
      "115                                                NaN                        \n",
      "116                                                NaN                        \n",
      "117                                                NaN                        \n",
      "118                                                NaN                        \n",
      "119                                                NaN                        \n",
      "120                                                NaN                        \n",
      "121                                                NaN                        \n",
      "122                                                NaN                        \n",
      "123                                                NaN                        \n",
      "124                                                NaN                        \n",
      "125                                                NaN                        \n",
      "126                                                NaN                        \n",
      "127                                                NaN                        \n",
      "128                                                NaN                        \n",
      "129                                                NaN                        \n",
      "130                                                NaN                        \n",
      "131                                                NaN                        \n",
      "\n",
      "    ProteaseAssay_Fluorescence_Dose-Response_Weizmann: Dose-response Plot  \\\n",
      "97                                                 NaN                      \n",
      "98                                                 NaN                      \n",
      "99                                                 NaN                      \n",
      "100                                                NaN                      \n",
      "101                                                NaN                      \n",
      "102                                                NaN                      \n",
      "103                                                NaN                      \n",
      "104                                                NaN                      \n",
      "105                                                NaN                      \n",
      "106                                                NaN                      \n",
      "107                                                NaN                      \n",
      "108                                                NaN                      \n",
      "109                                                NaN                      \n",
      "110                                                NaN                      \n",
      "111                                                NaN                      \n",
      "112                                                NaN                      \n",
      "113                                                NaN                      \n",
      "114                                                NaN                      \n",
      "115                                                NaN                      \n",
      "116                                                NaN                      \n",
      "117                                                NaN                      \n",
      "118                                                NaN                      \n",
      "119                                                NaN                      \n",
      "120                                                NaN                      \n",
      "121                                                NaN                      \n",
      "122                                                NaN                      \n",
      "123                                                NaN                      \n",
      "124                                                NaN                      \n",
      "125                                                NaN                      \n",
      "126                                                NaN                      \n",
      "127                                                NaN                      \n",
      "128                                                NaN                      \n",
      "129                                                NaN                      \n",
      "130                                                NaN                      \n",
      "131                                                NaN                      \n",
      "\n",
      "      score_0  \n",
      "97   5.238093  \n",
      "98   5.128454  \n",
      "99   5.531627  \n",
      "100  5.011429  \n",
      "101  5.568344  \n",
      "102  5.115831  \n",
      "103  5.303649  \n",
      "104  5.024323  \n",
      "105  5.166334  \n",
      "106  5.160799  \n",
      "107  4.815040  \n",
      "108  5.010721  \n",
      "109  4.665157  \n",
      "110  4.740682  \n",
      "111  4.832652  \n",
      "112  4.907446  \n",
      "113  5.033118  \n",
      "114  4.699303  \n",
      "115  4.792343  \n",
      "116  4.790401  \n",
      "117  4.688146  \n",
      "118  4.587266  \n",
      "119  4.672028  \n",
      "120  4.908566  \n",
      "121  4.787771  \n",
      "122  4.909694  \n",
      "123  4.891478  \n",
      "124  4.922173  \n",
      "125  4.765136  \n",
      "126  4.721674  \n",
      "127  4.667661  \n",
      "128  4.637368  \n",
      "129  4.770606  \n",
      "130  5.336769  \n",
      "131  4.603528  \n",
      "Fitting 5 folds for each of 1 candidates, totalling 5 fits\n",
      "{'n_estimators': 1853, 'min_samples_split': 8, 'min_samples_leaf': 3, 'max_features': 'auto', 'max_depth': 10, 'bootstrap': True}\n",
      "     index                                             SMILES     IC50  \\\n",
      "0        0  O=C(NCCc1cccc(F)c1)C(c1cccnc1)N(C(=O)c1cocn1)c...  100.000   \n",
      "1        1  CC(C)(O)c1cccc(N(C(=O)c2cocn2)C(C(=O)NCCc2cccc...  100.000   \n",
      "2        2  CC(C)(c1ccc(N(C(=O)c2cocn2)C(C(=O)NCCc2cccc(F)...   67.800   \n",
      "3        3  O=C(NCCc1cccc(F)c1)C(c1cccnc1)N(C(=O)c1cocn1)c...   45.100   \n",
      "4        4  O=C1CCC(c2ccc(N(C(=O)c3cocn3)C(C(=O)NCCc3cccc(...  100.000   \n",
      "..     ...                                                ...      ...   \n",
      "136    136  O=C(NCCc1cccc(F)c1)C(c1cccnc1)N(Cc1cccnc1)C(=O...  100.000   \n",
      "137    137  O=C(NCCc1cccc(F)c1)C(c1cccnc1)N(Cc1ccccc1)C(=O...  100.000   \n",
      "138    138  CC(C)(C)c1ccc(N(C(=O)c2cn3ccccc3n2)C(C(=O)NCCc...   18.200   \n",
      "139    139  Cn1cncc1C(=O)N(c1ccc(C(C)(C)C)cc1)C(C(=O)NCCc1...  100.000   \n",
      "140    140  CC(C)(C)c1ccc(N(C(=O)c2c[nH]cn2)C(C(=O)NCCc2cc...    0.292   \n",
      "\n",
      "        pIC50                                               mol Error  \\\n",
      "0    4.000000  <rdkit.Chem.rdchem.Mol object at 0x15024b7892e0>         \n",
      "1    4.000000  <rdkit.Chem.rdchem.Mol object at 0x15024b789220>         \n",
      "2    4.168770  <rdkit.Chem.rdchem.Mol object at 0x15024b7895e0>         \n",
      "3    4.345823  <rdkit.Chem.rdchem.Mol object at 0x15024b789580>         \n",
      "4    4.000000  <rdkit.Chem.rdchem.Mol object at 0x15024b789040>         \n",
      "..        ...                                               ...   ...   \n",
      "136  4.000000  <rdkit.Chem.rdchem.Mol object at 0x15024b77e5e0>         \n",
      "137  4.000000  <rdkit.Chem.rdchem.Mol object at 0x15024b77e640>         \n",
      "138  4.739929  <rdkit.Chem.rdchem.Mol object at 0x15024b77e6a0>         \n",
      "139  4.000000  <rdkit.Chem.rdchem.Mol object at 0x15024b77e700>         \n",
      "140  6.534617  <rdkit.Chem.rdchem.Mol object at 0x15024b77e760>         \n",
      "\n",
      "                                             morgan_fp  \\\n",
      "0    [0, 1, 0, 0, 0, 0, 0, 0, 0, 0, 0, 1, 0, 0, 0, ...   \n",
      "1    [0, 1, 0, 0, 0, 0, 0, 0, 0, 0, 0, 1, 0, 0, 0, ...   \n",
      "2    [0, 1, 0, 0, 0, 0, 0, 0, 0, 0, 0, 1, 0, 0, 0, ...   \n",
      "3    [0, 1, 0, 0, 0, 0, 0, 0, 0, 0, 0, 1, 0, 0, 0, ...   \n",
      "4    [0, 1, 0, 0, 0, 0, 0, 0, 0, 0, 0, 1, 0, 0, 0, ...   \n",
      "..                                                 ...   \n",
      "136  [0, 1, 0, 0, 0, 0, 0, 0, 0, 0, 0, 0, 0, 0, 0, ...   \n",
      "137  [0, 1, 0, 0, 0, 0, 0, 0, 0, 0, 0, 0, 0, 0, 0, ...   \n",
      "138  [0, 1, 0, 1, 0, 0, 0, 0, 0, 0, 0, 0, 0, 0, 0, ...   \n",
      "139  [0, 1, 0, 0, 0, 0, 0, 0, 0, 0, 0, 0, 0, 0, 0, ...   \n",
      "140  [0, 1, 0, 0, 0, 0, 0, 0, 0, 0, 0, 0, 0, 0, 0, ...   \n",
      "\n",
      "                                               mpnn_fp data_source  \\\n",
      "0    [-0.0008295135, -0.34611675, -0.09820985, -0.0...       amine   \n",
      "1    [-0.0007841759, -0.37414876, -0.12111845, -0.0...       amine   \n",
      "2    [-0.0021162154, -0.27783045, -0.1629498, -0.05...       amine   \n",
      "3    [-0.0005328444, -0.3585375, -0.10319623, -0.03...       amine   \n",
      "4    [-0.0027110144, -0.1772271, -0.20593485, -0.04...       amine   \n",
      "..                                                 ...         ...   \n",
      "136  [-0.00073686073, -0.31403098, -0.10510856, -0....       amine   \n",
      "137  [-0.0004855643, -0.3108455, -0.071775936, -0.0...       amine   \n",
      "138  [-0.0006717742, -0.28179243, -0.15522704, -0.0...       amine   \n",
      "139  [-0.0033325173, -0.2659708, -0.1405701, -0.056...       amine   \n",
      "140  [-0.0022112702, -0.2586965, -0.19210356, -0.04...       amine   \n",
      "\n",
      "    Molecule Name Structure  CDD Number  \\\n",
      "0             NaN       NaN         NaN   \n",
      "1             NaN       NaN         NaN   \n",
      "2             NaN       NaN         NaN   \n",
      "3             NaN       NaN         NaN   \n",
      "4             NaN       NaN         NaN   \n",
      "..            ...       ...         ...   \n",
      "136           NaN       NaN         NaN   \n",
      "137           NaN       NaN         NaN   \n",
      "138           NaN       NaN         NaN   \n",
      "139           NaN       NaN         NaN   \n",
      "140           NaN       NaN         NaN   \n",
      "\n",
      "     ProteaseAssay_Fluorescence_Dose-Response_Weizmann: Avg IC50 (uM) Standard Deviation (±)  \\\n",
      "0                                                  NaN                                         \n",
      "1                                                  NaN                                         \n",
      "2                                                  NaN                                         \n",
      "3                                                  NaN                                         \n",
      "4                                                  NaN                                         \n",
      "..                                                 ...                                         \n",
      "136                                                NaN                                         \n",
      "137                                                NaN                                         \n",
      "138                                                NaN                                         \n",
      "139                                                NaN                                         \n",
      "140                                                NaN                                         \n",
      "\n",
      "     ProteaseAssay_Fluorescence_Dose-Response_Weizmann: Avg IC50 (uM) Count  \\\n",
      "0                                                  NaN                        \n",
      "1                                                  NaN                        \n",
      "2                                                  NaN                        \n",
      "3                                                  NaN                        \n",
      "4                                                  NaN                        \n",
      "..                                                 ...                        \n",
      "136                                                NaN                        \n",
      "137                                                NaN                        \n",
      "138                                                NaN                        \n",
      "139                                                NaN                        \n",
      "140                                                NaN                        \n",
      "\n",
      "    ProteaseAssay_Fluorescence_Dose-Response_Weizmann: Dose-response Plot  \\\n",
      "0                                                  NaN                      \n",
      "1                                                  NaN                      \n",
      "2                                                  NaN                      \n",
      "3                                                  NaN                      \n",
      "4                                                  NaN                      \n",
      "..                                                 ...                      \n",
      "136                                                NaN                      \n",
      "137                                                NaN                      \n",
      "138                                                NaN                      \n",
      "139                                                NaN                      \n",
      "140                                                NaN                      \n",
      "\n",
      "      score_0  \n",
      "0    4.468349  \n",
      "1    5.207375  \n",
      "2    4.891655  \n",
      "3    4.815559  \n",
      "4    5.240783  \n",
      "..        ...  \n",
      "136  5.131922  \n",
      "137  5.190924  \n",
      "138  4.693341  \n",
      "139  4.399350  \n",
      "140  5.954598  \n",
      "\n",
      "[141 rows x 16 columns]\n",
      "Fitting 5 folds for each of 1 candidates, totalling 5 fits\n",
      "{'n_estimators': 1228, 'min_samples_split': 8, 'min_samples_leaf': 2, 'max_features': 'auto', 'max_depth': 7, 'bootstrap': False}\n",
      "     index                                             SMILES     IC50  \\\n",
      "132      0  O=C(NCCc1cccc(F)c1)C(c1cccnc1)N(C(=O)c1cocn1)c...  100.000   \n",
      "133      1  CC(C)(O)c1cccc(N(C(=O)c2cocn2)C(C(=O)NCCc2cccc...  100.000   \n",
      "134      2  CC(C)(c1ccc(N(C(=O)c2cocn2)C(C(=O)NCCc2cccc(F)...   67.800   \n",
      "135      3  O=C(NCCc1cccc(F)c1)C(c1cccnc1)N(C(=O)c1cocn1)c...   45.100   \n",
      "136      4  O=C1CCC(c2ccc(N(C(=O)c3cocn3)C(C(=O)NCCc3cccc(...  100.000   \n",
      "..     ...                                                ...      ...   \n",
      "268    136  O=C(NCCc1cccc(F)c1)C(c1cccnc1)N(Cc1cccnc1)C(=O...  100.000   \n",
      "269    137  O=C(NCCc1cccc(F)c1)C(c1cccnc1)N(Cc1ccccc1)C(=O...  100.000   \n",
      "270    138  CC(C)(C)c1ccc(N(C(=O)c2cn3ccccc3n2)C(C(=O)NCCc...   18.200   \n",
      "271    139  Cn1cncc1C(=O)N(c1ccc(C(C)(C)C)cc1)C(C(=O)NCCc1...  100.000   \n",
      "272    140  CC(C)(C)c1ccc(N(C(=O)c2c[nH]cn2)C(C(=O)NCCc2cc...    0.292   \n",
      "\n",
      "        pIC50                                               mol Error  \\\n",
      "132  4.000000  <rdkit.Chem.rdchem.Mol object at 0x150249ee24c0>         \n",
      "133  4.000000  <rdkit.Chem.rdchem.Mol object at 0x150249ee2ee0>         \n",
      "134  4.168770  <rdkit.Chem.rdchem.Mol object at 0x150249ee2580>         \n",
      "135  4.345823  <rdkit.Chem.rdchem.Mol object at 0x150249ee2f40>         \n",
      "136  4.000000  <rdkit.Chem.rdchem.Mol object at 0x150249ee2ca0>         \n",
      "..        ...                                               ...   ...   \n",
      "268  4.000000  <rdkit.Chem.rdchem.Mol object at 0x150249c39220>         \n",
      "269  4.000000  <rdkit.Chem.rdchem.Mol object at 0x150249c393a0>         \n",
      "270  4.739929  <rdkit.Chem.rdchem.Mol object at 0x150249c39520>         \n",
      "271  4.000000  <rdkit.Chem.rdchem.Mol object at 0x150249c39160>         \n",
      "272  6.534617  <rdkit.Chem.rdchem.Mol object at 0x150249c39280>         \n",
      "\n",
      "                                             morgan_fp  \\\n",
      "132  [0, 1, 0, 0, 0, 0, 0, 0, 0, 0, 0, 1, 0, 0, 0, ...   \n",
      "133  [0, 1, 0, 0, 0, 0, 0, 0, 0, 0, 0, 1, 0, 0, 0, ...   \n",
      "134  [0, 1, 0, 0, 0, 0, 0, 0, 0, 0, 0, 1, 0, 0, 0, ...   \n",
      "135  [0, 1, 0, 0, 0, 0, 0, 0, 0, 0, 0, 1, 0, 0, 0, ...   \n",
      "136  [0, 1, 0, 0, 0, 0, 0, 0, 0, 0, 0, 1, 0, 0, 0, ...   \n",
      "..                                                 ...   \n",
      "268  [0, 1, 0, 0, 0, 0, 0, 0, 0, 0, 0, 0, 0, 0, 0, ...   \n",
      "269  [0, 1, 0, 0, 0, 0, 0, 0, 0, 0, 0, 0, 0, 0, 0, ...   \n",
      "270  [0, 1, 0, 1, 0, 0, 0, 0, 0, 0, 0, 0, 0, 0, 0, ...   \n",
      "271  [0, 1, 0, 0, 0, 0, 0, 0, 0, 0, 0, 0, 0, 0, 0, ...   \n",
      "272  [0, 1, 0, 0, 0, 0, 0, 0, 0, 0, 0, 0, 0, 0, 0, ...   \n",
      "\n",
      "                                               mpnn_fp data_source  \\\n",
      "132  [-0.0008295135, -0.34611675, -0.09820985, -0.0...       amine   \n",
      "133  [-0.0007841759, -0.37414876, -0.12111845, -0.0...       amine   \n",
      "134  [-0.0021162154, -0.27783045, -0.1629498, -0.05...       amine   \n",
      "135  [-0.0005328444, -0.3585375, -0.10319623, -0.03...       amine   \n",
      "136  [-0.0027110144, -0.1772271, -0.20593485, -0.04...       amine   \n",
      "..                                                 ...         ...   \n",
      "268  [-0.00073686073, -0.31403098, -0.10510856, -0....       amine   \n",
      "269  [-0.0004855643, -0.3108455, -0.071775936, -0.0...       amine   \n",
      "270  [-0.0006717742, -0.28179243, -0.15522704, -0.0...       amine   \n",
      "271  [-0.0033325173, -0.2659708, -0.1405701, -0.056...       amine   \n",
      "272  [-0.0022112702, -0.2586965, -0.19210356, -0.04...       amine   \n",
      "\n",
      "    Molecule Name Structure  CDD Number  \\\n",
      "132           NaN       NaN         NaN   \n",
      "133           NaN       NaN         NaN   \n",
      "134           NaN       NaN         NaN   \n",
      "135           NaN       NaN         NaN   \n",
      "136           NaN       NaN         NaN   \n",
      "..            ...       ...         ...   \n",
      "268           NaN       NaN         NaN   \n",
      "269           NaN       NaN         NaN   \n",
      "270           NaN       NaN         NaN   \n",
      "271           NaN       NaN         NaN   \n",
      "272           NaN       NaN         NaN   \n",
      "\n",
      "     ProteaseAssay_Fluorescence_Dose-Response_Weizmann: Avg IC50 (uM) Standard Deviation (±)  \\\n",
      "132                                                NaN                                         \n",
      "133                                                NaN                                         \n",
      "134                                                NaN                                         \n",
      "135                                                NaN                                         \n",
      "136                                                NaN                                         \n",
      "..                                                 ...                                         \n",
      "268                                                NaN                                         \n",
      "269                                                NaN                                         \n",
      "270                                                NaN                                         \n",
      "271                                                NaN                                         \n",
      "272                                                NaN                                         \n",
      "\n",
      "     ProteaseAssay_Fluorescence_Dose-Response_Weizmann: Avg IC50 (uM) Count  \\\n",
      "132                                                NaN                        \n",
      "133                                                NaN                        \n",
      "134                                                NaN                        \n",
      "135                                                NaN                        \n",
      "136                                                NaN                        \n",
      "..                                                 ...                        \n",
      "268                                                NaN                        \n",
      "269                                                NaN                        \n",
      "270                                                NaN                        \n",
      "271                                                NaN                        \n",
      "272                                                NaN                        \n",
      "\n",
      "    ProteaseAssay_Fluorescence_Dose-Response_Weizmann: Dose-response Plot  \\\n",
      "132                                                NaN                      \n",
      "133                                                NaN                      \n",
      "134                                                NaN                      \n",
      "135                                                NaN                      \n",
      "136                                                NaN                      \n",
      "..                                                 ...                      \n",
      "268                                                NaN                      \n",
      "269                                                NaN                      \n",
      "270                                                NaN                      \n",
      "271                                                NaN                      \n",
      "272                                                NaN                      \n",
      "\n",
      "      score_0  \n",
      "132  5.199504  \n",
      "133  5.199504  \n",
      "134  5.199504  \n",
      "135  4.000000  \n",
      "136  4.000000  \n",
      "..        ...  \n",
      "268  5.900254  \n",
      "269  5.900254  \n",
      "270  4.308594  \n",
      "271  4.308594  \n",
      "272  5.900254  \n",
      "\n",
      "[141 rows x 16 columns]\n",
      "Fitting 5 folds for each of 1 candidates, totalling 5 fits\n",
      "{'n_estimators': 457, 'min_samples_split': 4, 'min_samples_leaf': 1, 'max_features': 'auto', 'max_depth': 3, 'bootstrap': False}\n",
      "    index                                             SMILES     IC50  \\\n",
      "0       0  CC(C)(C)c1ccc(N(C(=O)c2ccco2)C(C(=O)N2CCOCC2)c...   41.000   \n",
      "1       1  CC(C)(C)c1ccc(N(C(=O)c2ccco2)C(C(=O)NCc2ccccc2...    4.360   \n",
      "2       2  CC(C)(C)c1ccc(N(C(=O)c2ccco2)C(C(=O)Nc2ccccc2)...   11.200   \n",
      "3       3  CC(C)(C)c1ccc(N(C(=O)c2ccco2)C(C(=O)NCCN2CCOCC...    2.190   \n",
      "4       4  CN(C)C(=O)CNC(=O)C(c1cccnc1)N(C(=O)c1ccco1)c1c...   10.900   \n",
      "5       5  CC(C)(C)c1ccc(N(C(=O)c2cocn2)C(C(=O)N2CCC(c3cc...    9.460   \n",
      "6       6  CC(C)(C)c1ccc(N(C(=O)c2cocn2)C(C(=O)NCCc2c[nH]...   14.500   \n",
      "7       7  CC(C)(C)c1ccc(N(C(=O)c2cocn2)C(C(=O)NCCc2nn[nH...  100.000   \n",
      "8       8  CN(CCO)c1ccc(C(C(=O)NCCc2cccc(F)c2)N(C(=O)c2co...  100.000   \n",
      "9       9  CCOC(=O)CCCNC(=O)C(c1cccnc1)N(C(=O)c1cocn1)c1c...    6.240   \n",
      "10     10  CC(C)(C)c1ccc(N(C(=O)c2cocn2)C(C(=O)NCCN2CCOCC...   82.500   \n",
      "11     11  CSCCCNC(=O)C(c1cccnc1)N(C(=O)c1cocn1)c1ccc(C(C...    3.850   \n",
      "12     12  CC(C)(C)c1ccc(N(C(=O)c2cocn2)C(C(=O)NCC(=O)OCc...    9.920   \n",
      "13     13  CC(C)(C)OC(=O)N1CC(NC(=O)C(c2cccnc2)N(C(=O)c2c...    6.910   \n",
      "14     14  Cc1ccc(S(=O)(=O)CNC(=O)C(c2cccnc2)N(C(=O)c2coc...   62.900   \n",
      "15     15  COc1ccc(NC(=O)C(c2cccnc2)N(C(=O)c2cocn2)c2ccc(...    5.370   \n",
      "16     16  COC(=O)C1C[C@H](NC(=O)C(c2cccnc2)N(C(=O)c2cocn...    2.660   \n",
      "17     17  CC(C)(C)c1ccc(N(C(=O)c2cocn2)C(C(=O)NC2CC(F)(F...    2.350   \n",
      "18     18  CC(C)(C)OC(=O)CNC(=O)C(c1cccnc1)N(C(=O)c1cocn1...    8.180   \n",
      "19     19  COC(=O)C1C[C@@H](NC(=O)C(c2cccnc2)N(C(=O)c2coc...    5.320   \n",
      "20     20  COC(=O)C1(NC(=O)C(c2cccnc2)N(C(=O)c2cocn2)c2cc...    5.260   \n",
      "21     21  CC(C)(C)c1ccc(N(C(=O)c2cocn2)C(C(=O)NC2COC2)c2...    4.070   \n",
      "22     22  COC(=O)CNC(=O)C(c1cccnc1)N(C(=O)c1cocn1)c1ccc(...   10.800   \n",
      "23     23  CCOC(=O)CNC(=O)C(c1cccnc1)N(C(=O)c1cocn1)c1ccc...    9.530   \n",
      "24     24  COCCNC(=O)C(c1cccnc1)N(C(=O)c1cocn1)c1ccc(C(C)...    8.460   \n",
      "25     25  CC(C)(C)c1ccc(N(C(=O)c2cocn2)C(C(=O)NC2CCOC2)c...    2.770   \n",
      "26     26  COC(CNC(=O)C(c1cccnc1)N(C(=O)c1cocn1)c1ccc(C(C...    7.910   \n",
      "27     27  CC(C)(C)c1ccc(N(C(=O)c2cocn2)C(C(=O)NCC2CCCO2)...    5.150   \n",
      "28     28  CC(C)(C)c1ccc(N(C(=O)c2cocn2)C(C(=O)NCC2CCOC2)...    5.420   \n",
      "29     29  CC(C)(C)OC(=O)N1CCC(NC(=O)C(c2cccnc2)N(C(=O)c2...    3.650   \n",
      "30     30  COC(=O)C1C[C@H](NC(=O)C(c2cccnc2)N(C(=O)c2cocn...    0.837   \n",
      "31     31  COC(=O)C1C[C@@H](NC(=O)C(c2cccnc2)N(C(=O)c2coc...    6.820   \n",
      "32     32  CC(C)(C)c1ccc(N(C(=O)c2cocn2)C(C(=O)NCC(=O)Nc2...   14.400   \n",
      "33     33  CC(C)(C)OC(=O)NCCNC(=O)C(c1cccnc1)N(C(=O)c1coc...    6.260   \n",
      "34     34  CCOC(=O)CCNC(=O)C(c1cccnc1)N(C(=O)c1cocn1)c1cc...    2.800   \n",
      "35     35  CSCCNC(=O)C(c1cccnc1)N(C(=O)c1cocn1)c1ccc(C(C)...    2.450   \n",
      "36     36  COC(=O)C1CC(NC(=O)C(c2cccnc2)N(C(=O)c2cocn2)c2...    3.990   \n",
      "37     37  CC(C)(C)OC(=O)NCCCNC(=O)C(c1cccnc1)N(C(=O)c1co...    3.390   \n",
      "38     38  CN(C)C(=O)CNC(=O)C(c1cccnc1)N(C(=O)c1cocn1)c1c...   29.200   \n",
      "39     39  CC(C)(C)c1ccc(N(C(=O)c2cocn2)C(C(=O)NC2CCOCC2)...    3.900   \n",
      "40     40  CC(C)(C)c1ccc(N(C(=O)c2cocn2)C(C(=O)NCc2ccncc2...  100.000   \n",
      "41     41  COC(=O)C1CC[C@H](NC(=O)C(c2cccnc2)N(C(=O)c2coc...    2.380   \n",
      "42     42  COC(=O)C(C)NC(=O)C(c1cccnc1)N(C(=O)c1cocn1)c1c...    7.180   \n",
      "43     43  CC(C)(C)c1ccc(N(C(=O)c2cocn2)C(C(=O)NCc2cccnc2...   25.300   \n",
      "44     44  COCCCNC(=O)C(c1cccnc1)N(C(=O)c1cocn1)c1ccc(C(C...    8.790   \n",
      "45     45  CC(C)(C)c1ccc(N(C(=O)c2cocn2)C(C(=O)NCCc2cccc(...    0.557   \n",
      "\n",
      "       pIC50                                               mol Error  \\\n",
      "0   4.387216  <rdkit.Chem.rdchem.Mol object at 0x15024b797a00>         \n",
      "1   5.360514  <rdkit.Chem.rdchem.Mol object at 0x15024b797940>         \n",
      "2   4.950782  <rdkit.Chem.rdchem.Mol object at 0x15024b797d00>         \n",
      "3   5.659556  <rdkit.Chem.rdchem.Mol object at 0x15024b797ca0>         \n",
      "4   4.962574  <rdkit.Chem.rdchem.Mol object at 0x15024b797760>         \n",
      "5   5.024109  <rdkit.Chem.rdchem.Mol object at 0x15024b797820>         \n",
      "6   4.838632  <rdkit.Chem.rdchem.Mol object at 0x15024b797b20>         \n",
      "7   4.000000  <rdkit.Chem.rdchem.Mol object at 0x15024b797880>         \n",
      "8   4.000000  <rdkit.Chem.rdchem.Mol object at 0x15024b797be0>         \n",
      "9   5.204815  <rdkit.Chem.rdchem.Mol object at 0x15024b797a60>         \n",
      "10  4.083546  <rdkit.Chem.rdchem.Mol object at 0x15024b7979a0>         \n",
      "11  5.414539  <rdkit.Chem.rdchem.Mol object at 0x15024b797d60>         \n",
      "12  5.003488  <rdkit.Chem.rdchem.Mol object at 0x15024b797dc0>         \n",
      "13  5.160522  <rdkit.Chem.rdchem.Mol object at 0x15024b797e20>         \n",
      "14  4.201349  <rdkit.Chem.rdchem.Mol object at 0x15024b797e80>         \n",
      "15  5.270026  <rdkit.Chem.rdchem.Mol object at 0x15024b797ee0>         \n",
      "16  5.575118  <rdkit.Chem.rdchem.Mol object at 0x15024b797f40>         \n",
      "17  5.628932  <rdkit.Chem.rdchem.Mol object at 0x15024b797fa0>         \n",
      "18  5.087247  <rdkit.Chem.rdchem.Mol object at 0x15024b78d040>         \n",
      "19  5.274088  <rdkit.Chem.rdchem.Mol object at 0x15024b78d0a0>         \n",
      "20  5.279014  <rdkit.Chem.rdchem.Mol object at 0x15024b78d100>         \n",
      "21  5.390406  <rdkit.Chem.rdchem.Mol object at 0x15024b78d160>         \n",
      "22  4.966576  <rdkit.Chem.rdchem.Mol object at 0x15024b78d1c0>         \n",
      "23  5.020907  <rdkit.Chem.rdchem.Mol object at 0x15024b78d220>         \n",
      "24  5.072630  <rdkit.Chem.rdchem.Mol object at 0x15024b78d280>         \n",
      "25  5.557520  <rdkit.Chem.rdchem.Mol object at 0x15024b78d2e0>         \n",
      "26  5.101824  <rdkit.Chem.rdchem.Mol object at 0x15024b78d340>         \n",
      "27  5.288193  <rdkit.Chem.rdchem.Mol object at 0x15024b78d3a0>         \n",
      "28  5.266001  <rdkit.Chem.rdchem.Mol object at 0x15024b78d400>         \n",
      "29  5.437707  <rdkit.Chem.rdchem.Mol object at 0x15024b78d460>         \n",
      "30  6.077275  <rdkit.Chem.rdchem.Mol object at 0x15024b78d4c0>         \n",
      "31  5.166216  <rdkit.Chem.rdchem.Mol object at 0x15024b78d520>         \n",
      "32  4.841638  <rdkit.Chem.rdchem.Mol object at 0x15024b78d580>         \n",
      "33  5.203426  <rdkit.Chem.rdchem.Mol object at 0x15024b78d5e0>         \n",
      "34  5.552842  <rdkit.Chem.rdchem.Mol object at 0x15024b78d640>         \n",
      "35  5.610834  <rdkit.Chem.rdchem.Mol object at 0x15024b78d6a0>         \n",
      "36  5.399027  <rdkit.Chem.rdchem.Mol object at 0x15024b78d700>         \n",
      "37  5.469800  <rdkit.Chem.rdchem.Mol object at 0x15024b78d760>         \n",
      "38  4.534617  <rdkit.Chem.rdchem.Mol object at 0x15024b78d7c0>         \n",
      "39  5.408935  <rdkit.Chem.rdchem.Mol object at 0x15024b78d820>         \n",
      "40  4.000000  <rdkit.Chem.rdchem.Mol object at 0x15024b78d880>         \n",
      "41  5.623423  <rdkit.Chem.rdchem.Mol object at 0x15024b78d8e0>         \n",
      "42  5.143876  <rdkit.Chem.rdchem.Mol object at 0x15024b78d940>         \n",
      "43  4.596879  <rdkit.Chem.rdchem.Mol object at 0x15024b78d9a0>         \n",
      "44  5.056011  <rdkit.Chem.rdchem.Mol object at 0x15024b78da00>         \n",
      "45  6.254145  <rdkit.Chem.rdchem.Mol object at 0x15024b78da60>         \n",
      "\n",
      "                                            morgan_fp  \\\n",
      "0   [0, 1, 0, 0, 0, 0, 0, 0, 0, 0, 0, 1, 0, 0, 0, ...   \n",
      "1   [0, 1, 0, 0, 0, 0, 0, 0, 0, 0, 0, 0, 0, 0, 0, ...   \n",
      "2   [0, 1, 0, 0, 0, 0, 0, 0, 0, 0, 0, 0, 0, 0, 0, ...   \n",
      "3   [0, 1, 0, 0, 0, 0, 0, 0, 0, 0, 0, 0, 0, 0, 0, ...   \n",
      "4   [0, 1, 0, 0, 0, 0, 0, 0, 0, 0, 0, 0, 0, 0, 0, ...   \n",
      "5   [0, 1, 0, 0, 0, 0, 0, 0, 0, 0, 0, 1, 0, 0, 0, ...   \n",
      "6   [0, 1, 0, 0, 0, 0, 0, 0, 0, 0, 0, 1, 0, 0, 0, ...   \n",
      "7   [0, 1, 0, 0, 0, 0, 0, 0, 0, 0, 0, 1, 0, 0, 0, ...   \n",
      "8   [0, 1, 0, 0, 0, 0, 0, 1, 0, 0, 0, 1, 0, 0, 0, ...   \n",
      "9   [0, 1, 0, 0, 0, 0, 0, 0, 0, 0, 0, 1, 0, 0, 0, ...   \n",
      "10  [0, 1, 0, 0, 0, 0, 0, 0, 0, 0, 0, 1, 0, 0, 0, ...   \n",
      "11  [0, 1, 0, 0, 0, 0, 0, 0, 0, 0, 0, 1, 0, 0, 0, ...   \n",
      "12  [0, 1, 0, 0, 0, 0, 0, 0, 0, 0, 0, 1, 0, 0, 0, ...   \n",
      "13  [0, 1, 0, 0, 0, 0, 0, 0, 0, 0, 0, 1, 0, 0, 0, ...   \n",
      "14  [0, 1, 0, 0, 0, 0, 0, 0, 0, 0, 0, 1, 0, 0, 0, ...   \n",
      "15  [0, 1, 0, 0, 0, 0, 0, 0, 0, 0, 0, 1, 0, 0, 0, ...   \n",
      "16  [0, 1, 0, 0, 0, 0, 0, 0, 0, 0, 0, 1, 0, 0, 0, ...   \n",
      "17  [0, 1, 0, 0, 0, 0, 0, 0, 0, 0, 0, 1, 0, 0, 0, ...   \n",
      "18  [0, 1, 0, 0, 0, 0, 0, 0, 0, 0, 0, 1, 0, 0, 0, ...   \n",
      "19  [0, 1, 0, 0, 0, 0, 0, 0, 0, 0, 0, 1, 0, 0, 0, ...   \n",
      "20  [0, 1, 0, 0, 0, 0, 0, 0, 0, 0, 0, 1, 0, 0, 0, ...   \n",
      "21  [0, 1, 0, 0, 0, 0, 0, 0, 0, 0, 0, 1, 0, 0, 0, ...   \n",
      "22  [0, 1, 0, 0, 0, 0, 0, 0, 0, 0, 0, 1, 0, 0, 0, ...   \n",
      "23  [0, 1, 0, 0, 0, 0, 0, 0, 0, 0, 0, 1, 0, 0, 0, ...   \n",
      "24  [0, 1, 0, 0, 0, 0, 0, 0, 0, 0, 0, 1, 0, 1, 0, ...   \n",
      "25  [0, 1, 0, 0, 0, 0, 0, 0, 0, 0, 0, 1, 0, 0, 0, ...   \n",
      "26  [0, 1, 0, 0, 0, 0, 0, 0, 0, 0, 0, 1, 0, 0, 0, ...   \n",
      "27  [0, 1, 0, 0, 0, 0, 0, 0, 0, 0, 0, 1, 0, 0, 0, ...   \n",
      "28  [0, 1, 0, 0, 0, 0, 0, 0, 0, 0, 0, 1, 0, 0, 0, ...   \n",
      "29  [0, 1, 0, 0, 0, 0, 0, 0, 0, 0, 0, 1, 0, 0, 0, ...   \n",
      "30  [0, 1, 0, 0, 0, 0, 0, 0, 0, 0, 0, 1, 0, 0, 0, ...   \n",
      "31  [0, 1, 0, 0, 0, 0, 0, 0, 0, 0, 0, 1, 0, 0, 0, ...   \n",
      "32  [0, 1, 0, 0, 0, 0, 0, 0, 0, 0, 0, 1, 0, 0, 0, ...   \n",
      "33  [0, 1, 0, 0, 0, 0, 0, 0, 0, 0, 0, 1, 0, 0, 0, ...   \n",
      "34  [0, 1, 0, 0, 0, 0, 0, 0, 0, 0, 0, 1, 0, 0, 0, ...   \n",
      "35  [0, 1, 0, 0, 0, 0, 0, 0, 0, 0, 0, 1, 0, 0, 0, ...   \n",
      "36  [0, 1, 0, 0, 0, 0, 0, 0, 0, 0, 0, 1, 0, 0, 0, ...   \n",
      "37  [0, 1, 0, 0, 0, 0, 0, 0, 0, 0, 0, 1, 0, 0, 0, ...   \n",
      "38  [0, 1, 0, 0, 0, 0, 0, 0, 0, 0, 0, 1, 0, 0, 0, ...   \n",
      "39  [0, 1, 0, 0, 0, 0, 0, 0, 0, 0, 0, 1, 0, 0, 0, ...   \n",
      "40  [0, 1, 0, 0, 0, 0, 0, 0, 0, 0, 0, 1, 0, 0, 0, ...   \n",
      "41  [0, 1, 0, 0, 0, 0, 0, 0, 0, 1, 0, 1, 0, 0, 0, ...   \n",
      "42  [0, 1, 0, 0, 0, 0, 0, 0, 0, 0, 0, 1, 0, 0, 0, ...   \n",
      "43  [0, 1, 0, 0, 0, 0, 0, 0, 0, 0, 0, 1, 0, 0, 0, ...   \n",
      "44  [0, 1, 0, 0, 0, 0, 0, 0, 0, 0, 0, 1, 0, 1, 0, ...   \n",
      "45  [0, 1, 0, 0, 0, 0, 0, 0, 0, 0, 0, 1, 0, 0, 0, ...   \n",
      "\n",
      "                                              mpnn_fp data_source  \\\n",
      "0   [-0.00042130915, -0.30461594, -0.21607056, -0....  isocyanide   \n",
      "1   [-0.0032994575, -0.15649237, -0.22490443, -0.0...  isocyanide   \n",
      "2   [-0.0013909386, -0.15416004, -0.22459592, -0.0...  isocyanide   \n",
      "3   [-0.0022904424, -0.30109206, -0.19670315, -0.0...  isocyanide   \n",
      "4   [-0.0013440354, -0.22306904, -0.15454437, -0.0...  isocyanide   \n",
      "5   [-0.00014878096, -0.3757873, -0.075146236, -0....  isocyanide   \n",
      "6   [-0.00020944276, -0.36674014, -0.09724912, -0....  isocyanide   \n",
      "7   [-0.00015819207, -0.38409582, -0.011965015, -0...  isocyanide   \n",
      "8   [-0.0018673859, -0.31103316, -0.07899085, -0.0...  isocyanide   \n",
      "9   [-0.0023734837, -0.2862725, -0.12709934, -0.05...  isocyanide   \n",
      "10  [-0.0007272286, -0.3720944, -0.17617741, -0.04...  isocyanide   \n",
      "11  [-0.00054983626, -0.3447031, -0.11705066, -0.0...  isocyanide   \n",
      "12  [-0.008675664, -0.16456172, -0.1423282, -0.059...  isocyanide   \n",
      "13  [-0.000494063, -0.30753887, -0.10421572, -0.03...  isocyanide   \n",
      "14  [-0.00027782036, -0.34948003, -0.08799807, -0....  isocyanide   \n",
      "15  [-0.0001440691, -0.26737338, -0.07295139, -0.0...  isocyanide   \n",
      "16  [-0.00095358223, -0.31566644, -0.10177631, -0....  isocyanide   \n",
      "17  [-0.00026815725, -0.27798942, -0.07446951, -0....  isocyanide   \n",
      "18  [-0.002238879, -0.24958915, -0.14061831, -0.04...  isocyanide   \n",
      "19  [-0.00095358223, -0.31566644, -0.10177631, -0....  isocyanide   \n",
      "20  [-0.0005450011, -0.27518564, -0.21603517, -0.0...  isocyanide   \n",
      "21  [-0.00018836714, -0.25357354, -0.045244914, -0...  isocyanide   \n",
      "22  [-0.0008316513, -0.26554504, -0.12169342, -0.0...  isocyanide   \n",
      "23  [-0.0022644133, -0.26084608, -0.114815325, -0....  isocyanide   \n",
      "24  [-0.00039452573, -0.3307181, -0.0902759, -0.03...  isocyanide   \n",
      "25  [-0.00020671402, -0.28160325, -0.032794695, -0...  isocyanide   \n",
      "26  [-0.0011068627, -0.2683178, -0.13026427, -0.04...  isocyanide   \n",
      "27  [-0.00047946343, -0.28792322, -0.07534828, -0....  isocyanide   \n",
      "28  [-0.0004028275, -0.29233834, -0.05850946, -0.0...  isocyanide   \n",
      "29  [-0.00080215366, -0.31317252, -0.12593725, -0....  isocyanide   \n",
      "30  [-0.00095358223, -0.31566644, -0.10177631, -0....  isocyanide   \n",
      "31  [-0.00095358223, -0.31566644, -0.10177631, -0....  isocyanide   \n",
      "32  [-0.0016449433, -0.26443675, -0.119805925, -0....  isocyanide   \n",
      "33  [-0.0017896908, -0.33970624, -0.096506916, -0....  isocyanide   \n",
      "34  [-0.001497767, -0.33591917, -0.14458165, -0.05...  isocyanide   \n",
      "35  [-0.00041875264, -0.30628267, -0.08362093, -0....  isocyanide   \n",
      "36  [-0.00052771746, -0.26418382, -0.11223587, -0....  isocyanide   \n",
      "37  [-0.0017551486, -0.31808352, -0.08643392, -0.0...  isocyanide   \n",
      "38  [-0.0004765439, -0.27701142, -0.08892857, -0.0...  isocyanide   \n",
      "39  [-0.00023051086, -0.28122714, -0.050173096, -0...  isocyanide   \n",
      "40  [-0.0007496681, -0.20500906, -0.16536823, -0.0...  isocyanide   \n",
      "41  [-0.0005693081, -0.26481044, -0.111122094, -0....  isocyanide   \n",
      "42  [-0.00018203934, -0.29121968, -0.023655316, -0...  isocyanide   \n",
      "43  [-0.0011216822, -0.1950868, -0.17982478, -0.03...  isocyanide   \n",
      "44  [-0.00054264115, -0.34100276, -0.10840345, -0....  isocyanide   \n",
      "45  [-0.0010288275, -0.32370952, -0.18691038, -0.0...  isocyanide   \n",
      "\n",
      "   Molecule Name Structure  CDD Number  \\\n",
      "0            NaN       NaN         NaN   \n",
      "1            NaN       NaN         NaN   \n",
      "2            NaN       NaN         NaN   \n",
      "3            NaN       NaN         NaN   \n",
      "4            NaN       NaN         NaN   \n",
      "5            NaN       NaN         NaN   \n",
      "6            NaN       NaN         NaN   \n",
      "7            NaN       NaN         NaN   \n",
      "8            NaN       NaN         NaN   \n",
      "9            NaN       NaN         NaN   \n",
      "10           NaN       NaN         NaN   \n",
      "11           NaN       NaN         NaN   \n",
      "12           NaN       NaN         NaN   \n",
      "13           NaN       NaN         NaN   \n",
      "14           NaN       NaN         NaN   \n",
      "15           NaN       NaN         NaN   \n",
      "16           NaN       NaN         NaN   \n",
      "17           NaN       NaN         NaN   \n",
      "18           NaN       NaN         NaN   \n",
      "19           NaN       NaN         NaN   \n",
      "20           NaN       NaN         NaN   \n",
      "21           NaN       NaN         NaN   \n",
      "22           NaN       NaN         NaN   \n",
      "23           NaN       NaN         NaN   \n",
      "24           NaN       NaN         NaN   \n",
      "25           NaN       NaN         NaN   \n",
      "26           NaN       NaN         NaN   \n",
      "27           NaN       NaN         NaN   \n",
      "28           NaN       NaN         NaN   \n",
      "29           NaN       NaN         NaN   \n",
      "30           NaN       NaN         NaN   \n",
      "31           NaN       NaN         NaN   \n",
      "32           NaN       NaN         NaN   \n",
      "33           NaN       NaN         NaN   \n",
      "34           NaN       NaN         NaN   \n",
      "35           NaN       NaN         NaN   \n",
      "36           NaN       NaN         NaN   \n",
      "37           NaN       NaN         NaN   \n",
      "38           NaN       NaN         NaN   \n",
      "39           NaN       NaN         NaN   \n",
      "40           NaN       NaN         NaN   \n",
      "41           NaN       NaN         NaN   \n",
      "42           NaN       NaN         NaN   \n",
      "43           NaN       NaN         NaN   \n",
      "44           NaN       NaN         NaN   \n",
      "45           NaN       NaN         NaN   \n",
      "\n",
      "    ProteaseAssay_Fluorescence_Dose-Response_Weizmann: Avg IC50 (uM) Standard Deviation (±)  \\\n",
      "0                                                 NaN                                         \n",
      "1                                                 NaN                                         \n",
      "2                                                 NaN                                         \n",
      "3                                                 NaN                                         \n",
      "4                                                 NaN                                         \n",
      "5                                                 NaN                                         \n",
      "6                                                 NaN                                         \n",
      "7                                                 NaN                                         \n",
      "8                                                 NaN                                         \n",
      "9                                                 NaN                                         \n",
      "10                                                NaN                                         \n",
      "11                                                NaN                                         \n",
      "12                                                NaN                                         \n",
      "13                                                NaN                                         \n",
      "14                                                NaN                                         \n",
      "15                                                NaN                                         \n",
      "16                                                NaN                                         \n",
      "17                                                NaN                                         \n",
      "18                                                NaN                                         \n",
      "19                                                NaN                                         \n",
      "20                                                NaN                                         \n",
      "21                                                NaN                                         \n",
      "22                                                NaN                                         \n",
      "23                                                NaN                                         \n",
      "24                                                NaN                                         \n",
      "25                                                NaN                                         \n",
      "26                                                NaN                                         \n",
      "27                                                NaN                                         \n",
      "28                                                NaN                                         \n",
      "29                                                NaN                                         \n",
      "30                                                NaN                                         \n",
      "31                                                NaN                                         \n",
      "32                                                NaN                                         \n",
      "33                                                NaN                                         \n",
      "34                                                NaN                                         \n",
      "35                                                NaN                                         \n",
      "36                                                NaN                                         \n",
      "37                                                NaN                                         \n",
      "38                                                NaN                                         \n",
      "39                                                NaN                                         \n",
      "40                                                NaN                                         \n",
      "41                                                NaN                                         \n",
      "42                                                NaN                                         \n",
      "43                                                NaN                                         \n",
      "44                                                NaN                                         \n",
      "45                                                NaN                                         \n",
      "\n",
      "    ProteaseAssay_Fluorescence_Dose-Response_Weizmann: Avg IC50 (uM) Count  \\\n",
      "0                                                 NaN                        \n",
      "1                                                 NaN                        \n",
      "2                                                 NaN                        \n",
      "3                                                 NaN                        \n",
      "4                                                 NaN                        \n",
      "5                                                 NaN                        \n",
      "6                                                 NaN                        \n",
      "7                                                 NaN                        \n",
      "8                                                 NaN                        \n",
      "9                                                 NaN                        \n",
      "10                                                NaN                        \n",
      "11                                                NaN                        \n",
      "12                                                NaN                        \n",
      "13                                                NaN                        \n",
      "14                                                NaN                        \n",
      "15                                                NaN                        \n",
      "16                                                NaN                        \n",
      "17                                                NaN                        \n",
      "18                                                NaN                        \n",
      "19                                                NaN                        \n",
      "20                                                NaN                        \n",
      "21                                                NaN                        \n",
      "22                                                NaN                        \n",
      "23                                                NaN                        \n",
      "24                                                NaN                        \n",
      "25                                                NaN                        \n",
      "26                                                NaN                        \n",
      "27                                                NaN                        \n",
      "28                                                NaN                        \n",
      "29                                                NaN                        \n",
      "30                                                NaN                        \n",
      "31                                                NaN                        \n",
      "32                                                NaN                        \n",
      "33                                                NaN                        \n",
      "34                                                NaN                        \n",
      "35                                                NaN                        \n",
      "36                                                NaN                        \n",
      "37                                                NaN                        \n",
      "38                                                NaN                        \n",
      "39                                                NaN                        \n",
      "40                                                NaN                        \n",
      "41                                                NaN                        \n",
      "42                                                NaN                        \n",
      "43                                                NaN                        \n",
      "44                                                NaN                        \n",
      "45                                                NaN                        \n",
      "\n",
      "   ProteaseAssay_Fluorescence_Dose-Response_Weizmann: Dose-response Plot  \\\n",
      "0                                                 NaN                      \n",
      "1                                                 NaN                      \n",
      "2                                                 NaN                      \n",
      "3                                                 NaN                      \n",
      "4                                                 NaN                      \n",
      "5                                                 NaN                      \n",
      "6                                                 NaN                      \n",
      "7                                                 NaN                      \n",
      "8                                                 NaN                      \n",
      "9                                                 NaN                      \n",
      "10                                                NaN                      \n",
      "11                                                NaN                      \n",
      "12                                                NaN                      \n",
      "13                                                NaN                      \n",
      "14                                                NaN                      \n",
      "15                                                NaN                      \n",
      "16                                                NaN                      \n",
      "17                                                NaN                      \n",
      "18                                                NaN                      \n",
      "19                                                NaN                      \n",
      "20                                                NaN                      \n",
      "21                                                NaN                      \n",
      "22                                                NaN                      \n",
      "23                                                NaN                      \n",
      "24                                                NaN                      \n",
      "25                                                NaN                      \n",
      "26                                                NaN                      \n",
      "27                                                NaN                      \n",
      "28                                                NaN                      \n",
      "29                                                NaN                      \n",
      "30                                                NaN                      \n",
      "31                                                NaN                      \n",
      "32                                                NaN                      \n",
      "33                                                NaN                      \n",
      "34                                                NaN                      \n",
      "35                                                NaN                      \n",
      "36                                                NaN                      \n",
      "37                                                NaN                      \n",
      "38                                                NaN                      \n",
      "39                                                NaN                      \n",
      "40                                                NaN                      \n",
      "41                                                NaN                      \n",
      "42                                                NaN                      \n",
      "43                                                NaN                      \n",
      "44                                                NaN                      \n",
      "45                                                NaN                      \n",
      "\n",
      "     score_0  \n",
      "0   4.575214  \n",
      "1   6.117423  \n",
      "2   6.117423  \n",
      "3   6.117423  \n",
      "4   4.192656  \n",
      "5   4.192656  \n",
      "6   4.192656  \n",
      "7   4.192656  \n",
      "8   4.066605  \n",
      "9   4.862417  \n",
      "10  6.117423  \n",
      "11  4.192656  \n",
      "12  4.270224  \n",
      "13  4.066605  \n",
      "14  4.192656  \n",
      "15  4.192656  \n",
      "16  4.066605  \n",
      "17  4.192656  \n",
      "18  4.192656  \n",
      "19  4.066605  \n",
      "20  4.094368  \n",
      "21  4.192656  \n",
      "22  4.192656  \n",
      "23  4.192656  \n",
      "24  4.192656  \n",
      "25  4.192656  \n",
      "26  4.192656  \n",
      "27  4.862417  \n",
      "28  4.192656  \n",
      "29  4.270224  \n",
      "30  4.066605  \n",
      "31  4.066605  \n",
      "32  4.270224  \n",
      "33  4.270224  \n",
      "34  4.862417  \n",
      "35  4.192656  \n",
      "36  4.066605  \n",
      "37  4.270224  \n",
      "38  4.192656  \n",
      "39  4.192656  \n",
      "40  4.192656  \n",
      "41  4.066605  \n",
      "42  4.066605  \n",
      "43  6.117423  \n",
      "44  4.192656  \n",
      "45  6.117423  \n",
      "Fitting 5 folds for each of 1 candidates, totalling 5 fits\n",
      "{'n_estimators': 567, 'min_samples_split': 6, 'min_samples_leaf': 1, 'max_features': 'sqrt', 'max_depth': 4, 'bootstrap': True}\n",
      "     index                                             SMILES     IC50  \\\n",
      "273      0  CC(C)(C)c1ccc(N(C(=O)c2ccco2)C(C(=O)N2CCOCC2)c...   41.000   \n",
      "274      1  CC(C)(C)c1ccc(N(C(=O)c2ccco2)C(C(=O)NCc2ccccc2...    4.360   \n",
      "275      2  CC(C)(C)c1ccc(N(C(=O)c2ccco2)C(C(=O)Nc2ccccc2)...   11.200   \n",
      "276      3  CC(C)(C)c1ccc(N(C(=O)c2ccco2)C(C(=O)NCCN2CCOCC...    2.190   \n",
      "277      4  CN(C)C(=O)CNC(=O)C(c1cccnc1)N(C(=O)c1ccco1)c1c...   10.900   \n",
      "278      5  CC(C)(C)c1ccc(N(C(=O)c2cocn2)C(C(=O)N2CCC(c3cc...    9.460   \n",
      "279      6  CC(C)(C)c1ccc(N(C(=O)c2cocn2)C(C(=O)NCCc2c[nH]...   14.500   \n",
      "280      7  CC(C)(C)c1ccc(N(C(=O)c2cocn2)C(C(=O)NCCc2nn[nH...  100.000   \n",
      "281      8  CN(CCO)c1ccc(C(C(=O)NCCc2cccc(F)c2)N(C(=O)c2co...  100.000   \n",
      "282      9  CCOC(=O)CCCNC(=O)C(c1cccnc1)N(C(=O)c1cocn1)c1c...    6.240   \n",
      "283     10  CC(C)(C)c1ccc(N(C(=O)c2cocn2)C(C(=O)NCCN2CCOCC...   82.500   \n",
      "284     11  CSCCCNC(=O)C(c1cccnc1)N(C(=O)c1cocn1)c1ccc(C(C...    3.850   \n",
      "285     12  CC(C)(C)c1ccc(N(C(=O)c2cocn2)C(C(=O)NCC(=O)OCc...    9.920   \n",
      "286     13  CC(C)(C)OC(=O)N1CC(NC(=O)C(c2cccnc2)N(C(=O)c2c...    6.910   \n",
      "287     14  Cc1ccc(S(=O)(=O)CNC(=O)C(c2cccnc2)N(C(=O)c2coc...   62.900   \n",
      "288     15  COc1ccc(NC(=O)C(c2cccnc2)N(C(=O)c2cocn2)c2ccc(...    5.370   \n",
      "289     16  COC(=O)C1C[C@H](NC(=O)C(c2cccnc2)N(C(=O)c2cocn...    2.660   \n",
      "290     17  CC(C)(C)c1ccc(N(C(=O)c2cocn2)C(C(=O)NC2CC(F)(F...    2.350   \n",
      "291     18  CC(C)(C)OC(=O)CNC(=O)C(c1cccnc1)N(C(=O)c1cocn1...    8.180   \n",
      "292     19  COC(=O)C1C[C@@H](NC(=O)C(c2cccnc2)N(C(=O)c2coc...    5.320   \n",
      "293     20  COC(=O)C1(NC(=O)C(c2cccnc2)N(C(=O)c2cocn2)c2cc...    5.260   \n",
      "294     21  CC(C)(C)c1ccc(N(C(=O)c2cocn2)C(C(=O)NC2COC2)c2...    4.070   \n",
      "295     22  COC(=O)CNC(=O)C(c1cccnc1)N(C(=O)c1cocn1)c1ccc(...   10.800   \n",
      "296     23  CCOC(=O)CNC(=O)C(c1cccnc1)N(C(=O)c1cocn1)c1ccc...    9.530   \n",
      "297     24  COCCNC(=O)C(c1cccnc1)N(C(=O)c1cocn1)c1ccc(C(C)...    8.460   \n",
      "298     25  CC(C)(C)c1ccc(N(C(=O)c2cocn2)C(C(=O)NC2CCOC2)c...    2.770   \n",
      "299     26  COC(CNC(=O)C(c1cccnc1)N(C(=O)c1cocn1)c1ccc(C(C...    7.910   \n",
      "300     27  CC(C)(C)c1ccc(N(C(=O)c2cocn2)C(C(=O)NCC2CCCO2)...    5.150   \n",
      "301     28  CC(C)(C)c1ccc(N(C(=O)c2cocn2)C(C(=O)NCC2CCOC2)...    5.420   \n",
      "302     29  CC(C)(C)OC(=O)N1CCC(NC(=O)C(c2cccnc2)N(C(=O)c2...    3.650   \n",
      "303     30  COC(=O)C1C[C@H](NC(=O)C(c2cccnc2)N(C(=O)c2cocn...    0.837   \n",
      "304     31  COC(=O)C1C[C@@H](NC(=O)C(c2cccnc2)N(C(=O)c2coc...    6.820   \n",
      "305     32  CC(C)(C)c1ccc(N(C(=O)c2cocn2)C(C(=O)NCC(=O)Nc2...   14.400   \n",
      "306     33  CC(C)(C)OC(=O)NCCNC(=O)C(c1cccnc1)N(C(=O)c1coc...    6.260   \n",
      "307     34  CCOC(=O)CCNC(=O)C(c1cccnc1)N(C(=O)c1cocn1)c1cc...    2.800   \n",
      "308     35  CSCCNC(=O)C(c1cccnc1)N(C(=O)c1cocn1)c1ccc(C(C)...    2.450   \n",
      "309     36  COC(=O)C1CC(NC(=O)C(c2cccnc2)N(C(=O)c2cocn2)c2...    3.990   \n",
      "310     37  CC(C)(C)OC(=O)NCCCNC(=O)C(c1cccnc1)N(C(=O)c1co...    3.390   \n",
      "311     38  CN(C)C(=O)CNC(=O)C(c1cccnc1)N(C(=O)c1cocn1)c1c...   29.200   \n",
      "312     39  CC(C)(C)c1ccc(N(C(=O)c2cocn2)C(C(=O)NC2CCOCC2)...    3.900   \n",
      "313     40  CC(C)(C)c1ccc(N(C(=O)c2cocn2)C(C(=O)NCc2ccncc2...  100.000   \n",
      "314     41  COC(=O)C1CC[C@H](NC(=O)C(c2cccnc2)N(C(=O)c2coc...    2.380   \n",
      "315     42  COC(=O)C(C)NC(=O)C(c1cccnc1)N(C(=O)c1cocn1)c1c...    7.180   \n",
      "316     43  CC(C)(C)c1ccc(N(C(=O)c2cocn2)C(C(=O)NCc2cccnc2...   25.300   \n",
      "317     44  COCCCNC(=O)C(c1cccnc1)N(C(=O)c1cocn1)c1ccc(C(C...    8.790   \n",
      "318     45  CC(C)(C)c1ccc(N(C(=O)c2cocn2)C(C(=O)NCCc2cccc(...    0.557   \n",
      "\n",
      "        pIC50                                               mol Error  \\\n",
      "273  4.387216  <rdkit.Chem.rdchem.Mol object at 0x15024ac7e2e0>         \n",
      "274  5.360514  <rdkit.Chem.rdchem.Mol object at 0x150249c39100>         \n",
      "275  4.950782  <rdkit.Chem.rdchem.Mol object at 0x15024a058ee0>         \n",
      "276  5.659556  <rdkit.Chem.rdchem.Mol object at 0x15024a058c40>         \n",
      "277  4.962574  <rdkit.Chem.rdchem.Mol object at 0x15024a0589a0>         \n",
      "278  5.024109  <rdkit.Chem.rdchem.Mol object at 0x15024a058d60>         \n",
      "279  4.838632  <rdkit.Chem.rdchem.Mol object at 0x15024a0585e0>         \n",
      "280  4.000000  <rdkit.Chem.rdchem.Mol object at 0x15024a058b80>         \n",
      "281  4.000000  <rdkit.Chem.rdchem.Mol object at 0x15024a058a60>         \n",
      "282  5.204815  <rdkit.Chem.rdchem.Mol object at 0x15024a058400>         \n",
      "283  4.083546  <rdkit.Chem.rdchem.Mol object at 0x15024a058be0>         \n",
      "284  5.414539  <rdkit.Chem.rdchem.Mol object at 0x15024a058ac0>         \n",
      "285  5.003488  <rdkit.Chem.rdchem.Mol object at 0x15024a0584c0>         \n",
      "286  5.160522  <rdkit.Chem.rdchem.Mol object at 0x15024a0588e0>         \n",
      "287  4.201349  <rdkit.Chem.rdchem.Mol object at 0x15024a058460>         \n",
      "288  5.270026  <rdkit.Chem.rdchem.Mol object at 0x15024a058a00>         \n",
      "289  5.575118  <rdkit.Chem.rdchem.Mol object at 0x15024a058dc0>         \n",
      "290  5.628932  <rdkit.Chem.rdchem.Mol object at 0x15024a058820>         \n",
      "291  5.087247  <rdkit.Chem.rdchem.Mol object at 0x15024a058b20>         \n",
      "292  5.274088  <rdkit.Chem.rdchem.Mol object at 0x15024a058580>         \n",
      "293  5.279014  <rdkit.Chem.rdchem.Mol object at 0x15024a058760>         \n",
      "294  5.390406  <rdkit.Chem.rdchem.Mol object at 0x15024a058640>         \n",
      "295  4.966576  <rdkit.Chem.rdchem.Mol object at 0x15024a0587c0>         \n",
      "296  5.020907  <rdkit.Chem.rdchem.Mol object at 0x15024a058940>         \n",
      "297  5.072630  <rdkit.Chem.rdchem.Mol object at 0x150249fb3e80>         \n",
      "298  5.557520  <rdkit.Chem.rdchem.Mol object at 0x150249fb3340>         \n",
      "299  5.101824  <rdkit.Chem.rdchem.Mol object at 0x150249fb3b20>         \n",
      "300  5.288193  <rdkit.Chem.rdchem.Mol object at 0x150249fb39a0>         \n",
      "301  5.266001  <rdkit.Chem.rdchem.Mol object at 0x150249fb30a0>         \n",
      "302  5.437707  <rdkit.Chem.rdchem.Mol object at 0x150249fb3040>         \n",
      "303  6.077275  <rdkit.Chem.rdchem.Mol object at 0x150249fb3be0>         \n",
      "304  5.166216  <rdkit.Chem.rdchem.Mol object at 0x150249fb3ca0>         \n",
      "305  4.841638  <rdkit.Chem.rdchem.Mol object at 0x150249fb3700>         \n",
      "306  5.203426  <rdkit.Chem.rdchem.Mol object at 0x150249fb3640>         \n",
      "307  5.552842  <rdkit.Chem.rdchem.Mol object at 0x150249fb34c0>         \n",
      "308  5.610834  <rdkit.Chem.rdchem.Mol object at 0x150249fb3940>         \n",
      "309  5.399027  <rdkit.Chem.rdchem.Mol object at 0x150249fb3400>         \n",
      "310  5.469800  <rdkit.Chem.rdchem.Mol object at 0x150249fb35e0>         \n",
      "311  4.534617  <rdkit.Chem.rdchem.Mol object at 0x150249fb38e0>         \n",
      "312  5.408935  <rdkit.Chem.rdchem.Mol object at 0x150249fb3c40>         \n",
      "313  4.000000  <rdkit.Chem.rdchem.Mol object at 0x150249fb3820>         \n",
      "314  5.623423  <rdkit.Chem.rdchem.Mol object at 0x150249fb3fa0>         \n",
      "315  5.143876  <rdkit.Chem.rdchem.Mol object at 0x150249fb36a0>         \n",
      "316  4.596879  <rdkit.Chem.rdchem.Mol object at 0x150249fb3880>         \n",
      "317  5.056011  <rdkit.Chem.rdchem.Mol object at 0x150249fb3160>         \n",
      "318  6.254145  <rdkit.Chem.rdchem.Mol object at 0x150249fb3d60>         \n",
      "\n",
      "                                             morgan_fp  \\\n",
      "273  [0, 1, 0, 0, 0, 0, 0, 0, 0, 0, 0, 1, 0, 0, 0, ...   \n",
      "274  [0, 1, 0, 0, 0, 0, 0, 0, 0, 0, 0, 0, 0, 0, 0, ...   \n",
      "275  [0, 1, 0, 0, 0, 0, 0, 0, 0, 0, 0, 0, 0, 0, 0, ...   \n",
      "276  [0, 1, 0, 0, 0, 0, 0, 0, 0, 0, 0, 0, 0, 0, 0, ...   \n",
      "277  [0, 1, 0, 0, 0, 0, 0, 0, 0, 0, 0, 0, 0, 0, 0, ...   \n",
      "278  [0, 1, 0, 0, 0, 0, 0, 0, 0, 0, 0, 1, 0, 0, 0, ...   \n",
      "279  [0, 1, 0, 0, 0, 0, 0, 0, 0, 0, 0, 1, 0, 0, 0, ...   \n",
      "280  [0, 1, 0, 0, 0, 0, 0, 0, 0, 0, 0, 1, 0, 0, 0, ...   \n",
      "281  [0, 1, 0, 0, 0, 0, 0, 1, 0, 0, 0, 1, 0, 0, 0, ...   \n",
      "282  [0, 1, 0, 0, 0, 0, 0, 0, 0, 0, 0, 1, 0, 0, 0, ...   \n",
      "283  [0, 1, 0, 0, 0, 0, 0, 0, 0, 0, 0, 1, 0, 0, 0, ...   \n",
      "284  [0, 1, 0, 0, 0, 0, 0, 0, 0, 0, 0, 1, 0, 0, 0, ...   \n",
      "285  [0, 1, 0, 0, 0, 0, 0, 0, 0, 0, 0, 1, 0, 0, 0, ...   \n",
      "286  [0, 1, 0, 0, 0, 0, 0, 0, 0, 0, 0, 1, 0, 0, 0, ...   \n",
      "287  [0, 1, 0, 0, 0, 0, 0, 0, 0, 0, 0, 1, 0, 0, 0, ...   \n",
      "288  [0, 1, 0, 0, 0, 0, 0, 0, 0, 0, 0, 1, 0, 0, 0, ...   \n",
      "289  [0, 1, 0, 0, 0, 0, 0, 0, 0, 0, 0, 1, 0, 0, 0, ...   \n",
      "290  [0, 1, 0, 0, 0, 0, 0, 0, 0, 0, 0, 1, 0, 0, 0, ...   \n",
      "291  [0, 1, 0, 0, 0, 0, 0, 0, 0, 0, 0, 1, 0, 0, 0, ...   \n",
      "292  [0, 1, 0, 0, 0, 0, 0, 0, 0, 0, 0, 1, 0, 0, 0, ...   \n",
      "293  [0, 1, 0, 0, 0, 0, 0, 0, 0, 0, 0, 1, 0, 0, 0, ...   \n",
      "294  [0, 1, 0, 0, 0, 0, 0, 0, 0, 0, 0, 1, 0, 0, 0, ...   \n",
      "295  [0, 1, 0, 0, 0, 0, 0, 0, 0, 0, 0, 1, 0, 0, 0, ...   \n",
      "296  [0, 1, 0, 0, 0, 0, 0, 0, 0, 0, 0, 1, 0, 0, 0, ...   \n",
      "297  [0, 1, 0, 0, 0, 0, 0, 0, 0, 0, 0, 1, 0, 1, 0, ...   \n",
      "298  [0, 1, 0, 0, 0, 0, 0, 0, 0, 0, 0, 1, 0, 0, 0, ...   \n",
      "299  [0, 1, 0, 0, 0, 0, 0, 0, 0, 0, 0, 1, 0, 0, 0, ...   \n",
      "300  [0, 1, 0, 0, 0, 0, 0, 0, 0, 0, 0, 1, 0, 0, 0, ...   \n",
      "301  [0, 1, 0, 0, 0, 0, 0, 0, 0, 0, 0, 1, 0, 0, 0, ...   \n",
      "302  [0, 1, 0, 0, 0, 0, 0, 0, 0, 0, 0, 1, 0, 0, 0, ...   \n",
      "303  [0, 1, 0, 0, 0, 0, 0, 0, 0, 0, 0, 1, 0, 0, 0, ...   \n",
      "304  [0, 1, 0, 0, 0, 0, 0, 0, 0, 0, 0, 1, 0, 0, 0, ...   \n",
      "305  [0, 1, 0, 0, 0, 0, 0, 0, 0, 0, 0, 1, 0, 0, 0, ...   \n",
      "306  [0, 1, 0, 0, 0, 0, 0, 0, 0, 0, 0, 1, 0, 0, 0, ...   \n",
      "307  [0, 1, 0, 0, 0, 0, 0, 0, 0, 0, 0, 1, 0, 0, 0, ...   \n",
      "308  [0, 1, 0, 0, 0, 0, 0, 0, 0, 0, 0, 1, 0, 0, 0, ...   \n",
      "309  [0, 1, 0, 0, 0, 0, 0, 0, 0, 0, 0, 1, 0, 0, 0, ...   \n",
      "310  [0, 1, 0, 0, 0, 0, 0, 0, 0, 0, 0, 1, 0, 0, 0, ...   \n",
      "311  [0, 1, 0, 0, 0, 0, 0, 0, 0, 0, 0, 1, 0, 0, 0, ...   \n",
      "312  [0, 1, 0, 0, 0, 0, 0, 0, 0, 0, 0, 1, 0, 0, 0, ...   \n",
      "313  [0, 1, 0, 0, 0, 0, 0, 0, 0, 0, 0, 1, 0, 0, 0, ...   \n",
      "314  [0, 1, 0, 0, 0, 0, 0, 0, 0, 1, 0, 1, 0, 0, 0, ...   \n",
      "315  [0, 1, 0, 0, 0, 0, 0, 0, 0, 0, 0, 1, 0, 0, 0, ...   \n",
      "316  [0, 1, 0, 0, 0, 0, 0, 0, 0, 0, 0, 1, 0, 0, 0, ...   \n",
      "317  [0, 1, 0, 0, 0, 0, 0, 0, 0, 0, 0, 1, 0, 1, 0, ...   \n",
      "318  [0, 1, 0, 0, 0, 0, 0, 0, 0, 0, 0, 1, 0, 0, 0, ...   \n",
      "\n",
      "                                               mpnn_fp data_source  \\\n",
      "273  [-0.00042130915, -0.30461594, -0.21607056, -0....  isocyanide   \n",
      "274  [-0.0032994575, -0.15649237, -0.22490443, -0.0...  isocyanide   \n",
      "275  [-0.0013909386, -0.15416004, -0.22459592, -0.0...  isocyanide   \n",
      "276  [-0.0022904424, -0.30109206, -0.19670315, -0.0...  isocyanide   \n",
      "277  [-0.0013440354, -0.22306904, -0.15454437, -0.0...  isocyanide   \n",
      "278  [-0.00014878096, -0.3757873, -0.075146236, -0....  isocyanide   \n",
      "279  [-0.00020944276, -0.36674014, -0.09724912, -0....  isocyanide   \n",
      "280  [-0.00015819207, -0.38409582, -0.011965015, -0...  isocyanide   \n",
      "281  [-0.0018673859, -0.31103316, -0.07899085, -0.0...  isocyanide   \n",
      "282  [-0.0023734837, -0.2862725, -0.12709934, -0.05...  isocyanide   \n",
      "283  [-0.0007272286, -0.3720944, -0.17617741, -0.04...  isocyanide   \n",
      "284  [-0.00054983626, -0.3447031, -0.11705066, -0.0...  isocyanide   \n",
      "285  [-0.008675664, -0.16456172, -0.1423282, -0.059...  isocyanide   \n",
      "286  [-0.000494063, -0.30753887, -0.10421572, -0.03...  isocyanide   \n",
      "287  [-0.00027782036, -0.34948003, -0.08799807, -0....  isocyanide   \n",
      "288  [-0.0001440691, -0.26737338, -0.07295139, -0.0...  isocyanide   \n",
      "289  [-0.00095358223, -0.31566644, -0.10177631, -0....  isocyanide   \n",
      "290  [-0.00026815725, -0.27798942, -0.07446951, -0....  isocyanide   \n",
      "291  [-0.002238879, -0.24958915, -0.14061831, -0.04...  isocyanide   \n",
      "292  [-0.00095358223, -0.31566644, -0.10177631, -0....  isocyanide   \n",
      "293  [-0.0005450011, -0.27518564, -0.21603517, -0.0...  isocyanide   \n",
      "294  [-0.00018836714, -0.25357354, -0.045244914, -0...  isocyanide   \n",
      "295  [-0.0008316513, -0.26554504, -0.12169342, -0.0...  isocyanide   \n",
      "296  [-0.0022644133, -0.26084608, -0.114815325, -0....  isocyanide   \n",
      "297  [-0.00039452573, -0.3307181, -0.0902759, -0.03...  isocyanide   \n",
      "298  [-0.00020671402, -0.28160325, -0.032794695, -0...  isocyanide   \n",
      "299  [-0.0011068627, -0.2683178, -0.13026427, -0.04...  isocyanide   \n",
      "300  [-0.00047946343, -0.28792322, -0.07534828, -0....  isocyanide   \n",
      "301  [-0.0004028275, -0.29233834, -0.05850946, -0.0...  isocyanide   \n",
      "302  [-0.00080215366, -0.31317252, -0.12593725, -0....  isocyanide   \n",
      "303  [-0.00095358223, -0.31566644, -0.10177631, -0....  isocyanide   \n",
      "304  [-0.00095358223, -0.31566644, -0.10177631, -0....  isocyanide   \n",
      "305  [-0.0016449433, -0.26443675, -0.119805925, -0....  isocyanide   \n",
      "306  [-0.0017896908, -0.33970624, -0.096506916, -0....  isocyanide   \n",
      "307  [-0.001497767, -0.33591917, -0.14458165, -0.05...  isocyanide   \n",
      "308  [-0.00041875264, -0.30628267, -0.08362093, -0....  isocyanide   \n",
      "309  [-0.00052771746, -0.26418382, -0.11223587, -0....  isocyanide   \n",
      "310  [-0.0017551486, -0.31808352, -0.08643392, -0.0...  isocyanide   \n",
      "311  [-0.0004765439, -0.27701142, -0.08892857, -0.0...  isocyanide   \n",
      "312  [-0.00023051086, -0.28122714, -0.050173096, -0...  isocyanide   \n",
      "313  [-0.0007496681, -0.20500906, -0.16536823, -0.0...  isocyanide   \n",
      "314  [-0.0005693081, -0.26481044, -0.111122094, -0....  isocyanide   \n",
      "315  [-0.00018203934, -0.29121968, -0.023655316, -0...  isocyanide   \n",
      "316  [-0.0011216822, -0.1950868, -0.17982478, -0.03...  isocyanide   \n",
      "317  [-0.00054264115, -0.34100276, -0.10840345, -0....  isocyanide   \n",
      "318  [-0.0010288275, -0.32370952, -0.18691038, -0.0...  isocyanide   \n",
      "\n",
      "    Molecule Name Structure  CDD Number  \\\n",
      "273           NaN       NaN         NaN   \n",
      "274           NaN       NaN         NaN   \n",
      "275           NaN       NaN         NaN   \n",
      "276           NaN       NaN         NaN   \n",
      "277           NaN       NaN         NaN   \n",
      "278           NaN       NaN         NaN   \n",
      "279           NaN       NaN         NaN   \n",
      "280           NaN       NaN         NaN   \n",
      "281           NaN       NaN         NaN   \n",
      "282           NaN       NaN         NaN   \n",
      "283           NaN       NaN         NaN   \n",
      "284           NaN       NaN         NaN   \n",
      "285           NaN       NaN         NaN   \n",
      "286           NaN       NaN         NaN   \n",
      "287           NaN       NaN         NaN   \n",
      "288           NaN       NaN         NaN   \n",
      "289           NaN       NaN         NaN   \n",
      "290           NaN       NaN         NaN   \n",
      "291           NaN       NaN         NaN   \n",
      "292           NaN       NaN         NaN   \n",
      "293           NaN       NaN         NaN   \n",
      "294           NaN       NaN         NaN   \n",
      "295           NaN       NaN         NaN   \n",
      "296           NaN       NaN         NaN   \n",
      "297           NaN       NaN         NaN   \n",
      "298           NaN       NaN         NaN   \n",
      "299           NaN       NaN         NaN   \n",
      "300           NaN       NaN         NaN   \n",
      "301           NaN       NaN         NaN   \n",
      "302           NaN       NaN         NaN   \n",
      "303           NaN       NaN         NaN   \n",
      "304           NaN       NaN         NaN   \n",
      "305           NaN       NaN         NaN   \n",
      "306           NaN       NaN         NaN   \n",
      "307           NaN       NaN         NaN   \n",
      "308           NaN       NaN         NaN   \n",
      "309           NaN       NaN         NaN   \n",
      "310           NaN       NaN         NaN   \n",
      "311           NaN       NaN         NaN   \n",
      "312           NaN       NaN         NaN   \n",
      "313           NaN       NaN         NaN   \n",
      "314           NaN       NaN         NaN   \n",
      "315           NaN       NaN         NaN   \n",
      "316           NaN       NaN         NaN   \n",
      "317           NaN       NaN         NaN   \n",
      "318           NaN       NaN         NaN   \n",
      "\n",
      "     ProteaseAssay_Fluorescence_Dose-Response_Weizmann: Avg IC50 (uM) Standard Deviation (±)  \\\n",
      "273                                                NaN                                         \n",
      "274                                                NaN                                         \n",
      "275                                                NaN                                         \n",
      "276                                                NaN                                         \n",
      "277                                                NaN                                         \n",
      "278                                                NaN                                         \n",
      "279                                                NaN                                         \n",
      "280                                                NaN                                         \n",
      "281                                                NaN                                         \n",
      "282                                                NaN                                         \n",
      "283                                                NaN                                         \n",
      "284                                                NaN                                         \n",
      "285                                                NaN                                         \n",
      "286                                                NaN                                         \n",
      "287                                                NaN                                         \n",
      "288                                                NaN                                         \n",
      "289                                                NaN                                         \n",
      "290                                                NaN                                         \n",
      "291                                                NaN                                         \n",
      "292                                                NaN                                         \n",
      "293                                                NaN                                         \n",
      "294                                                NaN                                         \n",
      "295                                                NaN                                         \n",
      "296                                                NaN                                         \n",
      "297                                                NaN                                         \n",
      "298                                                NaN                                         \n",
      "299                                                NaN                                         \n",
      "300                                                NaN                                         \n",
      "301                                                NaN                                         \n",
      "302                                                NaN                                         \n",
      "303                                                NaN                                         \n",
      "304                                                NaN                                         \n",
      "305                                                NaN                                         \n",
      "306                                                NaN                                         \n",
      "307                                                NaN                                         \n",
      "308                                                NaN                                         \n",
      "309                                                NaN                                         \n",
      "310                                                NaN                                         \n",
      "311                                                NaN                                         \n",
      "312                                                NaN                                         \n",
      "313                                                NaN                                         \n",
      "314                                                NaN                                         \n",
      "315                                                NaN                                         \n",
      "316                                                NaN                                         \n",
      "317                                                NaN                                         \n",
      "318                                                NaN                                         \n",
      "\n",
      "     ProteaseAssay_Fluorescence_Dose-Response_Weizmann: Avg IC50 (uM) Count  \\\n",
      "273                                                NaN                        \n",
      "274                                                NaN                        \n",
      "275                                                NaN                        \n",
      "276                                                NaN                        \n",
      "277                                                NaN                        \n",
      "278                                                NaN                        \n",
      "279                                                NaN                        \n",
      "280                                                NaN                        \n",
      "281                                                NaN                        \n",
      "282                                                NaN                        \n",
      "283                                                NaN                        \n",
      "284                                                NaN                        \n",
      "285                                                NaN                        \n",
      "286                                                NaN                        \n",
      "287                                                NaN                        \n",
      "288                                                NaN                        \n",
      "289                                                NaN                        \n",
      "290                                                NaN                        \n",
      "291                                                NaN                        \n",
      "292                                                NaN                        \n",
      "293                                                NaN                        \n",
      "294                                                NaN                        \n",
      "295                                                NaN                        \n",
      "296                                                NaN                        \n",
      "297                                                NaN                        \n",
      "298                                                NaN                        \n",
      "299                                                NaN                        \n",
      "300                                                NaN                        \n",
      "301                                                NaN                        \n",
      "302                                                NaN                        \n",
      "303                                                NaN                        \n",
      "304                                                NaN                        \n",
      "305                                                NaN                        \n",
      "306                                                NaN                        \n",
      "307                                                NaN                        \n",
      "308                                                NaN                        \n",
      "309                                                NaN                        \n",
      "310                                                NaN                        \n",
      "311                                                NaN                        \n",
      "312                                                NaN                        \n",
      "313                                                NaN                        \n",
      "314                                                NaN                        \n",
      "315                                                NaN                        \n",
      "316                                                NaN                        \n",
      "317                                                NaN                        \n",
      "318                                                NaN                        \n",
      "\n",
      "    ProteaseAssay_Fluorescence_Dose-Response_Weizmann: Dose-response Plot  \\\n",
      "273                                                NaN                      \n",
      "274                                                NaN                      \n",
      "275                                                NaN                      \n",
      "276                                                NaN                      \n",
      "277                                                NaN                      \n",
      "278                                                NaN                      \n",
      "279                                                NaN                      \n",
      "280                                                NaN                      \n",
      "281                                                NaN                      \n",
      "282                                                NaN                      \n",
      "283                                                NaN                      \n",
      "284                                                NaN                      \n",
      "285                                                NaN                      \n",
      "286                                                NaN                      \n",
      "287                                                NaN                      \n",
      "288                                                NaN                      \n",
      "289                                                NaN                      \n",
      "290                                                NaN                      \n",
      "291                                                NaN                      \n",
      "292                                                NaN                      \n",
      "293                                                NaN                      \n",
      "294                                                NaN                      \n",
      "295                                                NaN                      \n",
      "296                                                NaN                      \n",
      "297                                                NaN                      \n",
      "298                                                NaN                      \n",
      "299                                                NaN                      \n",
      "300                                                NaN                      \n",
      "301                                                NaN                      \n",
      "302                                                NaN                      \n",
      "303                                                NaN                      \n",
      "304                                                NaN                      \n",
      "305                                                NaN                      \n",
      "306                                                NaN                      \n",
      "307                                                NaN                      \n",
      "308                                                NaN                      \n",
      "309                                                NaN                      \n",
      "310                                                NaN                      \n",
      "311                                                NaN                      \n",
      "312                                                NaN                      \n",
      "313                                                NaN                      \n",
      "314                                                NaN                      \n",
      "315                                                NaN                      \n",
      "316                                                NaN                      \n",
      "317                                                NaN                      \n",
      "318                                                NaN                      \n",
      "\n",
      "      score_0  \n",
      "273  4.656612  \n",
      "274  4.741206  \n",
      "275  4.739945  \n",
      "276  4.653345  \n",
      "277  4.768132  \n",
      "278  4.483973  \n",
      "279  4.540688  \n",
      "280  4.525112  \n",
      "281  4.516291  \n",
      "282  4.534282  \n",
      "283  4.454265  \n",
      "284  4.532039  \n",
      "285  4.549652  \n",
      "286  4.475990  \n",
      "287  4.523250  \n",
      "288  4.514319  \n",
      "289  4.469575  \n",
      "290  4.490982  \n",
      "291  4.555091  \n",
      "292  4.469575  \n",
      "293  4.497753  \n",
      "294  4.490924  \n",
      "295  4.549025  \n",
      "296  4.558423  \n",
      "297  4.524175  \n",
      "298  4.491478  \n",
      "299  4.524884  \n",
      "300  4.498223  \n",
      "301  4.480199  \n",
      "302  4.461844  \n",
      "303  4.469575  \n",
      "304  4.469575  \n",
      "305  4.558755  \n",
      "306  4.528775  \n",
      "307  4.535439  \n",
      "308  4.532039  \n",
      "309  4.487962  \n",
      "310  4.530950  \n",
      "311  4.555607  \n",
      "312  4.472520  \n",
      "313  4.609261  \n",
      "314  4.482600  \n",
      "315  4.523552  \n",
      "316  4.546535  \n",
      "317  4.519005  \n",
      "318  4.532039  \n"
     ]
    }
   ],
   "source": [
    "from tqdm import tqdm\n",
    "from dock2hit.fine_tuning import train_and_score\n",
    "\n",
    "print('Fitting RF models')\n",
    "\n",
    "n_models = 1\n",
    "\n",
    "dfs_with_scores = []\n",
    "\n",
    "tautomer_mpnn = '/rds-d2/user/wjm41/hpc-work/models/dock2hit/ugi/ugi_taut/model_mol9039221.ckpt'\n",
    "for component in df_ugi_data.data_source.unique():\n",
    "    df_training_set = df_ugi_data.query(f'data_source != @component')\n",
    "    df_test_set = df_ugi_data.query(f'data_source == @component').copy()\n",
    "    \n",
    "    df_score = train_and_score(\n",
    "        df_test_set, input_rep='mpnn_fp', n_models=n_models, model_ckpt=tautomer_mpnn, df_training_data=df_training_set)\n",
    "    \n",
    "    df_score_morgan = train_and_score(df_test_set, input_rep='morgan_fp', n_models=n_models,\n",
    "                                                    model_ckpt=tautomer_mpnn, df_training_data=df_training_set)\n",
    "    df_score['morgan_fp_pred_mean'] = df_score_morgan['morgan_fp_pred_mean'].values\n",
    "    df_score['predicted_IC50_morgan_fp'] = df_score_morgan['predicted_IC50_morgan_fp'].values\n",
    "    # raise Exception\n",
    "    dfs_with_scores.append(df_score)\n",
    "    \n",
    "df_with_predictions = pd.concat(dfs_with_scores)"
   ]
  },
  {
   "cell_type": "code",
   "execution_count": 10,
   "metadata": {},
   "outputs": [
    {
     "name": "stdout",
     "output_type": "stream",
     "text": [
      "R2 score on Ugi acid mpnn_fp:  (mpnn_fp): 0.204\n",
      "rho score on Ugi acid mpnn_fp:  (mpnn_fp): 0.638\n",
      "R2 score on Ugi acid morgan_fp:  (morgan_fp): -1.022\n",
      "rho score on Ugi acid morgan_fp:  (morgan_fp): 0.455\n"
     ]
    },
    {
     "data": {
      "application/vnd.plotly.v1+json": {
       "config": {
        "plotlyServerURL": "https://plot.ly"
       },
       "data": [
        {
         "hovertemplate": "IC50=%{x}<br>predicted_IC50_mpnn_fp=%{y}<extra></extra>",
         "legendgroup": "",
         "marker": {
          "color": "#636efa",
          "symbol": "circle"
         },
         "mode": "markers",
         "name": "mpnn_fp",
         "orientation": "v",
         "showlegend": true,
         "type": "scatter",
         "x": [
          0.112,
          0.653,
          2.53,
          0.1,
          15.6,
          0.557,
          0.315,
          0.8,
          0.403,
          24.2,
          0.891,
          4.78,
          51.1,
          5.83,
          5.29,
          1.11,
          0.292,
          5.56,
          13.2,
          7.48,
          11.5,
          29.1,
          1.78,
          4.26,
          2.86,
          2.96,
          86.4,
          8.41,
          39.2,
          39.7,
          1.17,
          77.1,
          11.6,
          15.9,
          18.2,
          3.8,
          76.5,
          18.8,
          10.5,
          26.2,
          44,
          19.5,
          17.6,
          74.2
         ],
         "xaxis": "x",
         "y": [
          3.3336897821607723,
          4.059251638420281,
          4.789575516949815,
          4.789575516949815,
          4.789575516949815,
          4.906554469456122,
          5.121468367404547,
          5.755078546804896,
          5.947972070646222,
          5.965986579562966,
          6.0886868671117105,
          6.128901334436712,
          6.317602952085143,
          7.110761766074481,
          7.324045391270902,
          7.518832492909111,
          7.761778472426411,
          8.75813365614764,
          10.401609447504617,
          10.934919600109172,
          11.836891145746941,
          12.196917420676783,
          12.900758614003864,
          15.826693109138578,
          15.999360052113316,
          15.999360052113316,
          15.999360052113316,
          16.153372328255244,
          16.232763427489065,
          19.293607927663064,
          19.338315634464653,
          19.7648883994738,
          20.36873545822835,
          21.564858042180582,
          21.964239101447507,
          22.022991131101612,
          22.701763429302616,
          24.08059944054586,
          24.161367960507036,
          26.95905420386514,
          28.93627365412723,
          29.600590578942764,
          37.73740584611643,
          49.765962867388154
         ],
         "yaxis": "y"
        },
        {
         "hovertemplate": "IC50=%{x}<br>predicted_IC50_morgan_fp=%{y}<extra></extra>",
         "legendgroup": "",
         "marker": {
          "color": "red",
          "symbol": "circle"
         },
         "mode": "markers",
         "name": "morgan_fp",
         "orientation": "v",
         "showlegend": true,
         "type": "scatter",
         "x": [
          0.112,
          0.653,
          2.53,
          0.1,
          15.6,
          0.557,
          0.315,
          0.8,
          0.403,
          24.2,
          0.891,
          4.78,
          51.1,
          5.83,
          5.29,
          1.11,
          0.292,
          5.56,
          13.2,
          7.48,
          11.5,
          29.1,
          1.78,
          4.26,
          2.86,
          2.96,
          86.4,
          8.41,
          39.2,
          39.7,
          1.17,
          77.1,
          11.6,
          15.9,
          18.2,
          3.8,
          76.5,
          18.8,
          10.5,
          26.2,
          44,
          19.5,
          17.6,
          74.2
         ],
         "xaxis": "x",
         "y": [
          0.3088958569317868,
          0.3088958569317868,
          0.3088958569317868,
          0.6152580085824226,
          0.6152580085824226,
          0.6152580085824226,
          0.6152580085824226,
          0.6152580085824226,
          0.6152580085824226,
          0.6152580085824226,
          0.6152580085824226,
          0.6152580085824226,
          0.6152580085824226,
          0.6152580085824226,
          0.6152580085824226,
          0.6152580085824226,
          0.6152580085824226,
          0.6152580085824226,
          0.6152580085824226,
          0.6152580085824226,
          0.6152580085824226,
          0.6152580085824226,
          0.6152580085824226,
          0.6152580085824226,
          0.6152580085824226,
          0.6152580085824226,
          0.6152580085824226,
          0.6152580085824226,
          0.6152580085824226,
          0.6152580085824226,
          0.6152580085824226,
          0.6152580085824226,
          0.6152580085824226,
          0.6152580085824226,
          0.6152580085824226,
          0.6152580085824226,
          0.6152580085824226,
          0.6152580085824226,
          0.8596057403147782,
          42.66145801539987,
          42.66145801539987,
          42.66145801539987,
          43.44482786855803,
          100
         ],
         "yaxis": "y"
        }
       ],
       "layout": {
        "height": 800,
        "legend": {
         "tracegroupgap": 0
        },
        "shapes": [
         {
          "line": {
           "color": "black",
           "dash": "dash"
          },
          "type": "line",
          "x0": 0.1,
          "x1": 100,
          "y0": 0.1,
          "y1": 100
         }
        ],
        "template": {
         "data": {
          "bar": [
           {
            "error_x": {
             "color": "#2a3f5f"
            },
            "error_y": {
             "color": "#2a3f5f"
            },
            "marker": {
             "line": {
              "color": "#E5ECF6",
              "width": 0.5
             },
             "pattern": {
              "fillmode": "overlay",
              "size": 10,
              "solidity": 0.2
             }
            },
            "type": "bar"
           }
          ],
          "barpolar": [
           {
            "marker": {
             "line": {
              "color": "#E5ECF6",
              "width": 0.5
             },
             "pattern": {
              "fillmode": "overlay",
              "size": 10,
              "solidity": 0.2
             }
            },
            "type": "barpolar"
           }
          ],
          "carpet": [
           {
            "aaxis": {
             "endlinecolor": "#2a3f5f",
             "gridcolor": "white",
             "linecolor": "white",
             "minorgridcolor": "white",
             "startlinecolor": "#2a3f5f"
            },
            "baxis": {
             "endlinecolor": "#2a3f5f",
             "gridcolor": "white",
             "linecolor": "white",
             "minorgridcolor": "white",
             "startlinecolor": "#2a3f5f"
            },
            "type": "carpet"
           }
          ],
          "choropleth": [
           {
            "colorbar": {
             "outlinewidth": 0,
             "ticks": ""
            },
            "type": "choropleth"
           }
          ],
          "contour": [
           {
            "colorbar": {
             "outlinewidth": 0,
             "ticks": ""
            },
            "colorscale": [
             [
              0,
              "#0d0887"
             ],
             [
              0.1111111111111111,
              "#46039f"
             ],
             [
              0.2222222222222222,
              "#7201a8"
             ],
             [
              0.3333333333333333,
              "#9c179e"
             ],
             [
              0.4444444444444444,
              "#bd3786"
             ],
             [
              0.5555555555555556,
              "#d8576b"
             ],
             [
              0.6666666666666666,
              "#ed7953"
             ],
             [
              0.7777777777777778,
              "#fb9f3a"
             ],
             [
              0.8888888888888888,
              "#fdca26"
             ],
             [
              1,
              "#f0f921"
             ]
            ],
            "type": "contour"
           }
          ],
          "contourcarpet": [
           {
            "colorbar": {
             "outlinewidth": 0,
             "ticks": ""
            },
            "type": "contourcarpet"
           }
          ],
          "heatmap": [
           {
            "colorbar": {
             "outlinewidth": 0,
             "ticks": ""
            },
            "colorscale": [
             [
              0,
              "#0d0887"
             ],
             [
              0.1111111111111111,
              "#46039f"
             ],
             [
              0.2222222222222222,
              "#7201a8"
             ],
             [
              0.3333333333333333,
              "#9c179e"
             ],
             [
              0.4444444444444444,
              "#bd3786"
             ],
             [
              0.5555555555555556,
              "#d8576b"
             ],
             [
              0.6666666666666666,
              "#ed7953"
             ],
             [
              0.7777777777777778,
              "#fb9f3a"
             ],
             [
              0.8888888888888888,
              "#fdca26"
             ],
             [
              1,
              "#f0f921"
             ]
            ],
            "type": "heatmap"
           }
          ],
          "heatmapgl": [
           {
            "colorbar": {
             "outlinewidth": 0,
             "ticks": ""
            },
            "colorscale": [
             [
              0,
              "#0d0887"
             ],
             [
              0.1111111111111111,
              "#46039f"
             ],
             [
              0.2222222222222222,
              "#7201a8"
             ],
             [
              0.3333333333333333,
              "#9c179e"
             ],
             [
              0.4444444444444444,
              "#bd3786"
             ],
             [
              0.5555555555555556,
              "#d8576b"
             ],
             [
              0.6666666666666666,
              "#ed7953"
             ],
             [
              0.7777777777777778,
              "#fb9f3a"
             ],
             [
              0.8888888888888888,
              "#fdca26"
             ],
             [
              1,
              "#f0f921"
             ]
            ],
            "type": "heatmapgl"
           }
          ],
          "histogram": [
           {
            "marker": {
             "pattern": {
              "fillmode": "overlay",
              "size": 10,
              "solidity": 0.2
             }
            },
            "type": "histogram"
           }
          ],
          "histogram2d": [
           {
            "colorbar": {
             "outlinewidth": 0,
             "ticks": ""
            },
            "colorscale": [
             [
              0,
              "#0d0887"
             ],
             [
              0.1111111111111111,
              "#46039f"
             ],
             [
              0.2222222222222222,
              "#7201a8"
             ],
             [
              0.3333333333333333,
              "#9c179e"
             ],
             [
              0.4444444444444444,
              "#bd3786"
             ],
             [
              0.5555555555555556,
              "#d8576b"
             ],
             [
              0.6666666666666666,
              "#ed7953"
             ],
             [
              0.7777777777777778,
              "#fb9f3a"
             ],
             [
              0.8888888888888888,
              "#fdca26"
             ],
             [
              1,
              "#f0f921"
             ]
            ],
            "type": "histogram2d"
           }
          ],
          "histogram2dcontour": [
           {
            "colorbar": {
             "outlinewidth": 0,
             "ticks": ""
            },
            "colorscale": [
             [
              0,
              "#0d0887"
             ],
             [
              0.1111111111111111,
              "#46039f"
             ],
             [
              0.2222222222222222,
              "#7201a8"
             ],
             [
              0.3333333333333333,
              "#9c179e"
             ],
             [
              0.4444444444444444,
              "#bd3786"
             ],
             [
              0.5555555555555556,
              "#d8576b"
             ],
             [
              0.6666666666666666,
              "#ed7953"
             ],
             [
              0.7777777777777778,
              "#fb9f3a"
             ],
             [
              0.8888888888888888,
              "#fdca26"
             ],
             [
              1,
              "#f0f921"
             ]
            ],
            "type": "histogram2dcontour"
           }
          ],
          "mesh3d": [
           {
            "colorbar": {
             "outlinewidth": 0,
             "ticks": ""
            },
            "type": "mesh3d"
           }
          ],
          "parcoords": [
           {
            "line": {
             "colorbar": {
              "outlinewidth": 0,
              "ticks": ""
             }
            },
            "type": "parcoords"
           }
          ],
          "pie": [
           {
            "automargin": true,
            "type": "pie"
           }
          ],
          "scatter": [
           {
            "marker": {
             "colorbar": {
              "outlinewidth": 0,
              "ticks": ""
             }
            },
            "type": "scatter"
           }
          ],
          "scatter3d": [
           {
            "line": {
             "colorbar": {
              "outlinewidth": 0,
              "ticks": ""
             }
            },
            "marker": {
             "colorbar": {
              "outlinewidth": 0,
              "ticks": ""
             }
            },
            "type": "scatter3d"
           }
          ],
          "scattercarpet": [
           {
            "marker": {
             "colorbar": {
              "outlinewidth": 0,
              "ticks": ""
             }
            },
            "type": "scattercarpet"
           }
          ],
          "scattergeo": [
           {
            "marker": {
             "colorbar": {
              "outlinewidth": 0,
              "ticks": ""
             }
            },
            "type": "scattergeo"
           }
          ],
          "scattergl": [
           {
            "marker": {
             "colorbar": {
              "outlinewidth": 0,
              "ticks": ""
             }
            },
            "type": "scattergl"
           }
          ],
          "scattermapbox": [
           {
            "marker": {
             "colorbar": {
              "outlinewidth": 0,
              "ticks": ""
             }
            },
            "type": "scattermapbox"
           }
          ],
          "scatterpolar": [
           {
            "marker": {
             "colorbar": {
              "outlinewidth": 0,
              "ticks": ""
             }
            },
            "type": "scatterpolar"
           }
          ],
          "scatterpolargl": [
           {
            "marker": {
             "colorbar": {
              "outlinewidth": 0,
              "ticks": ""
             }
            },
            "type": "scatterpolargl"
           }
          ],
          "scatterternary": [
           {
            "marker": {
             "colorbar": {
              "outlinewidth": 0,
              "ticks": ""
             }
            },
            "type": "scatterternary"
           }
          ],
          "surface": [
           {
            "colorbar": {
             "outlinewidth": 0,
             "ticks": ""
            },
            "colorscale": [
             [
              0,
              "#0d0887"
             ],
             [
              0.1111111111111111,
              "#46039f"
             ],
             [
              0.2222222222222222,
              "#7201a8"
             ],
             [
              0.3333333333333333,
              "#9c179e"
             ],
             [
              0.4444444444444444,
              "#bd3786"
             ],
             [
              0.5555555555555556,
              "#d8576b"
             ],
             [
              0.6666666666666666,
              "#ed7953"
             ],
             [
              0.7777777777777778,
              "#fb9f3a"
             ],
             [
              0.8888888888888888,
              "#fdca26"
             ],
             [
              1,
              "#f0f921"
             ]
            ],
            "type": "surface"
           }
          ],
          "table": [
           {
            "cells": {
             "fill": {
              "color": "#EBF0F8"
             },
             "line": {
              "color": "white"
             }
            },
            "header": {
             "fill": {
              "color": "#C8D4E3"
             },
             "line": {
              "color": "white"
             }
            },
            "type": "table"
           }
          ]
         },
         "layout": {
          "annotationdefaults": {
           "arrowcolor": "#2a3f5f",
           "arrowhead": 0,
           "arrowwidth": 1
          },
          "autotypenumbers": "strict",
          "coloraxis": {
           "colorbar": {
            "outlinewidth": 0,
            "ticks": ""
           }
          },
          "colorscale": {
           "diverging": [
            [
             0,
             "#8e0152"
            ],
            [
             0.1,
             "#c51b7d"
            ],
            [
             0.2,
             "#de77ae"
            ],
            [
             0.3,
             "#f1b6da"
            ],
            [
             0.4,
             "#fde0ef"
            ],
            [
             0.5,
             "#f7f7f7"
            ],
            [
             0.6,
             "#e6f5d0"
            ],
            [
             0.7,
             "#b8e186"
            ],
            [
             0.8,
             "#7fbc41"
            ],
            [
             0.9,
             "#4d9221"
            ],
            [
             1,
             "#276419"
            ]
           ],
           "sequential": [
            [
             0,
             "#0d0887"
            ],
            [
             0.1111111111111111,
             "#46039f"
            ],
            [
             0.2222222222222222,
             "#7201a8"
            ],
            [
             0.3333333333333333,
             "#9c179e"
            ],
            [
             0.4444444444444444,
             "#bd3786"
            ],
            [
             0.5555555555555556,
             "#d8576b"
            ],
            [
             0.6666666666666666,
             "#ed7953"
            ],
            [
             0.7777777777777778,
             "#fb9f3a"
            ],
            [
             0.8888888888888888,
             "#fdca26"
            ],
            [
             1,
             "#f0f921"
            ]
           ],
           "sequentialminus": [
            [
             0,
             "#0d0887"
            ],
            [
             0.1111111111111111,
             "#46039f"
            ],
            [
             0.2222222222222222,
             "#7201a8"
            ],
            [
             0.3333333333333333,
             "#9c179e"
            ],
            [
             0.4444444444444444,
             "#bd3786"
            ],
            [
             0.5555555555555556,
             "#d8576b"
            ],
            [
             0.6666666666666666,
             "#ed7953"
            ],
            [
             0.7777777777777778,
             "#fb9f3a"
            ],
            [
             0.8888888888888888,
             "#fdca26"
            ],
            [
             1,
             "#f0f921"
            ]
           ]
          },
          "colorway": [
           "#636efa",
           "#EF553B",
           "#00cc96",
           "#ab63fa",
           "#FFA15A",
           "#19d3f3",
           "#FF6692",
           "#B6E880",
           "#FF97FF",
           "#FECB52"
          ],
          "font": {
           "color": "#2a3f5f"
          },
          "geo": {
           "bgcolor": "white",
           "lakecolor": "white",
           "landcolor": "#E5ECF6",
           "showlakes": true,
           "showland": true,
           "subunitcolor": "white"
          },
          "hoverlabel": {
           "align": "left"
          },
          "hovermode": "closest",
          "mapbox": {
           "style": "light"
          },
          "paper_bgcolor": "white",
          "plot_bgcolor": "#E5ECF6",
          "polar": {
           "angularaxis": {
            "gridcolor": "white",
            "linecolor": "white",
            "ticks": ""
           },
           "bgcolor": "#E5ECF6",
           "radialaxis": {
            "gridcolor": "white",
            "linecolor": "white",
            "ticks": ""
           }
          },
          "scene": {
           "xaxis": {
            "backgroundcolor": "#E5ECF6",
            "gridcolor": "white",
            "gridwidth": 2,
            "linecolor": "white",
            "showbackground": true,
            "ticks": "",
            "zerolinecolor": "white"
           },
           "yaxis": {
            "backgroundcolor": "#E5ECF6",
            "gridcolor": "white",
            "gridwidth": 2,
            "linecolor": "white",
            "showbackground": true,
            "ticks": "",
            "zerolinecolor": "white"
           },
           "zaxis": {
            "backgroundcolor": "#E5ECF6",
            "gridcolor": "white",
            "gridwidth": 2,
            "linecolor": "white",
            "showbackground": true,
            "ticks": "",
            "zerolinecolor": "white"
           }
          },
          "shapedefaults": {
           "line": {
            "color": "#2a3f5f"
           }
          },
          "ternary": {
           "aaxis": {
            "gridcolor": "white",
            "linecolor": "white",
            "ticks": ""
           },
           "baxis": {
            "gridcolor": "white",
            "linecolor": "white",
            "ticks": ""
           },
           "bgcolor": "#E5ECF6",
           "caxis": {
            "gridcolor": "white",
            "linecolor": "white",
            "ticks": ""
           }
          },
          "title": {
           "x": 0.05
          },
          "xaxis": {
           "automargin": true,
           "gridcolor": "white",
           "linecolor": "white",
           "ticks": "",
           "title": {
            "standoff": 15
           },
           "zerolinecolor": "white",
           "zerolinewidth": 2
          },
          "yaxis": {
           "automargin": true,
           "gridcolor": "white",
           "linecolor": "white",
           "ticks": "",
           "title": {
            "standoff": 15
           },
           "zerolinecolor": "white",
           "zerolinewidth": 2
          }
         }
        },
        "title": {
         "text": "IC50 predictions for acid"
        },
        "xaxis": {
         "anchor": "y",
         "domain": [
          0,
          1
         ],
         "title": {
          "text": "IC50"
         },
         "type": "log"
        },
        "yaxis": {
         "anchor": "x",
         "domain": [
          0,
          1
         ],
         "title": {
          "text": "predicted_IC50_mpnn_fp"
         },
         "type": "log"
        }
       }
      },
      "text/html": [
       "<div>                            <div id=\"319ba000-006c-4b75-bc70-dbbef7c36144\" class=\"plotly-graph-div\" style=\"height:800px; width:100%;\"></div>            <script type=\"text/javascript\">                require([\"plotly\"], function(Plotly) {                    window.PLOTLYENV=window.PLOTLYENV || {};                                    if (document.getElementById(\"319ba000-006c-4b75-bc70-dbbef7c36144\")) {                    Plotly.newPlot(                        \"319ba000-006c-4b75-bc70-dbbef7c36144\",                        [{\"hovertemplate\":\"IC50=%{x}<br>predicted_IC50_mpnn_fp=%{y}<extra></extra>\",\"legendgroup\":\"\",\"marker\":{\"color\":\"#636efa\",\"symbol\":\"circle\"},\"mode\":\"markers\",\"name\":\"mpnn_fp\",\"orientation\":\"v\",\"showlegend\":true,\"x\":[0.112,0.653,2.53,0.1,15.6,0.557,0.315,0.8,0.403,24.2,0.891,4.78,51.1,5.83,5.29,1.11,0.292,5.56,13.2,7.48,11.5,29.1,1.78,4.26,2.86,2.96,86.4,8.41,39.2,39.7,1.17,77.1,11.6,15.9,18.2,3.8,76.5,18.8,10.5,26.2,44.0,19.5,17.6,74.2],\"xaxis\":\"x\",\"y\":[3.3336897821607723,4.059251638420281,4.789575516949815,4.789575516949815,4.789575516949815,4.906554469456122,5.121468367404547,5.755078546804896,5.947972070646222,5.965986579562966,6.0886868671117105,6.128901334436712,6.317602952085143,7.110761766074481,7.324045391270902,7.518832492909111,7.761778472426411,8.75813365614764,10.401609447504617,10.934919600109172,11.836891145746941,12.196917420676783,12.900758614003864,15.826693109138578,15.999360052113316,15.999360052113316,15.999360052113316,16.153372328255244,16.232763427489065,19.293607927663064,19.338315634464653,19.7648883994738,20.36873545822835,21.564858042180582,21.964239101447507,22.022991131101612,22.701763429302616,24.08059944054586,24.161367960507036,26.95905420386514,28.93627365412723,29.600590578942764,37.73740584611643,49.765962867388154],\"yaxis\":\"y\",\"type\":\"scatter\"},{\"hovertemplate\":\"IC50=%{x}<br>predicted_IC50_morgan_fp=%{y}<extra></extra>\",\"legendgroup\":\"\",\"marker\":{\"color\":\"red\",\"symbol\":\"circle\"},\"mode\":\"markers\",\"name\":\"morgan_fp\",\"orientation\":\"v\",\"showlegend\":true,\"x\":[0.112,0.653,2.53,0.1,15.6,0.557,0.315,0.8,0.403,24.2,0.891,4.78,51.1,5.83,5.29,1.11,0.292,5.56,13.2,7.48,11.5,29.1,1.78,4.26,2.86,2.96,86.4,8.41,39.2,39.7,1.17,77.1,11.6,15.9,18.2,3.8,76.5,18.8,10.5,26.2,44.0,19.5,17.6,74.2],\"xaxis\":\"x\",\"y\":[0.3088958569317868,0.3088958569317868,0.3088958569317868,0.6152580085824226,0.6152580085824226,0.6152580085824226,0.6152580085824226,0.6152580085824226,0.6152580085824226,0.6152580085824226,0.6152580085824226,0.6152580085824226,0.6152580085824226,0.6152580085824226,0.6152580085824226,0.6152580085824226,0.6152580085824226,0.6152580085824226,0.6152580085824226,0.6152580085824226,0.6152580085824226,0.6152580085824226,0.6152580085824226,0.6152580085824226,0.6152580085824226,0.6152580085824226,0.6152580085824226,0.6152580085824226,0.6152580085824226,0.6152580085824226,0.6152580085824226,0.6152580085824226,0.6152580085824226,0.6152580085824226,0.6152580085824226,0.6152580085824226,0.6152580085824226,0.6152580085824226,0.8596057403147782,42.66145801539987,42.66145801539987,42.66145801539987,43.44482786855803,100.0],\"yaxis\":\"y\",\"type\":\"scatter\"}],                        {\"template\":{\"data\":{\"bar\":[{\"error_x\":{\"color\":\"#2a3f5f\"},\"error_y\":{\"color\":\"#2a3f5f\"},\"marker\":{\"line\":{\"color\":\"#E5ECF6\",\"width\":0.5},\"pattern\":{\"fillmode\":\"overlay\",\"size\":10,\"solidity\":0.2}},\"type\":\"bar\"}],\"barpolar\":[{\"marker\":{\"line\":{\"color\":\"#E5ECF6\",\"width\":0.5},\"pattern\":{\"fillmode\":\"overlay\",\"size\":10,\"solidity\":0.2}},\"type\":\"barpolar\"}],\"carpet\":[{\"aaxis\":{\"endlinecolor\":\"#2a3f5f\",\"gridcolor\":\"white\",\"linecolor\":\"white\",\"minorgridcolor\":\"white\",\"startlinecolor\":\"#2a3f5f\"},\"baxis\":{\"endlinecolor\":\"#2a3f5f\",\"gridcolor\":\"white\",\"linecolor\":\"white\",\"minorgridcolor\":\"white\",\"startlinecolor\":\"#2a3f5f\"},\"type\":\"carpet\"}],\"choropleth\":[{\"colorbar\":{\"outlinewidth\":0,\"ticks\":\"\"},\"type\":\"choropleth\"}],\"contour\":[{\"colorbar\":{\"outlinewidth\":0,\"ticks\":\"\"},\"colorscale\":[[0.0,\"#0d0887\"],[0.1111111111111111,\"#46039f\"],[0.2222222222222222,\"#7201a8\"],[0.3333333333333333,\"#9c179e\"],[0.4444444444444444,\"#bd3786\"],[0.5555555555555556,\"#d8576b\"],[0.6666666666666666,\"#ed7953\"],[0.7777777777777778,\"#fb9f3a\"],[0.8888888888888888,\"#fdca26\"],[1.0,\"#f0f921\"]],\"type\":\"contour\"}],\"contourcarpet\":[{\"colorbar\":{\"outlinewidth\":0,\"ticks\":\"\"},\"type\":\"contourcarpet\"}],\"heatmap\":[{\"colorbar\":{\"outlinewidth\":0,\"ticks\":\"\"},\"colorscale\":[[0.0,\"#0d0887\"],[0.1111111111111111,\"#46039f\"],[0.2222222222222222,\"#7201a8\"],[0.3333333333333333,\"#9c179e\"],[0.4444444444444444,\"#bd3786\"],[0.5555555555555556,\"#d8576b\"],[0.6666666666666666,\"#ed7953\"],[0.7777777777777778,\"#fb9f3a\"],[0.8888888888888888,\"#fdca26\"],[1.0,\"#f0f921\"]],\"type\":\"heatmap\"}],\"heatmapgl\":[{\"colorbar\":{\"outlinewidth\":0,\"ticks\":\"\"},\"colorscale\":[[0.0,\"#0d0887\"],[0.1111111111111111,\"#46039f\"],[0.2222222222222222,\"#7201a8\"],[0.3333333333333333,\"#9c179e\"],[0.4444444444444444,\"#bd3786\"],[0.5555555555555556,\"#d8576b\"],[0.6666666666666666,\"#ed7953\"],[0.7777777777777778,\"#fb9f3a\"],[0.8888888888888888,\"#fdca26\"],[1.0,\"#f0f921\"]],\"type\":\"heatmapgl\"}],\"histogram\":[{\"marker\":{\"pattern\":{\"fillmode\":\"overlay\",\"size\":10,\"solidity\":0.2}},\"type\":\"histogram\"}],\"histogram2d\":[{\"colorbar\":{\"outlinewidth\":0,\"ticks\":\"\"},\"colorscale\":[[0.0,\"#0d0887\"],[0.1111111111111111,\"#46039f\"],[0.2222222222222222,\"#7201a8\"],[0.3333333333333333,\"#9c179e\"],[0.4444444444444444,\"#bd3786\"],[0.5555555555555556,\"#d8576b\"],[0.6666666666666666,\"#ed7953\"],[0.7777777777777778,\"#fb9f3a\"],[0.8888888888888888,\"#fdca26\"],[1.0,\"#f0f921\"]],\"type\":\"histogram2d\"}],\"histogram2dcontour\":[{\"colorbar\":{\"outlinewidth\":0,\"ticks\":\"\"},\"colorscale\":[[0.0,\"#0d0887\"],[0.1111111111111111,\"#46039f\"],[0.2222222222222222,\"#7201a8\"],[0.3333333333333333,\"#9c179e\"],[0.4444444444444444,\"#bd3786\"],[0.5555555555555556,\"#d8576b\"],[0.6666666666666666,\"#ed7953\"],[0.7777777777777778,\"#fb9f3a\"],[0.8888888888888888,\"#fdca26\"],[1.0,\"#f0f921\"]],\"type\":\"histogram2dcontour\"}],\"mesh3d\":[{\"colorbar\":{\"outlinewidth\":0,\"ticks\":\"\"},\"type\":\"mesh3d\"}],\"parcoords\":[{\"line\":{\"colorbar\":{\"outlinewidth\":0,\"ticks\":\"\"}},\"type\":\"parcoords\"}],\"pie\":[{\"automargin\":true,\"type\":\"pie\"}],\"scatter\":[{\"marker\":{\"colorbar\":{\"outlinewidth\":0,\"ticks\":\"\"}},\"type\":\"scatter\"}],\"scatter3d\":[{\"line\":{\"colorbar\":{\"outlinewidth\":0,\"ticks\":\"\"}},\"marker\":{\"colorbar\":{\"outlinewidth\":0,\"ticks\":\"\"}},\"type\":\"scatter3d\"}],\"scattercarpet\":[{\"marker\":{\"colorbar\":{\"outlinewidth\":0,\"ticks\":\"\"}},\"type\":\"scattercarpet\"}],\"scattergeo\":[{\"marker\":{\"colorbar\":{\"outlinewidth\":0,\"ticks\":\"\"}},\"type\":\"scattergeo\"}],\"scattergl\":[{\"marker\":{\"colorbar\":{\"outlinewidth\":0,\"ticks\":\"\"}},\"type\":\"scattergl\"}],\"scattermapbox\":[{\"marker\":{\"colorbar\":{\"outlinewidth\":0,\"ticks\":\"\"}},\"type\":\"scattermapbox\"}],\"scatterpolar\":[{\"marker\":{\"colorbar\":{\"outlinewidth\":0,\"ticks\":\"\"}},\"type\":\"scatterpolar\"}],\"scatterpolargl\":[{\"marker\":{\"colorbar\":{\"outlinewidth\":0,\"ticks\":\"\"}},\"type\":\"scatterpolargl\"}],\"scatterternary\":[{\"marker\":{\"colorbar\":{\"outlinewidth\":0,\"ticks\":\"\"}},\"type\":\"scatterternary\"}],\"surface\":[{\"colorbar\":{\"outlinewidth\":0,\"ticks\":\"\"},\"colorscale\":[[0.0,\"#0d0887\"],[0.1111111111111111,\"#46039f\"],[0.2222222222222222,\"#7201a8\"],[0.3333333333333333,\"#9c179e\"],[0.4444444444444444,\"#bd3786\"],[0.5555555555555556,\"#d8576b\"],[0.6666666666666666,\"#ed7953\"],[0.7777777777777778,\"#fb9f3a\"],[0.8888888888888888,\"#fdca26\"],[1.0,\"#f0f921\"]],\"type\":\"surface\"}],\"table\":[{\"cells\":{\"fill\":{\"color\":\"#EBF0F8\"},\"line\":{\"color\":\"white\"}},\"header\":{\"fill\":{\"color\":\"#C8D4E3\"},\"line\":{\"color\":\"white\"}},\"type\":\"table\"}]},\"layout\":{\"annotationdefaults\":{\"arrowcolor\":\"#2a3f5f\",\"arrowhead\":0,\"arrowwidth\":1},\"autotypenumbers\":\"strict\",\"coloraxis\":{\"colorbar\":{\"outlinewidth\":0,\"ticks\":\"\"}},\"colorscale\":{\"diverging\":[[0,\"#8e0152\"],[0.1,\"#c51b7d\"],[0.2,\"#de77ae\"],[0.3,\"#f1b6da\"],[0.4,\"#fde0ef\"],[0.5,\"#f7f7f7\"],[0.6,\"#e6f5d0\"],[0.7,\"#b8e186\"],[0.8,\"#7fbc41\"],[0.9,\"#4d9221\"],[1,\"#276419\"]],\"sequential\":[[0.0,\"#0d0887\"],[0.1111111111111111,\"#46039f\"],[0.2222222222222222,\"#7201a8\"],[0.3333333333333333,\"#9c179e\"],[0.4444444444444444,\"#bd3786\"],[0.5555555555555556,\"#d8576b\"],[0.6666666666666666,\"#ed7953\"],[0.7777777777777778,\"#fb9f3a\"],[0.8888888888888888,\"#fdca26\"],[1.0,\"#f0f921\"]],\"sequentialminus\":[[0.0,\"#0d0887\"],[0.1111111111111111,\"#46039f\"],[0.2222222222222222,\"#7201a8\"],[0.3333333333333333,\"#9c179e\"],[0.4444444444444444,\"#bd3786\"],[0.5555555555555556,\"#d8576b\"],[0.6666666666666666,\"#ed7953\"],[0.7777777777777778,\"#fb9f3a\"],[0.8888888888888888,\"#fdca26\"],[1.0,\"#f0f921\"]]},\"colorway\":[\"#636efa\",\"#EF553B\",\"#00cc96\",\"#ab63fa\",\"#FFA15A\",\"#19d3f3\",\"#FF6692\",\"#B6E880\",\"#FF97FF\",\"#FECB52\"],\"font\":{\"color\":\"#2a3f5f\"},\"geo\":{\"bgcolor\":\"white\",\"lakecolor\":\"white\",\"landcolor\":\"#E5ECF6\",\"showlakes\":true,\"showland\":true,\"subunitcolor\":\"white\"},\"hoverlabel\":{\"align\":\"left\"},\"hovermode\":\"closest\",\"mapbox\":{\"style\":\"light\"},\"paper_bgcolor\":\"white\",\"plot_bgcolor\":\"#E5ECF6\",\"polar\":{\"angularaxis\":{\"gridcolor\":\"white\",\"linecolor\":\"white\",\"ticks\":\"\"},\"bgcolor\":\"#E5ECF6\",\"radialaxis\":{\"gridcolor\":\"white\",\"linecolor\":\"white\",\"ticks\":\"\"}},\"scene\":{\"xaxis\":{\"backgroundcolor\":\"#E5ECF6\",\"gridcolor\":\"white\",\"gridwidth\":2,\"linecolor\":\"white\",\"showbackground\":true,\"ticks\":\"\",\"zerolinecolor\":\"white\"},\"yaxis\":{\"backgroundcolor\":\"#E5ECF6\",\"gridcolor\":\"white\",\"gridwidth\":2,\"linecolor\":\"white\",\"showbackground\":true,\"ticks\":\"\",\"zerolinecolor\":\"white\"},\"zaxis\":{\"backgroundcolor\":\"#E5ECF6\",\"gridcolor\":\"white\",\"gridwidth\":2,\"linecolor\":\"white\",\"showbackground\":true,\"ticks\":\"\",\"zerolinecolor\":\"white\"}},\"shapedefaults\":{\"line\":{\"color\":\"#2a3f5f\"}},\"ternary\":{\"aaxis\":{\"gridcolor\":\"white\",\"linecolor\":\"white\",\"ticks\":\"\"},\"baxis\":{\"gridcolor\":\"white\",\"linecolor\":\"white\",\"ticks\":\"\"},\"bgcolor\":\"#E5ECF6\",\"caxis\":{\"gridcolor\":\"white\",\"linecolor\":\"white\",\"ticks\":\"\"}},\"title\":{\"x\":0.05},\"xaxis\":{\"automargin\":true,\"gridcolor\":\"white\",\"linecolor\":\"white\",\"ticks\":\"\",\"title\":{\"standoff\":15},\"zerolinecolor\":\"white\",\"zerolinewidth\":2},\"yaxis\":{\"automargin\":true,\"gridcolor\":\"white\",\"linecolor\":\"white\",\"ticks\":\"\",\"title\":{\"standoff\":15},\"zerolinecolor\":\"white\",\"zerolinewidth\":2}}},\"xaxis\":{\"anchor\":\"y\",\"domain\":[0.0,1.0],\"title\":{\"text\":\"IC50\"},\"type\":\"log\"},\"yaxis\":{\"anchor\":\"x\",\"domain\":[0.0,1.0],\"title\":{\"text\":\"predicted_IC50_mpnn_fp\"},\"type\":\"log\"},\"legend\":{\"tracegroupgap\":0},\"title\":{\"text\":\"IC50 predictions for acid\"},\"height\":800,\"shapes\":[{\"line\":{\"color\":\"black\",\"dash\":\"dash\"},\"type\":\"line\",\"x0\":0.1,\"x1\":100,\"y0\":0.1,\"y1\":100}]},                        {\"responsive\": true}                    ).then(function(){\n",
       "                            \n",
       "var gd = document.getElementById('319ba000-006c-4b75-bc70-dbbef7c36144');\n",
       "var x = new MutationObserver(function (mutations, observer) {{\n",
       "        var display = window.getComputedStyle(gd).display;\n",
       "        if (!display || display === 'none') {{\n",
       "            console.log([gd, 'removed!']);\n",
       "            Plotly.purge(gd);\n",
       "            observer.disconnect();\n",
       "        }}\n",
       "}});\n",
       "\n",
       "// Listen for the removal of the full notebook cells\n",
       "var notebookContainer = gd.closest('#notebook-container');\n",
       "if (notebookContainer) {{\n",
       "    x.observe(notebookContainer, {childList: true});\n",
       "}}\n",
       "\n",
       "// Listen for the clearing of the current output cell\n",
       "var outputEl = gd.closest('.output');\n",
       "if (outputEl) {{\n",
       "    x.observe(outputEl, {childList: true});\n",
       "}}\n",
       "\n",
       "                        })                };                });            </script>        </div>"
      ]
     },
     "metadata": {},
     "output_type": "display_data"
    },
    {
     "name": "stdout",
     "output_type": "stream",
     "text": [
      "R2 score on Ugi aldehyde mpnn_fp:  (mpnn_fp): -0.456\n",
      "rho score on Ugi aldehyde mpnn_fp:  (mpnn_fp): 0.686\n",
      "R2 score on Ugi aldehyde morgan_fp:  (morgan_fp): -0.575\n",
      "rho score on Ugi aldehyde morgan_fp:  (morgan_fp): 0.686\n"
     ]
    },
    {
     "data": {
      "application/vnd.plotly.v1+json": {
       "config": {
        "plotlyServerURL": "https://plot.ly"
       },
       "data": [
        {
         "hovertemplate": "IC50=%{x}<br>predicted_IC50_mpnn_fp=%{y}<extra></extra>",
         "legendgroup": "",
         "marker": {
          "color": "#636efa",
          "symbol": "circle"
         },
         "mode": "markers",
         "name": "mpnn_fp",
         "orientation": "v",
         "showlegend": true,
         "type": "scatter",
         "x": [
          0.653,
          0.2,
          0.112,
          0.557,
          2.05,
          0.403,
          1.21,
          0.315,
          2.92,
          5.33,
          8.43,
          33.4,
          37.5,
          2.28,
          1.16
         ],
         "xaxis": "x",
         "y": [
          2.3732154156301966,
          2.5324564164321117,
          2.6120697514032702,
          2.6931205206103543,
          3.1133040881251985,
          3.5623409879851007,
          3.690047476669604,
          5.083516186750582,
          8.524347160864869,
          23.336282672887155,
          23.962826975120116,
          32.13750944143113,
          33.90779223586933,
          35.18716295027412,
          54.14402368136561
         ],
         "yaxis": "y"
        },
        {
         "hovertemplate": "IC50=%{x}<br>predicted_IC50_morgan_fp=%{y}<extra></extra>",
         "legendgroup": "",
         "marker": {
          "color": "red",
          "symbol": "circle"
         },
         "mode": "markers",
         "name": "morgan_fp",
         "orientation": "v",
         "showlegend": true,
         "type": "scatter",
         "x": [
          0.653,
          0.2,
          0.112,
          0.557,
          2.05,
          0.403,
          1.21,
          0.315,
          2.92,
          5.33,
          8.43,
          33.4,
          37.5,
          2.28,
          1.16
         ],
         "xaxis": "x",
         "y": [
          2.7018186608185464,
          2.9401762515606005,
          4.605019311841353,
          4.969942718124763,
          5.779721410713467,
          6.818137222344747,
          6.905595628366703,
          7.439544103677764,
          7.658952131135851,
          12.34338562033482,
          12.375261888398226,
          16.203150241510116,
          17.173686423205606,
          18.168444786691893,
          23.04792426489814
         ],
         "yaxis": "y"
        }
       ],
       "layout": {
        "height": 800,
        "legend": {
         "tracegroupgap": 0
        },
        "shapes": [
         {
          "line": {
           "color": "black",
           "dash": "dash"
          },
          "type": "line",
          "x0": 0.1,
          "x1": 100,
          "y0": 0.1,
          "y1": 100
         }
        ],
        "template": {
         "data": {
          "bar": [
           {
            "error_x": {
             "color": "#2a3f5f"
            },
            "error_y": {
             "color": "#2a3f5f"
            },
            "marker": {
             "line": {
              "color": "#E5ECF6",
              "width": 0.5
             },
             "pattern": {
              "fillmode": "overlay",
              "size": 10,
              "solidity": 0.2
             }
            },
            "type": "bar"
           }
          ],
          "barpolar": [
           {
            "marker": {
             "line": {
              "color": "#E5ECF6",
              "width": 0.5
             },
             "pattern": {
              "fillmode": "overlay",
              "size": 10,
              "solidity": 0.2
             }
            },
            "type": "barpolar"
           }
          ],
          "carpet": [
           {
            "aaxis": {
             "endlinecolor": "#2a3f5f",
             "gridcolor": "white",
             "linecolor": "white",
             "minorgridcolor": "white",
             "startlinecolor": "#2a3f5f"
            },
            "baxis": {
             "endlinecolor": "#2a3f5f",
             "gridcolor": "white",
             "linecolor": "white",
             "minorgridcolor": "white",
             "startlinecolor": "#2a3f5f"
            },
            "type": "carpet"
           }
          ],
          "choropleth": [
           {
            "colorbar": {
             "outlinewidth": 0,
             "ticks": ""
            },
            "type": "choropleth"
           }
          ],
          "contour": [
           {
            "colorbar": {
             "outlinewidth": 0,
             "ticks": ""
            },
            "colorscale": [
             [
              0,
              "#0d0887"
             ],
             [
              0.1111111111111111,
              "#46039f"
             ],
             [
              0.2222222222222222,
              "#7201a8"
             ],
             [
              0.3333333333333333,
              "#9c179e"
             ],
             [
              0.4444444444444444,
              "#bd3786"
             ],
             [
              0.5555555555555556,
              "#d8576b"
             ],
             [
              0.6666666666666666,
              "#ed7953"
             ],
             [
              0.7777777777777778,
              "#fb9f3a"
             ],
             [
              0.8888888888888888,
              "#fdca26"
             ],
             [
              1,
              "#f0f921"
             ]
            ],
            "type": "contour"
           }
          ],
          "contourcarpet": [
           {
            "colorbar": {
             "outlinewidth": 0,
             "ticks": ""
            },
            "type": "contourcarpet"
           }
          ],
          "heatmap": [
           {
            "colorbar": {
             "outlinewidth": 0,
             "ticks": ""
            },
            "colorscale": [
             [
              0,
              "#0d0887"
             ],
             [
              0.1111111111111111,
              "#46039f"
             ],
             [
              0.2222222222222222,
              "#7201a8"
             ],
             [
              0.3333333333333333,
              "#9c179e"
             ],
             [
              0.4444444444444444,
              "#bd3786"
             ],
             [
              0.5555555555555556,
              "#d8576b"
             ],
             [
              0.6666666666666666,
              "#ed7953"
             ],
             [
              0.7777777777777778,
              "#fb9f3a"
             ],
             [
              0.8888888888888888,
              "#fdca26"
             ],
             [
              1,
              "#f0f921"
             ]
            ],
            "type": "heatmap"
           }
          ],
          "heatmapgl": [
           {
            "colorbar": {
             "outlinewidth": 0,
             "ticks": ""
            },
            "colorscale": [
             [
              0,
              "#0d0887"
             ],
             [
              0.1111111111111111,
              "#46039f"
             ],
             [
              0.2222222222222222,
              "#7201a8"
             ],
             [
              0.3333333333333333,
              "#9c179e"
             ],
             [
              0.4444444444444444,
              "#bd3786"
             ],
             [
              0.5555555555555556,
              "#d8576b"
             ],
             [
              0.6666666666666666,
              "#ed7953"
             ],
             [
              0.7777777777777778,
              "#fb9f3a"
             ],
             [
              0.8888888888888888,
              "#fdca26"
             ],
             [
              1,
              "#f0f921"
             ]
            ],
            "type": "heatmapgl"
           }
          ],
          "histogram": [
           {
            "marker": {
             "pattern": {
              "fillmode": "overlay",
              "size": 10,
              "solidity": 0.2
             }
            },
            "type": "histogram"
           }
          ],
          "histogram2d": [
           {
            "colorbar": {
             "outlinewidth": 0,
             "ticks": ""
            },
            "colorscale": [
             [
              0,
              "#0d0887"
             ],
             [
              0.1111111111111111,
              "#46039f"
             ],
             [
              0.2222222222222222,
              "#7201a8"
             ],
             [
              0.3333333333333333,
              "#9c179e"
             ],
             [
              0.4444444444444444,
              "#bd3786"
             ],
             [
              0.5555555555555556,
              "#d8576b"
             ],
             [
              0.6666666666666666,
              "#ed7953"
             ],
             [
              0.7777777777777778,
              "#fb9f3a"
             ],
             [
              0.8888888888888888,
              "#fdca26"
             ],
             [
              1,
              "#f0f921"
             ]
            ],
            "type": "histogram2d"
           }
          ],
          "histogram2dcontour": [
           {
            "colorbar": {
             "outlinewidth": 0,
             "ticks": ""
            },
            "colorscale": [
             [
              0,
              "#0d0887"
             ],
             [
              0.1111111111111111,
              "#46039f"
             ],
             [
              0.2222222222222222,
              "#7201a8"
             ],
             [
              0.3333333333333333,
              "#9c179e"
             ],
             [
              0.4444444444444444,
              "#bd3786"
             ],
             [
              0.5555555555555556,
              "#d8576b"
             ],
             [
              0.6666666666666666,
              "#ed7953"
             ],
             [
              0.7777777777777778,
              "#fb9f3a"
             ],
             [
              0.8888888888888888,
              "#fdca26"
             ],
             [
              1,
              "#f0f921"
             ]
            ],
            "type": "histogram2dcontour"
           }
          ],
          "mesh3d": [
           {
            "colorbar": {
             "outlinewidth": 0,
             "ticks": ""
            },
            "type": "mesh3d"
           }
          ],
          "parcoords": [
           {
            "line": {
             "colorbar": {
              "outlinewidth": 0,
              "ticks": ""
             }
            },
            "type": "parcoords"
           }
          ],
          "pie": [
           {
            "automargin": true,
            "type": "pie"
           }
          ],
          "scatter": [
           {
            "marker": {
             "colorbar": {
              "outlinewidth": 0,
              "ticks": ""
             }
            },
            "type": "scatter"
           }
          ],
          "scatter3d": [
           {
            "line": {
             "colorbar": {
              "outlinewidth": 0,
              "ticks": ""
             }
            },
            "marker": {
             "colorbar": {
              "outlinewidth": 0,
              "ticks": ""
             }
            },
            "type": "scatter3d"
           }
          ],
          "scattercarpet": [
           {
            "marker": {
             "colorbar": {
              "outlinewidth": 0,
              "ticks": ""
             }
            },
            "type": "scattercarpet"
           }
          ],
          "scattergeo": [
           {
            "marker": {
             "colorbar": {
              "outlinewidth": 0,
              "ticks": ""
             }
            },
            "type": "scattergeo"
           }
          ],
          "scattergl": [
           {
            "marker": {
             "colorbar": {
              "outlinewidth": 0,
              "ticks": ""
             }
            },
            "type": "scattergl"
           }
          ],
          "scattermapbox": [
           {
            "marker": {
             "colorbar": {
              "outlinewidth": 0,
              "ticks": ""
             }
            },
            "type": "scattermapbox"
           }
          ],
          "scatterpolar": [
           {
            "marker": {
             "colorbar": {
              "outlinewidth": 0,
              "ticks": ""
             }
            },
            "type": "scatterpolar"
           }
          ],
          "scatterpolargl": [
           {
            "marker": {
             "colorbar": {
              "outlinewidth": 0,
              "ticks": ""
             }
            },
            "type": "scatterpolargl"
           }
          ],
          "scatterternary": [
           {
            "marker": {
             "colorbar": {
              "outlinewidth": 0,
              "ticks": ""
             }
            },
            "type": "scatterternary"
           }
          ],
          "surface": [
           {
            "colorbar": {
             "outlinewidth": 0,
             "ticks": ""
            },
            "colorscale": [
             [
              0,
              "#0d0887"
             ],
             [
              0.1111111111111111,
              "#46039f"
             ],
             [
              0.2222222222222222,
              "#7201a8"
             ],
             [
              0.3333333333333333,
              "#9c179e"
             ],
             [
              0.4444444444444444,
              "#bd3786"
             ],
             [
              0.5555555555555556,
              "#d8576b"
             ],
             [
              0.6666666666666666,
              "#ed7953"
             ],
             [
              0.7777777777777778,
              "#fb9f3a"
             ],
             [
              0.8888888888888888,
              "#fdca26"
             ],
             [
              1,
              "#f0f921"
             ]
            ],
            "type": "surface"
           }
          ],
          "table": [
           {
            "cells": {
             "fill": {
              "color": "#EBF0F8"
             },
             "line": {
              "color": "white"
             }
            },
            "header": {
             "fill": {
              "color": "#C8D4E3"
             },
             "line": {
              "color": "white"
             }
            },
            "type": "table"
           }
          ]
         },
         "layout": {
          "annotationdefaults": {
           "arrowcolor": "#2a3f5f",
           "arrowhead": 0,
           "arrowwidth": 1
          },
          "autotypenumbers": "strict",
          "coloraxis": {
           "colorbar": {
            "outlinewidth": 0,
            "ticks": ""
           }
          },
          "colorscale": {
           "diverging": [
            [
             0,
             "#8e0152"
            ],
            [
             0.1,
             "#c51b7d"
            ],
            [
             0.2,
             "#de77ae"
            ],
            [
             0.3,
             "#f1b6da"
            ],
            [
             0.4,
             "#fde0ef"
            ],
            [
             0.5,
             "#f7f7f7"
            ],
            [
             0.6,
             "#e6f5d0"
            ],
            [
             0.7,
             "#b8e186"
            ],
            [
             0.8,
             "#7fbc41"
            ],
            [
             0.9,
             "#4d9221"
            ],
            [
             1,
             "#276419"
            ]
           ],
           "sequential": [
            [
             0,
             "#0d0887"
            ],
            [
             0.1111111111111111,
             "#46039f"
            ],
            [
             0.2222222222222222,
             "#7201a8"
            ],
            [
             0.3333333333333333,
             "#9c179e"
            ],
            [
             0.4444444444444444,
             "#bd3786"
            ],
            [
             0.5555555555555556,
             "#d8576b"
            ],
            [
             0.6666666666666666,
             "#ed7953"
            ],
            [
             0.7777777777777778,
             "#fb9f3a"
            ],
            [
             0.8888888888888888,
             "#fdca26"
            ],
            [
             1,
             "#f0f921"
            ]
           ],
           "sequentialminus": [
            [
             0,
             "#0d0887"
            ],
            [
             0.1111111111111111,
             "#46039f"
            ],
            [
             0.2222222222222222,
             "#7201a8"
            ],
            [
             0.3333333333333333,
             "#9c179e"
            ],
            [
             0.4444444444444444,
             "#bd3786"
            ],
            [
             0.5555555555555556,
             "#d8576b"
            ],
            [
             0.6666666666666666,
             "#ed7953"
            ],
            [
             0.7777777777777778,
             "#fb9f3a"
            ],
            [
             0.8888888888888888,
             "#fdca26"
            ],
            [
             1,
             "#f0f921"
            ]
           ]
          },
          "colorway": [
           "#636efa",
           "#EF553B",
           "#00cc96",
           "#ab63fa",
           "#FFA15A",
           "#19d3f3",
           "#FF6692",
           "#B6E880",
           "#FF97FF",
           "#FECB52"
          ],
          "font": {
           "color": "#2a3f5f"
          },
          "geo": {
           "bgcolor": "white",
           "lakecolor": "white",
           "landcolor": "#E5ECF6",
           "showlakes": true,
           "showland": true,
           "subunitcolor": "white"
          },
          "hoverlabel": {
           "align": "left"
          },
          "hovermode": "closest",
          "mapbox": {
           "style": "light"
          },
          "paper_bgcolor": "white",
          "plot_bgcolor": "#E5ECF6",
          "polar": {
           "angularaxis": {
            "gridcolor": "white",
            "linecolor": "white",
            "ticks": ""
           },
           "bgcolor": "#E5ECF6",
           "radialaxis": {
            "gridcolor": "white",
            "linecolor": "white",
            "ticks": ""
           }
          },
          "scene": {
           "xaxis": {
            "backgroundcolor": "#E5ECF6",
            "gridcolor": "white",
            "gridwidth": 2,
            "linecolor": "white",
            "showbackground": true,
            "ticks": "",
            "zerolinecolor": "white"
           },
           "yaxis": {
            "backgroundcolor": "#E5ECF6",
            "gridcolor": "white",
            "gridwidth": 2,
            "linecolor": "white",
            "showbackground": true,
            "ticks": "",
            "zerolinecolor": "white"
           },
           "zaxis": {
            "backgroundcolor": "#E5ECF6",
            "gridcolor": "white",
            "gridwidth": 2,
            "linecolor": "white",
            "showbackground": true,
            "ticks": "",
            "zerolinecolor": "white"
           }
          },
          "shapedefaults": {
           "line": {
            "color": "#2a3f5f"
           }
          },
          "ternary": {
           "aaxis": {
            "gridcolor": "white",
            "linecolor": "white",
            "ticks": ""
           },
           "baxis": {
            "gridcolor": "white",
            "linecolor": "white",
            "ticks": ""
           },
           "bgcolor": "#E5ECF6",
           "caxis": {
            "gridcolor": "white",
            "linecolor": "white",
            "ticks": ""
           }
          },
          "title": {
           "x": 0.05
          },
          "xaxis": {
           "automargin": true,
           "gridcolor": "white",
           "linecolor": "white",
           "ticks": "",
           "title": {
            "standoff": 15
           },
           "zerolinecolor": "white",
           "zerolinewidth": 2
          },
          "yaxis": {
           "automargin": true,
           "gridcolor": "white",
           "linecolor": "white",
           "ticks": "",
           "title": {
            "standoff": 15
           },
           "zerolinecolor": "white",
           "zerolinewidth": 2
          }
         }
        },
        "title": {
         "text": "IC50 predictions for aldehyde"
        },
        "xaxis": {
         "anchor": "y",
         "domain": [
          0,
          1
         ],
         "title": {
          "text": "IC50"
         },
         "type": "log"
        },
        "yaxis": {
         "anchor": "x",
         "domain": [
          0,
          1
         ],
         "title": {
          "text": "predicted_IC50_mpnn_fp"
         },
         "type": "log"
        }
       }
      },
      "text/html": [
       "<div>                            <div id=\"0c9340dc-8c17-4e94-aa75-884c9774b73c\" class=\"plotly-graph-div\" style=\"height:800px; width:100%;\"></div>            <script type=\"text/javascript\">                require([\"plotly\"], function(Plotly) {                    window.PLOTLYENV=window.PLOTLYENV || {};                                    if (document.getElementById(\"0c9340dc-8c17-4e94-aa75-884c9774b73c\")) {                    Plotly.newPlot(                        \"0c9340dc-8c17-4e94-aa75-884c9774b73c\",                        [{\"hovertemplate\":\"IC50=%{x}<br>predicted_IC50_mpnn_fp=%{y}<extra></extra>\",\"legendgroup\":\"\",\"marker\":{\"color\":\"#636efa\",\"symbol\":\"circle\"},\"mode\":\"markers\",\"name\":\"mpnn_fp\",\"orientation\":\"v\",\"showlegend\":true,\"x\":[0.653,0.2,0.112,0.557,2.05,0.403,1.21,0.315,2.92,5.33,8.43,33.4,37.5,2.28,1.16],\"xaxis\":\"x\",\"y\":[2.3732154156301966,2.5324564164321117,2.6120697514032702,2.6931205206103543,3.1133040881251985,3.5623409879851007,3.690047476669604,5.083516186750582,8.524347160864869,23.336282672887155,23.962826975120116,32.13750944143113,33.90779223586933,35.18716295027412,54.14402368136561],\"yaxis\":\"y\",\"type\":\"scatter\"},{\"hovertemplate\":\"IC50=%{x}<br>predicted_IC50_morgan_fp=%{y}<extra></extra>\",\"legendgroup\":\"\",\"marker\":{\"color\":\"red\",\"symbol\":\"circle\"},\"mode\":\"markers\",\"name\":\"morgan_fp\",\"orientation\":\"v\",\"showlegend\":true,\"x\":[0.653,0.2,0.112,0.557,2.05,0.403,1.21,0.315,2.92,5.33,8.43,33.4,37.5,2.28,1.16],\"xaxis\":\"x\",\"y\":[2.7018186608185464,2.9401762515606005,4.605019311841353,4.969942718124763,5.779721410713467,6.818137222344747,6.905595628366703,7.439544103677764,7.658952131135851,12.34338562033482,12.375261888398226,16.203150241510116,17.173686423205606,18.168444786691893,23.04792426489814],\"yaxis\":\"y\",\"type\":\"scatter\"}],                        {\"template\":{\"data\":{\"bar\":[{\"error_x\":{\"color\":\"#2a3f5f\"},\"error_y\":{\"color\":\"#2a3f5f\"},\"marker\":{\"line\":{\"color\":\"#E5ECF6\",\"width\":0.5},\"pattern\":{\"fillmode\":\"overlay\",\"size\":10,\"solidity\":0.2}},\"type\":\"bar\"}],\"barpolar\":[{\"marker\":{\"line\":{\"color\":\"#E5ECF6\",\"width\":0.5},\"pattern\":{\"fillmode\":\"overlay\",\"size\":10,\"solidity\":0.2}},\"type\":\"barpolar\"}],\"carpet\":[{\"aaxis\":{\"endlinecolor\":\"#2a3f5f\",\"gridcolor\":\"white\",\"linecolor\":\"white\",\"minorgridcolor\":\"white\",\"startlinecolor\":\"#2a3f5f\"},\"baxis\":{\"endlinecolor\":\"#2a3f5f\",\"gridcolor\":\"white\",\"linecolor\":\"white\",\"minorgridcolor\":\"white\",\"startlinecolor\":\"#2a3f5f\"},\"type\":\"carpet\"}],\"choropleth\":[{\"colorbar\":{\"outlinewidth\":0,\"ticks\":\"\"},\"type\":\"choropleth\"}],\"contour\":[{\"colorbar\":{\"outlinewidth\":0,\"ticks\":\"\"},\"colorscale\":[[0.0,\"#0d0887\"],[0.1111111111111111,\"#46039f\"],[0.2222222222222222,\"#7201a8\"],[0.3333333333333333,\"#9c179e\"],[0.4444444444444444,\"#bd3786\"],[0.5555555555555556,\"#d8576b\"],[0.6666666666666666,\"#ed7953\"],[0.7777777777777778,\"#fb9f3a\"],[0.8888888888888888,\"#fdca26\"],[1.0,\"#f0f921\"]],\"type\":\"contour\"}],\"contourcarpet\":[{\"colorbar\":{\"outlinewidth\":0,\"ticks\":\"\"},\"type\":\"contourcarpet\"}],\"heatmap\":[{\"colorbar\":{\"outlinewidth\":0,\"ticks\":\"\"},\"colorscale\":[[0.0,\"#0d0887\"],[0.1111111111111111,\"#46039f\"],[0.2222222222222222,\"#7201a8\"],[0.3333333333333333,\"#9c179e\"],[0.4444444444444444,\"#bd3786\"],[0.5555555555555556,\"#d8576b\"],[0.6666666666666666,\"#ed7953\"],[0.7777777777777778,\"#fb9f3a\"],[0.8888888888888888,\"#fdca26\"],[1.0,\"#f0f921\"]],\"type\":\"heatmap\"}],\"heatmapgl\":[{\"colorbar\":{\"outlinewidth\":0,\"ticks\":\"\"},\"colorscale\":[[0.0,\"#0d0887\"],[0.1111111111111111,\"#46039f\"],[0.2222222222222222,\"#7201a8\"],[0.3333333333333333,\"#9c179e\"],[0.4444444444444444,\"#bd3786\"],[0.5555555555555556,\"#d8576b\"],[0.6666666666666666,\"#ed7953\"],[0.7777777777777778,\"#fb9f3a\"],[0.8888888888888888,\"#fdca26\"],[1.0,\"#f0f921\"]],\"type\":\"heatmapgl\"}],\"histogram\":[{\"marker\":{\"pattern\":{\"fillmode\":\"overlay\",\"size\":10,\"solidity\":0.2}},\"type\":\"histogram\"}],\"histogram2d\":[{\"colorbar\":{\"outlinewidth\":0,\"ticks\":\"\"},\"colorscale\":[[0.0,\"#0d0887\"],[0.1111111111111111,\"#46039f\"],[0.2222222222222222,\"#7201a8\"],[0.3333333333333333,\"#9c179e\"],[0.4444444444444444,\"#bd3786\"],[0.5555555555555556,\"#d8576b\"],[0.6666666666666666,\"#ed7953\"],[0.7777777777777778,\"#fb9f3a\"],[0.8888888888888888,\"#fdca26\"],[1.0,\"#f0f921\"]],\"type\":\"histogram2d\"}],\"histogram2dcontour\":[{\"colorbar\":{\"outlinewidth\":0,\"ticks\":\"\"},\"colorscale\":[[0.0,\"#0d0887\"],[0.1111111111111111,\"#46039f\"],[0.2222222222222222,\"#7201a8\"],[0.3333333333333333,\"#9c179e\"],[0.4444444444444444,\"#bd3786\"],[0.5555555555555556,\"#d8576b\"],[0.6666666666666666,\"#ed7953\"],[0.7777777777777778,\"#fb9f3a\"],[0.8888888888888888,\"#fdca26\"],[1.0,\"#f0f921\"]],\"type\":\"histogram2dcontour\"}],\"mesh3d\":[{\"colorbar\":{\"outlinewidth\":0,\"ticks\":\"\"},\"type\":\"mesh3d\"}],\"parcoords\":[{\"line\":{\"colorbar\":{\"outlinewidth\":0,\"ticks\":\"\"}},\"type\":\"parcoords\"}],\"pie\":[{\"automargin\":true,\"type\":\"pie\"}],\"scatter\":[{\"marker\":{\"colorbar\":{\"outlinewidth\":0,\"ticks\":\"\"}},\"type\":\"scatter\"}],\"scatter3d\":[{\"line\":{\"colorbar\":{\"outlinewidth\":0,\"ticks\":\"\"}},\"marker\":{\"colorbar\":{\"outlinewidth\":0,\"ticks\":\"\"}},\"type\":\"scatter3d\"}],\"scattercarpet\":[{\"marker\":{\"colorbar\":{\"outlinewidth\":0,\"ticks\":\"\"}},\"type\":\"scattercarpet\"}],\"scattergeo\":[{\"marker\":{\"colorbar\":{\"outlinewidth\":0,\"ticks\":\"\"}},\"type\":\"scattergeo\"}],\"scattergl\":[{\"marker\":{\"colorbar\":{\"outlinewidth\":0,\"ticks\":\"\"}},\"type\":\"scattergl\"}],\"scattermapbox\":[{\"marker\":{\"colorbar\":{\"outlinewidth\":0,\"ticks\":\"\"}},\"type\":\"scattermapbox\"}],\"scatterpolar\":[{\"marker\":{\"colorbar\":{\"outlinewidth\":0,\"ticks\":\"\"}},\"type\":\"scatterpolar\"}],\"scatterpolargl\":[{\"marker\":{\"colorbar\":{\"outlinewidth\":0,\"ticks\":\"\"}},\"type\":\"scatterpolargl\"}],\"scatterternary\":[{\"marker\":{\"colorbar\":{\"outlinewidth\":0,\"ticks\":\"\"}},\"type\":\"scatterternary\"}],\"surface\":[{\"colorbar\":{\"outlinewidth\":0,\"ticks\":\"\"},\"colorscale\":[[0.0,\"#0d0887\"],[0.1111111111111111,\"#46039f\"],[0.2222222222222222,\"#7201a8\"],[0.3333333333333333,\"#9c179e\"],[0.4444444444444444,\"#bd3786\"],[0.5555555555555556,\"#d8576b\"],[0.6666666666666666,\"#ed7953\"],[0.7777777777777778,\"#fb9f3a\"],[0.8888888888888888,\"#fdca26\"],[1.0,\"#f0f921\"]],\"type\":\"surface\"}],\"table\":[{\"cells\":{\"fill\":{\"color\":\"#EBF0F8\"},\"line\":{\"color\":\"white\"}},\"header\":{\"fill\":{\"color\":\"#C8D4E3\"},\"line\":{\"color\":\"white\"}},\"type\":\"table\"}]},\"layout\":{\"annotationdefaults\":{\"arrowcolor\":\"#2a3f5f\",\"arrowhead\":0,\"arrowwidth\":1},\"autotypenumbers\":\"strict\",\"coloraxis\":{\"colorbar\":{\"outlinewidth\":0,\"ticks\":\"\"}},\"colorscale\":{\"diverging\":[[0,\"#8e0152\"],[0.1,\"#c51b7d\"],[0.2,\"#de77ae\"],[0.3,\"#f1b6da\"],[0.4,\"#fde0ef\"],[0.5,\"#f7f7f7\"],[0.6,\"#e6f5d0\"],[0.7,\"#b8e186\"],[0.8,\"#7fbc41\"],[0.9,\"#4d9221\"],[1,\"#276419\"]],\"sequential\":[[0.0,\"#0d0887\"],[0.1111111111111111,\"#46039f\"],[0.2222222222222222,\"#7201a8\"],[0.3333333333333333,\"#9c179e\"],[0.4444444444444444,\"#bd3786\"],[0.5555555555555556,\"#d8576b\"],[0.6666666666666666,\"#ed7953\"],[0.7777777777777778,\"#fb9f3a\"],[0.8888888888888888,\"#fdca26\"],[1.0,\"#f0f921\"]],\"sequentialminus\":[[0.0,\"#0d0887\"],[0.1111111111111111,\"#46039f\"],[0.2222222222222222,\"#7201a8\"],[0.3333333333333333,\"#9c179e\"],[0.4444444444444444,\"#bd3786\"],[0.5555555555555556,\"#d8576b\"],[0.6666666666666666,\"#ed7953\"],[0.7777777777777778,\"#fb9f3a\"],[0.8888888888888888,\"#fdca26\"],[1.0,\"#f0f921\"]]},\"colorway\":[\"#636efa\",\"#EF553B\",\"#00cc96\",\"#ab63fa\",\"#FFA15A\",\"#19d3f3\",\"#FF6692\",\"#B6E880\",\"#FF97FF\",\"#FECB52\"],\"font\":{\"color\":\"#2a3f5f\"},\"geo\":{\"bgcolor\":\"white\",\"lakecolor\":\"white\",\"landcolor\":\"#E5ECF6\",\"showlakes\":true,\"showland\":true,\"subunitcolor\":\"white\"},\"hoverlabel\":{\"align\":\"left\"},\"hovermode\":\"closest\",\"mapbox\":{\"style\":\"light\"},\"paper_bgcolor\":\"white\",\"plot_bgcolor\":\"#E5ECF6\",\"polar\":{\"angularaxis\":{\"gridcolor\":\"white\",\"linecolor\":\"white\",\"ticks\":\"\"},\"bgcolor\":\"#E5ECF6\",\"radialaxis\":{\"gridcolor\":\"white\",\"linecolor\":\"white\",\"ticks\":\"\"}},\"scene\":{\"xaxis\":{\"backgroundcolor\":\"#E5ECF6\",\"gridcolor\":\"white\",\"gridwidth\":2,\"linecolor\":\"white\",\"showbackground\":true,\"ticks\":\"\",\"zerolinecolor\":\"white\"},\"yaxis\":{\"backgroundcolor\":\"#E5ECF6\",\"gridcolor\":\"white\",\"gridwidth\":2,\"linecolor\":\"white\",\"showbackground\":true,\"ticks\":\"\",\"zerolinecolor\":\"white\"},\"zaxis\":{\"backgroundcolor\":\"#E5ECF6\",\"gridcolor\":\"white\",\"gridwidth\":2,\"linecolor\":\"white\",\"showbackground\":true,\"ticks\":\"\",\"zerolinecolor\":\"white\"}},\"shapedefaults\":{\"line\":{\"color\":\"#2a3f5f\"}},\"ternary\":{\"aaxis\":{\"gridcolor\":\"white\",\"linecolor\":\"white\",\"ticks\":\"\"},\"baxis\":{\"gridcolor\":\"white\",\"linecolor\":\"white\",\"ticks\":\"\"},\"bgcolor\":\"#E5ECF6\",\"caxis\":{\"gridcolor\":\"white\",\"linecolor\":\"white\",\"ticks\":\"\"}},\"title\":{\"x\":0.05},\"xaxis\":{\"automargin\":true,\"gridcolor\":\"white\",\"linecolor\":\"white\",\"ticks\":\"\",\"title\":{\"standoff\":15},\"zerolinecolor\":\"white\",\"zerolinewidth\":2},\"yaxis\":{\"automargin\":true,\"gridcolor\":\"white\",\"linecolor\":\"white\",\"ticks\":\"\",\"title\":{\"standoff\":15},\"zerolinecolor\":\"white\",\"zerolinewidth\":2}}},\"xaxis\":{\"anchor\":\"y\",\"domain\":[0.0,1.0],\"title\":{\"text\":\"IC50\"},\"type\":\"log\"},\"yaxis\":{\"anchor\":\"x\",\"domain\":[0.0,1.0],\"title\":{\"text\":\"predicted_IC50_mpnn_fp\"},\"type\":\"log\"},\"legend\":{\"tracegroupgap\":0},\"title\":{\"text\":\"IC50 predictions for aldehyde\"},\"height\":800,\"shapes\":[{\"line\":{\"color\":\"black\",\"dash\":\"dash\"},\"type\":\"line\",\"x0\":0.1,\"x1\":100,\"y0\":0.1,\"y1\":100}]},                        {\"responsive\": true}                    ).then(function(){\n",
       "                            \n",
       "var gd = document.getElementById('0c9340dc-8c17-4e94-aa75-884c9774b73c');\n",
       "var x = new MutationObserver(function (mutations, observer) {{\n",
       "        var display = window.getComputedStyle(gd).display;\n",
       "        if (!display || display === 'none') {{\n",
       "            console.log([gd, 'removed!']);\n",
       "            Plotly.purge(gd);\n",
       "            observer.disconnect();\n",
       "        }}\n",
       "}});\n",
       "\n",
       "// Listen for the removal of the full notebook cells\n",
       "var notebookContainer = gd.closest('#notebook-container');\n",
       "if (notebookContainer) {{\n",
       "    x.observe(notebookContainer, {childList: true});\n",
       "}}\n",
       "\n",
       "// Listen for the clearing of the current output cell\n",
       "var outputEl = gd.closest('.output');\n",
       "if (outputEl) {{\n",
       "    x.observe(outputEl, {childList: true});\n",
       "}}\n",
       "\n",
       "                        })                };                });            </script>        </div>"
      ]
     },
     "metadata": {},
     "output_type": "display_data"
    },
    {
     "name": "stdout",
     "output_type": "stream",
     "text": [
      "R2 score on Ugi amine mpnn_fp:  (mpnn_fp): 0.347\n",
      "rho score on Ugi amine mpnn_fp:  (mpnn_fp): 0.551\n",
      "R2 score on Ugi amine morgan_fp:  (morgan_fp): -0.148\n",
      "rho score on Ugi amine morgan_fp:  (morgan_fp): 0.510\n"
     ]
    },
    {
     "data": {
      "application/vnd.plotly.v1+json": {
       "config": {
        "plotlyServerURL": "https://plot.ly"
       },
       "data": [
        {
         "hovertemplate": "IC50=%{x}<br>predicted_IC50_mpnn_fp=%{y}<extra></extra>",
         "legendgroup": "",
         "marker": {
          "color": "#636efa",
          "symbol": "circle"
         },
         "mode": "markers",
         "name": "mpnn_fp",
         "orientation": "v",
         "showlegend": true,
         "type": "scatter",
         "x": [
          0.112,
          0.403,
          0.315,
          0.557,
          0.653,
          2.53,
          0.1,
          15.6,
          0.292,
          10.4,
          30.5,
          53.8,
          22.2,
          15.5,
          0.282,
          22.7,
          50.2,
          62.9,
          1.93,
          89.2,
          27.7,
          41.1,
          8.34,
          0.609,
          22.1,
          56.3,
          62.7,
          54.9,
          0.712,
          35.5,
          27.3,
          16.6,
          2.95,
          6.32,
          79.6,
          67.8,
          12.1,
          66.1,
          25.8,
          84,
          45.1,
          3.94,
          69.1,
          51.2,
          75.9,
          23.8,
          24.5,
          18.2,
          60.5,
          76.6,
          27.8,
          63.5,
          32.4,
          47.8,
          36.4,
          48,
          28.4,
          33.2,
          61,
          39.2,
          43,
          77.6
         ],
         "xaxis": "x",
         "y": [
          0.4741485553446409,
          0.5590448322683407,
          0.6465037076731392,
          0.662571001213516,
          0.7877848346529835,
          0.9421843163193213,
          0.9421843163193213,
          0.9421843163193213,
          1.1102024902149656,
          1.2784280427498718,
          2.190701451088755,
          2.2244274096571646,
          3.0545757390658705,
          3.4643400042618993,
          3.6719985404454687,
          3.988104227487356,
          4.2426367873824145,
          4.598057266876279,
          4.6965098292898375,
          5.188258662464346,
          5.6267530032148,
          5.987563093064077,
          6.6369579527976885,
          6.71413383333172,
          6.965270024403018,
          7.593107782789246,
          7.764992040598312,
          8.816626136957522,
          9.375128862426743,
          9.423072106700157,
          9.474639684629498,
          9.511330421295678,
          11.169599465040298,
          11.204045524719435,
          11.332004132705189,
          12.833498310098209,
          13.634803939115237,
          14.256658049301647,
          14.46733869886825,
          15.26395873514975,
          15.291169667549621,
          15.466952645170126,
          16.05735084669798,
          16.26163624168638,
          18.36511350101439,
          18.868515113726147,
          18.9043568414066,
          20.260928152205715,
          20.62972672267249,
          20.65995625998306,
          21.962823102996296,
          22.035992530409803,
          23.742584791573112,
          24.465979935885507,
          24.967464014262216,
          25.08132222010861,
          26.01964359185789,
          28.479827906280587,
          29.100592059035648,
          32.14775856243963,
          34.37172066526572,
          50.740133221617214
         ],
         "yaxis": "y"
        },
        {
         "hovertemplate": "IC50=%{x}<br>predicted_IC50_morgan_fp=%{y}<extra></extra>",
         "legendgroup": "",
         "marker": {
          "color": "red",
          "symbol": "circle"
         },
         "mode": "markers",
         "name": "morgan_fp",
         "orientation": "v",
         "showlegend": true,
         "type": "scatter",
         "x": [
          0.112,
          0.403,
          0.315,
          0.557,
          0.653,
          2.53,
          0.1,
          15.6,
          0.292,
          10.4,
          30.5,
          53.8,
          22.2,
          15.5,
          0.282,
          22.7,
          50.2,
          62.9,
          1.93,
          89.2,
          27.7,
          41.1,
          8.34,
          0.609,
          22.1,
          56.3,
          62.7,
          54.9,
          0.712,
          35.5,
          27.3,
          16.6,
          2.95,
          6.32,
          79.6,
          67.8,
          12.1,
          66.1,
          25.8,
          84,
          45.1,
          3.94,
          69.1,
          51.2,
          75.9,
          23.8,
          24.5,
          18.2,
          60.5,
          76.6,
          27.8,
          63.5,
          32.4,
          47.8,
          36.4,
          48,
          28.4,
          33.2,
          61,
          39.2,
          43,
          77.6
         ],
         "xaxis": "x",
         "y": [
          0.27043668390219694,
          0.27043668390219694,
          0.3149999999999262,
          0.5499853804974671,
          0.6186716459942139,
          0.6186716459942139,
          1.2581886292770341,
          1.2581886292770341,
          1.2581886292770341,
          1.2581886292770341,
          1.2581886292770341,
          1.2581886292770341,
          1.2581886292770341,
          1.2581886292770341,
          1.2581886292770341,
          1.2581886292770341,
          1.2581886292770341,
          1.2581886292770341,
          1.2581886292770341,
          2.8220218574606375,
          4.1810626686361365,
          6.316787621897654,
          6.316787621897654,
          6.316787621897654,
          6.316787621897654,
          6.316787621897654,
          6.316787621897654,
          6.316787621897654,
          6.316787621897654,
          6.316787621897654,
          6.316787621897654,
          6.316787621897654,
          6.316787621897654,
          6.316787621897654,
          6.316787621897654,
          6.316787621897654,
          6.316787621897654,
          6.316787621897654,
          6.316787621897654,
          6.316787621897654,
          6.316787621897654,
          6.316787621897654,
          6.316787621897654,
          6.316787621897654,
          6.316787621897654,
          6.316787621897654,
          6.316787621897654,
          6.316787621897654,
          6.316787621897654,
          6.316787621897654,
          6.316787621897654,
          6.316787621897654,
          6.316787621897654,
          6.316787621897654,
          6.316787621897654,
          6.316787621897654,
          6.316787621897654,
          6.316787621897654,
          6.316787621897654,
          49.13673541598842,
          100,
          100
         ],
         "yaxis": "y"
        }
       ],
       "layout": {
        "height": 800,
        "legend": {
         "tracegroupgap": 0
        },
        "shapes": [
         {
          "line": {
           "color": "black",
           "dash": "dash"
          },
          "type": "line",
          "x0": 0.1,
          "x1": 100,
          "y0": 0.1,
          "y1": 100
         }
        ],
        "template": {
         "data": {
          "bar": [
           {
            "error_x": {
             "color": "#2a3f5f"
            },
            "error_y": {
             "color": "#2a3f5f"
            },
            "marker": {
             "line": {
              "color": "#E5ECF6",
              "width": 0.5
             },
             "pattern": {
              "fillmode": "overlay",
              "size": 10,
              "solidity": 0.2
             }
            },
            "type": "bar"
           }
          ],
          "barpolar": [
           {
            "marker": {
             "line": {
              "color": "#E5ECF6",
              "width": 0.5
             },
             "pattern": {
              "fillmode": "overlay",
              "size": 10,
              "solidity": 0.2
             }
            },
            "type": "barpolar"
           }
          ],
          "carpet": [
           {
            "aaxis": {
             "endlinecolor": "#2a3f5f",
             "gridcolor": "white",
             "linecolor": "white",
             "minorgridcolor": "white",
             "startlinecolor": "#2a3f5f"
            },
            "baxis": {
             "endlinecolor": "#2a3f5f",
             "gridcolor": "white",
             "linecolor": "white",
             "minorgridcolor": "white",
             "startlinecolor": "#2a3f5f"
            },
            "type": "carpet"
           }
          ],
          "choropleth": [
           {
            "colorbar": {
             "outlinewidth": 0,
             "ticks": ""
            },
            "type": "choropleth"
           }
          ],
          "contour": [
           {
            "colorbar": {
             "outlinewidth": 0,
             "ticks": ""
            },
            "colorscale": [
             [
              0,
              "#0d0887"
             ],
             [
              0.1111111111111111,
              "#46039f"
             ],
             [
              0.2222222222222222,
              "#7201a8"
             ],
             [
              0.3333333333333333,
              "#9c179e"
             ],
             [
              0.4444444444444444,
              "#bd3786"
             ],
             [
              0.5555555555555556,
              "#d8576b"
             ],
             [
              0.6666666666666666,
              "#ed7953"
             ],
             [
              0.7777777777777778,
              "#fb9f3a"
             ],
             [
              0.8888888888888888,
              "#fdca26"
             ],
             [
              1,
              "#f0f921"
             ]
            ],
            "type": "contour"
           }
          ],
          "contourcarpet": [
           {
            "colorbar": {
             "outlinewidth": 0,
             "ticks": ""
            },
            "type": "contourcarpet"
           }
          ],
          "heatmap": [
           {
            "colorbar": {
             "outlinewidth": 0,
             "ticks": ""
            },
            "colorscale": [
             [
              0,
              "#0d0887"
             ],
             [
              0.1111111111111111,
              "#46039f"
             ],
             [
              0.2222222222222222,
              "#7201a8"
             ],
             [
              0.3333333333333333,
              "#9c179e"
             ],
             [
              0.4444444444444444,
              "#bd3786"
             ],
             [
              0.5555555555555556,
              "#d8576b"
             ],
             [
              0.6666666666666666,
              "#ed7953"
             ],
             [
              0.7777777777777778,
              "#fb9f3a"
             ],
             [
              0.8888888888888888,
              "#fdca26"
             ],
             [
              1,
              "#f0f921"
             ]
            ],
            "type": "heatmap"
           }
          ],
          "heatmapgl": [
           {
            "colorbar": {
             "outlinewidth": 0,
             "ticks": ""
            },
            "colorscale": [
             [
              0,
              "#0d0887"
             ],
             [
              0.1111111111111111,
              "#46039f"
             ],
             [
              0.2222222222222222,
              "#7201a8"
             ],
             [
              0.3333333333333333,
              "#9c179e"
             ],
             [
              0.4444444444444444,
              "#bd3786"
             ],
             [
              0.5555555555555556,
              "#d8576b"
             ],
             [
              0.6666666666666666,
              "#ed7953"
             ],
             [
              0.7777777777777778,
              "#fb9f3a"
             ],
             [
              0.8888888888888888,
              "#fdca26"
             ],
             [
              1,
              "#f0f921"
             ]
            ],
            "type": "heatmapgl"
           }
          ],
          "histogram": [
           {
            "marker": {
             "pattern": {
              "fillmode": "overlay",
              "size": 10,
              "solidity": 0.2
             }
            },
            "type": "histogram"
           }
          ],
          "histogram2d": [
           {
            "colorbar": {
             "outlinewidth": 0,
             "ticks": ""
            },
            "colorscale": [
             [
              0,
              "#0d0887"
             ],
             [
              0.1111111111111111,
              "#46039f"
             ],
             [
              0.2222222222222222,
              "#7201a8"
             ],
             [
              0.3333333333333333,
              "#9c179e"
             ],
             [
              0.4444444444444444,
              "#bd3786"
             ],
             [
              0.5555555555555556,
              "#d8576b"
             ],
             [
              0.6666666666666666,
              "#ed7953"
             ],
             [
              0.7777777777777778,
              "#fb9f3a"
             ],
             [
              0.8888888888888888,
              "#fdca26"
             ],
             [
              1,
              "#f0f921"
             ]
            ],
            "type": "histogram2d"
           }
          ],
          "histogram2dcontour": [
           {
            "colorbar": {
             "outlinewidth": 0,
             "ticks": ""
            },
            "colorscale": [
             [
              0,
              "#0d0887"
             ],
             [
              0.1111111111111111,
              "#46039f"
             ],
             [
              0.2222222222222222,
              "#7201a8"
             ],
             [
              0.3333333333333333,
              "#9c179e"
             ],
             [
              0.4444444444444444,
              "#bd3786"
             ],
             [
              0.5555555555555556,
              "#d8576b"
             ],
             [
              0.6666666666666666,
              "#ed7953"
             ],
             [
              0.7777777777777778,
              "#fb9f3a"
             ],
             [
              0.8888888888888888,
              "#fdca26"
             ],
             [
              1,
              "#f0f921"
             ]
            ],
            "type": "histogram2dcontour"
           }
          ],
          "mesh3d": [
           {
            "colorbar": {
             "outlinewidth": 0,
             "ticks": ""
            },
            "type": "mesh3d"
           }
          ],
          "parcoords": [
           {
            "line": {
             "colorbar": {
              "outlinewidth": 0,
              "ticks": ""
             }
            },
            "type": "parcoords"
           }
          ],
          "pie": [
           {
            "automargin": true,
            "type": "pie"
           }
          ],
          "scatter": [
           {
            "marker": {
             "colorbar": {
              "outlinewidth": 0,
              "ticks": ""
             }
            },
            "type": "scatter"
           }
          ],
          "scatter3d": [
           {
            "line": {
             "colorbar": {
              "outlinewidth": 0,
              "ticks": ""
             }
            },
            "marker": {
             "colorbar": {
              "outlinewidth": 0,
              "ticks": ""
             }
            },
            "type": "scatter3d"
           }
          ],
          "scattercarpet": [
           {
            "marker": {
             "colorbar": {
              "outlinewidth": 0,
              "ticks": ""
             }
            },
            "type": "scattercarpet"
           }
          ],
          "scattergeo": [
           {
            "marker": {
             "colorbar": {
              "outlinewidth": 0,
              "ticks": ""
             }
            },
            "type": "scattergeo"
           }
          ],
          "scattergl": [
           {
            "marker": {
             "colorbar": {
              "outlinewidth": 0,
              "ticks": ""
             }
            },
            "type": "scattergl"
           }
          ],
          "scattermapbox": [
           {
            "marker": {
             "colorbar": {
              "outlinewidth": 0,
              "ticks": ""
             }
            },
            "type": "scattermapbox"
           }
          ],
          "scatterpolar": [
           {
            "marker": {
             "colorbar": {
              "outlinewidth": 0,
              "ticks": ""
             }
            },
            "type": "scatterpolar"
           }
          ],
          "scatterpolargl": [
           {
            "marker": {
             "colorbar": {
              "outlinewidth": 0,
              "ticks": ""
             }
            },
            "type": "scatterpolargl"
           }
          ],
          "scatterternary": [
           {
            "marker": {
             "colorbar": {
              "outlinewidth": 0,
              "ticks": ""
             }
            },
            "type": "scatterternary"
           }
          ],
          "surface": [
           {
            "colorbar": {
             "outlinewidth": 0,
             "ticks": ""
            },
            "colorscale": [
             [
              0,
              "#0d0887"
             ],
             [
              0.1111111111111111,
              "#46039f"
             ],
             [
              0.2222222222222222,
              "#7201a8"
             ],
             [
              0.3333333333333333,
              "#9c179e"
             ],
             [
              0.4444444444444444,
              "#bd3786"
             ],
             [
              0.5555555555555556,
              "#d8576b"
             ],
             [
              0.6666666666666666,
              "#ed7953"
             ],
             [
              0.7777777777777778,
              "#fb9f3a"
             ],
             [
              0.8888888888888888,
              "#fdca26"
             ],
             [
              1,
              "#f0f921"
             ]
            ],
            "type": "surface"
           }
          ],
          "table": [
           {
            "cells": {
             "fill": {
              "color": "#EBF0F8"
             },
             "line": {
              "color": "white"
             }
            },
            "header": {
             "fill": {
              "color": "#C8D4E3"
             },
             "line": {
              "color": "white"
             }
            },
            "type": "table"
           }
          ]
         },
         "layout": {
          "annotationdefaults": {
           "arrowcolor": "#2a3f5f",
           "arrowhead": 0,
           "arrowwidth": 1
          },
          "autotypenumbers": "strict",
          "coloraxis": {
           "colorbar": {
            "outlinewidth": 0,
            "ticks": ""
           }
          },
          "colorscale": {
           "diverging": [
            [
             0,
             "#8e0152"
            ],
            [
             0.1,
             "#c51b7d"
            ],
            [
             0.2,
             "#de77ae"
            ],
            [
             0.3,
             "#f1b6da"
            ],
            [
             0.4,
             "#fde0ef"
            ],
            [
             0.5,
             "#f7f7f7"
            ],
            [
             0.6,
             "#e6f5d0"
            ],
            [
             0.7,
             "#b8e186"
            ],
            [
             0.8,
             "#7fbc41"
            ],
            [
             0.9,
             "#4d9221"
            ],
            [
             1,
             "#276419"
            ]
           ],
           "sequential": [
            [
             0,
             "#0d0887"
            ],
            [
             0.1111111111111111,
             "#46039f"
            ],
            [
             0.2222222222222222,
             "#7201a8"
            ],
            [
             0.3333333333333333,
             "#9c179e"
            ],
            [
             0.4444444444444444,
             "#bd3786"
            ],
            [
             0.5555555555555556,
             "#d8576b"
            ],
            [
             0.6666666666666666,
             "#ed7953"
            ],
            [
             0.7777777777777778,
             "#fb9f3a"
            ],
            [
             0.8888888888888888,
             "#fdca26"
            ],
            [
             1,
             "#f0f921"
            ]
           ],
           "sequentialminus": [
            [
             0,
             "#0d0887"
            ],
            [
             0.1111111111111111,
             "#46039f"
            ],
            [
             0.2222222222222222,
             "#7201a8"
            ],
            [
             0.3333333333333333,
             "#9c179e"
            ],
            [
             0.4444444444444444,
             "#bd3786"
            ],
            [
             0.5555555555555556,
             "#d8576b"
            ],
            [
             0.6666666666666666,
             "#ed7953"
            ],
            [
             0.7777777777777778,
             "#fb9f3a"
            ],
            [
             0.8888888888888888,
             "#fdca26"
            ],
            [
             1,
             "#f0f921"
            ]
           ]
          },
          "colorway": [
           "#636efa",
           "#EF553B",
           "#00cc96",
           "#ab63fa",
           "#FFA15A",
           "#19d3f3",
           "#FF6692",
           "#B6E880",
           "#FF97FF",
           "#FECB52"
          ],
          "font": {
           "color": "#2a3f5f"
          },
          "geo": {
           "bgcolor": "white",
           "lakecolor": "white",
           "landcolor": "#E5ECF6",
           "showlakes": true,
           "showland": true,
           "subunitcolor": "white"
          },
          "hoverlabel": {
           "align": "left"
          },
          "hovermode": "closest",
          "mapbox": {
           "style": "light"
          },
          "paper_bgcolor": "white",
          "plot_bgcolor": "#E5ECF6",
          "polar": {
           "angularaxis": {
            "gridcolor": "white",
            "linecolor": "white",
            "ticks": ""
           },
           "bgcolor": "#E5ECF6",
           "radialaxis": {
            "gridcolor": "white",
            "linecolor": "white",
            "ticks": ""
           }
          },
          "scene": {
           "xaxis": {
            "backgroundcolor": "#E5ECF6",
            "gridcolor": "white",
            "gridwidth": 2,
            "linecolor": "white",
            "showbackground": true,
            "ticks": "",
            "zerolinecolor": "white"
           },
           "yaxis": {
            "backgroundcolor": "#E5ECF6",
            "gridcolor": "white",
            "gridwidth": 2,
            "linecolor": "white",
            "showbackground": true,
            "ticks": "",
            "zerolinecolor": "white"
           },
           "zaxis": {
            "backgroundcolor": "#E5ECF6",
            "gridcolor": "white",
            "gridwidth": 2,
            "linecolor": "white",
            "showbackground": true,
            "ticks": "",
            "zerolinecolor": "white"
           }
          },
          "shapedefaults": {
           "line": {
            "color": "#2a3f5f"
           }
          },
          "ternary": {
           "aaxis": {
            "gridcolor": "white",
            "linecolor": "white",
            "ticks": ""
           },
           "baxis": {
            "gridcolor": "white",
            "linecolor": "white",
            "ticks": ""
           },
           "bgcolor": "#E5ECF6",
           "caxis": {
            "gridcolor": "white",
            "linecolor": "white",
            "ticks": ""
           }
          },
          "title": {
           "x": 0.05
          },
          "xaxis": {
           "automargin": true,
           "gridcolor": "white",
           "linecolor": "white",
           "ticks": "",
           "title": {
            "standoff": 15
           },
           "zerolinecolor": "white",
           "zerolinewidth": 2
          },
          "yaxis": {
           "automargin": true,
           "gridcolor": "white",
           "linecolor": "white",
           "ticks": "",
           "title": {
            "standoff": 15
           },
           "zerolinecolor": "white",
           "zerolinewidth": 2
          }
         }
        },
        "title": {
         "text": "IC50 predictions for amine"
        },
        "xaxis": {
         "anchor": "y",
         "domain": [
          0,
          1
         ],
         "title": {
          "text": "IC50"
         },
         "type": "log"
        },
        "yaxis": {
         "anchor": "x",
         "domain": [
          0,
          1
         ],
         "title": {
          "text": "predicted_IC50_mpnn_fp"
         },
         "type": "log"
        }
       }
      },
      "text/html": [
       "<div>                            <div id=\"9a65162c-9fc5-4b02-8866-3c99ab099024\" class=\"plotly-graph-div\" style=\"height:800px; width:100%;\"></div>            <script type=\"text/javascript\">                require([\"plotly\"], function(Plotly) {                    window.PLOTLYENV=window.PLOTLYENV || {};                                    if (document.getElementById(\"9a65162c-9fc5-4b02-8866-3c99ab099024\")) {                    Plotly.newPlot(                        \"9a65162c-9fc5-4b02-8866-3c99ab099024\",                        [{\"hovertemplate\":\"IC50=%{x}<br>predicted_IC50_mpnn_fp=%{y}<extra></extra>\",\"legendgroup\":\"\",\"marker\":{\"color\":\"#636efa\",\"symbol\":\"circle\"},\"mode\":\"markers\",\"name\":\"mpnn_fp\",\"orientation\":\"v\",\"showlegend\":true,\"x\":[0.112,0.403,0.315,0.557,0.653,2.53,0.1,15.6,0.292,10.4,30.5,53.8,22.2,15.5,0.282,22.7,50.2,62.9,1.93,89.2,27.7,41.1,8.34,0.609,22.1,56.3,62.7,54.9,0.712,35.5,27.3,16.6,2.95,6.32,79.6,67.8,12.1,66.1,25.8,84.0,45.1,3.94,69.1,51.2,75.9,23.8,24.5,18.2,60.5,76.6,27.8,63.5,32.4,47.8,36.4,48.0,28.4,33.2,61.0,39.2,43.0,77.6],\"xaxis\":\"x\",\"y\":[0.4741485553446409,0.5590448322683407,0.6465037076731392,0.662571001213516,0.7877848346529835,0.9421843163193213,0.9421843163193213,0.9421843163193213,1.1102024902149656,1.2784280427498718,2.190701451088755,2.2244274096571646,3.0545757390658705,3.4643400042618993,3.6719985404454687,3.988104227487356,4.2426367873824145,4.598057266876279,4.6965098292898375,5.188258662464346,5.6267530032148,5.987563093064077,6.6369579527976885,6.71413383333172,6.965270024403018,7.593107782789246,7.764992040598312,8.816626136957522,9.375128862426743,9.423072106700157,9.474639684629498,9.511330421295678,11.169599465040298,11.204045524719435,11.332004132705189,12.833498310098209,13.634803939115237,14.256658049301647,14.46733869886825,15.26395873514975,15.291169667549621,15.466952645170126,16.05735084669798,16.26163624168638,18.36511350101439,18.868515113726147,18.9043568414066,20.260928152205715,20.62972672267249,20.65995625998306,21.962823102996296,22.035992530409803,23.742584791573112,24.465979935885507,24.967464014262216,25.08132222010861,26.01964359185789,28.479827906280587,29.100592059035648,32.14775856243963,34.37172066526572,50.740133221617214],\"yaxis\":\"y\",\"type\":\"scatter\"},{\"hovertemplate\":\"IC50=%{x}<br>predicted_IC50_morgan_fp=%{y}<extra></extra>\",\"legendgroup\":\"\",\"marker\":{\"color\":\"red\",\"symbol\":\"circle\"},\"mode\":\"markers\",\"name\":\"morgan_fp\",\"orientation\":\"v\",\"showlegend\":true,\"x\":[0.112,0.403,0.315,0.557,0.653,2.53,0.1,15.6,0.292,10.4,30.5,53.8,22.2,15.5,0.282,22.7,50.2,62.9,1.93,89.2,27.7,41.1,8.34,0.609,22.1,56.3,62.7,54.9,0.712,35.5,27.3,16.6,2.95,6.32,79.6,67.8,12.1,66.1,25.8,84.0,45.1,3.94,69.1,51.2,75.9,23.8,24.5,18.2,60.5,76.6,27.8,63.5,32.4,47.8,36.4,48.0,28.4,33.2,61.0,39.2,43.0,77.6],\"xaxis\":\"x\",\"y\":[0.27043668390219694,0.27043668390219694,0.3149999999999262,0.5499853804974671,0.6186716459942139,0.6186716459942139,1.2581886292770341,1.2581886292770341,1.2581886292770341,1.2581886292770341,1.2581886292770341,1.2581886292770341,1.2581886292770341,1.2581886292770341,1.2581886292770341,1.2581886292770341,1.2581886292770341,1.2581886292770341,1.2581886292770341,2.8220218574606375,4.1810626686361365,6.316787621897654,6.316787621897654,6.316787621897654,6.316787621897654,6.316787621897654,6.316787621897654,6.316787621897654,6.316787621897654,6.316787621897654,6.316787621897654,6.316787621897654,6.316787621897654,6.316787621897654,6.316787621897654,6.316787621897654,6.316787621897654,6.316787621897654,6.316787621897654,6.316787621897654,6.316787621897654,6.316787621897654,6.316787621897654,6.316787621897654,6.316787621897654,6.316787621897654,6.316787621897654,6.316787621897654,6.316787621897654,6.316787621897654,6.316787621897654,6.316787621897654,6.316787621897654,6.316787621897654,6.316787621897654,6.316787621897654,6.316787621897654,6.316787621897654,6.316787621897654,49.13673541598842,100.0,100.0],\"yaxis\":\"y\",\"type\":\"scatter\"}],                        {\"template\":{\"data\":{\"bar\":[{\"error_x\":{\"color\":\"#2a3f5f\"},\"error_y\":{\"color\":\"#2a3f5f\"},\"marker\":{\"line\":{\"color\":\"#E5ECF6\",\"width\":0.5},\"pattern\":{\"fillmode\":\"overlay\",\"size\":10,\"solidity\":0.2}},\"type\":\"bar\"}],\"barpolar\":[{\"marker\":{\"line\":{\"color\":\"#E5ECF6\",\"width\":0.5},\"pattern\":{\"fillmode\":\"overlay\",\"size\":10,\"solidity\":0.2}},\"type\":\"barpolar\"}],\"carpet\":[{\"aaxis\":{\"endlinecolor\":\"#2a3f5f\",\"gridcolor\":\"white\",\"linecolor\":\"white\",\"minorgridcolor\":\"white\",\"startlinecolor\":\"#2a3f5f\"},\"baxis\":{\"endlinecolor\":\"#2a3f5f\",\"gridcolor\":\"white\",\"linecolor\":\"white\",\"minorgridcolor\":\"white\",\"startlinecolor\":\"#2a3f5f\"},\"type\":\"carpet\"}],\"choropleth\":[{\"colorbar\":{\"outlinewidth\":0,\"ticks\":\"\"},\"type\":\"choropleth\"}],\"contour\":[{\"colorbar\":{\"outlinewidth\":0,\"ticks\":\"\"},\"colorscale\":[[0.0,\"#0d0887\"],[0.1111111111111111,\"#46039f\"],[0.2222222222222222,\"#7201a8\"],[0.3333333333333333,\"#9c179e\"],[0.4444444444444444,\"#bd3786\"],[0.5555555555555556,\"#d8576b\"],[0.6666666666666666,\"#ed7953\"],[0.7777777777777778,\"#fb9f3a\"],[0.8888888888888888,\"#fdca26\"],[1.0,\"#f0f921\"]],\"type\":\"contour\"}],\"contourcarpet\":[{\"colorbar\":{\"outlinewidth\":0,\"ticks\":\"\"},\"type\":\"contourcarpet\"}],\"heatmap\":[{\"colorbar\":{\"outlinewidth\":0,\"ticks\":\"\"},\"colorscale\":[[0.0,\"#0d0887\"],[0.1111111111111111,\"#46039f\"],[0.2222222222222222,\"#7201a8\"],[0.3333333333333333,\"#9c179e\"],[0.4444444444444444,\"#bd3786\"],[0.5555555555555556,\"#d8576b\"],[0.6666666666666666,\"#ed7953\"],[0.7777777777777778,\"#fb9f3a\"],[0.8888888888888888,\"#fdca26\"],[1.0,\"#f0f921\"]],\"type\":\"heatmap\"}],\"heatmapgl\":[{\"colorbar\":{\"outlinewidth\":0,\"ticks\":\"\"},\"colorscale\":[[0.0,\"#0d0887\"],[0.1111111111111111,\"#46039f\"],[0.2222222222222222,\"#7201a8\"],[0.3333333333333333,\"#9c179e\"],[0.4444444444444444,\"#bd3786\"],[0.5555555555555556,\"#d8576b\"],[0.6666666666666666,\"#ed7953\"],[0.7777777777777778,\"#fb9f3a\"],[0.8888888888888888,\"#fdca26\"],[1.0,\"#f0f921\"]],\"type\":\"heatmapgl\"}],\"histogram\":[{\"marker\":{\"pattern\":{\"fillmode\":\"overlay\",\"size\":10,\"solidity\":0.2}},\"type\":\"histogram\"}],\"histogram2d\":[{\"colorbar\":{\"outlinewidth\":0,\"ticks\":\"\"},\"colorscale\":[[0.0,\"#0d0887\"],[0.1111111111111111,\"#46039f\"],[0.2222222222222222,\"#7201a8\"],[0.3333333333333333,\"#9c179e\"],[0.4444444444444444,\"#bd3786\"],[0.5555555555555556,\"#d8576b\"],[0.6666666666666666,\"#ed7953\"],[0.7777777777777778,\"#fb9f3a\"],[0.8888888888888888,\"#fdca26\"],[1.0,\"#f0f921\"]],\"type\":\"histogram2d\"}],\"histogram2dcontour\":[{\"colorbar\":{\"outlinewidth\":0,\"ticks\":\"\"},\"colorscale\":[[0.0,\"#0d0887\"],[0.1111111111111111,\"#46039f\"],[0.2222222222222222,\"#7201a8\"],[0.3333333333333333,\"#9c179e\"],[0.4444444444444444,\"#bd3786\"],[0.5555555555555556,\"#d8576b\"],[0.6666666666666666,\"#ed7953\"],[0.7777777777777778,\"#fb9f3a\"],[0.8888888888888888,\"#fdca26\"],[1.0,\"#f0f921\"]],\"type\":\"histogram2dcontour\"}],\"mesh3d\":[{\"colorbar\":{\"outlinewidth\":0,\"ticks\":\"\"},\"type\":\"mesh3d\"}],\"parcoords\":[{\"line\":{\"colorbar\":{\"outlinewidth\":0,\"ticks\":\"\"}},\"type\":\"parcoords\"}],\"pie\":[{\"automargin\":true,\"type\":\"pie\"}],\"scatter\":[{\"marker\":{\"colorbar\":{\"outlinewidth\":0,\"ticks\":\"\"}},\"type\":\"scatter\"}],\"scatter3d\":[{\"line\":{\"colorbar\":{\"outlinewidth\":0,\"ticks\":\"\"}},\"marker\":{\"colorbar\":{\"outlinewidth\":0,\"ticks\":\"\"}},\"type\":\"scatter3d\"}],\"scattercarpet\":[{\"marker\":{\"colorbar\":{\"outlinewidth\":0,\"ticks\":\"\"}},\"type\":\"scattercarpet\"}],\"scattergeo\":[{\"marker\":{\"colorbar\":{\"outlinewidth\":0,\"ticks\":\"\"}},\"type\":\"scattergeo\"}],\"scattergl\":[{\"marker\":{\"colorbar\":{\"outlinewidth\":0,\"ticks\":\"\"}},\"type\":\"scattergl\"}],\"scattermapbox\":[{\"marker\":{\"colorbar\":{\"outlinewidth\":0,\"ticks\":\"\"}},\"type\":\"scattermapbox\"}],\"scatterpolar\":[{\"marker\":{\"colorbar\":{\"outlinewidth\":0,\"ticks\":\"\"}},\"type\":\"scatterpolar\"}],\"scatterpolargl\":[{\"marker\":{\"colorbar\":{\"outlinewidth\":0,\"ticks\":\"\"}},\"type\":\"scatterpolargl\"}],\"scatterternary\":[{\"marker\":{\"colorbar\":{\"outlinewidth\":0,\"ticks\":\"\"}},\"type\":\"scatterternary\"}],\"surface\":[{\"colorbar\":{\"outlinewidth\":0,\"ticks\":\"\"},\"colorscale\":[[0.0,\"#0d0887\"],[0.1111111111111111,\"#46039f\"],[0.2222222222222222,\"#7201a8\"],[0.3333333333333333,\"#9c179e\"],[0.4444444444444444,\"#bd3786\"],[0.5555555555555556,\"#d8576b\"],[0.6666666666666666,\"#ed7953\"],[0.7777777777777778,\"#fb9f3a\"],[0.8888888888888888,\"#fdca26\"],[1.0,\"#f0f921\"]],\"type\":\"surface\"}],\"table\":[{\"cells\":{\"fill\":{\"color\":\"#EBF0F8\"},\"line\":{\"color\":\"white\"}},\"header\":{\"fill\":{\"color\":\"#C8D4E3\"},\"line\":{\"color\":\"white\"}},\"type\":\"table\"}]},\"layout\":{\"annotationdefaults\":{\"arrowcolor\":\"#2a3f5f\",\"arrowhead\":0,\"arrowwidth\":1},\"autotypenumbers\":\"strict\",\"coloraxis\":{\"colorbar\":{\"outlinewidth\":0,\"ticks\":\"\"}},\"colorscale\":{\"diverging\":[[0,\"#8e0152\"],[0.1,\"#c51b7d\"],[0.2,\"#de77ae\"],[0.3,\"#f1b6da\"],[0.4,\"#fde0ef\"],[0.5,\"#f7f7f7\"],[0.6,\"#e6f5d0\"],[0.7,\"#b8e186\"],[0.8,\"#7fbc41\"],[0.9,\"#4d9221\"],[1,\"#276419\"]],\"sequential\":[[0.0,\"#0d0887\"],[0.1111111111111111,\"#46039f\"],[0.2222222222222222,\"#7201a8\"],[0.3333333333333333,\"#9c179e\"],[0.4444444444444444,\"#bd3786\"],[0.5555555555555556,\"#d8576b\"],[0.6666666666666666,\"#ed7953\"],[0.7777777777777778,\"#fb9f3a\"],[0.8888888888888888,\"#fdca26\"],[1.0,\"#f0f921\"]],\"sequentialminus\":[[0.0,\"#0d0887\"],[0.1111111111111111,\"#46039f\"],[0.2222222222222222,\"#7201a8\"],[0.3333333333333333,\"#9c179e\"],[0.4444444444444444,\"#bd3786\"],[0.5555555555555556,\"#d8576b\"],[0.6666666666666666,\"#ed7953\"],[0.7777777777777778,\"#fb9f3a\"],[0.8888888888888888,\"#fdca26\"],[1.0,\"#f0f921\"]]},\"colorway\":[\"#636efa\",\"#EF553B\",\"#00cc96\",\"#ab63fa\",\"#FFA15A\",\"#19d3f3\",\"#FF6692\",\"#B6E880\",\"#FF97FF\",\"#FECB52\"],\"font\":{\"color\":\"#2a3f5f\"},\"geo\":{\"bgcolor\":\"white\",\"lakecolor\":\"white\",\"landcolor\":\"#E5ECF6\",\"showlakes\":true,\"showland\":true,\"subunitcolor\":\"white\"},\"hoverlabel\":{\"align\":\"left\"},\"hovermode\":\"closest\",\"mapbox\":{\"style\":\"light\"},\"paper_bgcolor\":\"white\",\"plot_bgcolor\":\"#E5ECF6\",\"polar\":{\"angularaxis\":{\"gridcolor\":\"white\",\"linecolor\":\"white\",\"ticks\":\"\"},\"bgcolor\":\"#E5ECF6\",\"radialaxis\":{\"gridcolor\":\"white\",\"linecolor\":\"white\",\"ticks\":\"\"}},\"scene\":{\"xaxis\":{\"backgroundcolor\":\"#E5ECF6\",\"gridcolor\":\"white\",\"gridwidth\":2,\"linecolor\":\"white\",\"showbackground\":true,\"ticks\":\"\",\"zerolinecolor\":\"white\"},\"yaxis\":{\"backgroundcolor\":\"#E5ECF6\",\"gridcolor\":\"white\",\"gridwidth\":2,\"linecolor\":\"white\",\"showbackground\":true,\"ticks\":\"\",\"zerolinecolor\":\"white\"},\"zaxis\":{\"backgroundcolor\":\"#E5ECF6\",\"gridcolor\":\"white\",\"gridwidth\":2,\"linecolor\":\"white\",\"showbackground\":true,\"ticks\":\"\",\"zerolinecolor\":\"white\"}},\"shapedefaults\":{\"line\":{\"color\":\"#2a3f5f\"}},\"ternary\":{\"aaxis\":{\"gridcolor\":\"white\",\"linecolor\":\"white\",\"ticks\":\"\"},\"baxis\":{\"gridcolor\":\"white\",\"linecolor\":\"white\",\"ticks\":\"\"},\"bgcolor\":\"#E5ECF6\",\"caxis\":{\"gridcolor\":\"white\",\"linecolor\":\"white\",\"ticks\":\"\"}},\"title\":{\"x\":0.05},\"xaxis\":{\"automargin\":true,\"gridcolor\":\"white\",\"linecolor\":\"white\",\"ticks\":\"\",\"title\":{\"standoff\":15},\"zerolinecolor\":\"white\",\"zerolinewidth\":2},\"yaxis\":{\"automargin\":true,\"gridcolor\":\"white\",\"linecolor\":\"white\",\"ticks\":\"\",\"title\":{\"standoff\":15},\"zerolinecolor\":\"white\",\"zerolinewidth\":2}}},\"xaxis\":{\"anchor\":\"y\",\"domain\":[0.0,1.0],\"title\":{\"text\":\"IC50\"},\"type\":\"log\"},\"yaxis\":{\"anchor\":\"x\",\"domain\":[0.0,1.0],\"title\":{\"text\":\"predicted_IC50_mpnn_fp\"},\"type\":\"log\"},\"legend\":{\"tracegroupgap\":0},\"title\":{\"text\":\"IC50 predictions for amine\"},\"height\":800,\"shapes\":[{\"line\":{\"color\":\"black\",\"dash\":\"dash\"},\"type\":\"line\",\"x0\":0.1,\"x1\":100,\"y0\":0.1,\"y1\":100}]},                        {\"responsive\": true}                    ).then(function(){\n",
       "                            \n",
       "var gd = document.getElementById('9a65162c-9fc5-4b02-8866-3c99ab099024');\n",
       "var x = new MutationObserver(function (mutations, observer) {{\n",
       "        var display = window.getComputedStyle(gd).display;\n",
       "        if (!display || display === 'none') {{\n",
       "            console.log([gd, 'removed!']);\n",
       "            Plotly.purge(gd);\n",
       "            observer.disconnect();\n",
       "        }}\n",
       "}});\n",
       "\n",
       "// Listen for the removal of the full notebook cells\n",
       "var notebookContainer = gd.closest('#notebook-container');\n",
       "if (notebookContainer) {{\n",
       "    x.observe(notebookContainer, {childList: true});\n",
       "}}\n",
       "\n",
       "// Listen for the clearing of the current output cell\n",
       "var outputEl = gd.closest('.output');\n",
       "if (outputEl) {{\n",
       "    x.observe(outputEl, {childList: true});\n",
       "}}\n",
       "\n",
       "                        })                };                });            </script>        </div>"
      ]
     },
     "metadata": {},
     "output_type": "display_data"
    },
    {
     "name": "stdout",
     "output_type": "stream",
     "text": [
      "R2 score on Ugi isocyanide mpnn_fp:  (mpnn_fp): -5.490\n",
      "rho score on Ugi isocyanide mpnn_fp:  (mpnn_fp): -0.156\n",
      "R2 score on Ugi isocyanide morgan_fp:  (morgan_fp): -2.438\n",
      "rho score on Ugi isocyanide morgan_fp:  (morgan_fp): -0.173\n"
     ]
    },
    {
     "data": {
      "application/vnd.plotly.v1+json": {
       "config": {
        "plotlyServerURL": "https://plot.ly"
       },
       "data": [
        {
         "hovertemplate": "IC50=%{x}<br>predicted_IC50_mpnn_fp=%{y}<extra></extra>",
         "legendgroup": "",
         "marker": {
          "color": "#636efa",
          "symbol": "circle"
         },
         "mode": "markers",
         "name": "mpnn_fp",
         "orientation": "v",
         "showlegend": true,
         "type": "scatter",
         "x": [
          0.557,
          11.2,
          2.19,
          25.3,
          4.36,
          82.5,
          6.24,
          2.8,
          5.15,
          41,
          9.92,
          3.39,
          6.26,
          14.4,
          3.65,
          5.42,
          7.91,
          8.79,
          10.9,
          3.9,
          29.2,
          2.45,
          9.46,
          3.85,
          14.5,
          9.53,
          2.77,
          5.37,
          62.9,
          10.8,
          4.07,
          8.46,
          8.18,
          2.35,
          5.26,
          6.91,
          7.18,
          2.38,
          3.99,
          2.66,
          5.32,
          6.82,
          0.837
         ],
         "xaxis": "x",
         "y": [
          0.7630916629383903,
          0.7630916629383903,
          0.7630916629383903,
          0.7630916629383903,
          0.7630916629383903,
          0.7630916629383903,
          13.727244432998429,
          13.727244432998429,
          13.727244432998429,
          26.59416351139431,
          53.67543711004917,
          53.67543711004917,
          53.67543711004917,
          53.67543711004917,
          53.67543711004917,
          64.17180958405005,
          64.17180958405005,
          64.17180958405005,
          64.17180958405005,
          64.17180958405005,
          64.17180958405005,
          64.17180958405005,
          64.17180958405005,
          64.17180958405005,
          64.17180958405005,
          64.17180958405005,
          64.17180958405005,
          64.17180958405005,
          64.17180958405005,
          64.17180958405005,
          64.17180958405005,
          64.17180958405005,
          64.17180958405005,
          64.17180958405005,
          80.4696586551853,
          85.78181344648557,
          85.78181344648557,
          85.78181344648557,
          85.78181344648557,
          85.78181344648557,
          85.78181344648557,
          85.78181344648557,
          85.78181344648557
         ],
         "yaxis": "y"
        },
        {
         "hovertemplate": "IC50=%{x}<br>predicted_IC50_morgan_fp=%{y}<extra></extra>",
         "legendgroup": "",
         "marker": {
          "color": "red",
          "symbol": "circle"
         },
         "mode": "markers",
         "name": "morgan_fp",
         "orientation": "v",
         "showlegend": true,
         "type": "scatter",
         "x": [
          0.557,
          11.2,
          2.19,
          25.3,
          4.36,
          82.5,
          6.24,
          2.8,
          5.15,
          41,
          9.92,
          3.39,
          6.26,
          14.4,
          3.65,
          5.42,
          7.91,
          8.79,
          10.9,
          3.9,
          29.2,
          2.45,
          9.46,
          3.85,
          14.5,
          9.53,
          2.77,
          5.37,
          62.9,
          10.8,
          4.07,
          8.46,
          8.18,
          2.35,
          5.26,
          6.91,
          7.18,
          2.38,
          3.99,
          2.66,
          5.32,
          6.82,
          0.837
         ],
         "xaxis": "x",
         "y": [
          17.055628391184044,
          18.146556709270325,
          18.199330499169836,
          22.0489388519631,
          22.215435987048135,
          24.588867531280325,
          27.621359315301884,
          27.64248059321519,
          27.822299958022644,
          27.855363478435997,
          28.20639324227184,
          28.247187234765246,
          28.409598427405708,
          28.79468857067741,
          29.144792389048284,
          29.222540666300812,
          29.373885500804583,
          29.373885500804583,
          29.373885500804583,
          29.595477946303312,
          29.846131638350947,
          29.86181268692461,
          29.91060007558832,
          29.953554619050237,
          29.97438563085401,
          30.26876435122584,
          30.45856661784857,
          30.59714878080709,
          31.786810173157214,
          32.24941682434733,
          32.28626613241006,
          32.29058716817475,
          32.5115514641473,
          32.81159100046529,
          32.9154506972817,
          33.09792845643306,
          33.42025084109385,
          33.688401938816334,
          33.91755589646391,
          33.91755589646391,
          33.91755589646391,
          33.91755589646391,
          34.526809580347965
         ],
         "yaxis": "y"
        }
       ],
       "layout": {
        "height": 800,
        "legend": {
         "tracegroupgap": 0
        },
        "shapes": [
         {
          "line": {
           "color": "black",
           "dash": "dash"
          },
          "type": "line",
          "x0": 0.1,
          "x1": 100,
          "y0": 0.1,
          "y1": 100
         }
        ],
        "template": {
         "data": {
          "bar": [
           {
            "error_x": {
             "color": "#2a3f5f"
            },
            "error_y": {
             "color": "#2a3f5f"
            },
            "marker": {
             "line": {
              "color": "#E5ECF6",
              "width": 0.5
             },
             "pattern": {
              "fillmode": "overlay",
              "size": 10,
              "solidity": 0.2
             }
            },
            "type": "bar"
           }
          ],
          "barpolar": [
           {
            "marker": {
             "line": {
              "color": "#E5ECF6",
              "width": 0.5
             },
             "pattern": {
              "fillmode": "overlay",
              "size": 10,
              "solidity": 0.2
             }
            },
            "type": "barpolar"
           }
          ],
          "carpet": [
           {
            "aaxis": {
             "endlinecolor": "#2a3f5f",
             "gridcolor": "white",
             "linecolor": "white",
             "minorgridcolor": "white",
             "startlinecolor": "#2a3f5f"
            },
            "baxis": {
             "endlinecolor": "#2a3f5f",
             "gridcolor": "white",
             "linecolor": "white",
             "minorgridcolor": "white",
             "startlinecolor": "#2a3f5f"
            },
            "type": "carpet"
           }
          ],
          "choropleth": [
           {
            "colorbar": {
             "outlinewidth": 0,
             "ticks": ""
            },
            "type": "choropleth"
           }
          ],
          "contour": [
           {
            "colorbar": {
             "outlinewidth": 0,
             "ticks": ""
            },
            "colorscale": [
             [
              0,
              "#0d0887"
             ],
             [
              0.1111111111111111,
              "#46039f"
             ],
             [
              0.2222222222222222,
              "#7201a8"
             ],
             [
              0.3333333333333333,
              "#9c179e"
             ],
             [
              0.4444444444444444,
              "#bd3786"
             ],
             [
              0.5555555555555556,
              "#d8576b"
             ],
             [
              0.6666666666666666,
              "#ed7953"
             ],
             [
              0.7777777777777778,
              "#fb9f3a"
             ],
             [
              0.8888888888888888,
              "#fdca26"
             ],
             [
              1,
              "#f0f921"
             ]
            ],
            "type": "contour"
           }
          ],
          "contourcarpet": [
           {
            "colorbar": {
             "outlinewidth": 0,
             "ticks": ""
            },
            "type": "contourcarpet"
           }
          ],
          "heatmap": [
           {
            "colorbar": {
             "outlinewidth": 0,
             "ticks": ""
            },
            "colorscale": [
             [
              0,
              "#0d0887"
             ],
             [
              0.1111111111111111,
              "#46039f"
             ],
             [
              0.2222222222222222,
              "#7201a8"
             ],
             [
              0.3333333333333333,
              "#9c179e"
             ],
             [
              0.4444444444444444,
              "#bd3786"
             ],
             [
              0.5555555555555556,
              "#d8576b"
             ],
             [
              0.6666666666666666,
              "#ed7953"
             ],
             [
              0.7777777777777778,
              "#fb9f3a"
             ],
             [
              0.8888888888888888,
              "#fdca26"
             ],
             [
              1,
              "#f0f921"
             ]
            ],
            "type": "heatmap"
           }
          ],
          "heatmapgl": [
           {
            "colorbar": {
             "outlinewidth": 0,
             "ticks": ""
            },
            "colorscale": [
             [
              0,
              "#0d0887"
             ],
             [
              0.1111111111111111,
              "#46039f"
             ],
             [
              0.2222222222222222,
              "#7201a8"
             ],
             [
              0.3333333333333333,
              "#9c179e"
             ],
             [
              0.4444444444444444,
              "#bd3786"
             ],
             [
              0.5555555555555556,
              "#d8576b"
             ],
             [
              0.6666666666666666,
              "#ed7953"
             ],
             [
              0.7777777777777778,
              "#fb9f3a"
             ],
             [
              0.8888888888888888,
              "#fdca26"
             ],
             [
              1,
              "#f0f921"
             ]
            ],
            "type": "heatmapgl"
           }
          ],
          "histogram": [
           {
            "marker": {
             "pattern": {
              "fillmode": "overlay",
              "size": 10,
              "solidity": 0.2
             }
            },
            "type": "histogram"
           }
          ],
          "histogram2d": [
           {
            "colorbar": {
             "outlinewidth": 0,
             "ticks": ""
            },
            "colorscale": [
             [
              0,
              "#0d0887"
             ],
             [
              0.1111111111111111,
              "#46039f"
             ],
             [
              0.2222222222222222,
              "#7201a8"
             ],
             [
              0.3333333333333333,
              "#9c179e"
             ],
             [
              0.4444444444444444,
              "#bd3786"
             ],
             [
              0.5555555555555556,
              "#d8576b"
             ],
             [
              0.6666666666666666,
              "#ed7953"
             ],
             [
              0.7777777777777778,
              "#fb9f3a"
             ],
             [
              0.8888888888888888,
              "#fdca26"
             ],
             [
              1,
              "#f0f921"
             ]
            ],
            "type": "histogram2d"
           }
          ],
          "histogram2dcontour": [
           {
            "colorbar": {
             "outlinewidth": 0,
             "ticks": ""
            },
            "colorscale": [
             [
              0,
              "#0d0887"
             ],
             [
              0.1111111111111111,
              "#46039f"
             ],
             [
              0.2222222222222222,
              "#7201a8"
             ],
             [
              0.3333333333333333,
              "#9c179e"
             ],
             [
              0.4444444444444444,
              "#bd3786"
             ],
             [
              0.5555555555555556,
              "#d8576b"
             ],
             [
              0.6666666666666666,
              "#ed7953"
             ],
             [
              0.7777777777777778,
              "#fb9f3a"
             ],
             [
              0.8888888888888888,
              "#fdca26"
             ],
             [
              1,
              "#f0f921"
             ]
            ],
            "type": "histogram2dcontour"
           }
          ],
          "mesh3d": [
           {
            "colorbar": {
             "outlinewidth": 0,
             "ticks": ""
            },
            "type": "mesh3d"
           }
          ],
          "parcoords": [
           {
            "line": {
             "colorbar": {
              "outlinewidth": 0,
              "ticks": ""
             }
            },
            "type": "parcoords"
           }
          ],
          "pie": [
           {
            "automargin": true,
            "type": "pie"
           }
          ],
          "scatter": [
           {
            "marker": {
             "colorbar": {
              "outlinewidth": 0,
              "ticks": ""
             }
            },
            "type": "scatter"
           }
          ],
          "scatter3d": [
           {
            "line": {
             "colorbar": {
              "outlinewidth": 0,
              "ticks": ""
             }
            },
            "marker": {
             "colorbar": {
              "outlinewidth": 0,
              "ticks": ""
             }
            },
            "type": "scatter3d"
           }
          ],
          "scattercarpet": [
           {
            "marker": {
             "colorbar": {
              "outlinewidth": 0,
              "ticks": ""
             }
            },
            "type": "scattercarpet"
           }
          ],
          "scattergeo": [
           {
            "marker": {
             "colorbar": {
              "outlinewidth": 0,
              "ticks": ""
             }
            },
            "type": "scattergeo"
           }
          ],
          "scattergl": [
           {
            "marker": {
             "colorbar": {
              "outlinewidth": 0,
              "ticks": ""
             }
            },
            "type": "scattergl"
           }
          ],
          "scattermapbox": [
           {
            "marker": {
             "colorbar": {
              "outlinewidth": 0,
              "ticks": ""
             }
            },
            "type": "scattermapbox"
           }
          ],
          "scatterpolar": [
           {
            "marker": {
             "colorbar": {
              "outlinewidth": 0,
              "ticks": ""
             }
            },
            "type": "scatterpolar"
           }
          ],
          "scatterpolargl": [
           {
            "marker": {
             "colorbar": {
              "outlinewidth": 0,
              "ticks": ""
             }
            },
            "type": "scatterpolargl"
           }
          ],
          "scatterternary": [
           {
            "marker": {
             "colorbar": {
              "outlinewidth": 0,
              "ticks": ""
             }
            },
            "type": "scatterternary"
           }
          ],
          "surface": [
           {
            "colorbar": {
             "outlinewidth": 0,
             "ticks": ""
            },
            "colorscale": [
             [
              0,
              "#0d0887"
             ],
             [
              0.1111111111111111,
              "#46039f"
             ],
             [
              0.2222222222222222,
              "#7201a8"
             ],
             [
              0.3333333333333333,
              "#9c179e"
             ],
             [
              0.4444444444444444,
              "#bd3786"
             ],
             [
              0.5555555555555556,
              "#d8576b"
             ],
             [
              0.6666666666666666,
              "#ed7953"
             ],
             [
              0.7777777777777778,
              "#fb9f3a"
             ],
             [
              0.8888888888888888,
              "#fdca26"
             ],
             [
              1,
              "#f0f921"
             ]
            ],
            "type": "surface"
           }
          ],
          "table": [
           {
            "cells": {
             "fill": {
              "color": "#EBF0F8"
             },
             "line": {
              "color": "white"
             }
            },
            "header": {
             "fill": {
              "color": "#C8D4E3"
             },
             "line": {
              "color": "white"
             }
            },
            "type": "table"
           }
          ]
         },
         "layout": {
          "annotationdefaults": {
           "arrowcolor": "#2a3f5f",
           "arrowhead": 0,
           "arrowwidth": 1
          },
          "autotypenumbers": "strict",
          "coloraxis": {
           "colorbar": {
            "outlinewidth": 0,
            "ticks": ""
           }
          },
          "colorscale": {
           "diverging": [
            [
             0,
             "#8e0152"
            ],
            [
             0.1,
             "#c51b7d"
            ],
            [
             0.2,
             "#de77ae"
            ],
            [
             0.3,
             "#f1b6da"
            ],
            [
             0.4,
             "#fde0ef"
            ],
            [
             0.5,
             "#f7f7f7"
            ],
            [
             0.6,
             "#e6f5d0"
            ],
            [
             0.7,
             "#b8e186"
            ],
            [
             0.8,
             "#7fbc41"
            ],
            [
             0.9,
             "#4d9221"
            ],
            [
             1,
             "#276419"
            ]
           ],
           "sequential": [
            [
             0,
             "#0d0887"
            ],
            [
             0.1111111111111111,
             "#46039f"
            ],
            [
             0.2222222222222222,
             "#7201a8"
            ],
            [
             0.3333333333333333,
             "#9c179e"
            ],
            [
             0.4444444444444444,
             "#bd3786"
            ],
            [
             0.5555555555555556,
             "#d8576b"
            ],
            [
             0.6666666666666666,
             "#ed7953"
            ],
            [
             0.7777777777777778,
             "#fb9f3a"
            ],
            [
             0.8888888888888888,
             "#fdca26"
            ],
            [
             1,
             "#f0f921"
            ]
           ],
           "sequentialminus": [
            [
             0,
             "#0d0887"
            ],
            [
             0.1111111111111111,
             "#46039f"
            ],
            [
             0.2222222222222222,
             "#7201a8"
            ],
            [
             0.3333333333333333,
             "#9c179e"
            ],
            [
             0.4444444444444444,
             "#bd3786"
            ],
            [
             0.5555555555555556,
             "#d8576b"
            ],
            [
             0.6666666666666666,
             "#ed7953"
            ],
            [
             0.7777777777777778,
             "#fb9f3a"
            ],
            [
             0.8888888888888888,
             "#fdca26"
            ],
            [
             1,
             "#f0f921"
            ]
           ]
          },
          "colorway": [
           "#636efa",
           "#EF553B",
           "#00cc96",
           "#ab63fa",
           "#FFA15A",
           "#19d3f3",
           "#FF6692",
           "#B6E880",
           "#FF97FF",
           "#FECB52"
          ],
          "font": {
           "color": "#2a3f5f"
          },
          "geo": {
           "bgcolor": "white",
           "lakecolor": "white",
           "landcolor": "#E5ECF6",
           "showlakes": true,
           "showland": true,
           "subunitcolor": "white"
          },
          "hoverlabel": {
           "align": "left"
          },
          "hovermode": "closest",
          "mapbox": {
           "style": "light"
          },
          "paper_bgcolor": "white",
          "plot_bgcolor": "#E5ECF6",
          "polar": {
           "angularaxis": {
            "gridcolor": "white",
            "linecolor": "white",
            "ticks": ""
           },
           "bgcolor": "#E5ECF6",
           "radialaxis": {
            "gridcolor": "white",
            "linecolor": "white",
            "ticks": ""
           }
          },
          "scene": {
           "xaxis": {
            "backgroundcolor": "#E5ECF6",
            "gridcolor": "white",
            "gridwidth": 2,
            "linecolor": "white",
            "showbackground": true,
            "ticks": "",
            "zerolinecolor": "white"
           },
           "yaxis": {
            "backgroundcolor": "#E5ECF6",
            "gridcolor": "white",
            "gridwidth": 2,
            "linecolor": "white",
            "showbackground": true,
            "ticks": "",
            "zerolinecolor": "white"
           },
           "zaxis": {
            "backgroundcolor": "#E5ECF6",
            "gridcolor": "white",
            "gridwidth": 2,
            "linecolor": "white",
            "showbackground": true,
            "ticks": "",
            "zerolinecolor": "white"
           }
          },
          "shapedefaults": {
           "line": {
            "color": "#2a3f5f"
           }
          },
          "ternary": {
           "aaxis": {
            "gridcolor": "white",
            "linecolor": "white",
            "ticks": ""
           },
           "baxis": {
            "gridcolor": "white",
            "linecolor": "white",
            "ticks": ""
           },
           "bgcolor": "#E5ECF6",
           "caxis": {
            "gridcolor": "white",
            "linecolor": "white",
            "ticks": ""
           }
          },
          "title": {
           "x": 0.05
          },
          "xaxis": {
           "automargin": true,
           "gridcolor": "white",
           "linecolor": "white",
           "ticks": "",
           "title": {
            "standoff": 15
           },
           "zerolinecolor": "white",
           "zerolinewidth": 2
          },
          "yaxis": {
           "automargin": true,
           "gridcolor": "white",
           "linecolor": "white",
           "ticks": "",
           "title": {
            "standoff": 15
           },
           "zerolinecolor": "white",
           "zerolinewidth": 2
          }
         }
        },
        "title": {
         "text": "IC50 predictions for isocyanide"
        },
        "xaxis": {
         "anchor": "y",
         "domain": [
          0,
          1
         ],
         "title": {
          "text": "IC50"
         },
         "type": "log"
        },
        "yaxis": {
         "anchor": "x",
         "domain": [
          0,
          1
         ],
         "title": {
          "text": "predicted_IC50_mpnn_fp"
         },
         "type": "log"
        }
       }
      },
      "text/html": [
       "<div>                            <div id=\"91901d90-8765-49c0-9cae-daef4e517f2b\" class=\"plotly-graph-div\" style=\"height:800px; width:100%;\"></div>            <script type=\"text/javascript\">                require([\"plotly\"], function(Plotly) {                    window.PLOTLYENV=window.PLOTLYENV || {};                                    if (document.getElementById(\"91901d90-8765-49c0-9cae-daef4e517f2b\")) {                    Plotly.newPlot(                        \"91901d90-8765-49c0-9cae-daef4e517f2b\",                        [{\"hovertemplate\":\"IC50=%{x}<br>predicted_IC50_mpnn_fp=%{y}<extra></extra>\",\"legendgroup\":\"\",\"marker\":{\"color\":\"#636efa\",\"symbol\":\"circle\"},\"mode\":\"markers\",\"name\":\"mpnn_fp\",\"orientation\":\"v\",\"showlegend\":true,\"x\":[0.557,11.2,2.19,25.3,4.36,82.5,6.24,2.8,5.15,41.0,9.92,3.39,6.26,14.4,3.65,5.42,7.91,8.79,10.9,3.9,29.2,2.45,9.46,3.85,14.5,9.53,2.77,5.37,62.9,10.8,4.07,8.46,8.18,2.35,5.26,6.91,7.18,2.38,3.99,2.66,5.32,6.82,0.837],\"xaxis\":\"x\",\"y\":[0.7630916629383903,0.7630916629383903,0.7630916629383903,0.7630916629383903,0.7630916629383903,0.7630916629383903,13.727244432998429,13.727244432998429,13.727244432998429,26.59416351139431,53.67543711004917,53.67543711004917,53.67543711004917,53.67543711004917,53.67543711004917,64.17180958405005,64.17180958405005,64.17180958405005,64.17180958405005,64.17180958405005,64.17180958405005,64.17180958405005,64.17180958405005,64.17180958405005,64.17180958405005,64.17180958405005,64.17180958405005,64.17180958405005,64.17180958405005,64.17180958405005,64.17180958405005,64.17180958405005,64.17180958405005,64.17180958405005,80.4696586551853,85.78181344648557,85.78181344648557,85.78181344648557,85.78181344648557,85.78181344648557,85.78181344648557,85.78181344648557,85.78181344648557],\"yaxis\":\"y\",\"type\":\"scatter\"},{\"hovertemplate\":\"IC50=%{x}<br>predicted_IC50_morgan_fp=%{y}<extra></extra>\",\"legendgroup\":\"\",\"marker\":{\"color\":\"red\",\"symbol\":\"circle\"},\"mode\":\"markers\",\"name\":\"morgan_fp\",\"orientation\":\"v\",\"showlegend\":true,\"x\":[0.557,11.2,2.19,25.3,4.36,82.5,6.24,2.8,5.15,41.0,9.92,3.39,6.26,14.4,3.65,5.42,7.91,8.79,10.9,3.9,29.2,2.45,9.46,3.85,14.5,9.53,2.77,5.37,62.9,10.8,4.07,8.46,8.18,2.35,5.26,6.91,7.18,2.38,3.99,2.66,5.32,6.82,0.837],\"xaxis\":\"x\",\"y\":[17.055628391184044,18.146556709270325,18.199330499169836,22.0489388519631,22.215435987048135,24.588867531280325,27.621359315301884,27.64248059321519,27.822299958022644,27.855363478435997,28.20639324227184,28.247187234765246,28.409598427405708,28.79468857067741,29.144792389048284,29.222540666300812,29.373885500804583,29.373885500804583,29.373885500804583,29.595477946303312,29.846131638350947,29.86181268692461,29.91060007558832,29.953554619050237,29.97438563085401,30.26876435122584,30.45856661784857,30.59714878080709,31.786810173157214,32.24941682434733,32.28626613241006,32.29058716817475,32.5115514641473,32.81159100046529,32.9154506972817,33.09792845643306,33.42025084109385,33.688401938816334,33.91755589646391,33.91755589646391,33.91755589646391,33.91755589646391,34.526809580347965],\"yaxis\":\"y\",\"type\":\"scatter\"}],                        {\"template\":{\"data\":{\"bar\":[{\"error_x\":{\"color\":\"#2a3f5f\"},\"error_y\":{\"color\":\"#2a3f5f\"},\"marker\":{\"line\":{\"color\":\"#E5ECF6\",\"width\":0.5},\"pattern\":{\"fillmode\":\"overlay\",\"size\":10,\"solidity\":0.2}},\"type\":\"bar\"}],\"barpolar\":[{\"marker\":{\"line\":{\"color\":\"#E5ECF6\",\"width\":0.5},\"pattern\":{\"fillmode\":\"overlay\",\"size\":10,\"solidity\":0.2}},\"type\":\"barpolar\"}],\"carpet\":[{\"aaxis\":{\"endlinecolor\":\"#2a3f5f\",\"gridcolor\":\"white\",\"linecolor\":\"white\",\"minorgridcolor\":\"white\",\"startlinecolor\":\"#2a3f5f\"},\"baxis\":{\"endlinecolor\":\"#2a3f5f\",\"gridcolor\":\"white\",\"linecolor\":\"white\",\"minorgridcolor\":\"white\",\"startlinecolor\":\"#2a3f5f\"},\"type\":\"carpet\"}],\"choropleth\":[{\"colorbar\":{\"outlinewidth\":0,\"ticks\":\"\"},\"type\":\"choropleth\"}],\"contour\":[{\"colorbar\":{\"outlinewidth\":0,\"ticks\":\"\"},\"colorscale\":[[0.0,\"#0d0887\"],[0.1111111111111111,\"#46039f\"],[0.2222222222222222,\"#7201a8\"],[0.3333333333333333,\"#9c179e\"],[0.4444444444444444,\"#bd3786\"],[0.5555555555555556,\"#d8576b\"],[0.6666666666666666,\"#ed7953\"],[0.7777777777777778,\"#fb9f3a\"],[0.8888888888888888,\"#fdca26\"],[1.0,\"#f0f921\"]],\"type\":\"contour\"}],\"contourcarpet\":[{\"colorbar\":{\"outlinewidth\":0,\"ticks\":\"\"},\"type\":\"contourcarpet\"}],\"heatmap\":[{\"colorbar\":{\"outlinewidth\":0,\"ticks\":\"\"},\"colorscale\":[[0.0,\"#0d0887\"],[0.1111111111111111,\"#46039f\"],[0.2222222222222222,\"#7201a8\"],[0.3333333333333333,\"#9c179e\"],[0.4444444444444444,\"#bd3786\"],[0.5555555555555556,\"#d8576b\"],[0.6666666666666666,\"#ed7953\"],[0.7777777777777778,\"#fb9f3a\"],[0.8888888888888888,\"#fdca26\"],[1.0,\"#f0f921\"]],\"type\":\"heatmap\"}],\"heatmapgl\":[{\"colorbar\":{\"outlinewidth\":0,\"ticks\":\"\"},\"colorscale\":[[0.0,\"#0d0887\"],[0.1111111111111111,\"#46039f\"],[0.2222222222222222,\"#7201a8\"],[0.3333333333333333,\"#9c179e\"],[0.4444444444444444,\"#bd3786\"],[0.5555555555555556,\"#d8576b\"],[0.6666666666666666,\"#ed7953\"],[0.7777777777777778,\"#fb9f3a\"],[0.8888888888888888,\"#fdca26\"],[1.0,\"#f0f921\"]],\"type\":\"heatmapgl\"}],\"histogram\":[{\"marker\":{\"pattern\":{\"fillmode\":\"overlay\",\"size\":10,\"solidity\":0.2}},\"type\":\"histogram\"}],\"histogram2d\":[{\"colorbar\":{\"outlinewidth\":0,\"ticks\":\"\"},\"colorscale\":[[0.0,\"#0d0887\"],[0.1111111111111111,\"#46039f\"],[0.2222222222222222,\"#7201a8\"],[0.3333333333333333,\"#9c179e\"],[0.4444444444444444,\"#bd3786\"],[0.5555555555555556,\"#d8576b\"],[0.6666666666666666,\"#ed7953\"],[0.7777777777777778,\"#fb9f3a\"],[0.8888888888888888,\"#fdca26\"],[1.0,\"#f0f921\"]],\"type\":\"histogram2d\"}],\"histogram2dcontour\":[{\"colorbar\":{\"outlinewidth\":0,\"ticks\":\"\"},\"colorscale\":[[0.0,\"#0d0887\"],[0.1111111111111111,\"#46039f\"],[0.2222222222222222,\"#7201a8\"],[0.3333333333333333,\"#9c179e\"],[0.4444444444444444,\"#bd3786\"],[0.5555555555555556,\"#d8576b\"],[0.6666666666666666,\"#ed7953\"],[0.7777777777777778,\"#fb9f3a\"],[0.8888888888888888,\"#fdca26\"],[1.0,\"#f0f921\"]],\"type\":\"histogram2dcontour\"}],\"mesh3d\":[{\"colorbar\":{\"outlinewidth\":0,\"ticks\":\"\"},\"type\":\"mesh3d\"}],\"parcoords\":[{\"line\":{\"colorbar\":{\"outlinewidth\":0,\"ticks\":\"\"}},\"type\":\"parcoords\"}],\"pie\":[{\"automargin\":true,\"type\":\"pie\"}],\"scatter\":[{\"marker\":{\"colorbar\":{\"outlinewidth\":0,\"ticks\":\"\"}},\"type\":\"scatter\"}],\"scatter3d\":[{\"line\":{\"colorbar\":{\"outlinewidth\":0,\"ticks\":\"\"}},\"marker\":{\"colorbar\":{\"outlinewidth\":0,\"ticks\":\"\"}},\"type\":\"scatter3d\"}],\"scattercarpet\":[{\"marker\":{\"colorbar\":{\"outlinewidth\":0,\"ticks\":\"\"}},\"type\":\"scattercarpet\"}],\"scattergeo\":[{\"marker\":{\"colorbar\":{\"outlinewidth\":0,\"ticks\":\"\"}},\"type\":\"scattergeo\"}],\"scattergl\":[{\"marker\":{\"colorbar\":{\"outlinewidth\":0,\"ticks\":\"\"}},\"type\":\"scattergl\"}],\"scattermapbox\":[{\"marker\":{\"colorbar\":{\"outlinewidth\":0,\"ticks\":\"\"}},\"type\":\"scattermapbox\"}],\"scatterpolar\":[{\"marker\":{\"colorbar\":{\"outlinewidth\":0,\"ticks\":\"\"}},\"type\":\"scatterpolar\"}],\"scatterpolargl\":[{\"marker\":{\"colorbar\":{\"outlinewidth\":0,\"ticks\":\"\"}},\"type\":\"scatterpolargl\"}],\"scatterternary\":[{\"marker\":{\"colorbar\":{\"outlinewidth\":0,\"ticks\":\"\"}},\"type\":\"scatterternary\"}],\"surface\":[{\"colorbar\":{\"outlinewidth\":0,\"ticks\":\"\"},\"colorscale\":[[0.0,\"#0d0887\"],[0.1111111111111111,\"#46039f\"],[0.2222222222222222,\"#7201a8\"],[0.3333333333333333,\"#9c179e\"],[0.4444444444444444,\"#bd3786\"],[0.5555555555555556,\"#d8576b\"],[0.6666666666666666,\"#ed7953\"],[0.7777777777777778,\"#fb9f3a\"],[0.8888888888888888,\"#fdca26\"],[1.0,\"#f0f921\"]],\"type\":\"surface\"}],\"table\":[{\"cells\":{\"fill\":{\"color\":\"#EBF0F8\"},\"line\":{\"color\":\"white\"}},\"header\":{\"fill\":{\"color\":\"#C8D4E3\"},\"line\":{\"color\":\"white\"}},\"type\":\"table\"}]},\"layout\":{\"annotationdefaults\":{\"arrowcolor\":\"#2a3f5f\",\"arrowhead\":0,\"arrowwidth\":1},\"autotypenumbers\":\"strict\",\"coloraxis\":{\"colorbar\":{\"outlinewidth\":0,\"ticks\":\"\"}},\"colorscale\":{\"diverging\":[[0,\"#8e0152\"],[0.1,\"#c51b7d\"],[0.2,\"#de77ae\"],[0.3,\"#f1b6da\"],[0.4,\"#fde0ef\"],[0.5,\"#f7f7f7\"],[0.6,\"#e6f5d0\"],[0.7,\"#b8e186\"],[0.8,\"#7fbc41\"],[0.9,\"#4d9221\"],[1,\"#276419\"]],\"sequential\":[[0.0,\"#0d0887\"],[0.1111111111111111,\"#46039f\"],[0.2222222222222222,\"#7201a8\"],[0.3333333333333333,\"#9c179e\"],[0.4444444444444444,\"#bd3786\"],[0.5555555555555556,\"#d8576b\"],[0.6666666666666666,\"#ed7953\"],[0.7777777777777778,\"#fb9f3a\"],[0.8888888888888888,\"#fdca26\"],[1.0,\"#f0f921\"]],\"sequentialminus\":[[0.0,\"#0d0887\"],[0.1111111111111111,\"#46039f\"],[0.2222222222222222,\"#7201a8\"],[0.3333333333333333,\"#9c179e\"],[0.4444444444444444,\"#bd3786\"],[0.5555555555555556,\"#d8576b\"],[0.6666666666666666,\"#ed7953\"],[0.7777777777777778,\"#fb9f3a\"],[0.8888888888888888,\"#fdca26\"],[1.0,\"#f0f921\"]]},\"colorway\":[\"#636efa\",\"#EF553B\",\"#00cc96\",\"#ab63fa\",\"#FFA15A\",\"#19d3f3\",\"#FF6692\",\"#B6E880\",\"#FF97FF\",\"#FECB52\"],\"font\":{\"color\":\"#2a3f5f\"},\"geo\":{\"bgcolor\":\"white\",\"lakecolor\":\"white\",\"landcolor\":\"#E5ECF6\",\"showlakes\":true,\"showland\":true,\"subunitcolor\":\"white\"},\"hoverlabel\":{\"align\":\"left\"},\"hovermode\":\"closest\",\"mapbox\":{\"style\":\"light\"},\"paper_bgcolor\":\"white\",\"plot_bgcolor\":\"#E5ECF6\",\"polar\":{\"angularaxis\":{\"gridcolor\":\"white\",\"linecolor\":\"white\",\"ticks\":\"\"},\"bgcolor\":\"#E5ECF6\",\"radialaxis\":{\"gridcolor\":\"white\",\"linecolor\":\"white\",\"ticks\":\"\"}},\"scene\":{\"xaxis\":{\"backgroundcolor\":\"#E5ECF6\",\"gridcolor\":\"white\",\"gridwidth\":2,\"linecolor\":\"white\",\"showbackground\":true,\"ticks\":\"\",\"zerolinecolor\":\"white\"},\"yaxis\":{\"backgroundcolor\":\"#E5ECF6\",\"gridcolor\":\"white\",\"gridwidth\":2,\"linecolor\":\"white\",\"showbackground\":true,\"ticks\":\"\",\"zerolinecolor\":\"white\"},\"zaxis\":{\"backgroundcolor\":\"#E5ECF6\",\"gridcolor\":\"white\",\"gridwidth\":2,\"linecolor\":\"white\",\"showbackground\":true,\"ticks\":\"\",\"zerolinecolor\":\"white\"}},\"shapedefaults\":{\"line\":{\"color\":\"#2a3f5f\"}},\"ternary\":{\"aaxis\":{\"gridcolor\":\"white\",\"linecolor\":\"white\",\"ticks\":\"\"},\"baxis\":{\"gridcolor\":\"white\",\"linecolor\":\"white\",\"ticks\":\"\"},\"bgcolor\":\"#E5ECF6\",\"caxis\":{\"gridcolor\":\"white\",\"linecolor\":\"white\",\"ticks\":\"\"}},\"title\":{\"x\":0.05},\"xaxis\":{\"automargin\":true,\"gridcolor\":\"white\",\"linecolor\":\"white\",\"ticks\":\"\",\"title\":{\"standoff\":15},\"zerolinecolor\":\"white\",\"zerolinewidth\":2},\"yaxis\":{\"automargin\":true,\"gridcolor\":\"white\",\"linecolor\":\"white\",\"ticks\":\"\",\"title\":{\"standoff\":15},\"zerolinecolor\":\"white\",\"zerolinewidth\":2}}},\"xaxis\":{\"anchor\":\"y\",\"domain\":[0.0,1.0],\"title\":{\"text\":\"IC50\"},\"type\":\"log\"},\"yaxis\":{\"anchor\":\"x\",\"domain\":[0.0,1.0],\"title\":{\"text\":\"predicted_IC50_mpnn_fp\"},\"type\":\"log\"},\"legend\":{\"tracegroupgap\":0},\"title\":{\"text\":\"IC50 predictions for isocyanide\"},\"height\":800,\"shapes\":[{\"line\":{\"color\":\"black\",\"dash\":\"dash\"},\"type\":\"line\",\"x0\":0.1,\"x1\":100,\"y0\":0.1,\"y1\":100}]},                        {\"responsive\": true}                    ).then(function(){\n",
       "                            \n",
       "var gd = document.getElementById('91901d90-8765-49c0-9cae-daef4e517f2b');\n",
       "var x = new MutationObserver(function (mutations, observer) {{\n",
       "        var display = window.getComputedStyle(gd).display;\n",
       "        if (!display || display === 'none') {{\n",
       "            console.log([gd, 'removed!']);\n",
       "            Plotly.purge(gd);\n",
       "            observer.disconnect();\n",
       "        }}\n",
       "}});\n",
       "\n",
       "// Listen for the removal of the full notebook cells\n",
       "var notebookContainer = gd.closest('#notebook-container');\n",
       "if (notebookContainer) {{\n",
       "    x.observe(notebookContainer, {childList: true});\n",
       "}}\n",
       "\n",
       "// Listen for the clearing of the current output cell\n",
       "var outputEl = gd.closest('.output');\n",
       "if (outputEl) {{\n",
       "    x.observe(outputEl, {childList: true});\n",
       "}}\n",
       "\n",
       "                        })                };                });            </script>        </div>"
      ]
     },
     "metadata": {},
     "output_type": "display_data"
    }
   ],
   "source": [
    "import plotly.express as px\n",
    "\n",
    "from sklearn.metrics import r2_score\n",
    "from scipy.stats import spearmanr\n",
    "\n",
    "\n",
    "def print_regression_metrics(scored_dataframe, query_string, input_rep, data_name, pIC50=True):\n",
    "\n",
    "    if pIC50:\n",
    "        r2_coefficient = r2_score(scored_dataframe.query(query_string)[\n",
    "            'pIC50'], scored_dataframe.query(query_string)[f'{input_rep}_pred_mean'])\n",
    "        rho_coefficient = spearmanr(scored_dataframe.query(query_string)[\n",
    "            'pIC50'], scored_dataframe.query(query_string)[f'{input_rep}_pred_mean'])[0]\n",
    "\n",
    "    else:\n",
    "        r2_coefficient = r2_score(scored_dataframe.query(query_string)[\n",
    "            'IC50'], scored_dataframe.query(query_string)[f'predicted_IC50_{input_rep}'])\n",
    "        rho_coefficient = spearmanr(scored_dataframe.query(query_string)[\n",
    "            'IC50'], scored_dataframe.query(query_string)[f'predicted_IC50_{input_rep}'])[0]\n",
    "\n",
    "    print(f'R2 score on {data_name} ({input_rep}): {r2_coefficient:.3f}')\n",
    "    print(f'rho score on {data_name} ({input_rep}): {rho_coefficient:.3f}')\n",
    "    return\n",
    "\n",
    "\n",
    "for component in df_ugi_data.data_source.unique():\n",
    "    component_query = 'data_source == @component & IC50 < 90'\n",
    "    print_regression_metrics(df_with_predictions, query_string=component_query,\n",
    "                             input_rep='mpnn_fp', data_name=f'Ugi {component} mpnn_fp: ')\n",
    "    print_regression_metrics(df_with_predictions, query_string=component_query,\n",
    "                             input_rep='morgan_fp', data_name=f'Ugi {component} morgan_fp: ')\n",
    "    fig_scatter = px.scatter(df_with_predictions.query(component_query),\n",
    "                             x='IC50',\n",
    "                             y='predicted_IC50_mpnn_fp',\n",
    "                             log_x=True,\n",
    "                             log_y=True,\n",
    "                             height=800,\n",
    "                             title=f'IC50 predictions for {component}')\n",
    "\n",
    "    fig_scatter_morgan = px.scatter(df_with_predictions.query(component_query),\n",
    "                                    x='IC50',\n",
    "                                    y='predicted_IC50_morgan_fp',\n",
    "                                    color_discrete_sequence=['red'],\n",
    "                                    log_x=True,\n",
    "                                    log_y=True)\n",
    "\n",
    "    fig_scatter['data'][0]['showlegend'] = True\n",
    "    fig_scatter['data'][0]['name'] = 'mpnn_fp'\n",
    "    fig_scatter_morgan['data'][0]['showlegend'] = True\n",
    "    fig_scatter_morgan['data'][0]['name'] = 'morgan_fp'\n",
    "\n",
    "    fig_scatter.add_trace(fig_scatter_morgan.data[0])\n",
    "    fig_scatter.add_shape(type='line',\n",
    "                        x0=0.1,\n",
    "                        x1=100,\n",
    "                        y0=0.1,\n",
    "                        y1=100,\n",
    "                        line=dict(color='black', dash='dash'))\n",
    "    fig_scatter.show()\n"
   ]
  },
  {
   "cell_type": "code",
   "execution_count": 11,
   "metadata": {},
   "outputs": [
    {
     "data": {
      "application/vnd.jupyter.widget-view+json": {
       "model_id": "ecaab34b2a0647d19ec3f33e2b6dc0ca",
       "version_major": 2,
       "version_minor": 0
      },
      "text/plain": [
       "interactive(children=(Dropdown(description='component', options=('acid', 'amine', 'aldehyde', 'isocyanide'), v…"
      ]
     },
     "metadata": {},
     "output_type": "display_data"
    },
    {
     "data": {
      "text/plain": [
       "<function __main__.plot_enrichment_variable_component_variable_threshold(component, ic50_threshold)>"
      ]
     },
     "execution_count": 11,
     "metadata": {},
     "output_type": "execute_result"
    }
   ],
   "source": [
    "import matplotlib.pyplot as plt\n",
    "from ipywidgets import interact\n",
    "from scipy.stats import spearmanr\n",
    "\n",
    "\n",
    "def calculate_enrichment_for_df(score_df, n=10, score='score', index='active', log=False, ascending=True):\n",
    "\n",
    "    df = score_df[score_df[score].notna()]\n",
    "    orig_prop = len(df[df[index]])/len(df)\n",
    "    if log:\n",
    "        print('orig proportion of {}: {:.3f}%'.format(index, orig_prop*100))\n",
    "\n",
    "    sorted_df = df.sort_values(by=score, ascending=ascending).iloc[:n]\n",
    "    new_prop = len(sorted_df[sorted_df[index]])/len(sorted_df)\n",
    "    if log:\n",
    "        print('N = {}, n_hits = {}, new proportion of {}: {:.3f}%'.format(\n",
    "            n, len(sorted_df[sorted_df[index]]), index, new_prop*100))\n",
    "    EF = new_prop/orig_prop\n",
    "    return EF\n",
    "\n",
    "\n",
    "def plot_enrichment_mpnn_vs_morgan(df_to_plot, title='Not Specified!', try_both=False):\n",
    "    n_list = np.logspace(start=np.log10(5), stop=2, num=20)\n",
    "    EF_morgan = [calculate_enrichment_for_df(\n",
    "        df_to_plot, n=int(n), index='hit', score='predicted_IC50_morgan_fp', ascending=True) for n in n_list]\n",
    "    EF_mpnn = [calculate_enrichment_for_df(\n",
    "        df_to_plot, n=int(n), index='hit', score='predicted_IC50_mpnn_fp', ascending=True) for n in n_list]\n",
    "\n",
    "    orig_prop = len(\n",
    "        df_to_plot[df_to_plot['hit']])/len(df_to_plot)\n",
    "\n",
    "    plt.plot(n_list, EF_morgan, label='morgan fp')\n",
    "    plt.plot(n_list, EF_mpnn, label='mpnn fp')\n",
    "\n",
    "    plt.plot(n_list, np.ones_like(n_list), 'k:')\n",
    "    plt.legend()\n",
    "    plt.title(f'morgan vs mpnn enrichment\\n{title}')\n",
    "    plt.ylabel('EF \\n(base rate = {:.1f}%)'.format(orig_prop*100))\n",
    "    extraticks = [1]\n",
    "    plt.yticks(list(plt.yticks()[0]) + extraticks)\n",
    "    plt.ylim(bottom=0)\n",
    "\n",
    "\n",
    "def plot_enrichment_variable_component_variable_threshold(component, ic50_threshold):\n",
    "    component_query = 'data_source == @component'\n",
    "    df_component = df_with_predictions.query(component_query)\n",
    "    df_component['hit'] = df_component['IC50'] < ic50_threshold\n",
    "    rho_morgan_vs_mpnn = spearmanr(\n",
    "        df_component['predicted_IC50_morgan_fp'].values, df_component['predicted_IC50_mpnn_fp'].values)[0]\n",
    "    rho_ic50_vs_mpnn = spearmanr(df_component.dropna()['IC50'].values,\n",
    "                                 df_component.dropna()['predicted_IC50_mpnn_fp'].values)[0]\n",
    "    rho_ic50_vs_morgan = spearmanr(df_component.dropna()['predicted_IC50_morgan_fp'].values,\n",
    "                                   df_component.dropna()['predicted_IC50_mpnn_fp'].values)[0]\n",
    "    print(f'rho morgan vs mpnn {rho_morgan_vs_mpnn:.2f}')\n",
    "    print(f'rho morgan vs IC50 {rho_ic50_vs_morgan:.2f}')\n",
    "    print(f'rho mpnn vs IC50 {rho_ic50_vs_mpnn:.2f}')\n",
    "\n",
    "    plot_enrichment_mpnn_vs_morgan(df_component,\n",
    "                                   title=f'Ugi {component} component \\n IC50 < {ic50_threshold}uM  (n={len(df_component)})')\n",
    "    return\n",
    "\n",
    "\n",
    "interact(plot_enrichment_variable_component_variable_threshold, ic50_threshold=(\n",
    "    0.0, 100.0), component=['acid', 'amine', 'aldehyde','isocyanide'])\n"
   ]
  },
  {
   "cell_type": "code",
   "execution_count": null,
   "metadata": {},
   "outputs": [],
   "source": []
  }
 ],
 "metadata": {
  "interpreter": {
   "hash": "a6e87d9fa0a1f095b3ef96d553f4761a958bca4f905d671de5dacda23677a266"
  },
  "kernelspec": {
   "display_name": "fresco",
   "language": "python",
   "name": "python3"
  },
  "language_info": {
   "codemirror_mode": {
    "name": "ipython",
    "version": 3
   },
   "file_extension": ".py",
   "mimetype": "text/x-python",
   "name": "python",
   "nbconvert_exporter": "python",
   "pygments_lexer": "ipython3",
   "version": "3.9.7"
  }
 },
 "nbformat": 4,
 "nbformat_minor": 4
}
