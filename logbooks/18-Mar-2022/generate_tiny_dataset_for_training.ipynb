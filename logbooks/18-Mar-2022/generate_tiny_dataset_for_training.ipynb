{
 "cells": [
  {
   "cell_type": "code",
   "execution_count": 1,
   "metadata": {},
   "outputs": [
    {
     "name": "stdout",
     "output_type": "stream",
     "text": [
      "                                                      smiles  dockscore\n",
      "96603388   CCCN1CC[C@H](NC(=O)C(=O)N2CCO[C@@H](CNC(C)=O)C...     -41.25\n",
      "100770384  C[C@H]1O[C@@H](C)[C@H](C)[C@H]1NC(=O)N(C)CCC(=O)O      -1.25\n",
      "26441625            COC(=O)[C@H](C)CS(=O)(=O)N(CCO)Cc1cccnc1     -18.26\n",
      "65868273         CCc1ccccc1[C@H](N)CNC(=O)[C@H](C)OCc1ccccc1     -31.84\n",
      "21295963               COCCO[C@H]1CCCN(c2cc(=O)n3ccccc3n2)C1     -32.74\n",
      "...                                                      ...        ...\n",
      "3679683                CCN(C)[C@H](C(=O)Nc1cnn(C)c1)c1ccccc1     -38.93\n",
      "50175977         CN(Cc1nc(O)c2cc(Cl)ccc2n1)[C@H]1CCC[C@@H]1O     -46.81\n",
      "84836626   C[C@H](O)[C@H]1CCN(C(=O)c2cc(-c3ccn(C)c3)[nH]n...     -38.65\n",
      "91608105   COC(=O)c1[nH]c(C)c(C(=O)N[C@@H](C)[C@@H](O)C(F...     -19.36\n",
      "38801667              O=C1CSCN1C/C(O)=N/[C@H]1CCCS(=O)(=O)C1     -16.79\n",
      "\n",
      "[256 rows x 2 columns]\n"
     ]
    }
   ],
   "source": [
    "import pandas as pd\n",
    "import numpy as np\n",
    "\n",
    "df = pd.read_pickle(\n",
    "    '/rds-d2/user/wjm41/hpc-work/datasets/Ugis/datasets/D4_docked_valid.pkl').reset_index()\n",
    "\n",
    "df = df.iloc[np.random.randint(0, len(df), size=256), :]\n",
    "\n"
   ]
  },
  {
   "cell_type": "code",
   "execution_count": 2,
   "metadata": {},
   "outputs": [],
   "source": [
    "df.to_csv(\n",
    "    '/rds-d2/user/wjm41/hpc-work/datasets/Ugis/datasets/D4_test.csv', index=False)\n"
   ]
  }
 ],
 "metadata": {
  "interpreter": {
   "hash": "a6e87d9fa0a1f095b3ef96d553f4761a958bca4f905d671de5dacda23677a266"
  },
  "kernelspec": {
   "display_name": "Python 3.9.7 ('dgl_cpu': conda)",
   "language": "python",
   "name": "python3"
  },
  "language_info": {
   "codemirror_mode": {
    "name": "ipython",
    "version": 3
   },
   "file_extension": ".py",
   "mimetype": "text/x-python",
   "name": "python",
   "nbconvert_exporter": "python",
   "pygments_lexer": "ipython3",
   "version": "3.8.0"
  },
  "orig_nbformat": 4
 },
 "nbformat": 4,
 "nbformat_minor": 2
}
