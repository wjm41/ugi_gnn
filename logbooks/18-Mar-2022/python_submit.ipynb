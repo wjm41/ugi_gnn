{
 "cells": [
  {
   "cell_type": "markdown",
   "metadata": {},
   "source": [
    "Submit training job for Dopamine D4"
   ]
  },
  {
   "cell_type": "code",
   "execution_count": 2,
   "metadata": {},
   "outputs": [],
   "source": [
    "from typing import List\n",
    "\n",
    "def write_slurm_script(job_name:str, \n",
    "                     run_time:str,\n",
    "                     output_name:str, \n",
    "                     package_dir: str,\n",
    "                     script:str, \n",
    "                     args: List,\n",
    "                     file_name: str,\n",
    "                     email: bool = False):\n",
    "    slurm_options = [\n",
    "        '#!/bin/bash',\n",
    "        f'#SBATCH -J {job_name}',\n",
    "        '#SBATCH -A LEE-WJM41-SL2-GPU',\n",
    "        '#SBATCH --nodes=1',\n",
    "        '#SBATCH --ntasks=1',\n",
    "        '#SBATCH --gres=gpu:1',\n",
    "        f'#SBATCH --time={run_time}',\n",
    "        '#SBATCH --mail-user=wjm41@cam.ac.uk',\n",
    "        f'#SBATCH --output={output_name}',\n",
    "        '#SBATCH -p ampere',\n",
    "    ]\n",
    "    if email:\n",
    "        slurm_options.append('#SBATCH --mail-type=ALL')\n",
    "\n",
    "    module_options = [\n",
    "        '. /etc/profile.d/modules.sh',\n",
    "        'module purge',\n",
    "        'module load rhel8/default-amp',\n",
    "        'module load miniconda/3',\n",
    "        'source activate dgl_life',\n",
    "    ]\n",
    "\n",
    "    pre_empt = f'cd {package_dir}; pip install .'\n",
    "\n",
    "    slurm_options = '\\n'.join(slurm_options)\n",
    "    module_options = '\\n'.join(module_options)\n",
    "    command_to_run = ' '.join([script]+args)\n",
    "\n",
    "    string_to_write = f'{slurm_options}\\n{module_options}\\n{pre_empt}\\n{command_to_run}'\n",
    "    \n",
    "    with open(file_name, 'w') as f:\n",
    "        f.write(string_to_write)\n",
    "    \n",
    "    return"
   ]
  },
  {
   "cell_type": "code",
   "execution_count": 3,
   "metadata": {},
   "outputs": [
    {
     "name": "stdout",
     "output_type": "stream",
     "text": [
      "Submitted training jobs for /rds-d2/user/wjm41/hpc-work/models/dock2hit/D4/train_ultra on /rds-d2/user/wjm41/hpc-work/datasets/Ugis/datasets/D4_docked_valid.pkl\n",
      "Submitted batch job 57261915\n"
     ]
    }
   ],
   "source": [
    "import os\n",
    "\n",
    "current_dir = os.getcwd()\n",
    "script_dir = '/rds-d2/user/wjm41/hpc-work/datasets/Ugis/logbooks/17-Mar-2022/'\n",
    "data_dir = '/rds-d2/user/wjm41/hpc-work/datasets/Ugis/datasets'\n",
    "log_dir = '/rds-d2/user/wjm41/hpc-work/datasets/Ugis/runs/ultra-large/D4/'\n",
    "\n",
    "dataset='D4'\n",
    "model_name = 'train_ultra'\n",
    "model_dir = f'/rds-d2/user/wjm41/hpc-work/models/dock2hit/{dataset}'\n",
    "\n",
    "model_path = f'{model_dir}/{model_name}'\n",
    "# data_path = f'{data_dir}/{dataset}_test.csv'\n",
    "data_path = f'{data_dir}/{dataset}_docked_valid.pkl'\n",
    "\n",
    "script = f'python {script_dir}/train_ultra.py'\n",
    "\n",
    "log_step = 100\n",
    "args = [\n",
    "    f'-p {data_path}',\n",
    "    '-batch_size 32768',\n",
    "    '-minibatch_size 8192',\n",
    "    '-val',\n",
    "    '-n_epochs 3',\n",
    "    f'-save_dir {model_path}',\n",
    "    f'-log_dir {log_dir}',\n",
    "    f'-log_step {log_step}'\n",
    "    ]\n",
    "\n",
    "file_name = 'subm_train_ultra'\n",
    "run_time = '24:00:00'\n",
    "output_name = f'{current_dir}/subm_train_ultra.out'\n",
    "\n",
    "write_slurm_script(job_name=f'{dataset}_train_ultra',\n",
    "                   run_time=f'{run_time}',\n",
    "                   output_name=output_name,\n",
    "                   package_dir='/rds-d2/user/wjm41/hpc-work/datasets/Ugis/',\n",
    "                   script=script,\n",
    "                   args=args,\n",
    "                   file_name=file_name,\n",
    "                   email=True\n",
    "                    )\n",
    "\n",
    "print(f\"Submitted training jobs for {model_path} on {data_path}\")\n",
    "\n",
    "!sbatch {file_name}"
   ]
  },
  {
   "cell_type": "code",
   "execution_count": null,
   "metadata": {},
   "outputs": [],
   "source": []
  }
 ],
 "metadata": {
  "kernelspec": {
   "display_name": "fresco",
   "language": "python",
   "name": "fresco"
  },
  "language_info": {
   "codemirror_mode": {
    "name": "ipython",
    "version": 3
   },
   "file_extension": ".py",
   "mimetype": "text/x-python",
   "name": "python",
   "nbconvert_exporter": "python",
   "pygments_lexer": "ipython3",
   "version": "3.7.10"
  },
  "orig_nbformat": 4
 },
 "nbformat": 4,
 "nbformat_minor": 2
}
