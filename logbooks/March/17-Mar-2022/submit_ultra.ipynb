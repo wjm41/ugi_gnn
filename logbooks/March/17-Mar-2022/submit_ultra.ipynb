{
 "cells": [
  {
   "cell_type": "markdown",
   "metadata": {},
   "source": [
    "Submit training job for Dopamine D4"
   ]
  },
  {
   "cell_type": "code",
   "execution_count": null,
   "metadata": {},
   "outputs": [],
   "source": [
    "import os\n",
    "\n",
    "current_dir = os.getcwd()\n",
    "script_dir = '/rds-d2/user/wjm41/hpc-work/datasets/Ugis/src'\n",
    "data_dir = '/rds-d2/user/wjm41/hpc-work/datasets/Ugis/datasets'\n",
    "dataset='D4'\n",
    "\n",
    "model_dir = f'/rds-d2/user/wjm41/hpc-work/models/dock2hit/{dataset}'\n",
    "model_name = 'initial_run'\n",
    "\n",
    "log_dir = '/rds-d2/user/wjm41/hpc-work/datasets/Ugis/runs/ultra-large/D4/'\n",
    "\n",
    "data_path = f'{data_dir}/{dataset}_docked_valid.pkl'\n",
    "model_path = f'{model_dir}/{model_name}'\n",
    "\n",
    "print(f\"Submitted training jobs for {model_path} on {data_path}\")\n",
    "# fmt off\n",
    "# !sbatch subm_ultra\n"
   ]
  },
  {
   "cell_type": "code",
   "execution_count": null,
   "metadata": {},
   "outputs": [],
   "source": [
    "slurm_options = [\n",
    "'#!/bin/bash',\n",
    "f'#SBATCH -J {dataset}_training',\n",
    "'#SBATCH -A LEE-WJM41-SL2-GPU',\n",
    "'#SBATCH --nodes=1',\n",
    "'#SBATCH --ntasks=1',\n",
    "'#SBATCH --gres=gpu:1',\n",
    "'#SBATCH --time=24:00:00',\n",
    "'#SBATCH --mail-user=wjm41@cam.ac.uk',\n",
    "f'#SBATCH --output={current_dir}/subm_train_{dataset}_{model_name}.out'\n",
    "'#SBATCH -p ampere',\n",
    "]\n",
    "\n",
    "module_options = [\n",
    "'. / etc/profile.d/modules.sh',\n",
    "'module purge',\n",
    "'module load rhel8/default-amp',\n",
    "'module load miniconda/3',\n",
    "'source activate dgl_life',\n",
    "]\n",
    "\n",
    "script = 'python train_ultra.py'\n",
    "args = [\n",
    "    f'-p {data_path}',\n",
    "    '-batch_size 32768',\n",
    "    '-minibatch_size 8192',\n",
    "    '-val',\n",
    "    '-n_epochs 3',\n",
    "    f'-save_dir {model_path}',\n",
    "    f'-log_dir {log_dir}',\n",
    "    ]\n",
    "\n",
    "slurm_options = '\\n'.join(slurm_options)\n",
    "module_options = '\\n'.join(module_options)\n",
    "command_to_run = ' '.join([script]+args)\n",
    "\n",
    "string_to_write = f'{slurm_options}\\n{module_options}\\n{command_to_run}'\n",
    "print(string_to_write)"
   ]
  },
  {
   "cell_type": "code",
   "execution_count": 6,
   "metadata": {},
   "outputs": [],
   "source": []
  },
  {
   "cell_type": "code",
   "execution_count": 10,
   "metadata": {},
   "outputs": [
    {
     "name": "stdout",
     "output_type": "stream",
     "text": [
      "Submitted training jobs for /rds-d2/user/wjm41/hpc-work/models/dock2hit/D4/test_drive on /rds-d2/user/wjm41/hpc-work/datasets/Ugis/datasets/D4_docked_valid.pkl\n",
      "Submitted batch job 57225963\n"
     ]
    }
   ],
   "source": [
    "import os\n",
    "\n",
    "current_dir = os.getcwd()\n",
    "script_dir = '/rds-d2/user/wjm41/hpc-work/datasets/Ugis/logbooks/17-Mar-2022/'\n",
    "data_dir = '/rds-d2/user/wjm41/hpc-work/datasets/Ugis/datasets'\n",
    "log_dir = '/rds-d2/user/wjm41/hpc-work/datasets/Ugis/runs/ultra-large/D4/'\n",
    "\n",
    "dataset='D4'\n",
    "model_name = 'test_drive'\n",
    "model_dir = f'/rds-d2/user/wjm41/hpc-work/models/dock2hit/{dataset}'\n",
    "\n",
    "model_path = f'{model_dir}/{model_name}'\n",
    "data_path = f'{data_dir}/{dataset}_docked_valid.pkl'\n",
    "\n",
    "script = f'python {script_dir}/train_ultra.py'\n",
    "\n",
    "log_step = 1\n",
    "args = [\n",
    "    f'-p {data_path}',\n",
    "    '-batch_size 16',\n",
    "    '-minibatch_size 4',\n",
    "    '-val',\n",
    "    '-n_epochs 3',\n",
    "    f'-save_dir {model_path}',\n",
    "    f'-log_dir {log_dir}',\n",
    "    f'-log_step {log_step}'\n",
    "    ]\n",
    "\n",
    "file_name = 'subm_test_drive'\n",
    "run_time = '00:05:00'\n",
    "output_name = f'{current_dir}/subm_ultra_test_drive.out'\n",
    "\n",
    "write_slurm_script(job_name=f'{dataset}_test_drive',\n",
    "                   run_time='00:05:00',\n",
    "                   output_name=output_name,\n",
    "                   package_dir='/rds-d2/user/wjm41/hpc-work/datasets/Ugis/',\n",
    "                   script=script,\n",
    "                   args=args,\n",
    "                   file_name=file_name,\n",
    "                   email=True\n",
    "                    )\n",
    "\n",
    "print(f\"Submitted training jobs for {model_path} on {data_path}\")\n",
    "\n",
    "!sbatch {file_name}"
   ]
  },
  {
   "cell_type": "code",
   "execution_count": null,
   "metadata": {},
   "outputs": [],
   "source": []
  }
 ],
 "metadata": {
  "kernelspec": {
   "display_name": "fresco",
   "language": "python",
   "name": "fresco"
  },
  "language_info": {
   "codemirror_mode": {
    "name": "ipython",
    "version": 3
   },
   "file_extension": ".py",
   "mimetype": "text/x-python",
   "name": "python",
   "nbconvert_exporter": "python",
   "pygments_lexer": "ipython3",
   "version": "3.7.10"
  },
  "orig_nbformat": 4
 },
 "nbformat": 4,
 "nbformat_minor": 2
}
