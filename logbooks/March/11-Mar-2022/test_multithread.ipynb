{
 "cells": [
  {
   "cell_type": "markdown",
   "metadata": {},
   "source": [
    "# Testing multithread efficiency - 11 Mar 2022"
   ]
  },
  {
   "cell_type": "markdown",
   "metadata": {},
   "source": [
    "Function for running model speed test:"
   ]
  },
  {
   "cell_type": "code",
   "execution_count": 2,
   "metadata": {},
   "outputs": [
    {
     "name": "stdout",
     "output_type": "stream",
     "text": [
      "/rds-d2/user/wjm41/hpc-work/datasets/Ugis\n"
     ]
    }
   ],
   "source": [
    "cd /home/wjm41/symlinks/rds/datasets/Ugis"
   ]
  },
  {
   "cell_type": "code",
   "execution_count": 3,
   "metadata": {},
   "outputs": [
    {
     "data": {
      "text/plain": [
       "'cuda'"
      ]
     },
     "execution_count": 3,
     "metadata": {},
     "output_type": "execute_result"
    }
   ],
   "source": [
    "from src.utils import get_device\n",
    "\n",
    "device = get_device()\n",
    "device"
   ]
  },
  {
   "cell_type": "code",
   "execution_count": 4,
   "metadata": {},
   "outputs": [],
   "source": [
    "import argparse\n",
    "import time\n",
    "\n",
    "from src.parsing import add_io_args, add_data_args, add_optim_args\n",
    "\n",
    "def test_model_speed(model, epochs=1, batch_size=16384, minibatch_size=32):\n",
    "    parser = argparse.ArgumentParser()\n",
    "    parser = add_io_args(parser)\n",
    "    parser = add_data_args(parser)\n",
    "    parser = add_optim_args(parser)\n",
    "\n",
    "    parser.add_argument('-time_forward_pass', action='store_true',\n",
    "                        help='if True, will log the time taken for a forward pass a batch.')\n",
    "    args = parser.parse_args(['-p', 'test/test_data/HIV.csv',\n",
    "                              '-y_col', 'activity',\n",
    "                              '-n_epochs', f'{epochs}',\n",
    "                              '-batch_size', f'{batch_size}',\n",
    "                              '-minibatch_size', f'{minibatch_size}',\n",
    "                              #   '-time_forward_pass'\n",
    "                              ])\n",
    "    device = get_device()\n",
    "    start_time = time.perf_counter()\n",
    "    model(args, device)\n",
    "    end_time = time.perf_counter()\n",
    "    print(f'Total time taken for {epochs} epochs: {end_time-start_time:.1f}s')\n"
   ]
  },
  {
   "cell_type": "markdown",
   "metadata": {},
   "source": [
    "Running the speed tests for 10 epochs:"
   ]
  },
  {
   "cell_type": "markdown",
   "metadata": {},
   "source": [
    "TODO - need to benchmark by the number of steps, not simply the epoch run time"
   ]
  },
  {
   "cell_type": "code",
   "execution_count": 5,
   "metadata": {},
   "outputs": [],
   "source": [
    "%config Application.log_level=\"INFO\""
   ]
  },
  {
   "cell_type": "code",
   "execution_count": 5,
   "metadata": {},
   "outputs": [
    {
     "name": "stdout",
     "output_type": "stream",
     "text": [
      "Testing featurize-on-the-fly model.\n"
     ]
    },
    {
     "name": "stderr",
     "output_type": "stream",
     "text": [
      "100%|█████████████████████████████████████| 3.00/3.00 [01:17<00:00, 25.7s/batch]\n"
     ]
    },
    {
     "name": "stdout",
     "output_type": "stream",
     "text": [
      "Total time taken for 1 epochs: 80.3s\n",
      "Testing pre-featurised model.\n"
     ]
    },
    {
     "name": "stderr",
     "output_type": "stream",
     "text": [
      "100%|█████████████████████████████████████| 3.00/3.00 [00:02<00:00, 1.16batch/s]\n"
     ]
    },
    {
     "name": "stdout",
     "output_type": "stream",
     "text": [
      "Total time taken for 1 epochs: 77.3s\n",
      "Testing pre-featurised pmap model.\n"
     ]
    },
    {
     "name": "stderr",
     "output_type": "stream",
     "text": [
      "100%|█████████████████████████████████████| 3.00/3.00 [00:03<00:00, 1.10s/batch]\n"
     ]
    },
    {
     "name": "stdout",
     "output_type": "stream",
     "text": [
      "Total time taken for 1 epochs: 33.0s\n"
     ]
    }
   ],
   "source": [
    "import sys\n",
    "\n",
    "from src.train_and_validate import main as featurize_on_the_fly\n",
    "from src.train_and_validate_collate import main as pre_featurize\n",
    "from src.train_and_validate_pmap import main as pre_featurize_pmap\n",
    "\n",
    "print('Testing featurize-on-the-fly model.')\n",
    "test_model_speed(featurize_on_the_fly, batch_size=16384)\n",
    "print('Testing pre-featurised model.')\n",
    "test_model_speed(pre_featurize, batch_size=16384)\n",
    "print('Testing pre-featurised pmap model.')\n",
    "test_model_speed(pre_featurize_pmap, batch_size=16384)\n",
    "# print('Testing pre-featurised multithread model.')\n",
    "# test_model_speed(\n",
    "#     pre_featurize_mutithread)\n"
   ]
  },
  {
   "cell_type": "code",
   "execution_count": 8,
   "metadata": {},
   "outputs": [
    {
     "name": "stdout",
     "output_type": "stream",
     "text": [
      "Testing pre-featurised multithread model.\n"
     ]
    },
    {
     "name": "stderr",
     "output_type": "stream",
     "text": [
      "100%|█████████████████████████████████████| 1.00/1.00 [01:20<00:00, 80.3s/batch]\n"
     ]
    },
    {
     "name": "stdout",
     "output_type": "stream",
     "text": [
      "Number of minibatches = 14,                         Number of molecules = 229376                             (557.7%)\n",
      "Number of steps taken: 1\n"
     ]
    },
    {
     "name": "stderr",
     "output_type": "stream",
     "text": [
      "100%|█████████████████████████████████████| 1.00/1.00 [01:18<00:00, 78.7s/batch]\n"
     ]
    },
    {
     "name": "stdout",
     "output_type": "stream",
     "text": [
      "Number of minibatches = 16,                         Number of molecules = 262144                             (637.4%)\n",
      "Number of steps taken: 1\n"
     ]
    },
    {
     "name": "stderr",
     "output_type": "stream",
     "text": [
      "100%|█████████████████████████████████████| 1.00/1.00 [01:16<00:00, 76.6s/batch]\n"
     ]
    },
    {
     "name": "stdout",
     "output_type": "stream",
     "text": [
      "Number of minibatches = 15,                         Number of molecules = 245760                             (597.6%)\n",
      "Number of steps taken: 1\n"
     ]
    },
    {
     "name": "stderr",
     "output_type": "stream",
     "text": [
      "100%|█████████████████████████████████████| 1.00/1.00 [01:14<00:00, 74.1s/batch]\n"
     ]
    },
    {
     "name": "stdout",
     "output_type": "stream",
     "text": [
      "Number of minibatches = 15,                         Number of molecules = 245760                             (597.6%)\n",
      "Number of steps taken: 1\n"
     ]
    },
    {
     "name": "stderr",
     "output_type": "stream",
     "text": [
      "100%|█████████████████████████████████████| 1.00/1.00 [01:13<00:00, 73.4s/batch]\n"
     ]
    },
    {
     "name": "stdout",
     "output_type": "stream",
     "text": [
      "Number of minibatches = 15,                         Number of molecules = 245760                             (597.6%)\n",
      "Number of steps taken: 1\n"
     ]
    },
    {
     "name": "stderr",
     "output_type": "stream",
     "text": [
      "100%|█████████████████████████████████████| 1.00/1.00 [01:14<00:00, 74.6s/batch]\n"
     ]
    },
    {
     "name": "stdout",
     "output_type": "stream",
     "text": [
      "Number of minibatches = 15,                         Number of molecules = 245760                             (597.6%)\n",
      "Number of steps taken: 1\n"
     ]
    },
    {
     "name": "stderr",
     "output_type": "stream",
     "text": [
      "100%|█████████████████████████████████████| 1.00/1.00 [01:13<00:00, 73.6s/batch]\n"
     ]
    },
    {
     "name": "stdout",
     "output_type": "stream",
     "text": [
      "Number of minibatches = 15,                         Number of molecules = 245760                             (597.6%)\n",
      "Number of steps taken: 1\n"
     ]
    },
    {
     "name": "stderr",
     "output_type": "stream",
     "text": [
      "100%|█████████████████████████████████████| 1.00/1.00 [01:16<00:00, 76.2s/batch]\n"
     ]
    },
    {
     "name": "stdout",
     "output_type": "stream",
     "text": [
      "Number of minibatches = 16,                         Number of molecules = 262144                             (637.4%)\n",
      "Number of steps taken: 1\n"
     ]
    },
    {
     "name": "stderr",
     "output_type": "stream",
     "text": [
      "100%|█████████████████████████████████████| 1.00/1.00 [01:21<00:00, 81.7s/batch]\n"
     ]
    },
    {
     "name": "stdout",
     "output_type": "stream",
     "text": [
      "Number of minibatches = 14,                         Number of molecules = 229376                             (557.7%)\n",
      "Number of steps taken: 1\n"
     ]
    },
    {
     "name": "stderr",
     "output_type": "stream",
     "text": [
      "100%|█████████████████████████████████████| 1.00/1.00 [01:13<00:00, 73.6s/batch]"
     ]
    },
    {
     "name": "stdout",
     "output_type": "stream",
     "text": [
      "Number of minibatches = 15,                         Number of molecules = 245760                             (597.6%)\n",
      "Number of steps taken: 1\n"
     ]
    },
    {
     "name": "stderr",
     "output_type": "stream",
     "text": [
      "\n"
     ]
    },
    {
     "name": "stdout",
     "output_type": "stream",
     "text": [
      "Total time taken for 10 epochs: 766.7s\n"
     ]
    }
   ],
   "source": [
    "from src.train_and_validate_multithread import main as pre_featurize_mutithread\n",
    "\n",
    "print('Testing pre-featurised multithread model.')\n",
    "test_model_speed(pre_featurize_mutithread, epochs=3, batch_size=41127, minibatch_size=16384)"
   ]
  }
 ],
 "metadata": {
  "interpreter": {
   "hash": "1c648007894ae8cd95f829db77afb64fa65122a9e7bc7f7a8298d253f9bd8b3b"
  },
  "kernelspec": {
   "display_name": "Python 3 (ipykernel)",
   "language": "python",
   "name": "python3"
  },
  "language_info": {
   "codemirror_mode": {
    "name": "ipython",
    "version": 3
   },
   "file_extension": ".py",
   "mimetype": "text/x-python",
   "name": "python",
   "nbconvert_exporter": "python",
   "pygments_lexer": "ipython3",
   "version": "3.9.9"
  }
 },
 "nbformat": 4,
 "nbformat_minor": 2
}
