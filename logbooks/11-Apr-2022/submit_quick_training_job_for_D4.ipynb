{
 "cells": [
  {
   "cell_type": "markdown",
   "metadata": {},
   "source": [
    "# Fast Training on full dataset\n",
    "11th Apr\n",
    "\n",
    "Same script as 5th Apr but I fixed the tensorboard logging so it should log sensibly now.\n",
    "\n",
    "Model trains fine on tiny dataset - inspect initial training on full dataset with large batch size to see if it just blows up very early on. Turned off validation split to increase the logging speed."
   ]
  },
  {
   "cell_type": "code",
   "execution_count": null,
   "metadata": {},
   "outputs": [],
   "source": [
    "import os\n",
    "from dock2hit.utils import write_slurm_script\n",
    "\n",
    "current_dir = os.getcwd()\n",
    "data_dir = '/rds-d2/user/wjm41/hpc-work/datasets/Ugis/datasets'\n",
    "log_dir = '/rds-d2/user/wjm41/hpc-work/datasets/Ugis/runs/ultra-large/D4-debug'\n",
    "\n",
    "dataset='D4'\n",
    "model_name = 'quick_train_ultra'\n",
    "model_dir = f'/rds-d2/user/wjm41/hpc-work/models/dock2hit/{dataset}'\n",
    "\n",
    "model_path = f'{model_dir}/{model_name}'\n",
    "# data_path = f'{data_dir}/{dataset}_test.csv'\n",
    "data_path = f'{data_dir}/ultra_large/{dataset}_docked_valid.pkl'\n",
    "\n",
    "script = f'python -c \"from dock2hit.train_and_validate.multithread import main; main()\"'\n",
    "\n",
    "log_step = 10\n",
    "args = [\n",
    "    f'-path_to_train_data {data_path}',\n",
    "    '-batch_size 256',\n",
    "    '-minibatch_size 64',\n",
    "    '-n_epochs 10000',\n",
    "    f'-save_dir {model_path}',\n",
    "    f'-log_dir {log_dir}',\n",
    "    f'-steps_per_log {log_step}'\n",
    "    ]\n",
    "\n",
    "file_name = 'subm_quick_train_ultra'\n",
    "run_time = '0:15:00'\n",
    "output_name = f'{current_dir}/subm_quick_train_ultra.out'\n",
    "\n",
    "write_slurm_script(job_name=f'{dataset}_quick_train_ultra',\n",
    "                   run_time=f'{run_time}',\n",
    "                   output_name=output_name,\n",
    "                   package_dir='/rds-d2/user/wjm41/hpc-work/datasets/Ugis/',\n",
    "                   script=script,\n",
    "                   args=args,\n",
    "                   file_name=file_name,\n",
    "                   email=True\n",
    "                    )\n",
    "\n",
    "print(f\"Submitted quick_trainging jobs for {model_path} on {data_path}\")\n",
    "\n",
    "!sbatch {file_name}"
   ]
  },
  {
   "cell_type": "code",
   "execution_count": null,
   "metadata": {},
   "outputs": [],
   "source": [
    "!squeue -u wjm41\n"
   ]
  },
  {
   "cell_type": "code",
   "execution_count": null,
   "metadata": {},
   "outputs": [],
   "source": [
    "!scancel 58464108\n"
   ]
  },
  {
   "cell_type": "markdown",
   "metadata": {},
   "source": [
    "Hypothesis that bad y-scaling from datapoints with y>0 is causing low gradients: cutting those datapoints here"
   ]
  },
  {
   "cell_type": "code",
   "execution_count": null,
   "metadata": {},
   "outputs": [],
   "source": [
    "import pandas as pd\n",
    "\n",
    "df = pd.read_pickle('/rds-d2/user/wjm41/hpc-work/datasets/Ugis/datasets/ultra_large/D4_docked_valid.pkl')\n",
    "\n",
    "df_without_positive_y = df.query('dockscore < 0')\n",
    "df_without_positive_y.to_pickle(\n",
    "    '/rds-d2/user/wjm41/hpc-work/datasets/Ugis/datasets/ultra_large/D4_negative.pkl')\n"
   ]
  },
  {
   "cell_type": "code",
   "execution_count": null,
   "metadata": {},
   "outputs": [],
   "source": [
    "df.describe()\n"
   ]
  },
  {
   "cell_type": "markdown",
   "metadata": {},
   "source": [
    "Submit job with only y<0"
   ]
  },
  {
   "cell_type": "code",
   "execution_count": 1,
   "metadata": {},
   "outputs": [],
   "source": [
    "import os\n",
    "from dock2hit.utils import write_slurm_script\n",
    "\n",
    "current_dir = os.getcwd()\n",
    "data_dir = '/rds-d2/user/wjm41/hpc-work/datasets/Ugis/datasets'\n",
    "log_dir = '/rds-d2/user/wjm41/hpc-work/datasets/Ugis/runs/ultra-large/D4-debug'\n",
    "\n",
    "dataset = 'D4'\n",
    "model_name = 'quick_train_ultra_negative'\n",
    "model_dir = f'/rds-d2/user/wjm41/hpc-work/models/dock2hit/{dataset}'\n",
    "\n",
    "model_path = f'{model_dir}/{model_name}'\n",
    "\n",
    "data_path = f'{data_dir}/ultra_large/{dataset}_negative.pkl'\n",
    "\n",
    "script = f'python -c \"from dock2hit.train_and_validate.multithread import main; main()\"'\n",
    "\n",
    "log_step = 10\n",
    "args = [\n",
    "    f'-path_to_train_data {data_path}',\n",
    "    '-batch_size 256',\n",
    "    '-minibatch_size 64',\n",
    "    '-lr 1e-5',\n",
    "    '-n_epochs 10000',\n",
    "    f'-save_dir {model_path}',\n",
    "    f'-log_dir {log_dir}',\n",
    "    f'-steps_per_log {log_step}'\n",
    "]\n",
    "\n",
    "file_name = 'subm_quick_train_ultra_negative'\n",
    "run_time = '0:15:00'\n",
    "output_name = f'{current_dir}/{file_name}.out'\n",
    "\n",
    "write_slurm_script(job_name=f'{file_name}',\n",
    "                   run_time=f'{run_time}',\n",
    "                   output_name=output_name,\n",
    "                   package_dir='/rds-d2/user/wjm41/hpc-work/datasets/Ugis/',\n",
    "                   script=script,\n",
    "                   args=args,\n",
    "                   file_name=file_name,\n",
    "                   email=True\n",
    "                   )\n",
    "\n",
    "print(f\"Submitted quick_trainging jobs for {model_path} on {data_path}\")\n",
    "\n",
    "!sbatch {file_name}\n"
   ]
  }
 ],
 "metadata": {
  "interpreter": {
   "hash": "a6e87d9fa0a1f095b3ef96d553f4761a958bca4f905d671de5dacda23677a266"
  },
  "kernelspec": {
   "display_name": "fresco",
   "language": "python",
   "name": "python3"
  },
  "language_info": {
   "codemirror_mode": {
    "name": "ipython",
    "version": 3
   },
   "file_extension": ".py",
   "mimetype": "text/x-python",
   "name": "python",
   "nbconvert_exporter": "python",
   "pygments_lexer": "ipython3",
   "version": "3.9.7"
  },
  "orig_nbformat": 4
 },
 "nbformat": 4,
 "nbformat_minor": 2
}
