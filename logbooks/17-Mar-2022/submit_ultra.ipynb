{
 "cells": [
  {
   "cell_type": "markdown",
   "metadata": {},
   "source": [
    "Submit training job for Dopamine D4"
   ]
  },
  {
   "cell_type": "code",
   "execution_count": 1,
   "metadata": {},
   "outputs": [
    {
     "name": "stdout",
     "output_type": "stream",
     "text": [
      "Submitted training jobs for /rds-d2/user/wjm41/hpc-work/models/dock2hit/D4//initial_run on /rds-d2/user/wjm41/hpc-work/datasets/Ugis/datasets/D4_docked_vaild.pkl\n",
      "Submitted batch job 57163568\n"
     ]
    }
   ],
   "source": [
    "import os\n",
    "\n",
    "current_dir = os.getcwd()\n",
    "script_dir = '/rds-d2/user/wjm41/hpc-work/datasets/Ugis/src'\n",
    "data_dir = '/rds-d2/user/wjm41/hpc-work/datasets/Ugis/datasets'\n",
    "dataset='D4'\n",
    "\n",
    "model_dir = f'/rds-d2/user/wjm41/hpc-work/models/dock2hit/{dataset}/'\n",
    "model_name = 'initial_run'\n",
    "\n",
    "data_path = f'{data_dir}/{dataset}_docked_vaild.pkl'\n",
    "model_path = f'{model_dir}/{model_name}'\n",
    "\n",
    "print(f\"Submitted training jobs for {model_path} on {data_path}\")\n",
    "# fmt off\n",
    "!sbatch --job-name={dataset}_training \\\n",
    "        --output={current_dir}/subm_train_{dataset}_{model_name}.out \\\n",
    "        --export=model_path={model_path},data_path={data_path},script_dir={script_dir} \\\n",
    "        subm_ultra\n"
   ]
  }
 ],
 "metadata": {
  "kernelspec": {
   "display_name": "fresco",
   "language": "python",
   "name": "fresco"
  },
  "language_info": {
   "codemirror_mode": {
    "name": "ipython",
    "version": 3
   },
   "file_extension": ".py",
   "mimetype": "text/x-python",
   "name": "python",
   "nbconvert_exporter": "python",
   "pygments_lexer": "ipython3",
   "version": "3.7.10"
  },
  "orig_nbformat": 4
 },
 "nbformat": 4,
 "nbformat_minor": 2
}
