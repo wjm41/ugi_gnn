{
 "cells": [
  {
   "cell_type": "markdown",
   "metadata": {},
   "source": [
    "# Running predictions on new ugis\n",
    "13th Apr\n",
    "\n",
    "Notebook for training ensemble of random forest models with MPNN hidden state vectors on new + old activity data and running prediction on new prospective molecules"
   ]
  },
  {
   "cell_type": "markdown",
   "metadata": {},
   "source": [
    "Let's load the moonshot data first"
   ]
  },
  {
   "cell_type": "code",
   "execution_count": 2,
   "metadata": {},
   "outputs": [
    {
     "name": "stderr",
     "output_type": "stream",
     "text": [
      "RDKit WARNING: [10:57:02] Tautomer enumeration stopped at 207 tautomers: max transforms reached\n",
      "[10:57:02] Tautomer enumeration stopped at 207 tautomers: max transforms reached\n",
      "RDKit WARNING: [10:57:04] Tautomer enumeration stopped at 229 tautomers: max transforms reached\n",
      "[10:57:04] Tautomer enumeration stopped at 229 tautomers: max transforms reached\n"
     ]
    }
   ],
   "source": [
    "import pandas as pd\n",
    "import numpy as np\n",
    "from rdkit.Chem.MolStandardize import rdMolStandardize\n",
    "from rdkit.Chem import MolFromSmiles, MolToSmiles\n",
    "\n",
    "def canon_tautomers(smiles_list):\n",
    "    enumerator = rdMolStandardize.TautomerEnumerator()\n",
    "\n",
    "    smiles_list = [MolToSmiles(enumerator.Canonicalize(\n",
    "        MolFromSmiles(smi))) for smi in smiles_list]\n",
    "\n",
    "    return smiles_list\n",
    "\n",
    "\n",
    "def read_and_process_dataframe(path_to_dataframe, canonicalize_tautomers=True, IC50_threshold=None, pIC50_threshold=None):\n",
    "    df = pd.read_csv(path_to_dataframe)\n",
    "\n",
    "    if canonicalize_tautomers:\n",
    "        df['SMILES'] = canon_tautomers(df['SMILES']) \n",
    "\n",
    "    # assign IC50 of 100 to inactives\n",
    "    df.loc[df['IC50'].astype(str).str.contains('>'), 'IC50'] = 100.0\n",
    "    df.loc[df['IC50'].isnull(), 'IC50'] = 100.0\n",
    "    \n",
    "    df['IC50'] = df['IC50'].astype(float)\n",
    "    df['pIC50'] = -np.log10(df['IC50'].to_numpy()) + 6\n",
    "\n",
    "    indicies_of_actives = df[df['IC50'] != 100.0].index.to_numpy()\n",
    "    \n",
    "    if IC50_threshold is not None:\n",
    "        df = df.query('IC50 < @IC50_threshold')\n",
    "    if pIC50_threshold is not None:\n",
    "        df = df.query('pIC50 >= @pIC50_threshold')\n",
    "\n",
    "    pIC50_values = df['pIC50'].to_numpy()\n",
    "\n",
    "    return df, pIC50_values, indicies_of_actives\n",
    "\n",
    "moonshot_data_dir = '/rds-d2/user/wjm41/hpc-work/datasets/Ugis/datasets/moonshot_evaluation_sets/'\n",
    "file_names = ['combined_acid.csv', 'combined_aldehyde.csv', 'combined_amine.csv', 'combined_isocyanide.csv']\n",
    "file_names = [f'{moonshot_data_dir}{file}' for file in file_names]\n",
    "file_names.append(\n",
    "    '/rds-d2/user/wjm41/hpc-work/datasets/Ugis/datasets/new_ugi_activity_2022_04_03.csv')\n",
    "\n",
    "list_of_dataframes = []\n",
    "list_of_pIC50_values = []\n",
    "list_of_active_indices = []\n",
    "\n",
    "for file in file_names:\n",
    "\n",
    "    df_for_this_file, y_train, indicies_of_actives = read_and_process_dataframe(file)\n",
    "\n",
    "    list_of_dataframes.append(df_for_this_file)\n",
    "    list_of_pIC50_values.append(y_train)\n",
    "    list_of_active_indices.append(indicies_of_actives)\n"
   ]
  },
  {
   "cell_type": "markdown",
   "metadata": {},
   "source": [
    "Generate fingerprints"
   ]
  },
  {
   "cell_type": "code",
   "execution_count": 3,
   "metadata": {},
   "outputs": [
    {
     "name": "stderr",
     "output_type": "stream",
     "text": [
      "INFO:root:No GPU found, using CPU\n",
      "INFO:root:No GPU found, using CPU\n",
      "INFO:root:No GPU found, using CPU\n",
      "INFO:root:No GPU found, using CPU\n",
      "INFO:root:No GPU found, using CPU\n",
      "  0%|          | 0/5 [00:00<?, ?it/s]INFO:root:No GPU found, using CPU\n",
      " 20%|██        | 1/5 [00:38<02:34, 38.58s/it]INFO:root:No GPU found, using CPU\n",
      " 40%|████      | 2/5 [01:08<01:40, 33.63s/it]INFO:root:No GPU found, using CPU\n",
      " 60%|██████    | 3/5 [01:20<00:47, 23.51s/it]INFO:root:No GPU found, using CPU\n",
      " 80%|████████  | 4/5 [01:28<00:17, 17.46s/it]INFO:root:No GPU found, using CPU\n",
      "100%|██████████| 5/5 [01:50<00:00, 22.18s/it]\n",
      "  0%|          | 0/5 [00:00<?, ?it/s]INFO:root:No GPU found, using CPU\n",
      " 20%|██        | 1/5 [00:11<00:45, 11.43s/it]INFO:root:No GPU found, using CPU\n",
      " 40%|████      | 2/5 [00:16<00:23,  7.90s/it]INFO:root:No GPU found, using CPU\n",
      " 60%|██████    | 3/5 [00:48<00:37, 18.67s/it]INFO:root:No GPU found, using CPU\n",
      " 80%|████████  | 4/5 [00:59<00:15, 15.68s/it]INFO:root:No GPU found, using CPU\n",
      "100%|██████████| 5/5 [01:13<00:00, 14.73s/it]\n",
      "  0%|          | 0/5 [00:00<?, ?it/s]INFO:root:No GPU found, using CPU\n",
      " 20%|██        | 1/5 [00:11<00:45, 11.50s/it]INFO:root:No GPU found, using CPU\n",
      " 40%|████      | 2/5 [00:24<00:37, 12.47s/it]INFO:root:No GPU found, using CPU\n",
      " 60%|██████    | 3/5 [00:35<00:23, 11.70s/it]INFO:root:No GPU found, using CPU\n",
      " 80%|████████  | 4/5 [01:07<00:19, 19.61s/it]INFO:root:No GPU found, using CPU\n",
      "100%|██████████| 5/5 [02:06<00:00, 25.32s/it]\n",
      "  0%|          | 0/5 [00:00<?, ?it/s]INFO:root:No GPU found, using CPU\n",
      " 20%|██        | 1/5 [00:28<01:52, 28.21s/it]INFO:root:No GPU found, using CPU\n",
      " 40%|████      | 2/5 [00:38<00:52, 17.57s/it]INFO:root:No GPU found, using CPU\n",
      " 60%|██████    | 3/5 [00:45<00:25, 12.64s/it]INFO:root:No GPU found, using CPU\n",
      " 80%|████████  | 4/5 [00:56<00:12, 12.10s/it]INFO:root:No GPU found, using CPU\n",
      "100%|██████████| 5/5 [01:00<00:00, 12.00s/it]\n",
      "  0%|          | 0/5 [00:00<?, ?it/s]INFO:root:No GPU found, using CPU\n",
      " 20%|██        | 1/5 [00:07<00:29,  7.35s/it]INFO:root:No GPU found, using CPU\n",
      " 40%|████      | 2/5 [00:11<00:15,  5.26s/it]INFO:root:No GPU found, using CPU\n",
      " 60%|██████    | 3/5 [00:14<00:08,  4.42s/it]INFO:root:No GPU found, using CPU\n",
      " 80%|████████  | 4/5 [00:24<00:06,  6.48s/it]INFO:root:No GPU found, using CPU\n",
      "100%|██████████| 5/5 [01:01<00:00, 12.34s/it]\n",
      "  0%|          | 0/5 [00:00<?, ?it/s]INFO:root:No GPU found, using CPU\n",
      " 20%|██        | 1/5 [01:21<05:27, 81.94s/it]INFO:root:No GPU found, using CPU\n",
      " 40%|████      | 2/5 [02:01<02:50, 56.94s/it]INFO:root:No GPU found, using CPU\n",
      " 60%|██████    | 3/5 [03:11<02:06, 63.10s/it]INFO:root:No GPU found, using CPU\n",
      " 80%|████████  | 4/5 [04:05<00:59, 59.54s/it]INFO:root:No GPU found, using CPU\n",
      "100%|██████████| 5/5 [05:12<00:00, 62.49s/it]\n",
      "  0%|          | 0/5 [00:00<?, ?it/s]INFO:root:No GPU found, using CPU\n",
      "  0%|          | 0/5 [00:07<?, ?it/s]\n",
      "  0%|          | 0/5 [00:00<?, ?it/s]INFO:root:No GPU found, using CPU\n",
      " 20%|██        | 1/5 [00:05<00:22,  5.65s/it]INFO:root:No GPU found, using CPU\n",
      " 40%|████      | 2/5 [00:18<00:30, 10.08s/it]INFO:root:No GPU found, using CPU\n",
      " 60%|██████    | 3/5 [00:26<00:17,  8.91s/it]INFO:root:No GPU found, using CPU\n",
      " 80%|████████  | 4/5 [00:35<00:08,  8.91s/it]INFO:root:No GPU found, using CPU\n",
      "100%|██████████| 5/5 [01:26<00:00, 17.35s/it]\n",
      "  0%|          | 0/5 [00:15<?, ?it/s]\n",
      "100%|██████████| 5/5 [01:19<00:00, 15.98s/it]\n",
      "  0%|          | 0/5 [00:00<?, ?it/s]INFO:root:No GPU found, using CPU\n",
      " 20%|██        | 1/5 [00:26<01:44, 26.13s/it]\n",
      "  0%|          | 0/5 [00:07<?, ?it/s]\n",
      "  0%|          | 0/5 [00:03<?, ?it/s]\n",
      "  0%|          | 0/5 [00:03<?, ?it/s]\n",
      "  0%|          | 0/5 [00:17<?, ?it/s]\n",
      "  0%|          | 0/5 [00:09<?, ?it/s]\n",
      " 40%|████      | 2/5 [00:15<00:22,  7.52s/it]\n",
      "  0%|          | 0/5 [00:00<?, ?it/s]INFO:root:No GPU found, using CPU\n",
      " 20%|██        | 1/5 [00:13<00:55, 13.98s/it]\n",
      "  0%|          | 0/5 [00:00<?, ?it/s]INFO:root:No GPU found, using CPU\n",
      " 20%|██        | 1/5 [00:07<00:31,  7.88s/it]INFO:root:No GPU found, using CPU\n",
      " 40%|████      | 2/5 [00:14<00:21,  7.27s/it]INFO:root:No GPU found, using CPU\n",
      " 60%|██████    | 3/5 [00:23<00:15,  7.73s/it]INFO:root:No GPU found, using CPU\n",
      " 80%|████████  | 4/5 [01:35<00:33, 33.21s/it]INFO:root:No GPU found, using CPU\n",
      "100%|██████████| 5/5 [01:37<00:00, 19.58s/it]\n",
      "100%|██████████| 5/5 [00:56<00:00, 11.29s/it]\n",
      "  0%|          | 0/5 [00:00<?, ?it/s]INFO:root:No GPU found, using CPU\n",
      " 20%|██        | 1/5 [00:14<00:59, 14.92s/it]INFO:root:No GPU found, using CPU\n",
      " 40%|████      | 2/5 [00:21<00:29,  9.75s/it]INFO:root:No GPU found, using CPU\n",
      " 60%|██████    | 3/5 [00:30<00:19,  9.67s/it]INFO:root:No GPU found, using CPU\n",
      " 80%|████████  | 4/5 [00:34<00:07,  7.35s/it]INFO:root:No GPU found, using CPU\n",
      "100%|██████████| 5/5 [00:36<00:00,  7.26s/it]\n",
      "  0%|          | 0/5 [00:00<?, ?it/s]INFO:root:No GPU found, using CPU\n",
      " 20%|██        | 1/5 [00:37<02:31, 37.97s/it]INFO:root:No GPU found, using CPU\n",
      " 40%|████      | 2/5 [00:47<01:03, 21.06s/it]INFO:root:No GPU found, using CPU\n",
      " 60%|██████    | 3/5 [01:05<00:39, 19.90s/it]INFO:root:No GPU found, using CPU\n",
      " 80%|████████  | 4/5 [01:19<00:17, 17.44s/it]INFO:root:No GPU found, using CPU\n",
      "100%|██████████| 5/5 [01:30<00:00, 18.18s/it]\n",
      "100%|██████████| 5/5 [03:56<00:00, 47.39s/it]\n"
     ]
    }
   ],
   "source": [
    "from useful_rdkit_utils import add_molecule_and_errors, mol2numpy_fp\n",
    "from dock2hit.generate_mpnn_fps import generate_mpnn_fps_from_dataframe\n",
    "\n",
    "taut_model='/rds-d2/user/wjm41/hpc-work/models/dock2hit/ugi/ugi_taut/model_mol9039221.ckpt'\n",
    "\n",
    "names = ['acid', 'aldehyde', 'amine', 'isocyanide', 'new']\n",
    "for name, df in zip(names, list_of_dataframes):\n",
    "    add_molecule_and_errors(df, mol_col_name='mol')\n",
    "    df['morgan_fp'] = df['mol'].apply(mol2numpy_fp)\n",
    "    df['mpnn_fp'] = [x for x in generate_mpnn_fps_from_dataframe(df, load_name=taut_model)]\n",
    "    df['df'] = name\n",
    "\n",
    "df_all = pd.concat(list_of_dataframes).reset_index()\n",
    "df_all['IC50'] = df_all['IC50'].astype(float)\n"
   ]
  },
  {
   "cell_type": "markdown",
   "metadata": {},
   "source": [
    "New compounds to test from Alpha (4th Apr)"
   ]
  },
  {
   "cell_type": "code",
   "execution_count": 4,
   "metadata": {},
   "outputs": [],
   "source": [
    "new_test_mols = ['CC(C)Oc1ccc(cc1)N(C(C(=O)NCCc1ccns1)c1cccnc1)C(=O)c1cocn1', # this one is the top hit so far\n",
    "                'O=C(NCCc1sncc1)C(c2cnccc2)N(C(c3ncoc3)=O)c4ccc(C(C)(C)C)cc4',\n",
    "                 'O=C(NCCc1sncc1)C(c2cnccc2)N(C(c3nc[nH]c3)=O)c4ccc(OC(C)C)cc4',\n",
    "                 'O=C(NCCc1sncc1)C(c2cnccc2)N(C(c3nc[nH]c3)=O)c4ccc(C(C)(C)C)cc4',\n",
    "                 'O=C(NCCC1=CC(F)=C(OC)C=C1)C(c2cnccc2)N(C(c3ncoc3)=O)c4ccc(C(C)(C)C)cc4',\n",
    "                 'O=C(NCCC1=CC(F)=C(OC)C=C1)C(c2cnccc2)N(C(c3nc[nH]c3)=O)c4ccc(OC(C)C)cc4',\n",
    "                 'O=C(NCCC1=CC(F)=C(OC)C=C1)C(c2cnccc2)N(C(c3nc[nH]c3)=O)c4ccc(C(C)(C)C)cc4',\n",
    "                 ]\n",
    "\n",
    "test_df = pd.DataFrame(new_test_mols, columns=['SMILES'])\n"
   ]
  },
  {
   "cell_type": "markdown",
   "metadata": {},
   "source": [
    "Run predictions on new molecules"
   ]
  },
  {
   "cell_type": "code",
   "execution_count": 39,
   "metadata": {},
   "outputs": [
    {
     "name": "stdout",
     "output_type": "stream",
     "text": [
      "Fitting RF models\n",
      "Fitting 5 folds for each of 1 candidates, totalling 5 fits\n",
      "{'n_estimators': 383, 'min_samples_split': 10, 'min_samples_leaf': 4, 'max_features': 'auto', 'max_depth': 4, 'bootstrap': True}\n",
      "Fitting 5 folds for each of 1 candidates, totalling 5 fits\n",
      "{'n_estimators': 1191, 'min_samples_split': 4, 'min_samples_leaf': 3, 'max_features': 'sqrt', 'max_depth': 3, 'bootstrap': True}\n",
      "Fitting 5 folds for each of 1 candidates, totalling 5 fits\n",
      "{'n_estimators': 567, 'min_samples_split': 2, 'min_samples_leaf': 3, 'max_features': 'auto', 'max_depth': 2, 'bootstrap': True}\n",
      "Fitting 5 folds for each of 1 candidates, totalling 5 fits\n",
      "{'n_estimators': 1853, 'min_samples_split': 4, 'min_samples_leaf': 2, 'max_features': 'auto', 'max_depth': 10, 'bootstrap': False}\n",
      "Fitting 5 folds for each of 1 candidates, totalling 5 fits\n",
      "{'n_estimators': 383, 'min_samples_split': 10, 'min_samples_leaf': 2, 'max_features': 'sqrt', 'max_depth': 1, 'bootstrap': True}\n",
      "Fitting 5 folds for each of 1 candidates, totalling 5 fits\n",
      "{'n_estimators': 1155, 'min_samples_split': 2, 'min_samples_leaf': 5, 'max_features': 'sqrt', 'max_depth': 7, 'bootstrap': True}\n",
      "Fitting 5 folds for each of 1 candidates, totalling 5 fits\n",
      "{'n_estimators': 1559, 'min_samples_split': 2, 'min_samples_leaf': 4, 'max_features': 'auto', 'max_depth': 8, 'bootstrap': True}\n",
      "Fitting 5 folds for each of 1 candidates, totalling 5 fits\n",
      "{'n_estimators': 751, 'min_samples_split': 2, 'min_samples_leaf': 4, 'max_features': 'sqrt', 'max_depth': 2, 'bootstrap': True}\n",
      "Fitting 5 folds for each of 1 candidates, totalling 5 fits\n",
      "{'n_estimators': 383, 'min_samples_split': 8, 'min_samples_leaf': 4, 'max_features': 'sqrt', 'max_depth': 5, 'bootstrap': True}\n",
      "Fitting 5 folds for each of 1 candidates, totalling 5 fits\n",
      "{'n_estimators': 493, 'min_samples_split': 4, 'min_samples_leaf': 5, 'max_features': 'auto', 'max_depth': 8, 'bootstrap': True}\n",
      "Fitting 5 folds for each of 1 candidates, totalling 5 fits\n",
      "{'n_estimators': 567, 'min_samples_split': 2, 'min_samples_leaf': 3, 'max_features': 'auto', 'max_depth': 5, 'bootstrap': False}\n",
      "Fitting 5 folds for each of 1 candidates, totalling 5 fits\n",
      "{'n_estimators': 861, 'min_samples_split': 4, 'min_samples_leaf': 3, 'max_features': 'sqrt', 'max_depth': 10, 'bootstrap': False}\n",
      "Fitting 5 folds for each of 1 candidates, totalling 5 fits\n",
      "{'n_estimators': 1706, 'min_samples_split': 8, 'min_samples_leaf': 3, 'max_features': 'sqrt', 'max_depth': 5, 'bootstrap': False}\n",
      "Fitting 5 folds for each of 1 candidates, totalling 5 fits\n",
      "{'n_estimators': 714, 'min_samples_split': 10, 'min_samples_leaf': 4, 'max_features': 'sqrt', 'max_depth': 4, 'bootstrap': False}\n",
      "Fitting 5 folds for each of 1 candidates, totalling 5 fits\n",
      "{'n_estimators': 530, 'min_samples_split': 6, 'min_samples_leaf': 4, 'max_features': 'sqrt', 'max_depth': 1, 'bootstrap': False}\n"
     ]
    }
   ],
   "source": [
    "from tqdm import tqdm\n",
    "from dock2hit.fine_tuning.model_fitting import fit_forest\n",
    "\n",
    "def merge_ensemble_of_score_dfs(list_of_dfs, names_of_scores):\n",
    "    df_merged = pd.concat(list_of_dfs, axis=1)\n",
    "    df_merged = df_merged.loc[:, ~df_merged.columns.duplicated()]\n",
    "    df_merged['pred_mean'] = np.mean(df_merged[names_of_scores], axis=1)\n",
    "    df_merged['pred_std'] = np.std(df_merged[names_of_scores], axis=1)\n",
    "    return df_merged.sort_values(by='pred_mean', ascending=False)\n",
    "\n",
    "def run_prediction_on_dataframe(df, \n",
    "                                model, \n",
    "                                load_name: str, \n",
    "                                input_rep: str = 'mpnn_fp',\n",
    "                                savename: str = None, \n",
    "                                canon: bool = False, \n",
    "                                uncertain: bool = False):\n",
    "\n",
    "    df_score = df.copy()\n",
    "    if canon:\n",
    "        # already done so just save some time lmao\n",
    "        df_score['SMILES'] = canon_tautomers(df_score['SMILES'])\n",
    "    if input_rep == 'mpnn_fp':\n",
    "        x_new = generate_mpnn_fps_from_dataframe(df_score, load_name=load_name)\n",
    "    else:\n",
    "        add_molecule_and_errors(df_score, mol_col_name='mol')\n",
    "        # x_new = df_score['mol'].apply(mol2numpy_fp).values\n",
    "        x_new = [x for x in df_score['mol'].apply(mol2numpy_fp)]\n",
    "\n",
    "    if uncertain:\n",
    "        preds, var = model.predict(x_new, no_var=False)\n",
    "        df_score['predicted_var'] = var\n",
    "    else:\n",
    "        # print(x_new)\n",
    "        preds = model.predict(x_new)\n",
    "\n",
    "    df_score['predicted_pIC50'] = preds\n",
    "    # df_score = df_score.sort_values(by='predicted_pIC50', ascending=False)\n",
    "\n",
    "    if savename:\n",
    "        df_score.to_csv(savename, index=False)\n",
    "    return df_score\n",
    "\n",
    "print('Fitting RF models')\n",
    "\n",
    "n_models = 5\n",
    "\n",
    "old_model = '/rds-d2/user/wjm41/hpc-work/models/ugi_full/model_mol4608000.ckpt'\n",
    "tautomer_mpnn = '/rds-d2/user/wjm41/hpc-work/models/dock2hit/ugi/ugi_taut/model_mol9039221.ckpt'\n",
    "\n",
    "def train_and_score(df_to_score, input_rep: str ='mpnn_fp'):\n",
    "    list_of_score_dfs = []\n",
    "    list_of_score_names = []\n",
    "    for n in tqdm(range(n_models)):\n",
    "        score_name = 'score_'+str(n)\n",
    "        list_of_score_names.append(score_name)\n",
    "        x = np.vstack(df_all['mpnn_fp'].to_numpy())\n",
    "        random_forest_trained_on_all_data = fit_forest(\n",
    "            np.vstack(df_all[input_rep].to_numpy()), df_all['pIC50'].to_numpy())\n",
    "        \n",
    "        \n",
    "        df_with_predictions = run_prediction_on_dataframe(\n",
    "            df_to_score, model=random_forest_trained_on_all_data, input_rep = input_rep, load_name=tautomer_mpnn)\n",
    "        df_with_predictions.rename(\n",
    "            columns={'predicted_pIC50': score_name}, inplace=True)\n",
    "        list_of_score_dfs.append(df_with_predictions)\n",
    "        \n",
    "    df_mean = merge_ensemble_of_score_dfs(\n",
    "        list_of_score_dfs, names_of_scores=list_of_score_names)\n",
    "    return df_mean\n",
    "\n",
    "df_training_set = train_and_score(df_all, input_rep='mpnn_fp').rename(columns={'pred_mean': 'mpnn_pred_mean'})\n",
    "df_training_set['morgan_pred_mean'] = train_and_score(df_all, input_rep='morgan_fp').rename(\n",
    "    columns={'pred_mean': 'morgan_pred_mean'})['morgan_pred_mean']\n",
    "\n",
    "df_new_mols = train_and_score(test_df, input_rep='mpnn_fp')"
   ]
  },
  {
   "cell_type": "markdown",
   "metadata": {},
   "source": [
    "New values"
   ]
  },
  {
   "cell_type": "code",
   "execution_count": 6,
   "metadata": {},
   "outputs": [
    {
     "data": {
      "text/html": [
       "<div>\n",
       "<style scoped>\n",
       "    .dataframe tbody tr th:only-of-type {\n",
       "        vertical-align: middle;\n",
       "    }\n",
       "\n",
       "    .dataframe tbody tr th {\n",
       "        vertical-align: top;\n",
       "    }\n",
       "\n",
       "    .dataframe thead th {\n",
       "        text-align: right;\n",
       "    }\n",
       "</style>\n",
       "<table border=\"1\" class=\"dataframe\">\n",
       "  <thead>\n",
       "    <tr style=\"text-align: right;\">\n",
       "      <th></th>\n",
       "      <th>SMILES</th>\n",
       "      <th>pred_mean</th>\n",
       "      <th>pred_std</th>\n",
       "    </tr>\n",
       "  </thead>\n",
       "  <tbody>\n",
       "    <tr>\n",
       "      <th>0</th>\n",
       "      <td>CC(C)Oc1ccc(cc1)N(C(C(=O)NCCc1ccns1)c1cccnc1)C(=O)c1cocn1</td>\n",
       "      <td>5.499362</td>\n",
       "      <td>0.175849</td>\n",
       "    </tr>\n",
       "    <tr>\n",
       "      <th>1</th>\n",
       "      <td>O=C(NCCc1sncc1)C(c2cnccc2)N(C(c3ncoc3)=O)c4ccc(C(C)(C)C)cc4</td>\n",
       "      <td>5.315284</td>\n",
       "      <td>0.073589</td>\n",
       "    </tr>\n",
       "    <tr>\n",
       "      <th>2</th>\n",
       "      <td>O=C(NCCc1sncc1)C(c2cnccc2)N(C(c3nc[nH]c3)=O)c4ccc(OC(C)C)cc4</td>\n",
       "      <td>5.271943</td>\n",
       "      <td>0.047230</td>\n",
       "    </tr>\n",
       "    <tr>\n",
       "      <th>3</th>\n",
       "      <td>O=C(NCCc1sncc1)C(c2cnccc2)N(C(c3nc[nH]c3)=O)c4ccc(C(C)(C)C)cc4</td>\n",
       "      <td>5.140188</td>\n",
       "      <td>0.214933</td>\n",
       "    </tr>\n",
       "    <tr>\n",
       "      <th>5</th>\n",
       "      <td>O=C(NCCC1=CC(F)=C(OC)C=C1)C(c2cnccc2)N(C(c3nc[nH]c3)=O)c4ccc(OC(C)C)cc4</td>\n",
       "      <td>5.109158</td>\n",
       "      <td>0.131860</td>\n",
       "    </tr>\n",
       "    <tr>\n",
       "      <th>6</th>\n",
       "      <td>O=C(NCCC1=CC(F)=C(OC)C=C1)C(c2cnccc2)N(C(c3nc[nH]c3)=O)c4ccc(C(C)(C)C)cc4</td>\n",
       "      <td>4.980122</td>\n",
       "      <td>0.047702</td>\n",
       "    </tr>\n",
       "    <tr>\n",
       "      <th>4</th>\n",
       "      <td>O=C(NCCC1=CC(F)=C(OC)C=C1)C(c2cnccc2)N(C(c3ncoc3)=O)c4ccc(C(C)(C)C)cc4</td>\n",
       "      <td>4.950834</td>\n",
       "      <td>0.187341</td>\n",
       "    </tr>\n",
       "  </tbody>\n",
       "</table>\n",
       "</div>"
      ],
      "text/plain": [
       "                                                                      SMILES  \\\n",
       "0                  CC(C)Oc1ccc(cc1)N(C(C(=O)NCCc1ccns1)c1cccnc1)C(=O)c1cocn1   \n",
       "1                O=C(NCCc1sncc1)C(c2cnccc2)N(C(c3ncoc3)=O)c4ccc(C(C)(C)C)cc4   \n",
       "2               O=C(NCCc1sncc1)C(c2cnccc2)N(C(c3nc[nH]c3)=O)c4ccc(OC(C)C)cc4   \n",
       "3             O=C(NCCc1sncc1)C(c2cnccc2)N(C(c3nc[nH]c3)=O)c4ccc(C(C)(C)C)cc4   \n",
       "5    O=C(NCCC1=CC(F)=C(OC)C=C1)C(c2cnccc2)N(C(c3nc[nH]c3)=O)c4ccc(OC(C)C)cc4   \n",
       "6  O=C(NCCC1=CC(F)=C(OC)C=C1)C(c2cnccc2)N(C(c3nc[nH]c3)=O)c4ccc(C(C)(C)C)cc4   \n",
       "4     O=C(NCCC1=CC(F)=C(OC)C=C1)C(c2cnccc2)N(C(c3ncoc3)=O)c4ccc(C(C)(C)C)cc4   \n",
       "\n",
       "   pred_mean  pred_std  \n",
       "0   5.499362  0.175849  \n",
       "1   5.315284  0.073589  \n",
       "2   5.271943  0.047230  \n",
       "3   5.140188  0.214933  \n",
       "5   5.109158  0.131860  \n",
       "6   4.980122  0.047702  \n",
       "4   4.950834  0.187341  "
      ]
     },
     "execution_count": 6,
     "metadata": {},
     "output_type": "execute_result"
    }
   ],
   "source": [
    "pd.set_option('display.max_colwidth', 1000)\n",
    "df_mean.sort_values(by='pred_mean', ascending=False)\n"
   ]
  },
  {
   "cell_type": "markdown",
   "metadata": {},
   "source": [
    "Old values (output from previous notebook 8th Apr) - new data does increase the predicted potency for some of the molecules (but not all)"
   ]
  },
  {
   "cell_type": "code",
   "execution_count": 20,
   "metadata": {},
   "outputs": [
    {
     "data": {
      "text/html": [
       "<div>\n",
       "<style scoped>\n",
       "    .dataframe tbody tr th:only-of-type {\n",
       "        vertical-align: middle;\n",
       "    }\n",
       "\n",
       "    .dataframe tbody tr th {\n",
       "        vertical-align: top;\n",
       "    }\n",
       "\n",
       "    .dataframe thead th {\n",
       "        text-align: right;\n",
       "    }\n",
       "</style>\n",
       "<table border=\"1\" class=\"dataframe\">\n",
       "  <thead>\n",
       "    <tr style=\"text-align: right;\">\n",
       "      <th></th>\n",
       "      <th>SMILES</th>\n",
       "      <th>pred_mean</th>\n",
       "      <th>pred_std</th>\n",
       "    </tr>\n",
       "  </thead>\n",
       "  <tbody>\n",
       "    <tr>\n",
       "      <th>0</th>\n",
       "      <td>O=C(NCCc1sncc1)C(c2cnccc2)N(C(c3ncoc3)=O)c4ccc(C(C)(C)C)cc4</td>\n",
       "      <td>5.041475</td>\n",
       "      <td>0.139373</td>\n",
       "    </tr>\n",
       "    <tr>\n",
       "      <th>2</th>\n",
       "      <td>O=C(NCCc1sncc1)C(c2cnccc2)N(C(c3nc[nH]c3)=O)c4ccc(C(C)(C)C)cc4</td>\n",
       "      <td>5.011526</td>\n",
       "      <td>0.111470</td>\n",
       "    </tr>\n",
       "    <tr>\n",
       "      <th>1</th>\n",
       "      <td>O=C(NCCc1sncc1)C(c2cnccc2)N(C(c3nc[nH]c3)=O)c4ccc(OC(C)C)cc4</td>\n",
       "      <td>4.993751</td>\n",
       "      <td>0.104332</td>\n",
       "    </tr>\n",
       "    <tr>\n",
       "      <th>3</th>\n",
       "      <td>O=C(NCCC1=CC(F)=C(OC)C=C1)C(c2cnccc2)N(C(c3ncoc3)=O)c4ccc(C(C)(C)C)cc4</td>\n",
       "      <td>4.891255</td>\n",
       "      <td>0.091191</td>\n",
       "    </tr>\n",
       "    <tr>\n",
       "      <th>4</th>\n",
       "      <td>O=C(NCCC1=CC(F)=C(OC)C=C1)C(c2cnccc2)N(C(c3nc[nH]c3)=O)c4ccc(OC(C)C)cc4</td>\n",
       "      <td>4.843136</td>\n",
       "      <td>0.086849</td>\n",
       "    </tr>\n",
       "    <tr>\n",
       "      <th>5</th>\n",
       "      <td>O=C(NCCC1=CC(F)=C(OC)C=C1)C(c2cnccc2)N(C(c3nc[nH]c3)=O)c4ccc(C(C)(C)C)cc4</td>\n",
       "      <td>4.763236</td>\n",
       "      <td>0.133717</td>\n",
       "    </tr>\n",
       "  </tbody>\n",
       "</table>\n",
       "</div>"
      ],
      "text/plain": [
       "                                                                      SMILES  \\\n",
       "0                O=C(NCCc1sncc1)C(c2cnccc2)N(C(c3ncoc3)=O)c4ccc(C(C)(C)C)cc4   \n",
       "2             O=C(NCCc1sncc1)C(c2cnccc2)N(C(c3nc[nH]c3)=O)c4ccc(C(C)(C)C)cc4   \n",
       "1               O=C(NCCc1sncc1)C(c2cnccc2)N(C(c3nc[nH]c3)=O)c4ccc(OC(C)C)cc4   \n",
       "3     O=C(NCCC1=CC(F)=C(OC)C=C1)C(c2cnccc2)N(C(c3ncoc3)=O)c4ccc(C(C)(C)C)cc4   \n",
       "4    O=C(NCCC1=CC(F)=C(OC)C=C1)C(c2cnccc2)N(C(c3nc[nH]c3)=O)c4ccc(OC(C)C)cc4   \n",
       "5  O=C(NCCC1=CC(F)=C(OC)C=C1)C(c2cnccc2)N(C(c3nc[nH]c3)=O)c4ccc(C(C)(C)C)cc4   \n",
       "\n",
       "   pred_mean  pred_std  \n",
       "0   5.041475  0.139373  \n",
       "2   5.011526  0.111470  \n",
       "1   4.993751  0.104332  \n",
       "3   4.891255  0.091191  \n",
       "4   4.843136  0.086849  \n",
       "5   4.763236  0.133717  "
      ]
     },
     "execution_count": 20,
     "metadata": {},
     "output_type": "execute_result"
    }
   ],
   "source": [
    "pd.set_option('display.max_colwidth', 1000)\n",
    "df_mean.sort_values(by='pred_mean', ascending=False)\n"
   ]
  },
  {
   "cell_type": "code",
   "execution_count": 13,
   "metadata": {},
   "outputs": [
    {
     "data": {
      "text/html": [
       "<script>\n",
       "    function fit_height(obj) {\n",
       "        obj.style.height = 0;\n",
       "        var height = obj.contentDocument.body.scrollHeight + 18 + 'px';\n",
       "        obj.style.height = height;\n",
       "    }\n",
       "</script>\n",
       "<iframe class=\"mols2grid-iframe\" frameborder=\"0\" width=\"100%\"\n",
       "\n",
       "height=\"200\"\n",
       "\n",
       "\n",
       "allow=\"clipboard-write\"\n",
       "\n",
       "srcdoc=\"&lt;html&gt;\n",
       "  &lt;meta charset=&quot;utf-8&quot;&gt;\n",
       "  &lt;head&gt;\n",
       "    &lt;style&gt;\n",
       "    #mols2grid.gridcontainer {\n",
       "    display: block;\n",
       "    padding-left: 1em;\n",
       "    max-width: 1220px;\n",
       "    width: 1220px;\n",
       "}\n",
       "#mols2grid .cell {\n",
       "    border: 1px solid #cccccc;\n",
       "    text-align: center;\n",
       "    vertical-align: top;\n",
       "    max-width: 240px;\n",
       "    width: 240px;\n",
       "    font-family: &#x27;DejaVu&#x27;, sans-serif;\n",
       "    font-size: 12pt;\n",
       "    padding: 0;\n",
       "    margin: 0px;\n",
       "    float: left;\n",
       "}\n",
       "#mols2grid .cell:hover {\n",
       "    background-color: #e7e7e7 !important;\n",
       "}\n",
       "#mols2grid .cell .data-img {\n",
       "    padding: 0;\n",
       "    margin: 0;\n",
       "}\n",
       "#mols2grid .cell img, #mols2grid .cell svg {\n",
       "    max-width: 100%;\n",
       "    height: auto;\n",
       "    padding: 0;\n",
       "}\n",
       "#mols2grid .data {\n",
       "    overflow: hidden;\n",
       "    white-space: nowrap;\n",
       "    text-overflow: ellipsis;\n",
       "    display: block;\n",
       "}\n",
       "#mols2grid .arrow-asc:after {\n",
       "    content: &#x27;↑&#x27;;\n",
       "    text-align: right;\n",
       "    float:right;\n",
       "}\n",
       "#mols2grid .arrow-desc:after {\n",
       "    content: &#x27;↓&#x27;;\n",
       "    text-align: right;\n",
       "    float:right;\n",
       "}\n",
       "    /* custom CSS */\n",
       "    \n",
       "    &lt;/style&gt;\n",
       "    &lt;script src=&quot;https://cdnjs.cloudflare.com/ajax/libs/list.js/2.3.1/list.min.js&quot;&gt;&lt;/script&gt;\n",
       "&lt;link rel=&quot;stylesheet&quot; href=&quot;https://cdn.jsdelivr.net/npm/bootstrap@4.6.0/dist/css/bootstrap.min.css&quot; integrity=&quot;sha384-B0vP5xmATw1+K9KRQjQERJvTumQW0nPEzvF6L/Z6nronJ3oUOFUFpCjEUQouq2+l&quot; crossorigin=&quot;anonymous&quot;&gt;\n",
       "&lt;script src=&quot;https://code.jquery.com/jquery-3.6.0.min.js&quot; integrity=&quot;sha256-/xUj+3OJU5yExlq6GSYGSHk7tPXikynS7ogEvDej/m4=&quot; crossorigin=&quot;anonymous&quot;&gt;&lt;/script&gt;\n",
       "&lt;script src=&quot;https://cdn.jsdelivr.net/npm/bootstrap@4.6.0/dist/js/bootstrap.bundle.min.js&quot; integrity=&quot;sha384-Piv4xVNRyMGpqkS2by6br4gNJ7DXjqk09RmUpJ8jgGtD7zP9yug3goQfGII0yAns&quot; crossorigin=&quot;anonymous&quot;&gt;&lt;/script&gt;\n",
       "&lt;script src=&quot;https://unpkg.com/@rdkit/rdkit@2022.3.1/Code/MinimalLib/dist/RDKit_minimal.js&quot;&gt;&lt;/script&gt;\n",
       "    &lt;!-- custom header --&gt;\n",
       "    \n",
       "  &lt;/head&gt;\n",
       "  &lt;body&gt;\n",
       "    &lt;div id=&quot;mols2grid&quot; class=&quot;gridcontainer grid-default&quot;&gt;\n",
       "      &lt;div class=&quot;row mb-3&quot;&gt;\n",
       "        &lt;div class=&quot;list&quot;&gt;&lt;div class=&quot;cell&quot; data-mols2grid-id=&quot;0&quot;&gt;&lt;input type=&quot;checkbox&quot; class=&quot;position-relative float-left cached_checkbox&quot;&gt;&lt;a tabindex=&quot;0&quot; class=&quot;data data-img mols2grid-tooltip&quot; data-toggle=&quot;popover&quot; data-content=&quot;.&quot;&gt;&lt;/a&gt;&lt;div class=&quot;data data-pred_mean&quot;&gt;&lt;/div&gt;&lt;div class=&quot;data data-pred_std&quot;&gt;&lt;/div&gt;&lt;div class=&quot;data data-SMILES&quot; style=&quot;display: none;&quot;&gt;&lt;/div&gt;&lt;/div&gt;&lt;/div&gt;\n",
       "      &lt;/div&gt;\n",
       "      &lt;div class=&quot;d-inline&quot;&gt;\n",
       "        &lt;ul class=&quot;pagination float-left&quot;&gt;&lt;/ul&gt;\n",
       "        &lt;div id=&quot;controls&quot; class=&quot;d-flex flex-row float-right&quot;&gt;\n",
       "          \n",
       "          &lt;div id=&quot;chkbox-dropdown&quot; class=&quot;dropdown&quot;&gt;\n",
       "    &lt;button class=&quot;btn btn-light dropdown-toggle&quot; type=&quot;button&quot; id=&quot;chkboxDropdown&quot; data-toggle=&quot;dropdown&quot; aria-haspopup=&quot;true&quot; aria-expanded=&quot;false&quot;&gt;☑&lt;/button&gt;\n",
       "    &lt;div class=&quot;dropdown-menu&quot; aria-labelledby=&quot;checkboxDropdownMenu&quot;&gt;\n",
       "        &lt;button id=&quot;btn-chkbox-all&quot; class=&quot;dropdown-item&quot; type=&quot;button&quot;&gt;Check all&lt;/button&gt;\n",
       "        &lt;button id=&quot;btn-chkbox-match&quot; class=&quot;dropdown-item&quot; type=&quot;button&quot;&gt;Check matching&lt;/button&gt;\n",
       "        &lt;button id=&quot;btn-chkbox-none&quot; class=&quot;dropdown-item&quot; type=&quot;button&quot;&gt;Uncheck all&lt;/button&gt;\n",
       "        &lt;button id=&quot;btn-chkbox-invert&quot; class=&quot;dropdown-item&quot; type=&quot;button&quot;&gt;Invert&lt;/button&gt;\n",
       "        &lt;div class=&quot;dropdown-divider&quot;&gt;&lt;/div&gt;\n",
       "        &lt;button id=&quot;btn-chkbox-copy&quot; class=&quot;dropdown-item&quot; type=&quot;button&quot;&gt;Copy to clipboard&lt;/button&gt;\n",
       "        &lt;button id=&quot;btn-chkbox-dlsmi&quot; class=&quot;dropdown-item&quot; type=&quot;button&quot;&gt;Save SMILES&lt;/button&gt;\n",
       "        &lt;button id=&quot;btn-chkbox-dlcsv&quot; class=&quot;dropdown-item&quot; type=&quot;button&quot;&gt;Save CSV&lt;/button&gt;\n",
       "    &lt;/div&gt;\n",
       "&lt;/div&gt;\n",
       "          \n",
       "          &lt;div id=&quot;sort-dropdown&quot; class=&quot;dropdown pl-2&quot;&gt;\n",
       "            &lt;button class=&quot;btn btn-light dropdown-toggle&quot; type=&quot;button&quot; id=&quot;sortDropdown&quot; data-toggle=&quot;dropdown&quot; aria-haspopup=&quot;true&quot; aria-expanded=&quot;false&quot;&gt;\n",
       "              Sort by\n",
       "            &lt;/button&gt;\n",
       "            &lt;div class=&quot;dropdown-menu&quot; aria-labelledby=&quot;sortDropdownMenu&quot;&gt;\n",
       "              \n",
       "              \n",
       "              \n",
       "              \n",
       "              \n",
       "              &lt;button class=&quot;dropdown-item sort-btn arrow-asc active&quot; type=&quot;button&quot; data-name=&quot;mols2grid-id&quot;&gt;Index&lt;/button&gt;\n",
       "              \n",
       "              \n",
       "              \n",
       "              \n",
       "              \n",
       "              &lt;button class=&quot;dropdown-item sort-btn &quot; type=&quot;button&quot; data-name=&quot;data-pred_mean&quot;&gt;pred_mean&lt;/button&gt;\n",
       "              \n",
       "              \n",
       "              \n",
       "              \n",
       "              \n",
       "              &lt;button class=&quot;dropdown-item sort-btn &quot; type=&quot;button&quot; data-name=&quot;data-pred_std&quot;&gt;pred_std&lt;/button&gt;\n",
       "              \n",
       "              \n",
       "              \n",
       "              \n",
       "              \n",
       "              &lt;button class=&quot;dropdown-item sort-btn &quot; type=&quot;button&quot; data-name=&quot;data-SMILES&quot;&gt;SMILES&lt;/button&gt;\n",
       "              \n",
       "              \n",
       "              \n",
       "              &lt;button class=&quot;dropdown-item sort-btn&quot; type=&quot;button&quot; data-name=&quot;checkbox&quot;&gt;Selected&lt;/button&gt;\n",
       "              \n",
       "            &lt;/div&gt;\n",
       "          &lt;/div&gt;\n",
       "          &lt;div class=&quot;input-group row pl-4&quot;&gt;\n",
       "            &lt;input type=&quot;text&quot; id=&quot;searchbar&quot; class=&quot;form-control&quot; placeholder=&quot;Search&quot; aria-label=&quot;Search&quot; aria-describedby=&quot;basic-addon1&quot;&gt;\n",
       "            &lt;div class=&quot;input-group-append&quot;&gt;\n",
       "              &lt;button id=&quot;searchBtn&quot; class=&quot;btn btn-light dropdown-toggle&quot; type=&quot;button&quot; data-toggle=&quot;dropdown&quot; aria-haspopup=&quot;true&quot; aria-expanded=&quot;false&quot;&gt;🔎&lt;/button&gt;\n",
       "              &lt;div class=&quot;dropdown-menu dropdown-menu-right&quot;&gt;\n",
       "                &lt;button id=&quot;txtSearch&quot; class=&quot;search-btn dropdown-item active&quot;&gt;Text&lt;/button&gt;\n",
       "                &lt;button id=&quot;smartsSearch&quot; class=&quot;search-btn dropdown-item&quot;&gt;SMARTS&lt;/button&gt;\n",
       "              &lt;/div&gt;\n",
       "            &lt;/div&gt;\n",
       "          &lt;/div&gt;\n",
       "        &lt;/div&gt;\n",
       "      &lt;/div&gt;\n",
       "    &lt;/div&gt;\n",
       "    &lt;script&gt;\n",
       "    // list.js\n",
       "var listObj = new List(&#x27;mols2grid&#x27;, {\n",
       "    valueNames: [{data: [&#x27;mols2grid-id&#x27;]}, &#x27;data-pred_mean&#x27;, &#x27;data-pred_std&#x27;, &#x27;data-SMILES&#x27;, &#x27;data-img&#x27;, {attr: &#x27;data-content&#x27;, name: &#x27;mols2grid-tooltip&#x27;}],\n",
       "    item: &#x27;&lt;div class=&quot;cell&quot; data-mols2grid-id=&quot;0&quot;&gt;&lt;input type=&quot;checkbox&quot; class=&quot;position-relative float-left cached_checkbox&quot;&gt;&lt;a tabindex=&quot;0&quot; class=&quot;data data-img mols2grid-tooltip&quot; data-toggle=&quot;popover&quot; data-content=&quot;.&quot;&gt;&lt;/a&gt;&lt;div class=&quot;data data-pred_mean&quot;&gt;&lt;/div&gt;&lt;div class=&quot;data data-pred_std&quot;&gt;&lt;/div&gt;&lt;div class=&quot;data data-SMILES&quot; style=&quot;display: none;&quot;&gt;&lt;/div&gt;&lt;/div&gt;&#x27;,\n",
       "    page: 25,\n",
       "    pagination: {\n",
       "        name: &quot;pagination&quot;,\n",
       "        item: &#x27;&lt;li class=&quot;page-item&quot;&gt;&lt;a class=&quot;page page-link&quot; href=&quot;#&quot; onclick=&quot;event.preventDefault()&quot;&gt;&lt;/a&gt;&lt;/li&gt;&#x27;,\n",
       "        innerWindow: 1,\n",
       "        outerWindow: 1,\n",
       "    },\n",
       "});\n",
       "listObj.remove(&quot;mols2grid-id&quot;, &quot;0&quot;);\n",
       "listObj.add([{&quot;data-SMILES&quot;: &quot;CC(C)Oc1ccc(cc1)N(C(C(=O)NCCc1ccns1)c1cccnc1)C(=O)c1cocn1&quot;, &quot;mols2grid-id&quot;: 0, &quot;data-pred_mean&quot;: &quot;mean predicted pIC50: 5.520&quot;, &quot;data-pred_std&quot;: &quot;stdev pIC50: 0.204&quot;, &quot;data-img&quot;: null, &quot;mols2grid-tooltip&quot;: &quot;&lt;strong&gt;SMILES&lt;/strong&gt;: CC(C)Oc1ccc(cc1)N(C(C(=O)NCCc1ccns1)c1cccnc1)C(=O)c1cocn1&quot;}, {&quot;data-SMILES&quot;: &quot;O=C(NCCc1sncc1)C(c2cnccc2)N(C(c3ncoc3)=O)c4ccc(C(C)(C)C)cc4&quot;, &quot;mols2grid-id&quot;: 1, &quot;data-pred_mean&quot;: &quot;mean predicted pIC50: 5.268&quot;, &quot;data-pred_std&quot;: &quot;stdev pIC50: 0.080&quot;, &quot;data-img&quot;: null, &quot;mols2grid-tooltip&quot;: &quot;&lt;strong&gt;SMILES&lt;/strong&gt;: O=C(NCCc1sncc1)C(c2cnccc2)N(C(c3ncoc3)=O)c4ccc(C(C)(C)C)cc4&quot;}, {&quot;data-SMILES&quot;: &quot;O=C(NCCc1sncc1)C(c2cnccc2)N(C(c3nc[nH]c3)=O)c4ccc(C(C)(C)C)cc4&quot;, &quot;mols2grid-id&quot;: 2, &quot;data-pred_mean&quot;: &quot;mean predicted pIC50: 5.222&quot;, &quot;data-pred_std&quot;: &quot;stdev pIC50: 0.053&quot;, &quot;data-img&quot;: null, &quot;mols2grid-tooltip&quot;: &quot;&lt;strong&gt;SMILES&lt;/strong&gt;: O=C(NCCc1sncc1)C(c2cnccc2)N(C(c3nc[nH]c3)=O)c4ccc(C(C)(C)C)cc4&quot;}, {&quot;data-SMILES&quot;: &quot;O=C(NCCc1sncc1)C(c2cnccc2)N(C(c3nc[nH]c3)=O)c4ccc(OC(C)C)cc4&quot;, &quot;mols2grid-id&quot;: 3, &quot;data-pred_mean&quot;: &quot;mean predicted pIC50: 5.211&quot;, &quot;data-pred_std&quot;: &quot;stdev pIC50: 0.050&quot;, &quot;data-img&quot;: null, &quot;mols2grid-tooltip&quot;: &quot;&lt;strong&gt;SMILES&lt;/strong&gt;: O=C(NCCc1sncc1)C(c2cnccc2)N(C(c3nc[nH]c3)=O)c4ccc(OC(C)C)cc4&quot;}, {&quot;data-SMILES&quot;: &quot;O=C(NCCC1=CC(F)=C(OC)C=C1)C(c2cnccc2)N(C(c3nc[nH]c3)=O)c4ccc(OC(C)C)cc4&quot;, &quot;mols2grid-id&quot;: 4, &quot;data-pred_mean&quot;: &quot;mean predicted pIC50: 5.091&quot;, &quot;data-pred_std&quot;: &quot;stdev pIC50: 0.014&quot;, &quot;data-img&quot;: null, &quot;mols2grid-tooltip&quot;: &quot;&lt;strong&gt;SMILES&lt;/strong&gt;: O=C(NCCC1=CC(F)=C(OC)C=C1)C(c2cnccc2)N(C(c3nc[nH]c3)=O)c4ccc(OC(C)C)cc4&quot;}, {&quot;data-SMILES&quot;: &quot;O=C(NCCC1=CC(F)=C(OC)C=C1)C(c2cnccc2)N(C(c3ncoc3)=O)c4ccc(C(C)(C)C)cc4&quot;, &quot;mols2grid-id&quot;: 5, &quot;data-pred_mean&quot;: &quot;mean predicted pIC50: 5.033&quot;, &quot;data-pred_std&quot;: &quot;stdev pIC50: 0.045&quot;, &quot;data-img&quot;: null, &quot;mols2grid-tooltip&quot;: &quot;&lt;strong&gt;SMILES&lt;/strong&gt;: O=C(NCCC1=CC(F)=C(OC)C=C1)C(c2cnccc2)N(C(c3ncoc3)=O)c4ccc(C(C)(C)C)cc4&quot;}, {&quot;data-SMILES&quot;: &quot;O=C(NCCC1=CC(F)=C(OC)C=C1)C(c2cnccc2)N(C(c3nc[nH]c3)=O)c4ccc(C(C)(C)C)cc4&quot;, &quot;mols2grid-id&quot;: 6, &quot;data-pred_mean&quot;: &quot;mean predicted pIC50: 4.886&quot;, &quot;data-pred_std&quot;: &quot;stdev pIC50: 0.311&quot;, &quot;data-img&quot;: null, &quot;mols2grid-tooltip&quot;: &quot;&lt;strong&gt;SMILES&lt;/strong&gt;: O=C(NCCC1=CC(F)=C(OC)C=C1)C(c2cnccc2)N(C(c3nc[nH]c3)=O)c4ccc(C(C)(C)C)cc4&quot;}]);\n",
       "// filter\n",
       "if (window.parent.mols2grid_lists === undefined) {\n",
       "    window.parent.mols2grid_lists = {};\n",
       "}\n",
       "window.parent.mols2grid_lists[&quot;default&quot;] = listObj;\n",
       "\n",
       "\n",
       "// selection\n",
       "class MolStorage extends Map {\n",
       "    multi_set(_id, _smiles) {\n",
       "        for (let i=0; i &lt; _id.length; i++) {\n",
       "            this.set(_id[i], _smiles[i]);\n",
       "        }\n",
       "    }\n",
       "    multi_del(_id) {\n",
       "        for (let i=0; i &lt; _id.length; i++) {\n",
       "            this.delete(_id[i]);\n",
       "        };\n",
       "    }\n",
       "    to_dict() {\n",
       "        var content = &quot;{&quot;;\n",
       "        for (let [key, value] of this) {\n",
       "            content += key + &quot;:&quot; + JSON.stringify(value) + &quot;,&quot;;\n",
       "        }\n",
       "        content = content.length &gt; 1 ? content.slice(0, -1) : content;\n",
       "        content += &quot;}&quot;;\n",
       "        return content\n",
       "    }\n",
       "    download_smi(fileName) {\n",
       "        var content = &quot;SMILES index\\n&quot;;\n",
       "        for (let [key, value] of this) {\n",
       "            content += value + &quot; &quot; + key + &quot;\\n&quot;;\n",
       "        }\n",
       "        var a = document.createElement(&quot;a&quot;);\n",
       "        var file = new Blob([content], {type: &quot;text/plain&quot;});\n",
       "        a.href = URL.createObjectURL(file);\n",
       "        a.download = fileName;\n",
       "        a.click();\n",
       "        a.remove();\n",
       "    }\n",
       "}\n",
       "var SELECTION = new MolStorage();\n",
       "\n",
       "\n",
       "\n",
       "// kernel\n",
       "var kernel_env = null;\n",
       "if (window.parent.IPython !== undefined) {\n",
       "    // Jupyter notebook\n",
       "    kernel_env = &quot;jupyter&quot;;\n",
       "    var kernel = window.parent.IPython.notebook.kernel;\n",
       "    kernel.execute(&#x27;from mols2grid.select import register as _m2g_reg&#x27;)\n",
       "    function add_selection(grid_id, _id, smiles) {\n",
       "        SELECTION.multi_set(_id, smiles);\n",
       "        kernel.execute(&quot;_m2g_reg.add_selection(&#x27;&quot;+grid_id+&quot;&#x27;, &quot;+JSON.stringify(_id)+&quot;,&quot;+JSON.stringify(smiles)+&quot;)&quot;);\n",
       "    }\n",
       "    function del_selection(grid_id, _id) {\n",
       "        SELECTION.multi_del(_id);\n",
       "        kernel.execute(&quot;_m2g_reg.del_selection(&#x27;&quot;+grid_id+&quot;&#x27;, &quot;+JSON.stringify(_id)+&quot;)&quot;);\n",
       "    }\n",
       "} else if (window.parent.google !== undefined) {\n",
       "    // Google colab\n",
       "    kernel_env = &quot;colab&quot;;\n",
       "    var kernel = window.parent.google.colab.kernel;\n",
       "    function add_selection(grid_id, _id, smiles) {\n",
       "        SELECTION.multi_set(_id, smiles);\n",
       "        (async function() {\n",
       "        const result = await kernel.invokeFunction(&#x27;_m2g_reg.add_selection&#x27;,\n",
       "                                                   [grid_id, _id, smiles], {});\n",
       "        })();\n",
       "    }\n",
       "    function del_selection(grid_id, _id) {\n",
       "        SELECTION.multi_del(_id);\n",
       "        (async function() {\n",
       "        const result = await kernel.invokeFunction(&#x27;_m2g_reg.del_selection&#x27;,\n",
       "                                                   [grid_id, _id], {});\n",
       "        })();\n",
       "    }\n",
       "} else {\n",
       "    function add_selection(grid_id, _id, smiles) {\n",
       "        SELECTION.multi_set(_id, smiles);\n",
       "    }\n",
       "    function del_selection(grid_id, _id) {\n",
       "        SELECTION.multi_del(_id);\n",
       "    }\n",
       "}\n",
       "\n",
       "\n",
       "\n",
       "\n",
       "// sort\n",
       "var sort_field = &quot;mols2grid-id&quot;;\n",
       "var sort_order = &quot;asc&quot;;\n",
       "function mols2gridSortFunction(itemA, itemB, options) {\n",
       "    var x = itemA.values()[options.valueName];\n",
       "    var y = itemB.values()[options.valueName];\n",
       "    if (typeof x === &quot;number&quot;) {\n",
       "        if (isFinite(x - y)) {\n",
       "            return x - y; \n",
       "        } else {\n",
       "            return isFinite(x) ? -1 : 1;\n",
       "        }\n",
       "    } else {\n",
       "        x = x.toLowerCase();\n",
       "        y = y.toLowerCase();\n",
       "        return (x &lt; y) ? -1: (x &gt; y) ? 1: 0;\n",
       "    }\n",
       "}\n",
       "function checkboxSort(itemA, itemB, options) {\n",
       "    if (itemA.elm !== undefined) {\n",
       "        var checkedA = itemA.elm.firstChild.checked;\n",
       "        if (itemB.elm !== undefined) {\n",
       "            var checkedB = itemB.elm.firstChild.checked;\n",
       "            if (checkedA &amp;&amp; !checkedB) {\n",
       "                return -1;\n",
       "            } else if (!checkedA &amp;&amp; checkedB) {\n",
       "                return 1;\n",
       "            } else {\n",
       "                return 0;\n",
       "            }\n",
       "        } else {\n",
       "            return -1;\n",
       "        }\n",
       "    } else if (itemB.elm !== undefined) {\n",
       "        return 1;\n",
       "    } else {\n",
       "        return 0;\n",
       "    }\n",
       "}\n",
       "$(&#x27;#mols2grid button.sort-btn&#x27;).click(function(e) {\n",
       "    var _field = $(this).attr(&quot;data-name&quot;);\n",
       "    if (_field == sort_field) {\n",
       "        $(this).removeClass(&quot;arrow-&quot; + sort_order)\n",
       "        sort_order = (sort_order === &quot;desc&quot;) ? &quot;asc&quot; : &quot;desc&quot;;\n",
       "    } else {\n",
       "        $(&#x27;#mols2grid button.sort-btn.active&#x27;).removeClass(&quot;active arrow-&quot; + sort_order);\n",
       "        sort_order = &quot;asc&quot;;\n",
       "        sort_field = _field;\n",
       "        $(this).addClass(&quot;active&quot;);\n",
       "    }\n",
       "    $(this).addClass(&quot;arrow-&quot; + sort_order)\n",
       "    if (sort_field == &quot;checkbox&quot;) {\n",
       "        listObj.sort(&quot;mols2grid-id&quot;, {order: sort_order, sortFunction: checkboxSort});\n",
       "    } else {\n",
       "        listObj.sort(_field, {order: sort_order, sortFunction: mols2gridSortFunction});\n",
       "    }\n",
       "});\n",
       "\n",
       "\n",
       "\n",
       "\n",
       "// tooltips\n",
       "$.fn.tooltip.Constructor.Default.whiteList.span = [&#x27;style&#x27;]\n",
       "listObj.on(&quot;updated&quot;, function (list) {\n",
       "    $(function () {\n",
       "        // hide previous popovers\n",
       "        $(&#x27;#mols2grid a.page-link&#x27;).click(function(e) {\n",
       "            $(&#x27;.mols2grid-tooltip[data-toggle=&quot;popover&quot;]&#x27;).popover(&#x27;hide&#x27;)\n",
       "        });\n",
       "        // create new popover\n",
       "        $(&#x27;.mols2grid-tooltip[data-toggle=&quot;popover&quot;]&#x27;).popover({\n",
       "            placement: &#x27;bottom&#x27;,\n",
       "            trigger: &#x27;click hover&#x27;,\n",
       "            html: true,\n",
       "            sanitize: false,\n",
       "        });\n",
       "    })\n",
       "});\n",
       "\n",
       "\n",
       "\n",
       "// selection modifyers and export options\n",
       "// check all\n",
       "$(&#x27;#btn-chkbox-all&#x27;).click(function (e) {\n",
       "    var _id = [];\n",
       "    var _smiles = [];\n",
       "    listObj.items.forEach(function (item) {\n",
       "        if (item.elm) {\n",
       "            item.elm.getElementsByTagName(&quot;input&quot;)[0].checked = true;\n",
       "        } else {\n",
       "            item.show()\n",
       "            item.elm.getElementsByTagName(&quot;input&quot;)[0].checked = true;\n",
       "            item.hide()\n",
       "        }\n",
       "        _id.push(item.values()[&quot;mols2grid-id&quot;]);\n",
       "        _smiles.push(item.values()[&quot;data-SMILES&quot;]);\n",
       "    });\n",
       "    add_selection(&quot;default&quot;, _id, _smiles);\n",
       "});\n",
       "// check matching\n",
       "$(&#x27;#btn-chkbox-match&#x27;).click(function (e) {\n",
       "    var _id = [];\n",
       "    var _smiles = [];\n",
       "    listObj.matchingItems.forEach(function (item) {\n",
       "        if (item.elm) {\n",
       "            item.elm.getElementsByTagName(&quot;input&quot;)[0].checked = true;\n",
       "        } else {\n",
       "            item.show()\n",
       "            item.elm.getElementsByTagName(&quot;input&quot;)[0].checked = true;\n",
       "            item.hide()\n",
       "        }\n",
       "        _id.push(item.values()[&quot;mols2grid-id&quot;]);\n",
       "        _smiles.push(item.values()[&quot;data-SMILES&quot;]);\n",
       "    });\n",
       "    add_selection(&quot;default&quot;, _id, _smiles);\n",
       "});\n",
       "// uncheck all\n",
       "$(&#x27;#btn-chkbox-none&#x27;).click(function (e) {\n",
       "    var _id = [];\n",
       "    listObj.items.forEach(function (item) {\n",
       "        if (item.elm) {\n",
       "            item.elm.getElementsByTagName(&quot;input&quot;)[0].checked = false;\n",
       "        } else {\n",
       "            item.show()\n",
       "            item.elm.getElementsByTagName(&quot;input&quot;)[0].checked = false;\n",
       "            item.hide()\n",
       "        }\n",
       "        _id.push(item.values()[&quot;mols2grid-id&quot;]);\n",
       "    });\n",
       "    del_selection(&quot;default&quot;, _id);\n",
       "});\n",
       "// invert\n",
       "$(&#x27;#btn-chkbox-invert&#x27;).click(function (e) {\n",
       "    var _id_add = [];\n",
       "    var _id_del = [];\n",
       "    var _smiles = [];\n",
       "    listObj.items.forEach(function (item) {\n",
       "        if (item.elm) {\n",
       "            var chkbox = item.elm.getElementsByTagName(&quot;input&quot;)[0]\n",
       "            chkbox.checked = !chkbox.checked;\n",
       "        } else {\n",
       "            item.show()\n",
       "            var chkbox = item.elm.getElementsByTagName(&quot;input&quot;)[0]\n",
       "            chkbox.checked = !chkbox.checked;\n",
       "            item.hide()\n",
       "        }\n",
       "        if (chkbox.checked) {\n",
       "            _id_add.push(item.values()[&quot;mols2grid-id&quot;]);\n",
       "            _smiles.push(item.values()[&quot;data-SMILES&quot;]);\n",
       "        } else {\n",
       "            _id_del.push(item.values()[&quot;mols2grid-id&quot;]);\n",
       "        }\n",
       "    });\n",
       "    del_selection(&quot;default&quot;, _id_del);\n",
       "    add_selection(&quot;default&quot;, _id_add, _smiles);\n",
       "});\n",
       "// copy to clipboard\n",
       "$(&quot;#btn-chkbox-copy&quot;).click(function(e) {\n",
       "    navigator.clipboard.writeText(SELECTION.to_dict());\n",
       "});\n",
       "// export smiles\n",
       "$(&quot;#btn-chkbox-dlsmi&quot;).click(function(e) {\n",
       "    SELECTION.download_smi(&quot;selection.smi&quot;);\n",
       "});\n",
       "// export CSV\n",
       "$(&quot;#btn-chkbox-dlcsv&quot;).click(function(e) {\n",
       "    var sep = &quot;\\t&quot;\n",
       "    // same order as subset + tooltip\n",
       "    var columns = Array.from(listObj.items[0].elm.querySelectorAll(&quot;div.data&quot;))\n",
       "                       .map(elm =&gt; elm.classList[1]);\n",
       "    // remove &#x27;data-&#x27;\n",
       "    var header = columns.map(name =&gt; name.slice(5));\n",
       "    // csv content\n",
       "    header = [&quot;index&quot;].concat(header).join(sep);\n",
       "    var content = header + &quot;\\n&quot;;\n",
       "    for (let [index, smiles] of SELECTION.entries()) {\n",
       "        var data = listObj.items[index].values();\n",
       "        content += index;\n",
       "        columns.forEach((key) =&gt; {\n",
       "            content += sep + data[key];\n",
       "        })\n",
       "        content += &quot;\\n&quot;;\n",
       "    }\n",
       "    var a = document.createElement(&quot;a&quot;);\n",
       "    var file = new Blob([content], {type: &quot;text/csv&quot;});\n",
       "    a.href = URL.createObjectURL(file);\n",
       "    a.download = &quot;selection.csv&quot;;\n",
       "    a.click();\n",
       "    a.remove();\n",
       "});\n",
       "// update selection on checkbox click\n",
       "listObj.on(&quot;updated&quot;, function (list) {\n",
       "    $(&quot;input:checkbox&quot;).change(function() {\n",
       "        var _id = parseInt($(this).closest(&quot;.cell&quot;).attr(&quot;data-mols2grid-id&quot;));\n",
       "        if (this.checked) {\n",
       "            var _smiles = $($(this).siblings(&quot;.data-SMILES&quot;)[0]).text();\n",
       "            add_selection(&quot;default&quot;, [_id], [_smiles]);\n",
       "        } else {\n",
       "            del_selection(&quot;default&quot;, [_id]);\n",
       "        }\n",
       "    }); \n",
       "});\n",
       "\n",
       "\n",
       "\n",
       "\n",
       "\n",
       "// generate images for the currently displayed molecules\n",
       "var draw_opts = {&quot;width&quot;: 240, &quot;height&quot;: 260};\n",
       "var json_draw_opts = JSON.stringify(draw_opts);\n",
       "\n",
       "var smarts_matches = {};\n",
       "\n",
       "// Load RDKit\n",
       "window\n",
       ".initRDKitModule()\n",
       ".then(function(RDKit) {\n",
       "    console.log(&#x27;RDKit version: &#x27;, RDKit.version());\n",
       "    window.RDKit = RDKit;\n",
       "    window.RDKitModule = RDKit;\n",
       "\n",
       "    // search bar\n",
       "    function SmartsSearch(query, columns) {\n",
       "    var smiles_col = columns[0];\n",
       "    smarts_matches = {};\n",
       "    var query = $(&#x27;#mols2grid #searchbar&#x27;).val();\n",
       "    var qmol = RDKit.get_qmol(query);\n",
       "    if (qmol.is_valid()) {\n",
       "        listObj.items.forEach(function (item) {\n",
       "            var smiles = item.values()[smiles_col]\n",
       "            var mol = RDKit.get_mol(smiles);\n",
       "            if (mol.is_valid()) {\n",
       "                var results = mol.get_substruct_matches(qmol);\n",
       "                if (results === &quot;\\{\\}&quot;) {\n",
       "                    item.found = false;\n",
       "                } else {\n",
       "                    item.found = true;\n",
       "                    \n",
       "                    results = JSON.parse(results);\n",
       "                    \n",
       "                    var highlights = {&quot;atoms&quot;: [], &quot;bonds&quot;: []};\n",
       "                    results.forEach(function (match) {\n",
       "                        highlights[&quot;atoms&quot;].push(...match.atoms)\n",
       "                        highlights[&quot;bonds&quot;].push(...match.bonds)\n",
       "                    });\n",
       "                    \n",
       "                    var index = item.values()[&quot;mols2grid-id&quot;];\n",
       "                    smarts_matches[index] = highlights;\n",
       "                    \n",
       "                }\n",
       "            } else {\n",
       "                item.found = false;\n",
       "            }\n",
       "            mol.delete();\n",
       "        });\n",
       "    }\n",
       "    qmol.delete();\n",
       "}\n",
       "var search_type = &quot;Text&quot;;\n",
       "$(&#x27;#mols2grid .search-btn&#x27;).click(function() {\n",
       "    search_type = $(this).text();\n",
       "    $(&#x27;#mols2grid button.search-btn.active&#x27;).removeClass(&quot;active&quot;);\n",
       "    $(this).addClass(&quot;active&quot;);\n",
       "});\n",
       "$(&#x27;#mols2grid #searchbar&#x27;).on(&quot;keyup&quot;, function(e) {\n",
       "    var query = e.target.value;\n",
       "    if (search_type === &quot;Text&quot;) {\n",
       "        smarts_matches = {};\n",
       "        listObj.search(query, [&#x27;data-pred_mean&#x27;, &#x27;data-pred_std&#x27;, &#x27;data-SMILES&#x27;]);\n",
       "    } else {\n",
       "        listObj.search(query, [&quot;data-SMILES&quot;], SmartsSearch);\n",
       "    }\n",
       "});\n",
       "\n",
       "    \n",
       "    // generate images for the currently displayed molecules\n",
       "RDKit.prefer_coordgen(true);\n",
       "function draw_mol(smiles, index, template_mol) {\n",
       "    var mol = RDKit.get_mol(smiles, &#x27;{&quot;removeHs&quot;: false }&#x27;);\n",
       "    var svg = &quot;&quot;;\n",
       "    if (mol.is_valid()) {\n",
       "        var highlights = smarts_matches[index];\n",
       "        if (highlights) {\n",
       "            var details = Object.assign({}, draw_opts, highlights);\n",
       "            details = JSON.stringify(details);\n",
       "            mol.generate_aligned_coords(template_mol, true);\n",
       "        } else {\n",
       "            var details = json_draw_opts;\n",
       "        }\n",
       "        svg = mol.get_svg_with_highlights(details);\n",
       "    }\n",
       "    mol.delete();\n",
       "    if (svg == &quot;&quot;) {\n",
       "        return &#x27;&lt;svg width=&quot;240&quot; height=&quot;260&quot; xmlns=&quot;http://www.w3.org/2000/svg&quot; version=&quot;1.1&quot; viewBox=&quot;0 0 240 260&quot;&gt;&lt;/svg&gt;&#x27;;\n",
       "    }\n",
       "    return svg;\n",
       "}\n",
       "listObj.on(&quot;updated&quot;, function (list) {\n",
       "    var query = $(&#x27;#mols2grid #searchbar&#x27;).val();\n",
       "    var template_mol;\n",
       "    if (query === &quot;&quot;) {\n",
       "        smarts_matches = {};\n",
       "        template_mol = null;\n",
       "    } else {\n",
       "        template_mol = RDKit.get_qmol(query);\n",
       "        template_mol.set_new_coords(true);\n",
       "    }\n",
       "    $(&#x27;#mols2grid .cell&#x27;).each(function() {\n",
       "        var $t = $(this);\n",
       "        var smiles = $t.children(&quot;.data-SMILES&quot;).first().text();\n",
       "        var index = parseInt(this.getAttribute(&quot;data-mols2grid-id&quot;));\n",
       "        var svg = draw_mol(smiles, index, template_mol);\n",
       "        $t.children(&quot;.data-img&quot;).html(svg);\n",
       "    });\n",
       "    if (template_mol) {\n",
       "        template_mol.delete();\n",
       "    }\n",
       "});\n",
       "    \n",
       "\n",
       "    // trigger update to activate tooltips, draw images, setup callbacks...\n",
       "    listObj.update();\n",
       "    // resize iframe to fit content\n",
       "    if (window.frameElement) {\n",
       "        window.parent.fit_height(window.frameElement);\n",
       "    }\n",
       "});\n",
       "    &lt;/script&gt;\n",
       "  &lt;/body&gt;\n",
       "&lt;/html&gt;\">\n",
       "</iframe>"
      ],
      "text/plain": [
       "<IPython.core.display.HTML object>"
      ]
     },
     "execution_count": 13,
     "metadata": {},
     "output_type": "execute_result"
    }
   ],
   "source": [
    "import mols2grid\n",
    "\n",
    "mols2grid.display(df_mean,\n",
    "                  smiles_col='SMILES',\n",
    "                  subset=['img', 'pred_mean', 'pred_std'],\n",
    "                  transform={\"pred_mean\": lambda x: f\"mean predicted pIC50: {x:.3f}\", \n",
    "                             'pred_std': lambda x: f\"stdev pIC50: {x:.3f}\"},\n",
    "                  tooltip=[\"SMILES\"],\n",
    "                  useSVG=True,\n",
    "                  use_coords=True,\n",
    "                  selection=True,\n",
    "                  n_rows=5,\n",
    "                  size=(240, 260),\n",
    "                  width='100%')\n"
   ]
  },
  {
   "cell_type": "markdown",
   "metadata": {},
   "source": [
    "IC50 of existing data:"
   ]
  },
  {
   "cell_type": "code",
   "execution_count": 7,
   "metadata": {},
   "outputs": [
    {
     "data": {
      "image/png": "[encoded data removed]",
      "text/plain": [
       "<Figure size 500x500 with 1 Axes>"
      ]
     },
     "metadata": {},
     "output_type": "display_data"
    }
   ],
   "source": [
    "import seaborn as sns\n",
    "import matplotlib.pyplot as plt\n",
    "sns.set(rc={\"figure.dpi\":100})\n",
    "\n",
    "sns.displot(data = df_all, x=\"IC50\",  multiple=\"dodge\", bins=10)\n",
    "\n",
    "plt.show()"
   ]
  },
  {
   "cell_type": "code",
   "execution_count": 52,
   "metadata": {},
   "outputs": [
    {
     "data": {
      "application/vnd.plotly.v1+json": {
       "config": {
        "plotlyServerURL": "https://plot.ly"
       },
       "data": [
        {
         "hovertemplate": "IC50=%{x}<br>predicted_IC50_mpnn_fp=%{y}<extra></extra>",
         "legendgroup": "",
         "marker": {
          "color": "#636efa",
          "symbol": "circle"
         },
         "mode": "markers",
         "name": "mpnn_fp",
         "orientation": "v",
         "showlegend": true,
         "type": "scatter",
         "x": [
          0.112,
          0.112,
          0.112,
          0.653,
          0.653,
          0.653,
          0.557,
          0.557,
          0.557,
          0.557,
          0.403,
          0.403,
          0.403,
          0.315,
          0.315,
          0.315,
          2.53,
          0.1,
          0.2,
          15.6,
          0.1,
          2.53,
          15.6,
          0.8,
          0.292,
          0.292,
          0.891,
          1.21,
          0.282,
          2.05,
          2.19,
          1.11,
          4.36,
          10.4,
          2.35,
          2.8,
          5.26,
          5.29,
          2.77,
          3.9,
          4.07,
          0.609,
          4.78,
          11.2,
          2.92,
          5.83,
          5.15,
          2.45,
          5.42,
          3.85,
          6.24,
          1.78,
          0.712,
          7.91,
          5.37,
          8.79,
          25.3,
          10.8,
          8.46,
          2.38,
          10.9,
          24.2,
          22.7,
          15.5,
          3.99,
          9.53,
          8.34,
          1.17,
          30.5,
          6.32,
          100,
          7.48,
          6.26,
          3.39,
          51.1,
          8.18,
          11.5,
          41,
          13.2,
          5.56,
          4.26,
          14.5,
          7.18,
          5.33,
          82.5,
          2.28,
          29.1,
          27.7,
          8.41,
          2.86,
          86.4,
          2.96,
          6.82,
          5.32,
          0.837,
          2.66,
          22.1,
          6.91,
          3.65,
          1.16,
          29.2,
          53.8,
          11.6,
          41.1,
          56.3,
          16.6,
          25.8,
          9.46,
          3.8,
          100,
          100,
          100,
          22.2,
          100,
          100,
          100,
          100,
          18.2,
          18.2,
          62.9,
          100,
          100,
          10.5,
          66.1,
          35.5,
          9.92,
          100,
          12.1,
          100,
          100,
          100,
          100,
          100,
          39.2,
          39.2,
          14.4,
          100,
          3.94,
          8.43,
          100,
          100,
          67.8,
          100,
          27.3,
          100,
          39.7,
          37.5,
          19.5,
          33.4,
          1.93,
          100,
          100,
          100,
          100,
          2.95,
          100,
          18.8,
          94.9,
          26.2,
          27.8,
          77.1,
          100,
          93.7,
          15.9,
          100,
          100,
          100,
          100,
          100,
          100,
          100,
          100,
          100,
          100,
          100,
          100,
          100,
          100,
          100,
          100,
          100,
          44,
          100,
          100,
          100,
          100,
          24.5,
          100,
          100,
          43,
          100,
          100,
          100,
          17.6,
          100,
          47.8,
          62.9,
          100,
          100,
          45.1,
          100,
          76.5,
          100,
          100,
          50.2,
          100,
          100,
          100,
          100,
          100,
          100,
          100,
          84,
          69.1,
          100,
          23.8,
          79.6,
          33.2,
          60.5,
          100,
          100,
          75.9,
          62.7,
          32.4,
          28.4,
          100,
          100,
          100,
          100,
          48,
          100,
          89.2,
          61,
          100,
          100,
          100,
          100,
          76.6,
          100,
          100,
          100,
          100,
          100,
          100,
          100,
          100,
          100,
          100,
          100,
          100,
          100,
          100,
          92.1,
          100,
          36.4,
          100,
          100,
          100,
          100,
          100,
          100,
          100,
          100,
          100,
          100,
          100,
          100,
          100,
          100,
          100,
          100,
          100,
          77.6,
          100,
          100,
          100,
          100,
          100,
          100,
          100,
          100,
          100,
          100,
          100,
          100,
          100,
          100,
          100,
          54.9,
          100,
          100,
          100,
          74.2,
          100,
          100,
          100,
          63.5,
          100,
          51.2,
          100,
          100,
          100,
          100,
          100,
          100,
          100,
          100,
          100,
          100,
          100,
          100,
          100,
          100,
          100,
          100,
          100,
          100,
          100,
          100
         ],
         "xaxis": "x",
         "y": [
          1.0659007367169422,
          1.0659007367169422,
          1.0659007367169422,
          1.6654071045874468,
          1.6654071045874468,
          1.6654071045874468,
          2.048739446929615,
          2.048739446929615,
          2.048739446929615,
          2.048739446929615,
          2.127550275294105,
          2.127550275294105,
          2.127550275294105,
          2.1530889907891755,
          2.1530889907891755,
          2.1530889907891755,
          2.320726577689014,
          2.320726577689014,
          2.320726577689014,
          2.320726577689014,
          2.320726577689014,
          2.320726577689014,
          2.320726577689014,
          2.5619942412469583,
          2.6570624341732403,
          2.6570624341732403,
          2.7374049777252094,
          2.7529277555316125,
          2.9227169596010625,
          3.1172177115754898,
          3.6831913534419574,
          3.9017427230357433,
          5.152538325848325,
          5.488850084742603,
          5.619678136334705,
          5.66960759488126,
          5.784746378849693,
          5.804370811153095,
          5.86759319269781,
          5.923664504823402,
          6.055758089326318,
          6.117035532255024,
          6.239818813963429,
          6.25030398237149,
          6.368442082534965,
          6.388880245604306,
          6.572424220908579,
          6.596580827640383,
          6.650802832460109,
          6.779177833542678,
          6.84089432739729,
          6.921176846544439,
          7.051890852182876,
          7.70400388557441,
          7.902634496096087,
          8.037411926056775,
          8.547251780924938,
          8.757137415960772,
          8.79961979606489,
          9.044214696909686,
          9.217974611278168,
          9.344729080428484,
          9.63200702251188,
          9.861981363356541,
          10.120869734877095,
          10.55815741954931,
          10.9718287130666,
          11.019861321823749,
          11.127483085696799,
          11.242085974373174,
          11.32064296087302,
          11.622271826651488,
          11.636489442049289,
          11.676309036190913,
          11.93194560734886,
          12.070981733721327,
          12.5502350899375,
          12.602889020642209,
          12.662253807000456,
          13.518700791790199,
          13.57379906641169,
          13.581161895697317,
          13.683711309479383,
          13.713150514110053,
          13.81242075047253,
          13.894395565223563,
          13.927715723038125,
          14.479017522881636,
          14.651074835511672,
          15.375131781190978,
          15.375131781190978,
          15.375131781190978,
          15.952289826078385,
          15.952289826078385,
          15.952289826078385,
          15.952289826078385,
          16.085165575167437,
          16.27505981718857,
          16.722902374445624,
          17.123054179388962,
          17.516845839388747,
          17.769624224427528,
          18.90981277388032,
          19.28511548642384,
          19.311078298756073,
          19.576708807293116,
          19.964486231495883,
          20.434326684923896,
          20.91829796151392,
          21.338608318869483,
          22.449878402738552,
          23.524330169244713,
          23.58145216658943,
          24.40425868856463,
          24.657441413901402,
          24.660618094811948,
          24.96299167685369,
          25.04585628788085,
          25.04585628788085,
          26.34932165707501,
          26.486018361827412,
          27.369998184762792,
          27.607706494450102,
          27.888337134102102,
          28.446468315946106,
          29.278024028081674,
          29.44357627505148,
          29.521044527463243,
          29.87130509175723,
          30.488047718387563,
          31.368368131970037,
          31.368368131970037,
          31.368368131970037,
          31.757538207555058,
          31.757538207555058,
          31.988232439960054,
          32.151033002776124,
          32.16646118823199,
          34.30685955102982,
          34.889737211727784,
          34.962898546610816,
          35.71683673565381,
          36.14675367458436,
          36.19149094253638,
          36.45676361715878,
          36.95760216401685,
          37.12102121394253,
          37.20773548720157,
          37.43285188579737,
          38.162836341981254,
          38.30935177563663,
          38.717851905984176,
          38.866730225011636,
          39.280168290625035,
          39.49007027799972,
          40.0169695535854,
          40.448247168147496,
          40.711588840989776,
          41.36393032859052,
          42.05926258719983,
          42.187291755994245,
          42.22114952593209,
          43.822990551788465,
          43.84893126347617,
          44.15945270741704,
          44.36736854362041,
          45.21826012352361,
          45.59204178293973,
          45.59204178293973,
          46.417417830387805,
          47.60089861196349,
          47.74012106649141,
          47.84488453957391,
          47.907929451990675,
          48.05604100191096,
          49.071554601051176,
          49.07596526519642,
          49.1442681984099,
          49.275445011913085,
          49.509977939189966,
          49.753436856258816,
          49.87417407237022,
          49.965330641524645,
          50.00849338922695,
          50.08656971981659,
          50.422414495433465,
          50.7331718397638,
          50.99344285456613,
          51.1687047653383,
          51.5968564811377,
          52.25860347194708,
          52.856949881593415,
          53.35904850386177,
          53.38862835694351,
          53.442126370731806,
          53.62809444748713,
          54.00424563245097,
          54.30280371327821,
          54.49518267840722,
          54.65206255550632,
          54.72227579039659,
          54.9874790338496,
          55.86765432242856,
          55.96505046404538,
          56.05848744547168,
          56.62420740575985,
          56.73441069583429,
          57.27851842226482,
          57.40839141495182,
          57.59078896506331,
          57.64751085151912,
          58.05260584805626,
          58.15470424480085,
          58.263158904053206,
          58.311925286664255,
          58.33081096746277,
          58.602969129818064,
          58.606242056607684,
          58.683488660466594,
          58.8557968910904,
          58.918310463736,
          58.92718029306032,
          59.04126715969784,
          59.06491000260259,
          59.08471491548667,
          59.1509229997573,
          59.19693108838358,
          59.54026968164288,
          59.706557537542395,
          59.81702785333242,
          60.11349762589879,
          60.61290637773647,
          60.882638451443825,
          61.11736734026061,
          61.34394714177504,
          61.41276985092485,
          61.444692743230824,
          61.69705989593356,
          61.789604920241956,
          61.81822144706053,
          61.8652794450075,
          61.89078609242338,
          62.11337863704329,
          62.63685296338066,
          62.72298404900127,
          62.97824776027452,
          63.03084467914857,
          63.67051640963241,
          64.0316231152604,
          64.66739152929533,
          64.70223975768174,
          64.75473532234791,
          64.77395011327296,
          64.83882229611316,
          64.98817558837328,
          65.07579098511687,
          65.30836872284952,
          65.52626633148697,
          65.58609518980771,
          65.89180010071985,
          65.93695671216116,
          66.0424545006372,
          66.08246683730279,
          66.23081923048836,
          66.34067383192124,
          66.36993345162462,
          66.44281675404852,
          66.45000012319758,
          66.45000012319758,
          66.45000012319758,
          66.45000012319758,
          66.64980830981102,
          66.67838101396221,
          66.72649961270206,
          66.84273265814046,
          66.87369114059427,
          66.87810756476695,
          67.12720643818099,
          67.45198195752342,
          67.50345568107743,
          67.55951765148671,
          67.59972003152139,
          67.67433049316965,
          67.72350439717304,
          67.73335322987275,
          67.77426490596373,
          67.84441283587827,
          68.20529249603393,
          68.22054872611079,
          68.55263609773311,
          68.55322580628247,
          68.63922921199563,
          68.67915846452807,
          68.69338514416098,
          68.77678053730662,
          68.83005294579414,
          68.85593215425139,
          69.06037000286464,
          69.4224445204532,
          69.43602782645051,
          69.6399037481296,
          69.67230369622942,
          69.84392328342305,
          69.88345238992252,
          70.0710725562137,
          70.11157723042989,
          70.12290793666808,
          70.28584276096294,
          70.32648873622546,
          70.35673605950781,
          70.40962781885005,
          70.65499298741804,
          70.93361958761786,
          70.95081845202014,
          71.35167489229082,
          71.40481519978074,
          71.62849345445777,
          72.03640950032731,
          72.3027187114976
         ],
         "yaxis": "y"
        },
        {
         "hovertemplate": "IC50=%{x}<br>predicted_IC50_morgan_fp=%{y}<extra></extra>",
         "legendgroup": "",
         "marker": {
          "color": "red",
          "symbol": "circle"
         },
         "mode": "markers",
         "name": "morgan_fp",
         "orientation": "v",
         "showlegend": true,
         "type": "scatter",
         "x": [
          0.112,
          0.112,
          0.112,
          0.653,
          0.653,
          0.653,
          0.557,
          0.557,
          0.557,
          0.557,
          0.403,
          0.403,
          0.403,
          0.315,
          0.315,
          0.315,
          2.53,
          0.1,
          0.2,
          15.6,
          0.1,
          2.53,
          15.6,
          0.8,
          0.292,
          0.292,
          0.891,
          1.21,
          0.282,
          2.05,
          2.19,
          1.11,
          4.36,
          10.4,
          2.35,
          2.8,
          5.26,
          5.29,
          2.77,
          3.9,
          4.07,
          0.609,
          4.78,
          11.2,
          2.92,
          5.83,
          5.15,
          2.45,
          5.42,
          3.85,
          6.24,
          1.78,
          0.712,
          7.91,
          5.37,
          8.79,
          25.3,
          10.8,
          8.46,
          2.38,
          10.9,
          24.2,
          22.7,
          15.5,
          3.99,
          9.53,
          8.34,
          1.17,
          30.5,
          6.32,
          100,
          7.48,
          6.26,
          3.39,
          51.1,
          8.18,
          11.5,
          41,
          13.2,
          5.56,
          4.26,
          14.5,
          7.18,
          5.33,
          82.5,
          2.28,
          29.1,
          27.7,
          8.41,
          2.86,
          86.4,
          2.96,
          6.82,
          5.32,
          0.837,
          2.66,
          22.1,
          6.91,
          3.65,
          1.16,
          29.2,
          53.8,
          11.6,
          41.1,
          56.3,
          16.6,
          25.8,
          9.46,
          3.8,
          100,
          100,
          100,
          22.2,
          100,
          100,
          100,
          100,
          18.2,
          18.2,
          62.9,
          100,
          100,
          10.5,
          66.1,
          35.5,
          9.92,
          100,
          12.1,
          100,
          100,
          100,
          100,
          100,
          39.2,
          39.2,
          14.4,
          100,
          3.94,
          8.43,
          100,
          100,
          67.8,
          100,
          27.3,
          100,
          39.7,
          37.5,
          19.5,
          33.4,
          1.93,
          100,
          100,
          100,
          100,
          2.95,
          100,
          18.8,
          94.9,
          26.2,
          27.8,
          77.1,
          100,
          93.7,
          15.9,
          100,
          100,
          100,
          100,
          100,
          100,
          100,
          100,
          100,
          100,
          100,
          100,
          100,
          100,
          100,
          100,
          100,
          44,
          100,
          100,
          100,
          100,
          24.5,
          100,
          100,
          43,
          100,
          100,
          100,
          17.6,
          100,
          47.8,
          62.9,
          100,
          100,
          45.1,
          100,
          76.5,
          100,
          100,
          50.2,
          100,
          100,
          100,
          100,
          100,
          100,
          100,
          84,
          69.1,
          100,
          23.8,
          79.6,
          33.2,
          60.5,
          100,
          100,
          75.9,
          62.7,
          32.4,
          28.4,
          100,
          100,
          100,
          100,
          48,
          100,
          89.2,
          61,
          100,
          100,
          100,
          100,
          76.6,
          100,
          100,
          100,
          100,
          100,
          100,
          100,
          100,
          100,
          100,
          100,
          100,
          100,
          100,
          92.1,
          100,
          36.4,
          100,
          100,
          100,
          100,
          100,
          100,
          100,
          100,
          100,
          100,
          100,
          100,
          100,
          100,
          100,
          100,
          100,
          77.6,
          100,
          100,
          100,
          100,
          100,
          100,
          100,
          100,
          100,
          100,
          100,
          100,
          100,
          100,
          100,
          54.9,
          100,
          100,
          100,
          74.2,
          100,
          100,
          100,
          63.5,
          100,
          51.2,
          100,
          100,
          100,
          100,
          100,
          100,
          100,
          100,
          100,
          100,
          100,
          100,
          100,
          100,
          100,
          100,
          100,
          100,
          100,
          100
         ],
         "xaxis": "x",
         "y": [
          2.7220887233845317,
          2.7220887233845317,
          2.7220887233845317,
          3.7200855710179805,
          3.7200855710179805,
          3.7200855710179805,
          14.626791630939575,
          14.626791630939575,
          14.626791630939575,
          14.626791630939575,
          6.08944683244391,
          6.08944683244391,
          6.08944683244391,
          9.807491643643637,
          9.807491643643637,
          9.807491643643637,
          8.344234265070275,
          8.344234265070275,
          8.344234265070275,
          8.344234265070275,
          8.344234265070275,
          8.344234265070275,
          8.344234265070275,
          24.45601088791846,
          16.67765556339427,
          16.67765556339427,
          14.53977670267344,
          14.059517842453488,
          13.902830623262155,
          22.963043399767724,
          11.338825294449576,
          12.246217608450984,
          9.096331934435986,
          13.594679609501657,
          6.856708736218324,
          8.931130769844666,
          8.029142711250584,
          24.32583329180245,
          6.861540555219194,
          6.968170130030474,
          6.917940707955869,
          12.636784271642524,
          12.030464597288704,
          8.586563486771826,
          16.041400935451865,
          23.236944656807896,
          8.672692775905096,
          9.718792243488533,
          9.022398606141078,
          9.70226884225786,
          8.925075670237014,
          17.792799335644343,
          15.439155966583803,
          8.8426856538508,
          8.462103781114667,
          8.311470511049484,
          11.411738212610969,
          9.148526761426472,
          8.073656403292777,
          5.9860315768030326,
          9.31134119136898,
          25.79074181898852,
          27.457012071558708,
          18.149313454794886,
          6.098770843761517,
          9.843654687442182,
          25.795334507736285,
          16.090036373779903,
          16.18976730565411,
          21.04824961856225,
          10.505275886568747,
          17.51804377787698,
          8.053659318459571,
          8.046411884461413,
          25.94592107195872,
          8.934946126638636,
          16.63784887737265,
          11.031380325219699,
          17.33956190814483,
          20.280833665115065,
          15.011629801011928,
          10.984974584640053,
          7.953101500043405,
          16.021391178314296,
          11.951731680792031,
          17.188480833174168,
          36.285967522303864,
          30.08139500732557,
          16.140681575039412,
          18.208095899229978,
          18.208095899229978,
          18.208095899229978,
          5.889660359610831,
          5.889660359610831,
          5.889660359610831,
          5.889660359610831,
          20.85174865435521,
          6.604825958568044,
          6.597509458033216,
          25.341785135672175,
          11.390201924330556,
          41.05425301265813,
          18.428432310182263,
          33.19090786517817,
          13.592181153718464,
          39.589300807625776,
          23.642636312799837,
          15.286978237693582,
          20.02207212216799,
          25.245974455175364,
          14.032668533561068,
          22.48203837116378,
          22.053570981766878,
          31.808734272259308,
          22.365020062289574,
          71.34190585667072,
          23.69546854975768,
          25.857694380807533,
          25.857694380807533,
          26.442986821524258,
          45.46336184761728,
          30.35704200236399,
          30.106902273243463,
          32.17454936457556,
          30.9112717912723,
          10.076015970251278,
          74.08718405530644,
          40.325136263208094,
          42.12096071428758,
          53.704179962308345,
          11.204792987259323,
          11.204792987259323,
          11.204792987259323,
          24.44786557853725,
          24.44786557853725,
          11.574730267579264,
          25.898142265093327,
          30.412500467040232,
          11.076935286690652,
          42.045215693170746,
          64.96053489615697,
          25.644769935541717,
          45.0617593588766,
          38.75323023847004,
          34.98648228493466,
          35.9109312035912,
          22.25666001446874,
          37.89276276048395,
          35.44696042913035,
          40.61877594021936,
          49.00894074252699,
          35.63411931085779,
          38.91659539787857,
          24.686782985495917,
          37.19501295377544,
          17.234197868032425,
          18.85515130116169,
          26.872466124381486,
          17.944128015143203,
          33.26056043145733,
          31.748339436935154,
          11.562563436788528,
          26.516293747179787,
          37.1939220082563,
          55.01788200154774,
          31.487342846470938,
          42.391177733548076,
          41.300423000339165,
          41.300423000339165,
          30.030839837680393,
          22.403017804704348,
          36.25389366646236,
          39.673103674489894,
          52.384539907939995,
          44.443571598137275,
          44.04952131747163,
          35.57800806692983,
          30.94136066161221,
          41.432816090701834,
          45.93479598841129,
          39.054449788166764,
          26.505571871378304,
          31.266713347028084,
          43.317665208443,
          29.94799438290133,
          54.51879325665112,
          42.12343979682964,
          28.401177002137384,
          39.854639221204806,
          20.301794860957077,
          42.34764971057586,
          34.89377327850054,
          32.60692728432007,
          29.029956885123937,
          58.01034807587488,
          53.00357020631426,
          14.473172076524214,
          34.977963304210206,
          44.70180016701842,
          40.449419171844305,
          39.68843533927016,
          26.8663167068077,
          36.14267033322529,
          56.859744702579796,
          23.769202961715255,
          39.01656871460684,
          67.99786980908358,
          37.21318877922689,
          44.828250610452905,
          69.61229578591951,
          61.21230829506847,
          24.286384234914376,
          49.81869465059784,
          47.01726797273982,
          30.332820426717095,
          44.219201450108,
          55.60294023888642,
          30.022683327651233,
          49.70335387987704,
          44.18311581922592,
          40.95088402386249,
          32.95080609789021,
          44.019552021687275,
          36.914937925243954,
          29.309907004449983,
          30.28396928019794,
          25.654448701531038,
          47.13324625379322,
          43.9531640760014,
          43.39986327927937,
          40.61234046835678,
          24.56412339851199,
          45.363052661136756,
          26.752630887200958,
          12.437656089077924,
          24.61162985615504,
          35.737539930747936,
          44.300382087257525,
          46.760658637188385,
          56.40914908304006,
          28.116258241000747,
          45.98342339863376,
          54.81587498320344,
          44.41622276168731,
          43.43905901393534,
          46.437899867110524,
          45.808242392138304,
          44.417201095844874,
          53.94010848702703,
          46.873880820923524,
          46.981290932213895,
          57.550099080025014,
          39.999272929189125,
          61.448072211872066,
          43.50128952382959,
          25.64653621082131,
          22.705397046853395,
          71.83602626483761,
          30.5846202959,
          64.69207452844945,
          39.855886681085025,
          58.81894463099273,
          42.40351412956914,
          37.50324324337924,
          50.3548326345377,
          30.970664714276793,
          54.26198514603404,
          35.12425127937494,
          35.12425127937494,
          35.12425127937494,
          35.12425127937494,
          41.192293740060066,
          48.714793139519266,
          43.63842923389913,
          70.10410862441353,
          58.57072234042283,
          42.48648636151675,
          49.49341079520397,
          59.05306910331744,
          46.55078962716472,
          44.90497699036238,
          61.56920313295702,
          51.07055620972772,
          73.99792404359026,
          70.18432601845055,
          49.54876069528708,
          73.42336110841644,
          70.01293372971809,
          42.33505769733227,
          58.68764999421617,
          49.13690788440875,
          38.30000831249621,
          39.687404740202616,
          52.401128799825756,
          58.30163490974192,
          53.96959892600549,
          44.32552834523694,
          58.78180270409568,
          37.444490307083896,
          57.51301360074127,
          46.64470330700518,
          53.40177905070988,
          57.220361566117184,
          57.40382604189417,
          66.24386044108293,
          71.12926554368104,
          69.50046527853034,
          56.465208674283964,
          30.215044240657008,
          58.952472439422245,
          46.6105805718349,
          52.959625799314004,
          69.76793761987429,
          66.90768396606589,
          70.18432601845055,
          64.46997937182167,
          65.24313773754488,
          67.1173886101715,
          66.4459086556851
         ],
         "yaxis": "y"
        }
       ],
       "layout": {
        "height": 800,
        "legend": {
         "tracegroupgap": 0
        },
        "margin": {
         "t": 60
        },
        "shapes": [
         {
          "line": {
           "color": "black",
           "dash": "dash"
          },
          "type": "line",
          "x0": 0.1,
          "x1": 100,
          "y0": 0.1,
          "y1": 100
         }
        ],
        "template": {
         "data": {
          "bar": [
           {
            "error_x": {
             "color": "#2a3f5f"
            },
            "error_y": {
             "color": "#2a3f5f"
            },
            "marker": {
             "line": {
              "color": "#E5ECF6",
              "width": 0.5
             },
             "pattern": {
              "fillmode": "overlay",
              "size": 10,
              "solidity": 0.2
             }
            },
            "type": "bar"
           }
          ],
          "barpolar": [
           {
            "marker": {
             "line": {
              "color": "#E5ECF6",
              "width": 0.5
             },
             "pattern": {
              "fillmode": "overlay",
              "size": 10,
              "solidity": 0.2
             }
            },
            "type": "barpolar"
           }
          ],
          "carpet": [
           {
            "aaxis": {
             "endlinecolor": "#2a3f5f",
             "gridcolor": "white",
             "linecolor": "white",
             "minorgridcolor": "white",
             "startlinecolor": "#2a3f5f"
            },
            "baxis": {
             "endlinecolor": "#2a3f5f",
             "gridcolor": "white",
             "linecolor": "white",
             "minorgridcolor": "white",
             "startlinecolor": "#2a3f5f"
            },
            "type": "carpet"
           }
          ],
          "choropleth": [
           {
            "colorbar": {
             "outlinewidth": 0,
             "ticks": ""
            },
            "type": "choropleth"
           }
          ],
          "contour": [
           {
            "colorbar": {
             "outlinewidth": 0,
             "ticks": ""
            },
            "colorscale": [
             [
              0,
              "#0d0887"
             ],
             [
              0.1111111111111111,
              "#46039f"
             ],
             [
              0.2222222222222222,
              "#7201a8"
             ],
             [
              0.3333333333333333,
              "#9c179e"
             ],
             [
              0.4444444444444444,
              "#bd3786"
             ],
             [
              0.5555555555555556,
              "#d8576b"
             ],
             [
              0.6666666666666666,
              "#ed7953"
             ],
             [
              0.7777777777777778,
              "#fb9f3a"
             ],
             [
              0.8888888888888888,
              "#fdca26"
             ],
             [
              1,
              "#f0f921"
             ]
            ],
            "type": "contour"
           }
          ],
          "contourcarpet": [
           {
            "colorbar": {
             "outlinewidth": 0,
             "ticks": ""
            },
            "type": "contourcarpet"
           }
          ],
          "heatmap": [
           {
            "colorbar": {
             "outlinewidth": 0,
             "ticks": ""
            },
            "colorscale": [
             [
              0,
              "#0d0887"
             ],
             [
              0.1111111111111111,
              "#46039f"
             ],
             [
              0.2222222222222222,
              "#7201a8"
             ],
             [
              0.3333333333333333,
              "#9c179e"
             ],
             [
              0.4444444444444444,
              "#bd3786"
             ],
             [
              0.5555555555555556,
              "#d8576b"
             ],
             [
              0.6666666666666666,
              "#ed7953"
             ],
             [
              0.7777777777777778,
              "#fb9f3a"
             ],
             [
              0.8888888888888888,
              "#fdca26"
             ],
             [
              1,
              "#f0f921"
             ]
            ],
            "type": "heatmap"
           }
          ],
          "heatmapgl": [
           {
            "colorbar": {
             "outlinewidth": 0,
             "ticks": ""
            },
            "colorscale": [
             [
              0,
              "#0d0887"
             ],
             [
              0.1111111111111111,
              "#46039f"
             ],
             [
              0.2222222222222222,
              "#7201a8"
             ],
             [
              0.3333333333333333,
              "#9c179e"
             ],
             [
              0.4444444444444444,
              "#bd3786"
             ],
             [
              0.5555555555555556,
              "#d8576b"
             ],
             [
              0.6666666666666666,
              "#ed7953"
             ],
             [
              0.7777777777777778,
              "#fb9f3a"
             ],
             [
              0.8888888888888888,
              "#fdca26"
             ],
             [
              1,
              "#f0f921"
             ]
            ],
            "type": "heatmapgl"
           }
          ],
          "histogram": [
           {
            "marker": {
             "pattern": {
              "fillmode": "overlay",
              "size": 10,
              "solidity": 0.2
             }
            },
            "type": "histogram"
           }
          ],
          "histogram2d": [
           {
            "colorbar": {
             "outlinewidth": 0,
             "ticks": ""
            },
            "colorscale": [
             [
              0,
              "#0d0887"
             ],
             [
              0.1111111111111111,
              "#46039f"
             ],
             [
              0.2222222222222222,
              "#7201a8"
             ],
             [
              0.3333333333333333,
              "#9c179e"
             ],
             [
              0.4444444444444444,
              "#bd3786"
             ],
             [
              0.5555555555555556,
              "#d8576b"
             ],
             [
              0.6666666666666666,
              "#ed7953"
             ],
             [
              0.7777777777777778,
              "#fb9f3a"
             ],
             [
              0.8888888888888888,
              "#fdca26"
             ],
             [
              1,
              "#f0f921"
             ]
            ],
            "type": "histogram2d"
           }
          ],
          "histogram2dcontour": [
           {
            "colorbar": {
             "outlinewidth": 0,
             "ticks": ""
            },
            "colorscale": [
             [
              0,
              "#0d0887"
             ],
             [
              0.1111111111111111,
              "#46039f"
             ],
             [
              0.2222222222222222,
              "#7201a8"
             ],
             [
              0.3333333333333333,
              "#9c179e"
             ],
             [
              0.4444444444444444,
              "#bd3786"
             ],
             [
              0.5555555555555556,
              "#d8576b"
             ],
             [
              0.6666666666666666,
              "#ed7953"
             ],
             [
              0.7777777777777778,
              "#fb9f3a"
             ],
             [
              0.8888888888888888,
              "#fdca26"
             ],
             [
              1,
              "#f0f921"
             ]
            ],
            "type": "histogram2dcontour"
           }
          ],
          "mesh3d": [
           {
            "colorbar": {
             "outlinewidth": 0,
             "ticks": ""
            },
            "type": "mesh3d"
           }
          ],
          "parcoords": [
           {
            "line": {
             "colorbar": {
              "outlinewidth": 0,
              "ticks": ""
             }
            },
            "type": "parcoords"
           }
          ],
          "pie": [
           {
            "automargin": true,
            "type": "pie"
           }
          ],
          "scatter": [
           {
            "marker": {
             "colorbar": {
              "outlinewidth": 0,
              "ticks": ""
             }
            },
            "type": "scatter"
           }
          ],
          "scatter3d": [
           {
            "line": {
             "colorbar": {
              "outlinewidth": 0,
              "ticks": ""
             }
            },
            "marker": {
             "colorbar": {
              "outlinewidth": 0,
              "ticks": ""
             }
            },
            "type": "scatter3d"
           }
          ],
          "scattercarpet": [
           {
            "marker": {
             "colorbar": {
              "outlinewidth": 0,
              "ticks": ""
             }
            },
            "type": "scattercarpet"
           }
          ],
          "scattergeo": [
           {
            "marker": {
             "colorbar": {
              "outlinewidth": 0,
              "ticks": ""
             }
            },
            "type": "scattergeo"
           }
          ],
          "scattergl": [
           {
            "marker": {
             "colorbar": {
              "outlinewidth": 0,
              "ticks": ""
             }
            },
            "type": "scattergl"
           }
          ],
          "scattermapbox": [
           {
            "marker": {
             "colorbar": {
              "outlinewidth": 0,
              "ticks": ""
             }
            },
            "type": "scattermapbox"
           }
          ],
          "scatterpolar": [
           {
            "marker": {
             "colorbar": {
              "outlinewidth": 0,
              "ticks": ""
             }
            },
            "type": "scatterpolar"
           }
          ],
          "scatterpolargl": [
           {
            "marker": {
             "colorbar": {
              "outlinewidth": 0,
              "ticks": ""
             }
            },
            "type": "scatterpolargl"
           }
          ],
          "scatterternary": [
           {
            "marker": {
             "colorbar": {
              "outlinewidth": 0,
              "ticks": ""
             }
            },
            "type": "scatterternary"
           }
          ],
          "surface": [
           {
            "colorbar": {
             "outlinewidth": 0,
             "ticks": ""
            },
            "colorscale": [
             [
              0,
              "#0d0887"
             ],
             [
              0.1111111111111111,
              "#46039f"
             ],
             [
              0.2222222222222222,
              "#7201a8"
             ],
             [
              0.3333333333333333,
              "#9c179e"
             ],
             [
              0.4444444444444444,
              "#bd3786"
             ],
             [
              0.5555555555555556,
              "#d8576b"
             ],
             [
              0.6666666666666666,
              "#ed7953"
             ],
             [
              0.7777777777777778,
              "#fb9f3a"
             ],
             [
              0.8888888888888888,
              "#fdca26"
             ],
             [
              1,
              "#f0f921"
             ]
            ],
            "type": "surface"
           }
          ],
          "table": [
           {
            "cells": {
             "fill": {
              "color": "#EBF0F8"
             },
             "line": {
              "color": "white"
             }
            },
            "header": {
             "fill": {
              "color": "#C8D4E3"
             },
             "line": {
              "color": "white"
             }
            },
            "type": "table"
           }
          ]
         },
         "layout": {
          "annotationdefaults": {
           "arrowcolor": "#2a3f5f",
           "arrowhead": 0,
           "arrowwidth": 1
          },
          "autotypenumbers": "strict",
          "coloraxis": {
           "colorbar": {
            "outlinewidth": 0,
            "ticks": ""
           }
          },
          "colorscale": {
           "diverging": [
            [
             0,
             "#8e0152"
            ],
            [
             0.1,
             "#c51b7d"
            ],
            [
             0.2,
             "#de77ae"
            ],
            [
             0.3,
             "#f1b6da"
            ],
            [
             0.4,
             "#fde0ef"
            ],
            [
             0.5,
             "#f7f7f7"
            ],
            [
             0.6,
             "#e6f5d0"
            ],
            [
             0.7,
             "#b8e186"
            ],
            [
             0.8,
             "#7fbc41"
            ],
            [
             0.9,
             "#4d9221"
            ],
            [
             1,
             "#276419"
            ]
           ],
           "sequential": [
            [
             0,
             "#0d0887"
            ],
            [
             0.1111111111111111,
             "#46039f"
            ],
            [
             0.2222222222222222,
             "#7201a8"
            ],
            [
             0.3333333333333333,
             "#9c179e"
            ],
            [
             0.4444444444444444,
             "#bd3786"
            ],
            [
             0.5555555555555556,
             "#d8576b"
            ],
            [
             0.6666666666666666,
             "#ed7953"
            ],
            [
             0.7777777777777778,
             "#fb9f3a"
            ],
            [
             0.8888888888888888,
             "#fdca26"
            ],
            [
             1,
             "#f0f921"
            ]
           ],
           "sequentialminus": [
            [
             0,
             "#0d0887"
            ],
            [
             0.1111111111111111,
             "#46039f"
            ],
            [
             0.2222222222222222,
             "#7201a8"
            ],
            [
             0.3333333333333333,
             "#9c179e"
            ],
            [
             0.4444444444444444,
             "#bd3786"
            ],
            [
             0.5555555555555556,
             "#d8576b"
            ],
            [
             0.6666666666666666,
             "#ed7953"
            ],
            [
             0.7777777777777778,
             "#fb9f3a"
            ],
            [
             0.8888888888888888,
             "#fdca26"
            ],
            [
             1,
             "#f0f921"
            ]
           ]
          },
          "colorway": [
           "#636efa",
           "#EF553B",
           "#00cc96",
           "#ab63fa",
           "#FFA15A",
           "#19d3f3",
           "#FF6692",
           "#B6E880",
           "#FF97FF",
           "#FECB52"
          ],
          "font": {
           "color": "#2a3f5f"
          },
          "geo": {
           "bgcolor": "white",
           "lakecolor": "white",
           "landcolor": "#E5ECF6",
           "showlakes": true,
           "showland": true,
           "subunitcolor": "white"
          },
          "hoverlabel": {
           "align": "left"
          },
          "hovermode": "closest",
          "mapbox": {
           "style": "light"
          },
          "paper_bgcolor": "white",
          "plot_bgcolor": "#E5ECF6",
          "polar": {
           "angularaxis": {
            "gridcolor": "white",
            "linecolor": "white",
            "ticks": ""
           },
           "bgcolor": "#E5ECF6",
           "radialaxis": {
            "gridcolor": "white",
            "linecolor": "white",
            "ticks": ""
           }
          },
          "scene": {
           "xaxis": {
            "backgroundcolor": "#E5ECF6",
            "gridcolor": "white",
            "gridwidth": 2,
            "linecolor": "white",
            "showbackground": true,
            "ticks": "",
            "zerolinecolor": "white"
           },
           "yaxis": {
            "backgroundcolor": "#E5ECF6",
            "gridcolor": "white",
            "gridwidth": 2,
            "linecolor": "white",
            "showbackground": true,
            "ticks": "",
            "zerolinecolor": "white"
           },
           "zaxis": {
            "backgroundcolor": "#E5ECF6",
            "gridcolor": "white",
            "gridwidth": 2,
            "linecolor": "white",
            "showbackground": true,
            "ticks": "",
            "zerolinecolor": "white"
           }
          },
          "shapedefaults": {
           "line": {
            "color": "#2a3f5f"
           }
          },
          "ternary": {
           "aaxis": {
            "gridcolor": "white",
            "linecolor": "white",
            "ticks": ""
           },
           "baxis": {
            "gridcolor": "white",
            "linecolor": "white",
            "ticks": ""
           },
           "bgcolor": "#E5ECF6",
           "caxis": {
            "gridcolor": "white",
            "linecolor": "white",
            "ticks": ""
           }
          },
          "title": {
           "x": 0.05
          },
          "xaxis": {
           "automargin": true,
           "gridcolor": "white",
           "linecolor": "white",
           "ticks": "",
           "title": {
            "standoff": 15
           },
           "zerolinecolor": "white",
           "zerolinewidth": 2
          },
          "yaxis": {
           "automargin": true,
           "gridcolor": "white",
           "linecolor": "white",
           "ticks": "",
           "title": {
            "standoff": 15
           },
           "zerolinecolor": "white",
           "zerolinewidth": 2
          }
         }
        },
        "xaxis": {
         "anchor": "y",
         "domain": [
          0,
          1
         ],
         "title": {
          "text": "IC50"
         },
         "type": "log"
        },
        "yaxis": {
         "anchor": "x",
         "domain": [
          0,
          1
         ],
         "title": {
          "text": "predicted_IC50_mpnn_fp"
         },
         "type": "log"
        }
       }
      },
      "text/html": [
       "<div>                            <div id=\"78ceb580-8d5c-4e0d-9603-4120db569056\" class=\"plotly-graph-div\" style=\"height:800px; width:100%;\"></div>            <script type=\"text/javascript\">                require([\"plotly\"], function(Plotly) {                    window.PLOTLYENV=window.PLOTLYENV || {};                                    if (document.getElementById(\"78ceb580-8d5c-4e0d-9603-4120db569056\")) {                    Plotly.newPlot(                        \"78ceb580-8d5c-4e0d-9603-4120db569056\",                        [{\"hovertemplate\":\"IC50=%{x}<br>predicted_IC50_mpnn_fp=%{y}<extra></extra>\",\"legendgroup\":\"\",\"marker\":{\"color\":\"#636efa\",\"symbol\":\"circle\"},\"mode\":\"markers\",\"name\":\"mpnn_fp\",\"orientation\":\"v\",\"showlegend\":true,\"x\":[0.112,0.112,0.112,0.653,0.653,0.653,0.557,0.557,0.557,0.557,0.403,0.403,0.403,0.315,0.315,0.315,2.53,0.1,0.2,15.6,0.1,2.53,15.6,0.8,0.292,0.292,0.891,1.21,0.282,2.05,2.19,1.11,4.36,10.4,2.35,2.8,5.26,5.29,2.77,3.9,4.07,0.609,4.78,11.2,2.92,5.83,5.15,2.45,5.42,3.85,6.24,1.78,0.712,7.91,5.37,8.79,25.3,10.8,8.46,2.38,10.9,24.2,22.7,15.5,3.99,9.53,8.34,1.17,30.5,6.32,100.0,7.48,6.26,3.39,51.1,8.18,11.5,41.0,13.2,5.56,4.26,14.5,7.18,5.33,82.5,2.28,29.1,27.7,8.41,2.86,86.4,2.96,6.82,5.32,0.837,2.66,22.1,6.91,3.65,1.16,29.2,53.8,11.6,41.1,56.3,16.6,25.8,9.46,3.8,100.0,100.0,100.0,22.2,100.0,100.0,100.0,100.0,18.2,18.2,62.9,100.0,100.0,10.5,66.1,35.5,9.92,100.0,12.1,100.0,100.0,100.0,100.0,100.0,39.2,39.2,14.4,100.0,3.94,8.43,100.0,100.0,67.8,100.0,27.3,100.0,39.7,37.5,19.5,33.4,1.93,100.0,100.0,100.0,100.0,2.95,100.0,18.8,94.9,26.2,27.8,77.1,100.0,93.7,15.9,100.0,100.0,100.0,100.0,100.0,100.0,100.0,100.0,100.0,100.0,100.0,100.0,100.0,100.0,100.0,100.0,100.0,44.0,100.0,100.0,100.0,100.0,24.5,100.0,100.0,43.0,100.0,100.0,100.0,17.6,100.0,47.8,62.9,100.0,100.0,45.1,100.0,76.5,100.0,100.0,50.2,100.0,100.0,100.0,100.0,100.0,100.0,100.0,84.0,69.1,100.0,23.8,79.6,33.2,60.5,100.0,100.0,75.9,62.7,32.4,28.4,100.0,100.0,100.0,100.0,48.0,100.0,89.2,61.0,100.0,100.0,100.0,100.0,76.6,100.0,100.0,100.0,100.0,100.0,100.0,100.0,100.0,100.0,100.0,100.0,100.0,100.0,100.0,92.1,100.0,36.4,100.0,100.0,100.0,100.0,100.0,100.0,100.0,100.0,100.0,100.0,100.0,100.0,100.0,100.0,100.0,100.0,100.0,77.6,100.0,100.0,100.0,100.0,100.0,100.0,100.0,100.0,100.0,100.0,100.0,100.0,100.0,100.0,100.0,54.9,100.0,100.0,100.0,74.2,100.0,100.0,100.0,63.5,100.0,51.2,100.0,100.0,100.0,100.0,100.0,100.0,100.0,100.0,100.0,100.0,100.0,100.0,100.0,100.0,100.0,100.0,100.0,100.0,100.0,100.0],\"xaxis\":\"x\",\"y\":[1.0659007367169422,1.0659007367169422,1.0659007367169422,1.6654071045874468,1.6654071045874468,1.6654071045874468,2.048739446929615,2.048739446929615,2.048739446929615,2.048739446929615,2.127550275294105,2.127550275294105,2.127550275294105,2.1530889907891755,2.1530889907891755,2.1530889907891755,2.320726577689014,2.320726577689014,2.320726577689014,2.320726577689014,2.320726577689014,2.320726577689014,2.320726577689014,2.5619942412469583,2.6570624341732403,2.6570624341732403,2.7374049777252094,2.7529277555316125,2.9227169596010625,3.1172177115754898,3.6831913534419574,3.9017427230357433,5.152538325848325,5.488850084742603,5.619678136334705,5.66960759488126,5.784746378849693,5.804370811153095,5.86759319269781,5.923664504823402,6.055758089326318,6.117035532255024,6.239818813963429,6.25030398237149,6.368442082534965,6.388880245604306,6.572424220908579,6.596580827640383,6.650802832460109,6.779177833542678,6.84089432739729,6.921176846544439,7.051890852182876,7.70400388557441,7.902634496096087,8.037411926056775,8.547251780924938,8.757137415960772,8.79961979606489,9.044214696909686,9.217974611278168,9.344729080428484,9.63200702251188,9.861981363356541,10.120869734877095,10.55815741954931,10.9718287130666,11.019861321823749,11.127483085696799,11.242085974373174,11.32064296087302,11.622271826651488,11.636489442049289,11.676309036190913,11.93194560734886,12.070981733721327,12.5502350899375,12.602889020642209,12.662253807000456,13.518700791790199,13.57379906641169,13.581161895697317,13.683711309479383,13.713150514110053,13.81242075047253,13.894395565223563,13.927715723038125,14.479017522881636,14.651074835511672,15.375131781190978,15.375131781190978,15.375131781190978,15.952289826078385,15.952289826078385,15.952289826078385,15.952289826078385,16.085165575167437,16.27505981718857,16.722902374445624,17.123054179388962,17.516845839388747,17.769624224427528,18.90981277388032,19.28511548642384,19.311078298756073,19.576708807293116,19.964486231495883,20.434326684923896,20.91829796151392,21.338608318869483,22.449878402738552,23.524330169244713,23.58145216658943,24.40425868856463,24.657441413901402,24.660618094811948,24.96299167685369,25.04585628788085,25.04585628788085,26.34932165707501,26.486018361827412,27.369998184762792,27.607706494450102,27.888337134102102,28.446468315946106,29.278024028081674,29.44357627505148,29.521044527463243,29.87130509175723,30.488047718387563,31.368368131970037,31.368368131970037,31.368368131970037,31.757538207555058,31.757538207555058,31.988232439960054,32.151033002776124,32.16646118823199,34.30685955102982,34.889737211727784,34.962898546610816,35.71683673565381,36.14675367458436,36.19149094253638,36.45676361715878,36.95760216401685,37.12102121394253,37.20773548720157,37.43285188579737,38.162836341981254,38.30935177563663,38.717851905984176,38.866730225011636,39.280168290625035,39.49007027799972,40.0169695535854,40.448247168147496,40.711588840989776,41.36393032859052,42.05926258719983,42.187291755994245,42.22114952593209,43.822990551788465,43.84893126347617,44.15945270741704,44.36736854362041,45.21826012352361,45.59204178293973,45.59204178293973,46.417417830387805,47.60089861196349,47.74012106649141,47.84488453957391,47.907929451990675,48.05604100191096,49.071554601051176,49.07596526519642,49.1442681984099,49.275445011913085,49.509977939189966,49.753436856258816,49.87417407237022,49.965330641524645,50.00849338922695,50.08656971981659,50.422414495433465,50.7331718397638,50.99344285456613,51.1687047653383,51.5968564811377,52.25860347194708,52.856949881593415,53.35904850386177,53.38862835694351,53.442126370731806,53.62809444748713,54.00424563245097,54.30280371327821,54.49518267840722,54.65206255550632,54.72227579039659,54.9874790338496,55.86765432242856,55.96505046404538,56.05848744547168,56.62420740575985,56.73441069583429,57.27851842226482,57.40839141495182,57.59078896506331,57.64751085151912,58.05260584805626,58.15470424480085,58.263158904053206,58.311925286664255,58.33081096746277,58.602969129818064,58.606242056607684,58.683488660466594,58.8557968910904,58.918310463736,58.92718029306032,59.04126715969784,59.06491000260259,59.08471491548667,59.1509229997573,59.19693108838358,59.54026968164288,59.706557537542395,59.81702785333242,60.11349762589879,60.61290637773647,60.882638451443825,61.11736734026061,61.34394714177504,61.41276985092485,61.444692743230824,61.69705989593356,61.789604920241956,61.81822144706053,61.8652794450075,61.89078609242338,62.11337863704329,62.63685296338066,62.72298404900127,62.97824776027452,63.03084467914857,63.67051640963241,64.0316231152604,64.66739152929533,64.70223975768174,64.75473532234791,64.77395011327296,64.83882229611316,64.98817558837328,65.07579098511687,65.30836872284952,65.52626633148697,65.58609518980771,65.89180010071985,65.93695671216116,66.0424545006372,66.08246683730279,66.23081923048836,66.34067383192124,66.36993345162462,66.44281675404852,66.45000012319758,66.45000012319758,66.45000012319758,66.45000012319758,66.64980830981102,66.67838101396221,66.72649961270206,66.84273265814046,66.87369114059427,66.87810756476695,67.12720643818099,67.45198195752342,67.50345568107743,67.55951765148671,67.59972003152139,67.67433049316965,67.72350439717304,67.73335322987275,67.77426490596373,67.84441283587827,68.20529249603393,68.22054872611079,68.55263609773311,68.55322580628247,68.63922921199563,68.67915846452807,68.69338514416098,68.77678053730662,68.83005294579414,68.85593215425139,69.06037000286464,69.4224445204532,69.43602782645051,69.6399037481296,69.67230369622942,69.84392328342305,69.88345238992252,70.0710725562137,70.11157723042989,70.12290793666808,70.28584276096294,70.32648873622546,70.35673605950781,70.40962781885005,70.65499298741804,70.93361958761786,70.95081845202014,71.35167489229082,71.40481519978074,71.62849345445777,72.03640950032731,72.3027187114976],\"yaxis\":\"y\",\"type\":\"scatter\"},{\"hovertemplate\":\"IC50=%{x}<br>predicted_IC50_morgan_fp=%{y}<extra></extra>\",\"legendgroup\":\"\",\"marker\":{\"color\":\"red\",\"symbol\":\"circle\"},\"mode\":\"markers\",\"name\":\"morgan_fp\",\"orientation\":\"v\",\"showlegend\":true,\"x\":[0.112,0.112,0.112,0.653,0.653,0.653,0.557,0.557,0.557,0.557,0.403,0.403,0.403,0.315,0.315,0.315,2.53,0.1,0.2,15.6,0.1,2.53,15.6,0.8,0.292,0.292,0.891,1.21,0.282,2.05,2.19,1.11,4.36,10.4,2.35,2.8,5.26,5.29,2.77,3.9,4.07,0.609,4.78,11.2,2.92,5.83,5.15,2.45,5.42,3.85,6.24,1.78,0.712,7.91,5.37,8.79,25.3,10.8,8.46,2.38,10.9,24.2,22.7,15.5,3.99,9.53,8.34,1.17,30.5,6.32,100.0,7.48,6.26,3.39,51.1,8.18,11.5,41.0,13.2,5.56,4.26,14.5,7.18,5.33,82.5,2.28,29.1,27.7,8.41,2.86,86.4,2.96,6.82,5.32,0.837,2.66,22.1,6.91,3.65,1.16,29.2,53.8,11.6,41.1,56.3,16.6,25.8,9.46,3.8,100.0,100.0,100.0,22.2,100.0,100.0,100.0,100.0,18.2,18.2,62.9,100.0,100.0,10.5,66.1,35.5,9.92,100.0,12.1,100.0,100.0,100.0,100.0,100.0,39.2,39.2,14.4,100.0,3.94,8.43,100.0,100.0,67.8,100.0,27.3,100.0,39.7,37.5,19.5,33.4,1.93,100.0,100.0,100.0,100.0,2.95,100.0,18.8,94.9,26.2,27.8,77.1,100.0,93.7,15.9,100.0,100.0,100.0,100.0,100.0,100.0,100.0,100.0,100.0,100.0,100.0,100.0,100.0,100.0,100.0,100.0,100.0,44.0,100.0,100.0,100.0,100.0,24.5,100.0,100.0,43.0,100.0,100.0,100.0,17.6,100.0,47.8,62.9,100.0,100.0,45.1,100.0,76.5,100.0,100.0,50.2,100.0,100.0,100.0,100.0,100.0,100.0,100.0,84.0,69.1,100.0,23.8,79.6,33.2,60.5,100.0,100.0,75.9,62.7,32.4,28.4,100.0,100.0,100.0,100.0,48.0,100.0,89.2,61.0,100.0,100.0,100.0,100.0,76.6,100.0,100.0,100.0,100.0,100.0,100.0,100.0,100.0,100.0,100.0,100.0,100.0,100.0,100.0,92.1,100.0,36.4,100.0,100.0,100.0,100.0,100.0,100.0,100.0,100.0,100.0,100.0,100.0,100.0,100.0,100.0,100.0,100.0,100.0,77.6,100.0,100.0,100.0,100.0,100.0,100.0,100.0,100.0,100.0,100.0,100.0,100.0,100.0,100.0,100.0,54.9,100.0,100.0,100.0,74.2,100.0,100.0,100.0,63.5,100.0,51.2,100.0,100.0,100.0,100.0,100.0,100.0,100.0,100.0,100.0,100.0,100.0,100.0,100.0,100.0,100.0,100.0,100.0,100.0,100.0,100.0],\"xaxis\":\"x\",\"y\":[2.7220887233845317,2.7220887233845317,2.7220887233845317,3.7200855710179805,3.7200855710179805,3.7200855710179805,14.626791630939575,14.626791630939575,14.626791630939575,14.626791630939575,6.08944683244391,6.08944683244391,6.08944683244391,9.807491643643637,9.807491643643637,9.807491643643637,8.344234265070275,8.344234265070275,8.344234265070275,8.344234265070275,8.344234265070275,8.344234265070275,8.344234265070275,24.45601088791846,16.67765556339427,16.67765556339427,14.53977670267344,14.059517842453488,13.902830623262155,22.963043399767724,11.338825294449576,12.246217608450984,9.096331934435986,13.594679609501657,6.856708736218324,8.931130769844666,8.029142711250584,24.32583329180245,6.861540555219194,6.968170130030474,6.917940707955869,12.636784271642524,12.030464597288704,8.586563486771826,16.041400935451865,23.236944656807896,8.672692775905096,9.718792243488533,9.022398606141078,9.70226884225786,8.925075670237014,17.792799335644343,15.439155966583803,8.8426856538508,8.462103781114667,8.311470511049484,11.411738212610969,9.148526761426472,8.073656403292777,5.9860315768030326,9.31134119136898,25.79074181898852,27.457012071558708,18.149313454794886,6.098770843761517,9.843654687442182,25.795334507736285,16.090036373779903,16.18976730565411,21.04824961856225,10.505275886568747,17.51804377787698,8.053659318459571,8.046411884461413,25.94592107195872,8.934946126638636,16.63784887737265,11.031380325219699,17.33956190814483,20.280833665115065,15.011629801011928,10.984974584640053,7.953101500043405,16.021391178314296,11.951731680792031,17.188480833174168,36.285967522303864,30.08139500732557,16.140681575039412,18.208095899229978,18.208095899229978,18.208095899229978,5.889660359610831,5.889660359610831,5.889660359610831,5.889660359610831,20.85174865435521,6.604825958568044,6.597509458033216,25.341785135672175,11.390201924330556,41.05425301265813,18.428432310182263,33.19090786517817,13.592181153718464,39.589300807625776,23.642636312799837,15.286978237693582,20.02207212216799,25.245974455175364,14.032668533561068,22.48203837116378,22.053570981766878,31.808734272259308,22.365020062289574,71.34190585667072,23.69546854975768,25.857694380807533,25.857694380807533,26.442986821524258,45.46336184761728,30.35704200236399,30.106902273243463,32.17454936457556,30.9112717912723,10.076015970251278,74.08718405530644,40.325136263208094,42.12096071428758,53.704179962308345,11.204792987259323,11.204792987259323,11.204792987259323,24.44786557853725,24.44786557853725,11.574730267579264,25.898142265093327,30.412500467040232,11.076935286690652,42.045215693170746,64.96053489615697,25.644769935541717,45.0617593588766,38.75323023847004,34.98648228493466,35.9109312035912,22.25666001446874,37.89276276048395,35.44696042913035,40.61877594021936,49.00894074252699,35.63411931085779,38.91659539787857,24.686782985495917,37.19501295377544,17.234197868032425,18.85515130116169,26.872466124381486,17.944128015143203,33.26056043145733,31.748339436935154,11.562563436788528,26.516293747179787,37.1939220082563,55.01788200154774,31.487342846470938,42.391177733548076,41.300423000339165,41.300423000339165,30.030839837680393,22.403017804704348,36.25389366646236,39.673103674489894,52.384539907939995,44.443571598137275,44.04952131747163,35.57800806692983,30.94136066161221,41.432816090701834,45.93479598841129,39.054449788166764,26.505571871378304,31.266713347028084,43.317665208443,29.94799438290133,54.51879325665112,42.12343979682964,28.401177002137384,39.854639221204806,20.301794860957077,42.34764971057586,34.89377327850054,32.60692728432007,29.029956885123937,58.01034807587488,53.00357020631426,14.473172076524214,34.977963304210206,44.70180016701842,40.449419171844305,39.68843533927016,26.8663167068077,36.14267033322529,56.859744702579796,23.769202961715255,39.01656871460684,67.99786980908358,37.21318877922689,44.828250610452905,69.61229578591951,61.21230829506847,24.286384234914376,49.81869465059784,47.01726797273982,30.332820426717095,44.219201450108,55.60294023888642,30.022683327651233,49.70335387987704,44.18311581922592,40.95088402386249,32.95080609789021,44.019552021687275,36.914937925243954,29.309907004449983,30.28396928019794,25.654448701531038,47.13324625379322,43.9531640760014,43.39986327927937,40.61234046835678,24.56412339851199,45.363052661136756,26.752630887200958,12.437656089077924,24.61162985615504,35.737539930747936,44.300382087257525,46.760658637188385,56.40914908304006,28.116258241000747,45.98342339863376,54.81587498320344,44.41622276168731,43.43905901393534,46.437899867110524,45.808242392138304,44.417201095844874,53.94010848702703,46.873880820923524,46.981290932213895,57.550099080025014,39.999272929189125,61.448072211872066,43.50128952382959,25.64653621082131,22.705397046853395,71.83602626483761,30.5846202959,64.69207452844945,39.855886681085025,58.81894463099273,42.40351412956914,37.50324324337924,50.3548326345377,30.970664714276793,54.26198514603404,35.12425127937494,35.12425127937494,35.12425127937494,35.12425127937494,41.192293740060066,48.714793139519266,43.63842923389913,70.10410862441353,58.57072234042283,42.48648636151675,49.49341079520397,59.05306910331744,46.55078962716472,44.90497699036238,61.56920313295702,51.07055620972772,73.99792404359026,70.18432601845055,49.54876069528708,73.42336110841644,70.01293372971809,42.33505769733227,58.68764999421617,49.13690788440875,38.30000831249621,39.687404740202616,52.401128799825756,58.30163490974192,53.96959892600549,44.32552834523694,58.78180270409568,37.444490307083896,57.51301360074127,46.64470330700518,53.40177905070988,57.220361566117184,57.40382604189417,66.24386044108293,71.12926554368104,69.50046527853034,56.465208674283964,30.215044240657008,58.952472439422245,46.6105805718349,52.959625799314004,69.76793761987429,66.90768396606589,70.18432601845055,64.46997937182167,65.24313773754488,67.1173886101715,66.4459086556851],\"yaxis\":\"y\",\"type\":\"scatter\"}],                        {\"template\":{\"data\":{\"bar\":[{\"error_x\":{\"color\":\"#2a3f5f\"},\"error_y\":{\"color\":\"#2a3f5f\"},\"marker\":{\"line\":{\"color\":\"#E5ECF6\",\"width\":0.5},\"pattern\":{\"fillmode\":\"overlay\",\"size\":10,\"solidity\":0.2}},\"type\":\"bar\"}],\"barpolar\":[{\"marker\":{\"line\":{\"color\":\"#E5ECF6\",\"width\":0.5},\"pattern\":{\"fillmode\":\"overlay\",\"size\":10,\"solidity\":0.2}},\"type\":\"barpolar\"}],\"carpet\":[{\"aaxis\":{\"endlinecolor\":\"#2a3f5f\",\"gridcolor\":\"white\",\"linecolor\":\"white\",\"minorgridcolor\":\"white\",\"startlinecolor\":\"#2a3f5f\"},\"baxis\":{\"endlinecolor\":\"#2a3f5f\",\"gridcolor\":\"white\",\"linecolor\":\"white\",\"minorgridcolor\":\"white\",\"startlinecolor\":\"#2a3f5f\"},\"type\":\"carpet\"}],\"choropleth\":[{\"colorbar\":{\"outlinewidth\":0,\"ticks\":\"\"},\"type\":\"choropleth\"}],\"contour\":[{\"colorbar\":{\"outlinewidth\":0,\"ticks\":\"\"},\"colorscale\":[[0.0,\"#0d0887\"],[0.1111111111111111,\"#46039f\"],[0.2222222222222222,\"#7201a8\"],[0.3333333333333333,\"#9c179e\"],[0.4444444444444444,\"#bd3786\"],[0.5555555555555556,\"#d8576b\"],[0.6666666666666666,\"#ed7953\"],[0.7777777777777778,\"#fb9f3a\"],[0.8888888888888888,\"#fdca26\"],[1.0,\"#f0f921\"]],\"type\":\"contour\"}],\"contourcarpet\":[{\"colorbar\":{\"outlinewidth\":0,\"ticks\":\"\"},\"type\":\"contourcarpet\"}],\"heatmap\":[{\"colorbar\":{\"outlinewidth\":0,\"ticks\":\"\"},\"colorscale\":[[0.0,\"#0d0887\"],[0.1111111111111111,\"#46039f\"],[0.2222222222222222,\"#7201a8\"],[0.3333333333333333,\"#9c179e\"],[0.4444444444444444,\"#bd3786\"],[0.5555555555555556,\"#d8576b\"],[0.6666666666666666,\"#ed7953\"],[0.7777777777777778,\"#fb9f3a\"],[0.8888888888888888,\"#fdca26\"],[1.0,\"#f0f921\"]],\"type\":\"heatmap\"}],\"heatmapgl\":[{\"colorbar\":{\"outlinewidth\":0,\"ticks\":\"\"},\"colorscale\":[[0.0,\"#0d0887\"],[0.1111111111111111,\"#46039f\"],[0.2222222222222222,\"#7201a8\"],[0.3333333333333333,\"#9c179e\"],[0.4444444444444444,\"#bd3786\"],[0.5555555555555556,\"#d8576b\"],[0.6666666666666666,\"#ed7953\"],[0.7777777777777778,\"#fb9f3a\"],[0.8888888888888888,\"#fdca26\"],[1.0,\"#f0f921\"]],\"type\":\"heatmapgl\"}],\"histogram\":[{\"marker\":{\"pattern\":{\"fillmode\":\"overlay\",\"size\":10,\"solidity\":0.2}},\"type\":\"histogram\"}],\"histogram2d\":[{\"colorbar\":{\"outlinewidth\":0,\"ticks\":\"\"},\"colorscale\":[[0.0,\"#0d0887\"],[0.1111111111111111,\"#46039f\"],[0.2222222222222222,\"#7201a8\"],[0.3333333333333333,\"#9c179e\"],[0.4444444444444444,\"#bd3786\"],[0.5555555555555556,\"#d8576b\"],[0.6666666666666666,\"#ed7953\"],[0.7777777777777778,\"#fb9f3a\"],[0.8888888888888888,\"#fdca26\"],[1.0,\"#f0f921\"]],\"type\":\"histogram2d\"}],\"histogram2dcontour\":[{\"colorbar\":{\"outlinewidth\":0,\"ticks\":\"\"},\"colorscale\":[[0.0,\"#0d0887\"],[0.1111111111111111,\"#46039f\"],[0.2222222222222222,\"#7201a8\"],[0.3333333333333333,\"#9c179e\"],[0.4444444444444444,\"#bd3786\"],[0.5555555555555556,\"#d8576b\"],[0.6666666666666666,\"#ed7953\"],[0.7777777777777778,\"#fb9f3a\"],[0.8888888888888888,\"#fdca26\"],[1.0,\"#f0f921\"]],\"type\":\"histogram2dcontour\"}],\"mesh3d\":[{\"colorbar\":{\"outlinewidth\":0,\"ticks\":\"\"},\"type\":\"mesh3d\"}],\"parcoords\":[{\"line\":{\"colorbar\":{\"outlinewidth\":0,\"ticks\":\"\"}},\"type\":\"parcoords\"}],\"pie\":[{\"automargin\":true,\"type\":\"pie\"}],\"scatter\":[{\"marker\":{\"colorbar\":{\"outlinewidth\":0,\"ticks\":\"\"}},\"type\":\"scatter\"}],\"scatter3d\":[{\"line\":{\"colorbar\":{\"outlinewidth\":0,\"ticks\":\"\"}},\"marker\":{\"colorbar\":{\"outlinewidth\":0,\"ticks\":\"\"}},\"type\":\"scatter3d\"}],\"scattercarpet\":[{\"marker\":{\"colorbar\":{\"outlinewidth\":0,\"ticks\":\"\"}},\"type\":\"scattercarpet\"}],\"scattergeo\":[{\"marker\":{\"colorbar\":{\"outlinewidth\":0,\"ticks\":\"\"}},\"type\":\"scattergeo\"}],\"scattergl\":[{\"marker\":{\"colorbar\":{\"outlinewidth\":0,\"ticks\":\"\"}},\"type\":\"scattergl\"}],\"scattermapbox\":[{\"marker\":{\"colorbar\":{\"outlinewidth\":0,\"ticks\":\"\"}},\"type\":\"scattermapbox\"}],\"scatterpolar\":[{\"marker\":{\"colorbar\":{\"outlinewidth\":0,\"ticks\":\"\"}},\"type\":\"scatterpolar\"}],\"scatterpolargl\":[{\"marker\":{\"colorbar\":{\"outlinewidth\":0,\"ticks\":\"\"}},\"type\":\"scatterpolargl\"}],\"scatterternary\":[{\"marker\":{\"colorbar\":{\"outlinewidth\":0,\"ticks\":\"\"}},\"type\":\"scatterternary\"}],\"surface\":[{\"colorbar\":{\"outlinewidth\":0,\"ticks\":\"\"},\"colorscale\":[[0.0,\"#0d0887\"],[0.1111111111111111,\"#46039f\"],[0.2222222222222222,\"#7201a8\"],[0.3333333333333333,\"#9c179e\"],[0.4444444444444444,\"#bd3786\"],[0.5555555555555556,\"#d8576b\"],[0.6666666666666666,\"#ed7953\"],[0.7777777777777778,\"#fb9f3a\"],[0.8888888888888888,\"#fdca26\"],[1.0,\"#f0f921\"]],\"type\":\"surface\"}],\"table\":[{\"cells\":{\"fill\":{\"color\":\"#EBF0F8\"},\"line\":{\"color\":\"white\"}},\"header\":{\"fill\":{\"color\":\"#C8D4E3\"},\"line\":{\"color\":\"white\"}},\"type\":\"table\"}]},\"layout\":{\"annotationdefaults\":{\"arrowcolor\":\"#2a3f5f\",\"arrowhead\":0,\"arrowwidth\":1},\"autotypenumbers\":\"strict\",\"coloraxis\":{\"colorbar\":{\"outlinewidth\":0,\"ticks\":\"\"}},\"colorscale\":{\"diverging\":[[0,\"#8e0152\"],[0.1,\"#c51b7d\"],[0.2,\"#de77ae\"],[0.3,\"#f1b6da\"],[0.4,\"#fde0ef\"],[0.5,\"#f7f7f7\"],[0.6,\"#e6f5d0\"],[0.7,\"#b8e186\"],[0.8,\"#7fbc41\"],[0.9,\"#4d9221\"],[1,\"#276419\"]],\"sequential\":[[0.0,\"#0d0887\"],[0.1111111111111111,\"#46039f\"],[0.2222222222222222,\"#7201a8\"],[0.3333333333333333,\"#9c179e\"],[0.4444444444444444,\"#bd3786\"],[0.5555555555555556,\"#d8576b\"],[0.6666666666666666,\"#ed7953\"],[0.7777777777777778,\"#fb9f3a\"],[0.8888888888888888,\"#fdca26\"],[1.0,\"#f0f921\"]],\"sequentialminus\":[[0.0,\"#0d0887\"],[0.1111111111111111,\"#46039f\"],[0.2222222222222222,\"#7201a8\"],[0.3333333333333333,\"#9c179e\"],[0.4444444444444444,\"#bd3786\"],[0.5555555555555556,\"#d8576b\"],[0.6666666666666666,\"#ed7953\"],[0.7777777777777778,\"#fb9f3a\"],[0.8888888888888888,\"#fdca26\"],[1.0,\"#f0f921\"]]},\"colorway\":[\"#636efa\",\"#EF553B\",\"#00cc96\",\"#ab63fa\",\"#FFA15A\",\"#19d3f3\",\"#FF6692\",\"#B6E880\",\"#FF97FF\",\"#FECB52\"],\"font\":{\"color\":\"#2a3f5f\"},\"geo\":{\"bgcolor\":\"white\",\"lakecolor\":\"white\",\"landcolor\":\"#E5ECF6\",\"showlakes\":true,\"showland\":true,\"subunitcolor\":\"white\"},\"hoverlabel\":{\"align\":\"left\"},\"hovermode\":\"closest\",\"mapbox\":{\"style\":\"light\"},\"paper_bgcolor\":\"white\",\"plot_bgcolor\":\"#E5ECF6\",\"polar\":{\"angularaxis\":{\"gridcolor\":\"white\",\"linecolor\":\"white\",\"ticks\":\"\"},\"bgcolor\":\"#E5ECF6\",\"radialaxis\":{\"gridcolor\":\"white\",\"linecolor\":\"white\",\"ticks\":\"\"}},\"scene\":{\"xaxis\":{\"backgroundcolor\":\"#E5ECF6\",\"gridcolor\":\"white\",\"gridwidth\":2,\"linecolor\":\"white\",\"showbackground\":true,\"ticks\":\"\",\"zerolinecolor\":\"white\"},\"yaxis\":{\"backgroundcolor\":\"#E5ECF6\",\"gridcolor\":\"white\",\"gridwidth\":2,\"linecolor\":\"white\",\"showbackground\":true,\"ticks\":\"\",\"zerolinecolor\":\"white\"},\"zaxis\":{\"backgroundcolor\":\"#E5ECF6\",\"gridcolor\":\"white\",\"gridwidth\":2,\"linecolor\":\"white\",\"showbackground\":true,\"ticks\":\"\",\"zerolinecolor\":\"white\"}},\"shapedefaults\":{\"line\":{\"color\":\"#2a3f5f\"}},\"ternary\":{\"aaxis\":{\"gridcolor\":\"white\",\"linecolor\":\"white\",\"ticks\":\"\"},\"baxis\":{\"gridcolor\":\"white\",\"linecolor\":\"white\",\"ticks\":\"\"},\"bgcolor\":\"#E5ECF6\",\"caxis\":{\"gridcolor\":\"white\",\"linecolor\":\"white\",\"ticks\":\"\"}},\"title\":{\"x\":0.05},\"xaxis\":{\"automargin\":true,\"gridcolor\":\"white\",\"linecolor\":\"white\",\"ticks\":\"\",\"title\":{\"standoff\":15},\"zerolinecolor\":\"white\",\"zerolinewidth\":2},\"yaxis\":{\"automargin\":true,\"gridcolor\":\"white\",\"linecolor\":\"white\",\"ticks\":\"\",\"title\":{\"standoff\":15},\"zerolinecolor\":\"white\",\"zerolinewidth\":2}}},\"xaxis\":{\"anchor\":\"y\",\"domain\":[0.0,1.0],\"title\":{\"text\":\"IC50\"},\"type\":\"log\"},\"yaxis\":{\"anchor\":\"x\",\"domain\":[0.0,1.0],\"title\":{\"text\":\"predicted_IC50_mpnn_fp\"},\"type\":\"log\"},\"legend\":{\"tracegroupgap\":0},\"margin\":{\"t\":60},\"height\":800,\"shapes\":[{\"line\":{\"color\":\"black\",\"dash\":\"dash\"},\"type\":\"line\",\"x0\":0.1,\"x1\":100,\"y0\":0.1,\"y1\":100}]},                        {\"responsive\": true}                    ).then(function(){\n",
       "                            \n",
       "var gd = document.getElementById('78ceb580-8d5c-4e0d-9603-4120db569056');\n",
       "var x = new MutationObserver(function (mutations, observer) {{\n",
       "        var display = window.getComputedStyle(gd).display;\n",
       "        if (!display || display === 'none') {{\n",
       "            console.log([gd, 'removed!']);\n",
       "            Plotly.purge(gd);\n",
       "            observer.disconnect();\n",
       "        }}\n",
       "}});\n",
       "\n",
       "// Listen for the removal of the full notebook cells\n",
       "var notebookContainer = gd.closest('#notebook-container');\n",
       "if (notebookContainer) {{\n",
       "    x.observe(notebookContainer, {childList: true});\n",
       "}}\n",
       "\n",
       "// Listen for the clearing of the current output cell\n",
       "var outputEl = gd.closest('.output');\n",
       "if (outputEl) {{\n",
       "    x.observe(outputEl, {childList: true});\n",
       "}}\n",
       "\n",
       "                        })                };                });            </script>        </div>"
      ]
     },
     "metadata": {},
     "output_type": "display_data"
    }
   ],
   "source": [
    "import plotly.express as px\n",
    "import molplotly\n",
    "\n",
    "df_training_set['predicted_IC50_mpnn_fp'] = np.power(10, -(df_training_set['mpnn_pred_mean']-6))\n",
    "df_training_set['predicted_IC50_morgan_fp'] = np.power(10, -(df_training_set['morgan_pred_mean']-6))\n",
    "\n",
    "fig_scatter = px.scatter(df_training_set.query('df != \"new\"'),\n",
    "                         x='IC50',\n",
    "                         y='predicted_IC50_mpnn_fp',\n",
    "                         log_x=True,\n",
    "                         log_y=True,\n",
    "                         height=800,\n",
    "                         title='IC50 predictions for all molecules')\n",
    "fig_scatter_morgan = px.scatter(df_training_set.query('df != \"new\"'),\n",
    "                         x='IC50',\n",
    "                         y='predicted_IC50_morgan_fp',\n",
    "                         color_discrete_sequence=['red'],\n",
    "                         log_x=True,\n",
    "                         log_y=True)\n",
    "\n",
    "fig_scatter['data'][0]['showlegend']=True\n",
    "fig_scatter['data'][0]['name'] = 'mpnn_fp'\n",
    "fig_scatter_morgan['data'][0]['showlegend']=True\n",
    "fig_scatter_morgan['data'][0]['name']='morgan_fp'\n",
    "\n",
    "fig_scatter.add_trace(fig_scatter_morgan.data[0])\n",
    "fig_scatter.add_shape(type='line', \n",
    "                      x0=0.1,\n",
    "                      x1=100,\n",
    "                      y0=0.1,\n",
    "                      y1=100,\n",
    "                      line=dict(color='black', dash='dash'))\n",
    "fig_scatter.show()\n",
    "\n",
    "# fig_strip = px.strip(df_all,\n",
    "#                      y='IC50',\n",
    "#                      hover_name='SMILES',\n",
    "#                      log_y=True,\n",
    "#                      width=1000,\n",
    "#                      height=800)\n",
    "\n",
    "# fig_strip.show()\n",
    "# app_strip = molplotly.add_molecules(fig=fig_strip,\n",
    "#                                     df=df_all,\n",
    "#                                     smiles_col='SMILES',\n",
    "#                                     title_col='SMILES',\n",
    "#                                     wrap=True,\n",
    "#                                     wraplen=25,\n",
    "#                                     width=150,\n",
    "#                                     show_coords=True)\n",
    "\n",
    "# app_strip.run_server(port=8070)\n"
   ]
  },
  {
   "cell_type": "markdown",
   "metadata": {},
   "source": [
    "Check the (training set) regression metrics - only on old molecules?"
   ]
  },
  {
   "cell_type": "code",
   "execution_count": 50,
   "metadata": {},
   "outputs": [
    {
     "name": "stdout",
     "output_type": "stream",
     "text": [
      "R2 score on training set (old mols) (mpnn_fp): 0.371\n",
      "rho score on training set (old mols) (mpnn_fp): 0.799\n",
      "R2 score on training set (old mols) (morgan_fp): 0.040\n",
      "rho score on training set (old mols) (morgan_fp): 0.746\n"
     ]
    }
   ],
   "source": [
    "from sklearn.metrics import r2_score\n",
    "from scipy.stats import spearmanr\n",
    "\n",
    "def print_regression_metrics(scored_dataframe, query_string, input_rep, data_name):\n",
    "\n",
    "    r2_training_set = r2_score(scored_dataframe.query(query_string)[\n",
    "                            'IC50'], df_training_set.query(query_string)[f'predicted_IC50_{input_rep}'])\n",
    "    rho_training_set = spearmanr(scored_dataframe.query(query_string)[\n",
    "                            'IC50'], df_training_set.query(query_string)[f'predicted_IC50_{input_rep}'])[0]\n",
    "\n",
    "    print(f'R2 score on {data_name} ({input_rep}): {r2_training_set:.3f}')\n",
    "    print(f'rho score on {data_name} ({input_rep}): {rho_training_set:.3f}')\n",
    "    return\n",
    "\n",
    "training_set_old = 'df != \"new\"'\n",
    "\n",
    "print_regression_metrics(df_training_set, query_string=training_set_old, input_rep='mpnn_fp', data_name='training set (old mols)')\n",
    "print_regression_metrics(df_training_set, query_string=training_set_old, input_rep='morgan_fp', data_name='training set (old mols)')\n"
   ]
  },
  {
   "cell_type": "markdown",
   "metadata": {},
   "source": [
    "What about just active molecules?"
   ]
  },
  {
   "cell_type": "code",
   "execution_count": 51,
   "metadata": {},
   "outputs": [
    {
     "name": "stdout",
     "output_type": "stream",
     "text": [
      "R2 score on training set (old & active mols) (mpnn_fp): 0.547\n",
      "rho score on training set (old & active mols) (mpnn_fp): 0.808\n",
      "R2 score on training set (old & active mols) (morgan_fp): 0.416\n",
      "rho score on training set (old & active mols) (morgan_fp): 0.665\n"
     ]
    }
   ],
   "source": [
    "active_query = 'df != \"new\" & IC50 < 90'\n",
    "\n",
    "print_regression_metrics(df_training_set, query_string=active_query, input_rep='mpnn_fp', data_name='training set (old & active mols)')\n",
    "print_regression_metrics(df_training_set, query_string=active_query, input_rep='morgan_fp', data_name='training set (old & active mols)')\n"
   ]
  },
  {
   "cell_type": "markdown",
   "metadata": {},
   "source": [
    "Let's train on only the actives"
   ]
  },
  {
   "cell_type": "code",
   "execution_count": 53,
   "metadata": {},
   "outputs": [
    {
     "name": "stdout",
     "output_type": "stream",
     "text": [
      "Fitting 5 folds for each of 1 candidates, totalling 5 fits\n",
      "{'n_estimators': 897, 'min_samples_split': 2, 'min_samples_leaf': 4, 'max_features': 'auto', 'max_depth': 10, 'bootstrap': True}\n",
      "Fitting 5 folds for each of 1 candidates, totalling 5 fits\n",
      "{'n_estimators': 1412, 'min_samples_split': 6, 'min_samples_leaf': 2, 'max_features': 'sqrt', 'max_depth': 5, 'bootstrap': False}\n",
      "Fitting 5 folds for each of 1 candidates, totalling 5 fits\n",
      "{'n_estimators': 1926, 'min_samples_split': 6, 'min_samples_leaf': 5, 'max_features': 'auto', 'max_depth': 1, 'bootstrap': False}\n",
      "Fitting 5 folds for each of 1 candidates, totalling 5 fits\n",
      "{'n_estimators': 1889, 'min_samples_split': 8, 'min_samples_leaf': 3, 'max_features': 'sqrt', 'max_depth': 7, 'bootstrap': False}\n",
      "Fitting 5 folds for each of 1 candidates, totalling 5 fits\n",
      "{'n_estimators': 1816, 'min_samples_split': 4, 'min_samples_leaf': 4, 'max_features': 'sqrt', 'max_depth': 10, 'bootstrap': True}\n",
      "Fitting 5 folds for each of 1 candidates, totalling 5 fits\n",
      "{'n_estimators': 2000, 'min_samples_split': 8, 'min_samples_leaf': 2, 'max_features': 'auto', 'max_depth': 8, 'bootstrap': True}\n",
      "Fitting 5 folds for each of 1 candidates, totalling 5 fits\n",
      "{'n_estimators': 1669, 'min_samples_split': 10, 'min_samples_leaf': 4, 'max_features': 'auto', 'max_depth': 10, 'bootstrap': False}\n",
      "Fitting 5 folds for each of 1 candidates, totalling 5 fits\n",
      "{'n_estimators': 1706, 'min_samples_split': 4, 'min_samples_leaf': 3, 'max_features': 'auto', 'max_depth': 4, 'bootstrap': False}\n",
      "Fitting 5 folds for each of 1 candidates, totalling 5 fits\n",
      "{'n_estimators': 971, 'min_samples_split': 2, 'min_samples_leaf': 2, 'max_features': 'sqrt', 'max_depth': 5, 'bootstrap': True}\n",
      "Fitting 5 folds for each of 1 candidates, totalling 5 fits\n",
      "{'n_estimators': 1632, 'min_samples_split': 10, 'min_samples_leaf': 2, 'max_features': 'auto', 'max_depth': 4, 'bootstrap': False}\n"
     ]
    }
   ],
   "source": [
    "active_query = 'df != \"new\" & IC50 < 90'\n",
    "\n",
    "df_active = df_all.query(active_query)\n",
    "\n",
    "df_active_set = train_and_score(df_active, input_rep='mpnn_fp').rename(columns={'pred_mean': 'mpnn_pred_mean'})\n",
    "df_active_set['morgan_pred_mean'] = train_and_score(df_active, input_rep='morgan_fp').rename(\n",
    "    columns={'pred_mean': 'morgan_pred_mean'})['morgan_pred_mean']"
   ]
  },
  {
   "cell_type": "code",
   "execution_count": 54,
   "metadata": {},
   "outputs": [
    {
     "data": {
      "application/vnd.plotly.v1+json": {
       "config": {
        "plotlyServerURL": "https://plot.ly"
       },
       "data": [
        {
         "hovertemplate": "IC50=%{x}<br>predicted_IC50_mpnn_fp=%{y}<extra></extra>",
         "legendgroup": "",
         "marker": {
          "color": "#636efa",
          "symbol": "circle"
         },
         "mode": "markers",
         "name": "mpnn_fp",
         "orientation": "v",
         "showlegend": true,
         "type": "scatter",
         "x": [
          0.112,
          0.112,
          0.112,
          0.315,
          0.315,
          0.315,
          0.653,
          0.653,
          0.653,
          0.557,
          0.557,
          0.557,
          0.557,
          0.403,
          0.403,
          0.403,
          0.2,
          2.53,
          15.6,
          0.1,
          2.53,
          15.6,
          0.1,
          0.8,
          1.21,
          0.891,
          0.292,
          0.292,
          2.05,
          0.282,
          1.11,
          0.609,
          2.19,
          2.35,
          3.9,
          2.77,
          2.8,
          2.92,
          4.07,
          0.712,
          2.38,
          2.45,
          4.78,
          3.85,
          3.99,
          5.15,
          5.42,
          1.78,
          6.24,
          5.29,
          10.4,
          5.26,
          4.36,
          3.39,
          5.37,
          8.79,
          7.91,
          8.46,
          2.66,
          6.82,
          0.837,
          5.32,
          11.2,
          6.26,
          10.8,
          8.34,
          5.83,
          7.48,
          9.53,
          7.18,
          11.5,
          24.2,
          10.9,
          15.5,
          6.32,
          3.65,
          8.18,
          22.7,
          4.26,
          1.17,
          6.91,
          5.56,
          14.5,
          13.2,
          29.2,
          2.28,
          22.1,
          51.1,
          1.16,
          25.3,
          30.5,
          2.96,
          86.4,
          2.86,
          82.5,
          9.46,
          41,
          5.33,
          3.8,
          27.7,
          16.6,
          25.8,
          29.1,
          8.41,
          56.3,
          11.6,
          22.2,
          53.8,
          18.2,
          18.2,
          9.92,
          3.94,
          2.95,
          1.93,
          14.4,
          41.1,
          12.1,
          62.9,
          35.5,
          10.5,
          27.3,
          8.43,
          27.8,
          15.9,
          39.7,
          39.2,
          39.2,
          37.5,
          18.8,
          67.8,
          45.1,
          28.4,
          33.2,
          66.1,
          77.1,
          32.4,
          24.5,
          19.5,
          44,
          26.2,
          33.4,
          43,
          36.4,
          62.9,
          17.6,
          23.8,
          47.8,
          61,
          75.9,
          50.2,
          69.1,
          76.6,
          60.5,
          79.6,
          62.7,
          48,
          76.5,
          89.2,
          84,
          51.2,
          77.6,
          74.2,
          63.5,
          54.9
         ],
         "xaxis": "x",
         "y": [
          0.5267012296491851,
          0.5267012296491851,
          0.5267012296491851,
          0.962769385203594,
          0.962769385203594,
          0.962769385203594,
          1.1084847852884014,
          1.1084847852884014,
          1.1084847852884014,
          1.154773444128776,
          1.154773444128776,
          1.154773444128776,
          1.154773444128776,
          1.6999688814919842,
          1.6999688814919842,
          1.6999688814919842,
          1.7188449378095085,
          1.7188449378095085,
          1.7188449378095085,
          1.7188449378095085,
          1.7188449378095085,
          1.7188449378095085,
          1.7188449378095085,
          1.7737856011210136,
          1.8531866434900324,
          1.8778474989303988,
          2.098561272819928,
          2.098561272819928,
          2.426144356216081,
          2.4969115747252744,
          2.598472536182713,
          3.5307885607119895,
          3.7999125211997393,
          4.409374484434836,
          4.424527206979016,
          4.441669776278597,
          4.78520000787657,
          4.790887318406508,
          4.875655456105412,
          4.8987331917335615,
          5.195335663156908,
          5.244502999594943,
          5.307610436311924,
          5.402766378592611,
          5.439385929425815,
          5.548723489615522,
          5.612300219180949,
          5.719301456124217,
          5.858584034489392,
          6.0603964030556225,
          6.327560083216564,
          6.331635051060454,
          6.438271414290698,
          6.774758816656294,
          6.817128409935877,
          6.837019847917623,
          6.878210044433239,
          7.237219023121978,
          7.33555578342543,
          7.33555578342543,
          7.33555578342543,
          7.33555578342543,
          7.417107944402755,
          7.79960193404338,
          8.143267649642157,
          8.61237040915653,
          8.919133444529137,
          9.199930721115908,
          9.25123584649841,
          9.433901987068644,
          9.495757316280127,
          9.596000748272122,
          9.65513965542277,
          9.657197250919841,
          9.93121769183845,
          10.08246021058327,
          10.15884739738625,
          10.334513132691228,
          10.750220500248982,
          10.9844825301187,
          11.055532279824913,
          11.057555699389303,
          11.49722221670952,
          11.821368908583333,
          12.47985252762908,
          12.510330176322245,
          12.559124055407485,
          12.613608562159708,
          12.664979812587136,
          12.863352678037868,
          13.295144477021147,
          13.6198513164361,
          13.6198513164361,
          13.6198513164361,
          14.229921757181273,
          14.375504865747173,
          14.852416357100756,
          15.608382230140043,
          15.745225890825735,
          16.062198251174717,
          16.70605579649697,
          17.403038705635954,
          17.607920760817283,
          18.149771996795174,
          19.15757234286152,
          20.223920562858577,
          20.989836237464047,
          21.73872922766345,
          21.854936556466825,
          21.854936556466825,
          24.219635082292065,
          24.564799399787688,
          27.750866490802828,
          28.420998369824822,
          28.979682320796105,
          30.02554491914556,
          31.662660578826937,
          32.15121049045161,
          32.249929338556555,
          33.30932970643673,
          33.88096197520388,
          35.54852246269318,
          37.85401590478066,
          39.420557078532454,
          40.28450045235901,
          40.32124129079783,
          40.32124129079783,
          40.40761107292122,
          41.07900198025894,
          41.30207770526472,
          43.72727142419572,
          44.44987581630773,
          44.651078355290295,
          44.96053901401717,
          46.08674349934634,
          47.03977669387739,
          47.30220126946576,
          47.75341335052979,
          48.383176959778034,
          48.63712521956467,
          50.05546989168179,
          50.258980186452746,
          52.0191313146038,
          52.323510813535904,
          52.934385745180066,
          53.63699307163769,
          55.96124999551355,
          56.25476289910711,
          58.00081132208206,
          58.79519780726577,
          59.168551333921464,
          59.626129767991685,
          59.99221952260095,
          60.25780348707882,
          60.67152407414004,
          60.9655795502599,
          61.65109329460055,
          62.26575522729642,
          62.70212299927941,
          64.77104877514259,
          64.79670559315737,
          65.1671738664941,
          67.44131638097785,
          69.38754187368899
         ],
         "yaxis": "y"
        },
        {
         "hovertemplate": "IC50=%{x}<br>predicted_IC50_morgan_fp=%{y}<extra></extra>",
         "legendgroup": "",
         "marker": {
          "color": "red",
          "symbol": "circle"
         },
         "mode": "markers",
         "name": "morgan_fp",
         "orientation": "v",
         "showlegend": true,
         "type": "scatter",
         "x": [
          0.112,
          0.112,
          0.112,
          0.315,
          0.315,
          0.315,
          0.653,
          0.653,
          0.653,
          0.557,
          0.557,
          0.557,
          0.557,
          0.403,
          0.403,
          0.403,
          0.2,
          2.53,
          15.6,
          0.1,
          2.53,
          15.6,
          0.1,
          0.8,
          1.21,
          0.891,
          0.292,
          0.292,
          2.05,
          0.282,
          1.11,
          0.609,
          2.19,
          2.35,
          3.9,
          2.77,
          2.8,
          2.92,
          4.07,
          0.712,
          2.38,
          2.45,
          4.78,
          3.85,
          3.99,
          5.15,
          5.42,
          1.78,
          6.24,
          5.29,
          10.4,
          5.26,
          4.36,
          3.39,
          5.37,
          8.79,
          7.91,
          8.46,
          2.66,
          6.82,
          0.837,
          5.32,
          11.2,
          6.26,
          10.8,
          8.34,
          5.83,
          7.48,
          9.53,
          7.18,
          11.5,
          24.2,
          10.9,
          15.5,
          6.32,
          3.65,
          8.18,
          22.7,
          4.26,
          1.17,
          6.91,
          5.56,
          14.5,
          13.2,
          29.2,
          2.28,
          22.1,
          51.1,
          1.16,
          25.3,
          30.5,
          2.96,
          86.4,
          2.86,
          82.5,
          9.46,
          41,
          5.33,
          3.8,
          27.7,
          16.6,
          25.8,
          29.1,
          8.41,
          56.3,
          11.6,
          22.2,
          53.8,
          18.2,
          18.2,
          9.92,
          3.94,
          2.95,
          1.93,
          14.4,
          41.1,
          12.1,
          62.9,
          35.5,
          10.5,
          27.3,
          8.43,
          27.8,
          15.9,
          39.7,
          39.2,
          39.2,
          37.5,
          18.8,
          67.8,
          45.1,
          28.4,
          33.2,
          66.1,
          77.1,
          32.4,
          24.5,
          19.5,
          44,
          26.2,
          33.4,
          43,
          36.4,
          62.9,
          17.6,
          23.8,
          47.8,
          61,
          75.9,
          50.2,
          69.1,
          76.6,
          60.5,
          79.6,
          62.7,
          48,
          76.5,
          89.2,
          84,
          51.2,
          77.6,
          74.2,
          63.5,
          54.9
         ],
         "xaxis": "x",
         "y": [
          15.559287785809454,
          null,
          20.90202867574449,
          6.891890430986953,
          null,
          null,
          null,
          15.40761095098936,
          28.678939494536333,
          null,
          6.891890430986953,
          null,
          65.48227580159788,
          null,
          15.773529361719984,
          null,
          23.688741331594716,
          null,
          null,
          58.851356245805974,
          null,
          7.281696101167271,
          null,
          null,
          null,
          9.736731452473812,
          null,
          null,
          null,
          6.114336003155056,
          null,
          15.808690835659572,
          null,
          null,
          null,
          18.06106912469639,
          null,
          null,
          22.814692176219847,
          null,
          null,
          null,
          0.7003859838697469,
          0.7003859838697469,
          null,
          24.77437079254634,
          null,
          24.2891905768158,
          null,
          null,
          15.808690835659572,
          56.18533967989544,
          null,
          null,
          26.90535893138292,
          null,
          66.1280004685839,
          26.890325157345632,
          63.34099922156834,
          54.53840270595652,
          16.140694207016704,
          25.46314949505244,
          null,
          null,
          26.79949857863993,
          null,
          50.95563780325698,
          null,
          53.50224301848856,
          null,
          null,
          null,
          null,
          10.302391112117007,
          null,
          0.7003859838697469,
          25.10670259571058,
          9.516713363890432,
          null,
          18.31516687164753,
          null,
          null,
          28.323305897858603,
          16.232445785573653,
          null,
          null,
          null,
          18.06106912469639,
          null,
          null,
          null,
          null,
          14.097205889701536,
          16.82314869384742,
          null,
          23.70693132648629,
          null,
          null,
          58.250671641215256,
          22.160353316283587,
          4.419737821508248,
          10.051505858251588,
          null,
          15.430096763142311,
          6.377860214089712,
          null,
          null,
          null,
          null,
          null,
          10.302391112117007,
          null,
          null,
          20.771429739519547,
          null,
          null,
          24.900734417039537,
          null,
          null,
          null,
          0.3979310682603138,
          null,
          null,
          null,
          16.159294874715307,
          11.166864733321836,
          60.77535262417725,
          null,
          null,
          null,
          24.303483931668225,
          15.94429838104785,
          null,
          6.891890430986953,
          35.00378935507862,
          null,
          null,
          null,
          null,
          11.197465037019677,
          null,
          null,
          21.84534481741759,
          null,
          64.75669125753564,
          16.64438124939778,
          10.550380595788297,
          null,
          6.114336003155056,
          null,
          19.115139354216627,
          16.19461253332244,
          null,
          15.103752859224802,
          null,
          10.156970607361007,
          null,
          4.419737821508248,
          23.414284256258746,
          null,
          null,
          15.808690835659572,
          6.891890430986953,
          0.3979310682603138
         ],
         "yaxis": "y"
        }
       ],
       "layout": {
        "height": 800,
        "legend": {
         "tracegroupgap": 0
        },
        "shapes": [
         {
          "line": {
           "color": "black",
           "dash": "dash"
          },
          "type": "line",
          "x0": 0.1,
          "x1": 100,
          "y0": 0.1,
          "y1": 100
         }
        ],
        "template": {
         "data": {
          "bar": [
           {
            "error_x": {
             "color": "#2a3f5f"
            },
            "error_y": {
             "color": "#2a3f5f"
            },
            "marker": {
             "line": {
              "color": "#E5ECF6",
              "width": 0.5
             },
             "pattern": {
              "fillmode": "overlay",
              "size": 10,
              "solidity": 0.2
             }
            },
            "type": "bar"
           }
          ],
          "barpolar": [
           {
            "marker": {
             "line": {
              "color": "#E5ECF6",
              "width": 0.5
             },
             "pattern": {
              "fillmode": "overlay",
              "size": 10,
              "solidity": 0.2
             }
            },
            "type": "barpolar"
           }
          ],
          "carpet": [
           {
            "aaxis": {
             "endlinecolor": "#2a3f5f",
             "gridcolor": "white",
             "linecolor": "white",
             "minorgridcolor": "white",
             "startlinecolor": "#2a3f5f"
            },
            "baxis": {
             "endlinecolor": "#2a3f5f",
             "gridcolor": "white",
             "linecolor": "white",
             "minorgridcolor": "white",
             "startlinecolor": "#2a3f5f"
            },
            "type": "carpet"
           }
          ],
          "choropleth": [
           {
            "colorbar": {
             "outlinewidth": 0,
             "ticks": ""
            },
            "type": "choropleth"
           }
          ],
          "contour": [
           {
            "colorbar": {
             "outlinewidth": 0,
             "ticks": ""
            },
            "colorscale": [
             [
              0,
              "#0d0887"
             ],
             [
              0.1111111111111111,
              "#46039f"
             ],
             [
              0.2222222222222222,
              "#7201a8"
             ],
             [
              0.3333333333333333,
              "#9c179e"
             ],
             [
              0.4444444444444444,
              "#bd3786"
             ],
             [
              0.5555555555555556,
              "#d8576b"
             ],
             [
              0.6666666666666666,
              "#ed7953"
             ],
             [
              0.7777777777777778,
              "#fb9f3a"
             ],
             [
              0.8888888888888888,
              "#fdca26"
             ],
             [
              1,
              "#f0f921"
             ]
            ],
            "type": "contour"
           }
          ],
          "contourcarpet": [
           {
            "colorbar": {
             "outlinewidth": 0,
             "ticks": ""
            },
            "type": "contourcarpet"
           }
          ],
          "heatmap": [
           {
            "colorbar": {
             "outlinewidth": 0,
             "ticks": ""
            },
            "colorscale": [
             [
              0,
              "#0d0887"
             ],
             [
              0.1111111111111111,
              "#46039f"
             ],
             [
              0.2222222222222222,
              "#7201a8"
             ],
             [
              0.3333333333333333,
              "#9c179e"
             ],
             [
              0.4444444444444444,
              "#bd3786"
             ],
             [
              0.5555555555555556,
              "#d8576b"
             ],
             [
              0.6666666666666666,
              "#ed7953"
             ],
             [
              0.7777777777777778,
              "#fb9f3a"
             ],
             [
              0.8888888888888888,
              "#fdca26"
             ],
             [
              1,
              "#f0f921"
             ]
            ],
            "type": "heatmap"
           }
          ],
          "heatmapgl": [
           {
            "colorbar": {
             "outlinewidth": 0,
             "ticks": ""
            },
            "colorscale": [
             [
              0,
              "#0d0887"
             ],
             [
              0.1111111111111111,
              "#46039f"
             ],
             [
              0.2222222222222222,
              "#7201a8"
             ],
             [
              0.3333333333333333,
              "#9c179e"
             ],
             [
              0.4444444444444444,
              "#bd3786"
             ],
             [
              0.5555555555555556,
              "#d8576b"
             ],
             [
              0.6666666666666666,
              "#ed7953"
             ],
             [
              0.7777777777777778,
              "#fb9f3a"
             ],
             [
              0.8888888888888888,
              "#fdca26"
             ],
             [
              1,
              "#f0f921"
             ]
            ],
            "type": "heatmapgl"
           }
          ],
          "histogram": [
           {
            "marker": {
             "pattern": {
              "fillmode": "overlay",
              "size": 10,
              "solidity": 0.2
             }
            },
            "type": "histogram"
           }
          ],
          "histogram2d": [
           {
            "colorbar": {
             "outlinewidth": 0,
             "ticks": ""
            },
            "colorscale": [
             [
              0,
              "#0d0887"
             ],
             [
              0.1111111111111111,
              "#46039f"
             ],
             [
              0.2222222222222222,
              "#7201a8"
             ],
             [
              0.3333333333333333,
              "#9c179e"
             ],
             [
              0.4444444444444444,
              "#bd3786"
             ],
             [
              0.5555555555555556,
              "#d8576b"
             ],
             [
              0.6666666666666666,
              "#ed7953"
             ],
             [
              0.7777777777777778,
              "#fb9f3a"
             ],
             [
              0.8888888888888888,
              "#fdca26"
             ],
             [
              1,
              "#f0f921"
             ]
            ],
            "type": "histogram2d"
           }
          ],
          "histogram2dcontour": [
           {
            "colorbar": {
             "outlinewidth": 0,
             "ticks": ""
            },
            "colorscale": [
             [
              0,
              "#0d0887"
             ],
             [
              0.1111111111111111,
              "#46039f"
             ],
             [
              0.2222222222222222,
              "#7201a8"
             ],
             [
              0.3333333333333333,
              "#9c179e"
             ],
             [
              0.4444444444444444,
              "#bd3786"
             ],
             [
              0.5555555555555556,
              "#d8576b"
             ],
             [
              0.6666666666666666,
              "#ed7953"
             ],
             [
              0.7777777777777778,
              "#fb9f3a"
             ],
             [
              0.8888888888888888,
              "#fdca26"
             ],
             [
              1,
              "#f0f921"
             ]
            ],
            "type": "histogram2dcontour"
           }
          ],
          "mesh3d": [
           {
            "colorbar": {
             "outlinewidth": 0,
             "ticks": ""
            },
            "type": "mesh3d"
           }
          ],
          "parcoords": [
           {
            "line": {
             "colorbar": {
              "outlinewidth": 0,
              "ticks": ""
             }
            },
            "type": "parcoords"
           }
          ],
          "pie": [
           {
            "automargin": true,
            "type": "pie"
           }
          ],
          "scatter": [
           {
            "marker": {
             "colorbar": {
              "outlinewidth": 0,
              "ticks": ""
             }
            },
            "type": "scatter"
           }
          ],
          "scatter3d": [
           {
            "line": {
             "colorbar": {
              "outlinewidth": 0,
              "ticks": ""
             }
            },
            "marker": {
             "colorbar": {
              "outlinewidth": 0,
              "ticks": ""
             }
            },
            "type": "scatter3d"
           }
          ],
          "scattercarpet": [
           {
            "marker": {
             "colorbar": {
              "outlinewidth": 0,
              "ticks": ""
             }
            },
            "type": "scattercarpet"
           }
          ],
          "scattergeo": [
           {
            "marker": {
             "colorbar": {
              "outlinewidth": 0,
              "ticks": ""
             }
            },
            "type": "scattergeo"
           }
          ],
          "scattergl": [
           {
            "marker": {
             "colorbar": {
              "outlinewidth": 0,
              "ticks": ""
             }
            },
            "type": "scattergl"
           }
          ],
          "scattermapbox": [
           {
            "marker": {
             "colorbar": {
              "outlinewidth": 0,
              "ticks": ""
             }
            },
            "type": "scattermapbox"
           }
          ],
          "scatterpolar": [
           {
            "marker": {
             "colorbar": {
              "outlinewidth": 0,
              "ticks": ""
             }
            },
            "type": "scatterpolar"
           }
          ],
          "scatterpolargl": [
           {
            "marker": {
             "colorbar": {
              "outlinewidth": 0,
              "ticks": ""
             }
            },
            "type": "scatterpolargl"
           }
          ],
          "scatterternary": [
           {
            "marker": {
             "colorbar": {
              "outlinewidth": 0,
              "ticks": ""
             }
            },
            "type": "scatterternary"
           }
          ],
          "surface": [
           {
            "colorbar": {
             "outlinewidth": 0,
             "ticks": ""
            },
            "colorscale": [
             [
              0,
              "#0d0887"
             ],
             [
              0.1111111111111111,
              "#46039f"
             ],
             [
              0.2222222222222222,
              "#7201a8"
             ],
             [
              0.3333333333333333,
              "#9c179e"
             ],
             [
              0.4444444444444444,
              "#bd3786"
             ],
             [
              0.5555555555555556,
              "#d8576b"
             ],
             [
              0.6666666666666666,
              "#ed7953"
             ],
             [
              0.7777777777777778,
              "#fb9f3a"
             ],
             [
              0.8888888888888888,
              "#fdca26"
             ],
             [
              1,
              "#f0f921"
             ]
            ],
            "type": "surface"
           }
          ],
          "table": [
           {
            "cells": {
             "fill": {
              "color": "#EBF0F8"
             },
             "line": {
              "color": "white"
             }
            },
            "header": {
             "fill": {
              "color": "#C8D4E3"
             },
             "line": {
              "color": "white"
             }
            },
            "type": "table"
           }
          ]
         },
         "layout": {
          "annotationdefaults": {
           "arrowcolor": "#2a3f5f",
           "arrowhead": 0,
           "arrowwidth": 1
          },
          "autotypenumbers": "strict",
          "coloraxis": {
           "colorbar": {
            "outlinewidth": 0,
            "ticks": ""
           }
          },
          "colorscale": {
           "diverging": [
            [
             0,
             "#8e0152"
            ],
            [
             0.1,
             "#c51b7d"
            ],
            [
             0.2,
             "#de77ae"
            ],
            [
             0.3,
             "#f1b6da"
            ],
            [
             0.4,
             "#fde0ef"
            ],
            [
             0.5,
             "#f7f7f7"
            ],
            [
             0.6,
             "#e6f5d0"
            ],
            [
             0.7,
             "#b8e186"
            ],
            [
             0.8,
             "#7fbc41"
            ],
            [
             0.9,
             "#4d9221"
            ],
            [
             1,
             "#276419"
            ]
           ],
           "sequential": [
            [
             0,
             "#0d0887"
            ],
            [
             0.1111111111111111,
             "#46039f"
            ],
            [
             0.2222222222222222,
             "#7201a8"
            ],
            [
             0.3333333333333333,
             "#9c179e"
            ],
            [
             0.4444444444444444,
             "#bd3786"
            ],
            [
             0.5555555555555556,
             "#d8576b"
            ],
            [
             0.6666666666666666,
             "#ed7953"
            ],
            [
             0.7777777777777778,
             "#fb9f3a"
            ],
            [
             0.8888888888888888,
             "#fdca26"
            ],
            [
             1,
             "#f0f921"
            ]
           ],
           "sequentialminus": [
            [
             0,
             "#0d0887"
            ],
            [
             0.1111111111111111,
             "#46039f"
            ],
            [
             0.2222222222222222,
             "#7201a8"
            ],
            [
             0.3333333333333333,
             "#9c179e"
            ],
            [
             0.4444444444444444,
             "#bd3786"
            ],
            [
             0.5555555555555556,
             "#d8576b"
            ],
            [
             0.6666666666666666,
             "#ed7953"
            ],
            [
             0.7777777777777778,
             "#fb9f3a"
            ],
            [
             0.8888888888888888,
             "#fdca26"
            ],
            [
             1,
             "#f0f921"
            ]
           ]
          },
          "colorway": [
           "#636efa",
           "#EF553B",
           "#00cc96",
           "#ab63fa",
           "#FFA15A",
           "#19d3f3",
           "#FF6692",
           "#B6E880",
           "#FF97FF",
           "#FECB52"
          ],
          "font": {
           "color": "#2a3f5f"
          },
          "geo": {
           "bgcolor": "white",
           "lakecolor": "white",
           "landcolor": "#E5ECF6",
           "showlakes": true,
           "showland": true,
           "subunitcolor": "white"
          },
          "hoverlabel": {
           "align": "left"
          },
          "hovermode": "closest",
          "mapbox": {
           "style": "light"
          },
          "paper_bgcolor": "white",
          "plot_bgcolor": "#E5ECF6",
          "polar": {
           "angularaxis": {
            "gridcolor": "white",
            "linecolor": "white",
            "ticks": ""
           },
           "bgcolor": "#E5ECF6",
           "radialaxis": {
            "gridcolor": "white",
            "linecolor": "white",
            "ticks": ""
           }
          },
          "scene": {
           "xaxis": {
            "backgroundcolor": "#E5ECF6",
            "gridcolor": "white",
            "gridwidth": 2,
            "linecolor": "white",
            "showbackground": true,
            "ticks": "",
            "zerolinecolor": "white"
           },
           "yaxis": {
            "backgroundcolor": "#E5ECF6",
            "gridcolor": "white",
            "gridwidth": 2,
            "linecolor": "white",
            "showbackground": true,
            "ticks": "",
            "zerolinecolor": "white"
           },
           "zaxis": {
            "backgroundcolor": "#E5ECF6",
            "gridcolor": "white",
            "gridwidth": 2,
            "linecolor": "white",
            "showbackground": true,
            "ticks": "",
            "zerolinecolor": "white"
           }
          },
          "shapedefaults": {
           "line": {
            "color": "#2a3f5f"
           }
          },
          "ternary": {
           "aaxis": {
            "gridcolor": "white",
            "linecolor": "white",
            "ticks": ""
           },
           "baxis": {
            "gridcolor": "white",
            "linecolor": "white",
            "ticks": ""
           },
           "bgcolor": "#E5ECF6",
           "caxis": {
            "gridcolor": "white",
            "linecolor": "white",
            "ticks": ""
           }
          },
          "title": {
           "x": 0.05
          },
          "xaxis": {
           "automargin": true,
           "gridcolor": "white",
           "linecolor": "white",
           "ticks": "",
           "title": {
            "standoff": 15
           },
           "zerolinecolor": "white",
           "zerolinewidth": 2
          },
          "yaxis": {
           "automargin": true,
           "gridcolor": "white",
           "linecolor": "white",
           "ticks": "",
           "title": {
            "standoff": 15
           },
           "zerolinecolor": "white",
           "zerolinewidth": 2
          }
         }
        },
        "title": {
         "text": "IC50 predictions for only active molecules"
        },
        "xaxis": {
         "anchor": "y",
         "domain": [
          0,
          1
         ],
         "title": {
          "text": "IC50"
         },
         "type": "log"
        },
        "yaxis": {
         "anchor": "x",
         "domain": [
          0,
          1
         ],
         "title": {
          "text": "predicted_IC50_mpnn_fp"
         },
         "type": "log"
        }
       }
      },
      "text/html": [
       "<div>                            <div id=\"073c8655-e360-40bc-99f2-63a9d97f5ec1\" class=\"plotly-graph-div\" style=\"height:800px; width:100%;\"></div>            <script type=\"text/javascript\">                require([\"plotly\"], function(Plotly) {                    window.PLOTLYENV=window.PLOTLYENV || {};                                    if (document.getElementById(\"073c8655-e360-40bc-99f2-63a9d97f5ec1\")) {                    Plotly.newPlot(                        \"073c8655-e360-40bc-99f2-63a9d97f5ec1\",                        [{\"hovertemplate\":\"IC50=%{x}<br>predicted_IC50_mpnn_fp=%{y}<extra></extra>\",\"legendgroup\":\"\",\"marker\":{\"color\":\"#636efa\",\"symbol\":\"circle\"},\"mode\":\"markers\",\"name\":\"mpnn_fp\",\"orientation\":\"v\",\"showlegend\":true,\"x\":[0.112,0.112,0.112,0.315,0.315,0.315,0.653,0.653,0.653,0.557,0.557,0.557,0.557,0.403,0.403,0.403,0.2,2.53,15.6,0.1,2.53,15.6,0.1,0.8,1.21,0.891,0.292,0.292,2.05,0.282,1.11,0.609,2.19,2.35,3.9,2.77,2.8,2.92,4.07,0.712,2.38,2.45,4.78,3.85,3.99,5.15,5.42,1.78,6.24,5.29,10.4,5.26,4.36,3.39,5.37,8.79,7.91,8.46,2.66,6.82,0.837,5.32,11.2,6.26,10.8,8.34,5.83,7.48,9.53,7.18,11.5,24.2,10.9,15.5,6.32,3.65,8.18,22.7,4.26,1.17,6.91,5.56,14.5,13.2,29.2,2.28,22.1,51.1,1.16,25.3,30.5,2.96,86.4,2.86,82.5,9.46,41.0,5.33,3.8,27.7,16.6,25.8,29.1,8.41,56.3,11.6,22.2,53.8,18.2,18.2,9.92,3.94,2.95,1.93,14.4,41.1,12.1,62.9,35.5,10.5,27.3,8.43,27.8,15.9,39.7,39.2,39.2,37.5,18.8,67.8,45.1,28.4,33.2,66.1,77.1,32.4,24.5,19.5,44.0,26.2,33.4,43.0,36.4,62.9,17.6,23.8,47.8,61.0,75.9,50.2,69.1,76.6,60.5,79.6,62.7,48.0,76.5,89.2,84.0,51.2,77.6,74.2,63.5,54.9],\"xaxis\":\"x\",\"y\":[0.5267012296491851,0.5267012296491851,0.5267012296491851,0.962769385203594,0.962769385203594,0.962769385203594,1.1084847852884014,1.1084847852884014,1.1084847852884014,1.154773444128776,1.154773444128776,1.154773444128776,1.154773444128776,1.6999688814919842,1.6999688814919842,1.6999688814919842,1.7188449378095085,1.7188449378095085,1.7188449378095085,1.7188449378095085,1.7188449378095085,1.7188449378095085,1.7188449378095085,1.7737856011210136,1.8531866434900324,1.8778474989303988,2.098561272819928,2.098561272819928,2.426144356216081,2.4969115747252744,2.598472536182713,3.5307885607119895,3.7999125211997393,4.409374484434836,4.424527206979016,4.441669776278597,4.78520000787657,4.790887318406508,4.875655456105412,4.8987331917335615,5.195335663156908,5.244502999594943,5.307610436311924,5.402766378592611,5.439385929425815,5.548723489615522,5.612300219180949,5.719301456124217,5.858584034489392,6.0603964030556225,6.327560083216564,6.331635051060454,6.438271414290698,6.774758816656294,6.817128409935877,6.837019847917623,6.878210044433239,7.237219023121978,7.33555578342543,7.33555578342543,7.33555578342543,7.33555578342543,7.417107944402755,7.79960193404338,8.143267649642157,8.61237040915653,8.919133444529137,9.199930721115908,9.25123584649841,9.433901987068644,9.495757316280127,9.596000748272122,9.65513965542277,9.657197250919841,9.93121769183845,10.08246021058327,10.15884739738625,10.334513132691228,10.750220500248982,10.9844825301187,11.055532279824913,11.057555699389303,11.49722221670952,11.821368908583333,12.47985252762908,12.510330176322245,12.559124055407485,12.613608562159708,12.664979812587136,12.863352678037868,13.295144477021147,13.6198513164361,13.6198513164361,13.6198513164361,14.229921757181273,14.375504865747173,14.852416357100756,15.608382230140043,15.745225890825735,16.062198251174717,16.70605579649697,17.403038705635954,17.607920760817283,18.149771996795174,19.15757234286152,20.223920562858577,20.989836237464047,21.73872922766345,21.854936556466825,21.854936556466825,24.219635082292065,24.564799399787688,27.750866490802828,28.420998369824822,28.979682320796105,30.02554491914556,31.662660578826937,32.15121049045161,32.249929338556555,33.30932970643673,33.88096197520388,35.54852246269318,37.85401590478066,39.420557078532454,40.28450045235901,40.32124129079783,40.32124129079783,40.40761107292122,41.07900198025894,41.30207770526472,43.72727142419572,44.44987581630773,44.651078355290295,44.96053901401717,46.08674349934634,47.03977669387739,47.30220126946576,47.75341335052979,48.383176959778034,48.63712521956467,50.05546989168179,50.258980186452746,52.0191313146038,52.323510813535904,52.934385745180066,53.63699307163769,55.96124999551355,56.25476289910711,58.00081132208206,58.79519780726577,59.168551333921464,59.626129767991685,59.99221952260095,60.25780348707882,60.67152407414004,60.9655795502599,61.65109329460055,62.26575522729642,62.70212299927941,64.77104877514259,64.79670559315737,65.1671738664941,67.44131638097785,69.38754187368899],\"yaxis\":\"y\",\"type\":\"scatter\"},{\"hovertemplate\":\"IC50=%{x}<br>predicted_IC50_morgan_fp=%{y}<extra></extra>\",\"legendgroup\":\"\",\"marker\":{\"color\":\"red\",\"symbol\":\"circle\"},\"mode\":\"markers\",\"name\":\"morgan_fp\",\"orientation\":\"v\",\"showlegend\":true,\"x\":[0.112,0.112,0.112,0.315,0.315,0.315,0.653,0.653,0.653,0.557,0.557,0.557,0.557,0.403,0.403,0.403,0.2,2.53,15.6,0.1,2.53,15.6,0.1,0.8,1.21,0.891,0.292,0.292,2.05,0.282,1.11,0.609,2.19,2.35,3.9,2.77,2.8,2.92,4.07,0.712,2.38,2.45,4.78,3.85,3.99,5.15,5.42,1.78,6.24,5.29,10.4,5.26,4.36,3.39,5.37,8.79,7.91,8.46,2.66,6.82,0.837,5.32,11.2,6.26,10.8,8.34,5.83,7.48,9.53,7.18,11.5,24.2,10.9,15.5,6.32,3.65,8.18,22.7,4.26,1.17,6.91,5.56,14.5,13.2,29.2,2.28,22.1,51.1,1.16,25.3,30.5,2.96,86.4,2.86,82.5,9.46,41.0,5.33,3.8,27.7,16.6,25.8,29.1,8.41,56.3,11.6,22.2,53.8,18.2,18.2,9.92,3.94,2.95,1.93,14.4,41.1,12.1,62.9,35.5,10.5,27.3,8.43,27.8,15.9,39.7,39.2,39.2,37.5,18.8,67.8,45.1,28.4,33.2,66.1,77.1,32.4,24.5,19.5,44.0,26.2,33.4,43.0,36.4,62.9,17.6,23.8,47.8,61.0,75.9,50.2,69.1,76.6,60.5,79.6,62.7,48.0,76.5,89.2,84.0,51.2,77.6,74.2,63.5,54.9],\"xaxis\":\"x\",\"y\":[15.559287785809454,null,20.90202867574449,6.891890430986953,null,null,null,15.40761095098936,28.678939494536333,null,6.891890430986953,null,65.48227580159788,null,15.773529361719984,null,23.688741331594716,null,null,58.851356245805974,null,7.281696101167271,null,null,null,9.736731452473812,null,null,null,6.114336003155056,null,15.808690835659572,null,null,null,18.06106912469639,null,null,22.814692176219847,null,null,null,0.7003859838697469,0.7003859838697469,null,24.77437079254634,null,24.2891905768158,null,null,15.808690835659572,56.18533967989544,null,null,26.90535893138292,null,66.1280004685839,26.890325157345632,63.34099922156834,54.53840270595652,16.140694207016704,25.46314949505244,null,null,26.79949857863993,null,50.95563780325698,null,53.50224301848856,null,null,null,null,10.302391112117007,null,0.7003859838697469,25.10670259571058,9.516713363890432,null,18.31516687164753,null,null,28.323305897858603,16.232445785573653,null,null,null,18.06106912469639,null,null,null,null,14.097205889701536,16.82314869384742,null,23.70693132648629,null,null,58.250671641215256,22.160353316283587,4.419737821508248,10.051505858251588,null,15.430096763142311,6.377860214089712,null,null,null,null,null,10.302391112117007,null,null,20.771429739519547,null,null,24.900734417039537,null,null,null,0.3979310682603138,null,null,null,16.159294874715307,11.166864733321836,60.77535262417725,null,null,null,24.303483931668225,15.94429838104785,null,6.891890430986953,35.00378935507862,null,null,null,null,11.197465037019677,null,null,21.84534481741759,null,64.75669125753564,16.64438124939778,10.550380595788297,null,6.114336003155056,null,19.115139354216627,16.19461253332244,null,15.103752859224802,null,10.156970607361007,null,4.419737821508248,23.414284256258746,null,null,15.808690835659572,6.891890430986953,0.3979310682603138],\"yaxis\":\"y\",\"type\":\"scatter\"}],                        {\"template\":{\"data\":{\"bar\":[{\"error_x\":{\"color\":\"#2a3f5f\"},\"error_y\":{\"color\":\"#2a3f5f\"},\"marker\":{\"line\":{\"color\":\"#E5ECF6\",\"width\":0.5},\"pattern\":{\"fillmode\":\"overlay\",\"size\":10,\"solidity\":0.2}},\"type\":\"bar\"}],\"barpolar\":[{\"marker\":{\"line\":{\"color\":\"#E5ECF6\",\"width\":0.5},\"pattern\":{\"fillmode\":\"overlay\",\"size\":10,\"solidity\":0.2}},\"type\":\"barpolar\"}],\"carpet\":[{\"aaxis\":{\"endlinecolor\":\"#2a3f5f\",\"gridcolor\":\"white\",\"linecolor\":\"white\",\"minorgridcolor\":\"white\",\"startlinecolor\":\"#2a3f5f\"},\"baxis\":{\"endlinecolor\":\"#2a3f5f\",\"gridcolor\":\"white\",\"linecolor\":\"white\",\"minorgridcolor\":\"white\",\"startlinecolor\":\"#2a3f5f\"},\"type\":\"carpet\"}],\"choropleth\":[{\"colorbar\":{\"outlinewidth\":0,\"ticks\":\"\"},\"type\":\"choropleth\"}],\"contour\":[{\"colorbar\":{\"outlinewidth\":0,\"ticks\":\"\"},\"colorscale\":[[0.0,\"#0d0887\"],[0.1111111111111111,\"#46039f\"],[0.2222222222222222,\"#7201a8\"],[0.3333333333333333,\"#9c179e\"],[0.4444444444444444,\"#bd3786\"],[0.5555555555555556,\"#d8576b\"],[0.6666666666666666,\"#ed7953\"],[0.7777777777777778,\"#fb9f3a\"],[0.8888888888888888,\"#fdca26\"],[1.0,\"#f0f921\"]],\"type\":\"contour\"}],\"contourcarpet\":[{\"colorbar\":{\"outlinewidth\":0,\"ticks\":\"\"},\"type\":\"contourcarpet\"}],\"heatmap\":[{\"colorbar\":{\"outlinewidth\":0,\"ticks\":\"\"},\"colorscale\":[[0.0,\"#0d0887\"],[0.1111111111111111,\"#46039f\"],[0.2222222222222222,\"#7201a8\"],[0.3333333333333333,\"#9c179e\"],[0.4444444444444444,\"#bd3786\"],[0.5555555555555556,\"#d8576b\"],[0.6666666666666666,\"#ed7953\"],[0.7777777777777778,\"#fb9f3a\"],[0.8888888888888888,\"#fdca26\"],[1.0,\"#f0f921\"]],\"type\":\"heatmap\"}],\"heatmapgl\":[{\"colorbar\":{\"outlinewidth\":0,\"ticks\":\"\"},\"colorscale\":[[0.0,\"#0d0887\"],[0.1111111111111111,\"#46039f\"],[0.2222222222222222,\"#7201a8\"],[0.3333333333333333,\"#9c179e\"],[0.4444444444444444,\"#bd3786\"],[0.5555555555555556,\"#d8576b\"],[0.6666666666666666,\"#ed7953\"],[0.7777777777777778,\"#fb9f3a\"],[0.8888888888888888,\"#fdca26\"],[1.0,\"#f0f921\"]],\"type\":\"heatmapgl\"}],\"histogram\":[{\"marker\":{\"pattern\":{\"fillmode\":\"overlay\",\"size\":10,\"solidity\":0.2}},\"type\":\"histogram\"}],\"histogram2d\":[{\"colorbar\":{\"outlinewidth\":0,\"ticks\":\"\"},\"colorscale\":[[0.0,\"#0d0887\"],[0.1111111111111111,\"#46039f\"],[0.2222222222222222,\"#7201a8\"],[0.3333333333333333,\"#9c179e\"],[0.4444444444444444,\"#bd3786\"],[0.5555555555555556,\"#d8576b\"],[0.6666666666666666,\"#ed7953\"],[0.7777777777777778,\"#fb9f3a\"],[0.8888888888888888,\"#fdca26\"],[1.0,\"#f0f921\"]],\"type\":\"histogram2d\"}],\"histogram2dcontour\":[{\"colorbar\":{\"outlinewidth\":0,\"ticks\":\"\"},\"colorscale\":[[0.0,\"#0d0887\"],[0.1111111111111111,\"#46039f\"],[0.2222222222222222,\"#7201a8\"],[0.3333333333333333,\"#9c179e\"],[0.4444444444444444,\"#bd3786\"],[0.5555555555555556,\"#d8576b\"],[0.6666666666666666,\"#ed7953\"],[0.7777777777777778,\"#fb9f3a\"],[0.8888888888888888,\"#fdca26\"],[1.0,\"#f0f921\"]],\"type\":\"histogram2dcontour\"}],\"mesh3d\":[{\"colorbar\":{\"outlinewidth\":0,\"ticks\":\"\"},\"type\":\"mesh3d\"}],\"parcoords\":[{\"line\":{\"colorbar\":{\"outlinewidth\":0,\"ticks\":\"\"}},\"type\":\"parcoords\"}],\"pie\":[{\"automargin\":true,\"type\":\"pie\"}],\"scatter\":[{\"marker\":{\"colorbar\":{\"outlinewidth\":0,\"ticks\":\"\"}},\"type\":\"scatter\"}],\"scatter3d\":[{\"line\":{\"colorbar\":{\"outlinewidth\":0,\"ticks\":\"\"}},\"marker\":{\"colorbar\":{\"outlinewidth\":0,\"ticks\":\"\"}},\"type\":\"scatter3d\"}],\"scattercarpet\":[{\"marker\":{\"colorbar\":{\"outlinewidth\":0,\"ticks\":\"\"}},\"type\":\"scattercarpet\"}],\"scattergeo\":[{\"marker\":{\"colorbar\":{\"outlinewidth\":0,\"ticks\":\"\"}},\"type\":\"scattergeo\"}],\"scattergl\":[{\"marker\":{\"colorbar\":{\"outlinewidth\":0,\"ticks\":\"\"}},\"type\":\"scattergl\"}],\"scattermapbox\":[{\"marker\":{\"colorbar\":{\"outlinewidth\":0,\"ticks\":\"\"}},\"type\":\"scattermapbox\"}],\"scatterpolar\":[{\"marker\":{\"colorbar\":{\"outlinewidth\":0,\"ticks\":\"\"}},\"type\":\"scatterpolar\"}],\"scatterpolargl\":[{\"marker\":{\"colorbar\":{\"outlinewidth\":0,\"ticks\":\"\"}},\"type\":\"scatterpolargl\"}],\"scatterternary\":[{\"marker\":{\"colorbar\":{\"outlinewidth\":0,\"ticks\":\"\"}},\"type\":\"scatterternary\"}],\"surface\":[{\"colorbar\":{\"outlinewidth\":0,\"ticks\":\"\"},\"colorscale\":[[0.0,\"#0d0887\"],[0.1111111111111111,\"#46039f\"],[0.2222222222222222,\"#7201a8\"],[0.3333333333333333,\"#9c179e\"],[0.4444444444444444,\"#bd3786\"],[0.5555555555555556,\"#d8576b\"],[0.6666666666666666,\"#ed7953\"],[0.7777777777777778,\"#fb9f3a\"],[0.8888888888888888,\"#fdca26\"],[1.0,\"#f0f921\"]],\"type\":\"surface\"}],\"table\":[{\"cells\":{\"fill\":{\"color\":\"#EBF0F8\"},\"line\":{\"color\":\"white\"}},\"header\":{\"fill\":{\"color\":\"#C8D4E3\"},\"line\":{\"color\":\"white\"}},\"type\":\"table\"}]},\"layout\":{\"annotationdefaults\":{\"arrowcolor\":\"#2a3f5f\",\"arrowhead\":0,\"arrowwidth\":1},\"autotypenumbers\":\"strict\",\"coloraxis\":{\"colorbar\":{\"outlinewidth\":0,\"ticks\":\"\"}},\"colorscale\":{\"diverging\":[[0,\"#8e0152\"],[0.1,\"#c51b7d\"],[0.2,\"#de77ae\"],[0.3,\"#f1b6da\"],[0.4,\"#fde0ef\"],[0.5,\"#f7f7f7\"],[0.6,\"#e6f5d0\"],[0.7,\"#b8e186\"],[0.8,\"#7fbc41\"],[0.9,\"#4d9221\"],[1,\"#276419\"]],\"sequential\":[[0.0,\"#0d0887\"],[0.1111111111111111,\"#46039f\"],[0.2222222222222222,\"#7201a8\"],[0.3333333333333333,\"#9c179e\"],[0.4444444444444444,\"#bd3786\"],[0.5555555555555556,\"#d8576b\"],[0.6666666666666666,\"#ed7953\"],[0.7777777777777778,\"#fb9f3a\"],[0.8888888888888888,\"#fdca26\"],[1.0,\"#f0f921\"]],\"sequentialminus\":[[0.0,\"#0d0887\"],[0.1111111111111111,\"#46039f\"],[0.2222222222222222,\"#7201a8\"],[0.3333333333333333,\"#9c179e\"],[0.4444444444444444,\"#bd3786\"],[0.5555555555555556,\"#d8576b\"],[0.6666666666666666,\"#ed7953\"],[0.7777777777777778,\"#fb9f3a\"],[0.8888888888888888,\"#fdca26\"],[1.0,\"#f0f921\"]]},\"colorway\":[\"#636efa\",\"#EF553B\",\"#00cc96\",\"#ab63fa\",\"#FFA15A\",\"#19d3f3\",\"#FF6692\",\"#B6E880\",\"#FF97FF\",\"#FECB52\"],\"font\":{\"color\":\"#2a3f5f\"},\"geo\":{\"bgcolor\":\"white\",\"lakecolor\":\"white\",\"landcolor\":\"#E5ECF6\",\"showlakes\":true,\"showland\":true,\"subunitcolor\":\"white\"},\"hoverlabel\":{\"align\":\"left\"},\"hovermode\":\"closest\",\"mapbox\":{\"style\":\"light\"},\"paper_bgcolor\":\"white\",\"plot_bgcolor\":\"#E5ECF6\",\"polar\":{\"angularaxis\":{\"gridcolor\":\"white\",\"linecolor\":\"white\",\"ticks\":\"\"},\"bgcolor\":\"#E5ECF6\",\"radialaxis\":{\"gridcolor\":\"white\",\"linecolor\":\"white\",\"ticks\":\"\"}},\"scene\":{\"xaxis\":{\"backgroundcolor\":\"#E5ECF6\",\"gridcolor\":\"white\",\"gridwidth\":2,\"linecolor\":\"white\",\"showbackground\":true,\"ticks\":\"\",\"zerolinecolor\":\"white\"},\"yaxis\":{\"backgroundcolor\":\"#E5ECF6\",\"gridcolor\":\"white\",\"gridwidth\":2,\"linecolor\":\"white\",\"showbackground\":true,\"ticks\":\"\",\"zerolinecolor\":\"white\"},\"zaxis\":{\"backgroundcolor\":\"#E5ECF6\",\"gridcolor\":\"white\",\"gridwidth\":2,\"linecolor\":\"white\",\"showbackground\":true,\"ticks\":\"\",\"zerolinecolor\":\"white\"}},\"shapedefaults\":{\"line\":{\"color\":\"#2a3f5f\"}},\"ternary\":{\"aaxis\":{\"gridcolor\":\"white\",\"linecolor\":\"white\",\"ticks\":\"\"},\"baxis\":{\"gridcolor\":\"white\",\"linecolor\":\"white\",\"ticks\":\"\"},\"bgcolor\":\"#E5ECF6\",\"caxis\":{\"gridcolor\":\"white\",\"linecolor\":\"white\",\"ticks\":\"\"}},\"title\":{\"x\":0.05},\"xaxis\":{\"automargin\":true,\"gridcolor\":\"white\",\"linecolor\":\"white\",\"ticks\":\"\",\"title\":{\"standoff\":15},\"zerolinecolor\":\"white\",\"zerolinewidth\":2},\"yaxis\":{\"automargin\":true,\"gridcolor\":\"white\",\"linecolor\":\"white\",\"ticks\":\"\",\"title\":{\"standoff\":15},\"zerolinecolor\":\"white\",\"zerolinewidth\":2}}},\"xaxis\":{\"anchor\":\"y\",\"domain\":[0.0,1.0],\"title\":{\"text\":\"IC50\"},\"type\":\"log\"},\"yaxis\":{\"anchor\":\"x\",\"domain\":[0.0,1.0],\"title\":{\"text\":\"predicted_IC50_mpnn_fp\"},\"type\":\"log\"},\"legend\":{\"tracegroupgap\":0},\"title\":{\"text\":\"IC50 predictions for only active molecules\"},\"height\":800,\"shapes\":[{\"line\":{\"color\":\"black\",\"dash\":\"dash\"},\"type\":\"line\",\"x0\":0.1,\"x1\":100,\"y0\":0.1,\"y1\":100}]},                        {\"responsive\": true}                    ).then(function(){\n",
       "                            \n",
       "var gd = document.getElementById('073c8655-e360-40bc-99f2-63a9d97f5ec1');\n",
       "var x = new MutationObserver(function (mutations, observer) {{\n",
       "        var display = window.getComputedStyle(gd).display;\n",
       "        if (!display || display === 'none') {{\n",
       "            console.log([gd, 'removed!']);\n",
       "            Plotly.purge(gd);\n",
       "            observer.disconnect();\n",
       "        }}\n",
       "}});\n",
       "\n",
       "// Listen for the removal of the full notebook cells\n",
       "var notebookContainer = gd.closest('#notebook-container');\n",
       "if (notebookContainer) {{\n",
       "    x.observe(notebookContainer, {childList: true});\n",
       "}}\n",
       "\n",
       "// Listen for the clearing of the current output cell\n",
       "var outputEl = gd.closest('.output');\n",
       "if (outputEl) {{\n",
       "    x.observe(outputEl, {childList: true});\n",
       "}}\n",
       "\n",
       "                        })                };                });            </script>        </div>"
      ]
     },
     "metadata": {},
     "output_type": "display_data"
    }
   ],
   "source": [
    "df_active_set['predicted_IC50_mpnn_fp'] = np.power(\n",
    "    10, -(df_active_set['mpnn_pred_mean']-6))\n",
    "df_active_set['predicted_IC50_morgan_fp'] = np.power(\n",
    "    10, -(df_active_set['morgan_pred_mean']-6))\n",
    "\n",
    "fig_scatter = px.scatter(df_active_set.query('df != \"new\"'),\n",
    "                         x='IC50',\n",
    "                         y='predicted_IC50_mpnn_fp',\n",
    "                         log_x=True,\n",
    "                         log_y=True,\n",
    "                         height=800,\n",
    "                         title='IC50 predictions for only active molecules')\n",
    "                         \n",
    "fig_scatter_morgan = px.scatter(df_active_set.query('df != \"new\"'),\n",
    "                                x='IC50',\n",
    "                                y='predicted_IC50_morgan_fp',\n",
    "                                color_discrete_sequence=['red'],\n",
    "                                log_x=True,\n",
    "                                log_y=True)\n",
    "\n",
    "fig_scatter['data'][0]['showlegend'] = True\n",
    "fig_scatter['data'][0]['name'] = 'mpnn_fp'\n",
    "fig_scatter_morgan['data'][0]['showlegend'] = True\n",
    "fig_scatter_morgan['data'][0]['name'] = 'morgan_fp'\n",
    "\n",
    "fig_scatter.add_trace(fig_scatter_morgan.data[0])\n",
    "fig_scatter.add_shape(type='line',\n",
    "                      x0=0.1,\n",
    "                      x1=100,\n",
    "                      y0=0.1,\n",
    "                      y1=100,\n",
    "                      line=dict(color='black', dash='dash'))\n",
    "fig_scatter.show()\n"
   ]
  },
  {
   "cell_type": "markdown",
   "metadata": {},
   "source": [
    "Proper Leave-One-Out splitting"
   ]
  },
  {
   "cell_type": "markdown",
   "metadata": {},
   "source": []
  }
 ],
 "metadata": {
  "interpreter": {
   "hash": "a6e87d9fa0a1f095b3ef96d553f4761a958bca4f905d671de5dacda23677a266"
  },
  "kernelspec": {
   "display_name": "fresco",
   "language": "python",
   "name": "python3"
  },
  "language_info": {
   "codemirror_mode": {
    "name": "ipython",
    "version": 3
   },
   "file_extension": ".py",
   "mimetype": "text/x-python",
   "name": "python",
   "nbconvert_exporter": "python",
   "pygments_lexer": "ipython3",
   "version": "3.9.7"
  }
 },
 "nbformat": 4,
 "nbformat_minor": 4
}
